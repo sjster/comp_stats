{
 "cells": [
  {
   "cell_type": "code",
   "execution_count": 203,
   "metadata": {},
   "outputs": [],
   "source": [
    "import plotly.graph_objects as go\n",
    "import plotly.io as pio\n",
    "import numpy as np\n",
    "\n",
    "def plotter(total, theta_range_steps, function, function_args, plotting_args):\n",
    "      \n",
    "    data = [dict(\n",
    "            visible = False,\n",
    "            line=dict(color='#00CED1', width=6),\n",
    "            name = 'Binomial probability',\n",
    "            x = np.linspace(0,1,theta_range_steps),\n",
    "            y = function(n, function_args),\n",
    "            #title.text = 'Distribution P(theta) vs theta'\n",
    "            ) for n in np.linspace(0,total,total+1)]           # slider steps\n",
    "        \n",
    "    data[5]['visible'] = True\n",
    "\n",
    "    steps = []\n",
    "    \n",
    "        \n",
    "    for i in range(len(data)):\n",
    "        \n",
    "        if (function == binomial_vector):\n",
    "            step = dict(\n",
    "                # Update method allows us to update both trace and layout properties\n",
    "                method = 'update',  \n",
    "                args = [\n",
    "                    # Make the ith trace visible\n",
    "                    {'visible': [t == i for t in range(len(data))]},\n",
    "                    # Set the title for the ith trace\n",
    "                    {'title.text': 'num_p %d, total events %d' % (i,total)}],\n",
    "            )\n",
    "        elif (function == beta_vector):\n",
    "            step = dict(\n",
    "                # Update method allows us to update both trace and layout properties\n",
    "                method = 'update',  \n",
    "                args = [\n",
    "                    # Make the ith trace visible\n",
    "                    {'visible': [t == i for t in range(len(data))]},\n",
    "                    # Set the title for the ith trace\n",
    "                    {'title.text': 'Beta distribution a %d, b %d' % (i + 1, total - i + 1)}],\n",
    "            )   \n",
    "        elif (function == poisson_vector):\n",
    "            step = dict(\n",
    "                # Update method allows us to update both trace and layout properties\n",
    "                method = 'update',  \n",
    "                args = [\n",
    "                    # Make the ith trace visible\n",
    "                    {'visible': [t == i for t in range(len(data))]},\n",
    "                    # Set the title for the ith trace\n",
    "                    {'title.text': 'y %d' % (i)}],\n",
    "            )\n",
    "            \n",
    "        steps.append(step)\n",
    "    \n",
    "    sliders = [dict(\n",
    "        active = 10,\n",
    "        currentvalue = {\"prefix\": \"Number of positive events: \"},\n",
    "        pad = {\"t\": 50},\n",
    "        steps = steps\n",
    "    )]\n",
    "\n",
    "    layout = dict(sliders=sliders)\n",
    "    fig = dict(data=data, layout=layout)\n",
    "    fig['layout']['height'] = 600\n",
    "    fig['layout']['width'] = 800\n",
    "    fig['layout']['title'] = plotting_args['title']\n",
    "    fig['layout']['xaxis_title'] = plotting_args['title']\n",
    "    return(fig)\n",
    "\n",
    "\n",
    "\n",
    "def plotter_over_y(theta_end, theta_range_steps, y_end, y_range_steps, function, function_args, plotting_args):\n",
    "      \n",
    "    delta_theta = 1.0 / theta_range_steps\n",
    "    \n",
    "    data = [dict(\n",
    "            visible = False,\n",
    "            line=dict(color='#00CED1', width=6),\n",
    "            name = 'Binomial probability',\n",
    "            x = np.linspace(0,y_end,y_range_steps+1),\n",
    "            y = function(theta, function_args),\n",
    "            #title.text = 'Distribution P(theta) vs theta'\n",
    "            ) for theta in np.linspace(0,theta_end,theta_range_steps + 1)]         # slider steps\n",
    "        \n",
    "    data[5]['visible'] = True\n",
    "\n",
    "    steps = []\n",
    "    \n",
    "    for i in range(len(data)):\n",
    "        \n",
    "        theta_param = i* delta_theta\n",
    "        \n",
    "        if (function == binomial_vector_over_y):\n",
    "            step = dict(\n",
    "                # Update method allows us to update both trace and layout properties\n",
    "                method = 'update',  \n",
    "                args = [\n",
    "                    # Make the ith trace visible\n",
    "                    {'visible': [t == i for t in range(len(data))]},\n",
    "                    # Set the title for the ith trace\n",
    "                    {'title.text': 'Mean parameter theta %f' % (theta_param)}],\n",
    "            )\n",
    "        elif (function == beta_vector):\n",
    "            step = dict(\n",
    "                # Update method allows us to update both trace and layout properties\n",
    "                method = 'update',  \n",
    "                args = [\n",
    "                    # Make the ith trace visible\n",
    "                    {'visible': [t == i for t in range(len(data))]},\n",
    "                    # Set the title for the ith trace\n",
    "                    {'title.text': 'a %d, b %d' % (i + 1, total - i + 1)}],\n",
    "            )   \n",
    "        elif (function == poisson_vector):\n",
    "            step = dict(\n",
    "                # Update method allows us to update both trace and layout properties\n",
    "                method = 'update',  \n",
    "                args = [\n",
    "                    # Make the ith trace visible\n",
    "                    {'visible': [t == i for t in range(len(data))]},\n",
    "                    # Set the title for the ith trace\n",
    "                    {'title.text': 'Mean parameter theta %d' % (i)}],\n",
    "            )\n",
    "        \n",
    "            \n",
    "        steps.append(step)\n",
    "    \n",
    "    sliders = [dict(\n",
    "        active = 10,\n",
    "        currentvalue = {\"prefix\": \"Mean parameter theta: \"},\n",
    "        pad = {\"t\": 50},\n",
    "        steps = steps\n",
    "    )]\n",
    "\n",
    "    layout = dict(sliders=sliders)\n",
    "    fig = dict(data=data, layout=layout)\n",
    "    fig['layout']['height'] = 600\n",
    "    fig['layout']['width'] = 800\n",
    "    fig['layout']['title'] = plotting_args['title']\n",
    "    fig['layout']['xaxis_title'] = plotting_args['title']\n",
    "    return(fig)\n",
    "\n"
   ]
  },
  {
   "cell_type": "code",
   "execution_count": 61,
   "metadata": {},
   "outputs": [],
   "source": [
    "import numpy as np\n",
    "from math import comb\n",
    "import scipy\n",
    "from scipy.special import gamma, factorial\n",
    "import plotly.express as px"
   ]
  },
  {
   "cell_type": "markdown",
   "metadata": {},
   "source": [
    "## The binomial distribution can be used to describe the number of successes 'p' in 'n' total events and is given by the sampling probability\n",
    "## P(y | $\\theta$) =   $nCp \\cdot \\theta^p \\cdot (1 - \\theta)^{n-p}$ \n",
    "\n",
    "## A negative binomial distribution can be used to describe the number of successes 'p' till you observe 'k' failures. The total number of events are now 'n + k'\n",
    "#### where 'n' is the number of total events, 'p' the number of successes or positive events have a probability $\\theta$. \n",
    "#### The plot shows how p($\\theta$) varies for various values of successes given by num_p "
   ]
  },
  {
   "cell_type": "code",
   "execution_count": 139,
   "metadata": {
    "inputHidden": false,
    "outputHidden": false
   },
   "outputs": [
    {
     "data": {
      "application/vnd.plotly.v1+json": {
       "config": {
        "plotlyServerURL": "https://plot.ly"
       },
       "data": [
        {
         "line": {
          "color": "#00CED1",
          "width": 6
         },
         "name": "Binomial probability",
         "type": "scatter",
         "visible": false,
         "x": [
          0,
          1,
          2,
          3,
          4,
          5,
          6,
          7,
          8,
          9,
          10
         ],
         "y": [
          1,
          0,
          0,
          0,
          0,
          0,
          0,
          0,
          0,
          0,
          0
         ]
        },
        {
         "line": {
          "color": "#00CED1",
          "width": 6
         },
         "name": "Binomial probability",
         "type": "scatter",
         "visible": false,
         "x": [
          0,
          1,
          2,
          3,
          4,
          5,
          6,
          7,
          8,
          9,
          10
         ],
         "y": [
          0.5987369392383787,
          0.31512470486230454,
          0.07463479852001952,
          0.010475059441406248,
          0.0009648081064453125,
          6.0935248828124994e-05,
          2.672598632812501e-06,
          8.037890625000001e-08,
          1.586425781250001e-09,
          1.8554687500000008e-11,
          9.765625000000005e-14
         ]
        },
        {
         "line": {
          "color": "#00CED1",
          "width": 6
         },
         "name": "Binomial probability",
         "type": "scatter",
         "visible": false,
         "x": [
          0,
          1,
          2,
          3,
          4,
          5,
          6,
          7,
          8,
          9,
          10
         ],
         "y": [
          0.3486784401000001,
          0.3874204890000001,
          0.19371024450000007,
          0.05739562800000002,
          0.011160261000000003,
          0.0014880348000000005,
          0.00013778100000000007,
          8.748000000000003e-06,
          3.6450000000000023e-07,
          9.000000000000004e-09,
          1.0000000000000006e-10
         ]
        },
        {
         "line": {
          "color": "#00CED1",
          "width": 6
         },
         "name": "Binomial probability",
         "type": "scatter",
         "visible": false,
         "x": [
          0,
          1,
          2,
          3,
          4,
          5,
          6,
          7,
          8,
          9,
          10
         ],
         "y": [
          0.1968744043407226,
          0.34742541942480465,
          0.27589665660205076,
          0.12983372075390628,
          0.04009570787988283,
          0.00849085578632813,
          0.0012486552626953134,
          0.0001259148164062501,
          8.332598144531258e-06,
          3.267685546875004e-07,
          5.766503906250008e-09
         ]
        },
        {
         "line": {
          "color": "#00CED1",
          "width": 6
         },
         "name": "Binomial probability",
         "type": "scatter",
         "visible": false,
         "x": [
          0,
          1,
          2,
          3,
          4,
          5,
          6,
          7,
          8,
          9,
          10
         ],
         "y": [
          0.10737418240000006,
          0.2684354560000001,
          0.3019898880000002,
          0.2013265920000001,
          0.08808038400000005,
          0.02642411520000001,
          0.005505024000000003,
          0.0007864320000000004,
          7.372800000000005e-05,
          4.096000000000002e-06,
          1.0240000000000006e-07
         ]
        },
        {
         "line": {
          "color": "#00CED1",
          "width": 6
         },
         "name": "Binomial probability",
         "type": "scatter",
         "visible": true,
         "x": [
          0,
          1,
          2,
          3,
          4,
          5,
          6,
          7,
          8,
          9,
          10
         ],
         "y": [
          0.056313514709472656,
          0.1877117156982422,
          0.2815675735473633,
          0.25028228759765625,
          0.1459980010986328,
          0.058399200439453125,
          0.016222000122070312,
          0.00308990478515625,
          0.00038623809814453125,
          2.86102294921875e-05,
          9.5367431640625e-07
         ]
        },
        {
         "line": {
          "color": "#00CED1",
          "width": 6
         },
         "name": "Binomial probability",
         "type": "scatter",
         "visible": false,
         "x": [
          0,
          1,
          2,
          3,
          4,
          5,
          6,
          7,
          8,
          9,
          10
         ],
         "y": [
          0.02824752489999998,
          0.12106082099999996,
          0.23347444049999994,
          0.266827932,
          0.20012094900000005,
          0.10291934520000004,
          0.036756909000000025,
          0.009001692000000007,
          0.0014467005000000015,
          0.00013778100000000015,
          5.9049000000000085e-06
         ]
        },
        {
         "line": {
          "color": "#00CED1",
          "width": 6
         },
         "name": "Binomial probability",
         "type": "scatter",
         "visible": false,
         "x": [
          0,
          1,
          2,
          3,
          4,
          5,
          6,
          7,
          8,
          9,
          10
         ],
         "y": [
          0.013462743344628887,
          0.0724916949326171,
          0.17565295310595688,
          0.2522196249726561,
          0.23766849276269522,
          0.1535704107082031,
          0.06890979967675782,
          0.02120301528515626,
          0.004281378086425783,
          0.0005123016513671879,
          2.7585473535156275e-05
         ]
        },
        {
         "line": {
          "color": "#00CED1",
          "width": 6
         },
         "name": "Binomial probability",
         "type": "scatter",
         "visible": false,
         "x": [
          0,
          1,
          2,
          3,
          4,
          5,
          6,
          7,
          8,
          9,
          10
         ],
         "y": [
          0.006046617599999997,
          0.04031078399999999,
          0.12093235199999998,
          0.21499084799999998,
          0.250822656,
          0.2006581248,
          0.11147673600000005,
          0.042467328000000006,
          0.010616832000000005,
          0.0015728640000000009,
          0.00010485760000000006
         ]
        },
        {
         "line": {
          "color": "#00CED1",
          "width": 6
         },
         "name": "Binomial probability",
         "type": "scatter",
         "visible": false,
         "x": [
          0,
          1,
          2,
          3,
          4,
          5,
          6,
          7,
          8,
          9,
          10
         ],
         "y": [
          0.0025329516211914085,
          0.020724149627929705,
          0.0763025509028321,
          0.1664782928789064,
          0.23836664662207044,
          0.23403270759257822,
          0.15956775517675786,
          0.07460310631640628,
          0.02288958943798829,
          0.004161743534179689,
          0.00034050628916015635
         ]
        },
        {
         "line": {
          "color": "#00CED1",
          "width": 6
         },
         "name": "Binomial probability",
         "type": "scatter",
         "visible": false,
         "x": [
          0,
          1,
          2,
          3,
          4,
          5,
          6,
          7,
          8,
          9,
          10
         ],
         "y": [
          0.0009765625,
          0.009765625,
          0.0439453125,
          0.1171875,
          0.205078125,
          0.24609375,
          0.205078125,
          0.1171875,
          0.0439453125,
          0.009765625,
          0.0009765625
         ]
        },
        {
         "line": {
          "color": "#00CED1",
          "width": 6
         },
         "name": "Binomial probability",
         "type": "scatter",
         "visible": false,
         "x": [
          0,
          1,
          2,
          3,
          4,
          5,
          6,
          7,
          8,
          9,
          10
         ],
         "y": [
          0.0003405062891601559,
          0.004161743534179684,
          0.022889589437988266,
          0.07460310631640622,
          0.15956775517675775,
          0.2340327075925781,
          0.23836664662207033,
          0.1664782928789063,
          0.07630255090283207,
          0.020724149627929702,
          0.0025329516211914085
         ]
        },
        {
         "line": {
          "color": "#00CED1",
          "width": 6
         },
         "name": "Binomial probability",
         "type": "scatter",
         "visible": false,
         "x": [
          0,
          1,
          2,
          3,
          4,
          5,
          6,
          7,
          8,
          9,
          10
         ],
         "y": [
          0.00010485759999999977,
          0.0015728639999999972,
          0.010616831999999982,
          0.04246732799999996,
          0.11147673599999991,
          0.20065812479999992,
          0.25082265600000003,
          0.2149908480000001,
          0.12093235200000006,
          0.040310784000000044,
          0.006046617600000009
         ]
        },
        {
         "line": {
          "color": "#00CED1",
          "width": 6
         },
         "name": "Binomial probability",
         "type": "scatter",
         "visible": false,
         "x": [
          0,
          1,
          2,
          3,
          4,
          5,
          6,
          7,
          8,
          9,
          10
         ],
         "y": [
          2.758547353515623e-05,
          0.0005123016513671872,
          0.0042813780864257795,
          0.02120301528515624,
          0.0689097996767578,
          0.1535704107082031,
          0.2376684927626953,
          0.25221962497265626,
          0.17565295310595708,
          0.0724916949326172,
          0.013462743344628911
         ]
        },
        {
         "line": {
          "color": "#00CED1",
          "width": 6
         },
         "name": "Binomial probability",
         "type": "scatter",
         "visible": false,
         "x": [
          0,
          1,
          2,
          3,
          4,
          5,
          6,
          7,
          8,
          9,
          10
         ],
         "y": [
          5.904899999999987e-06,
          0.00013778099999999974,
          0.0014467004999999978,
          0.009001691999999988,
          0.03675690899999997,
          0.10291934519999993,
          0.20012094899999996,
          0.26682793200000005,
          0.23347444050000005,
          0.12106082100000008,
          0.028247524900000025
         ]
        },
        {
         "line": {
          "color": "#00CED1",
          "width": 6
         },
         "name": "Binomial probability",
         "type": "scatter",
         "visible": false,
         "x": [
          0,
          1,
          2,
          3,
          4,
          5,
          6,
          7,
          8,
          9,
          10
         ],
         "y": [
          9.5367431640625e-07,
          2.86102294921875e-05,
          0.00038623809814453125,
          0.00308990478515625,
          0.016222000122070312,
          0.058399200439453125,
          0.1459980010986328,
          0.25028228759765625,
          0.2815675735473633,
          0.1877117156982422,
          0.056313514709472656
         ]
        },
        {
         "line": {
          "color": "#00CED1",
          "width": 6
         },
         "name": "Binomial probability",
         "type": "scatter",
         "visible": false,
         "x": [
          0,
          1,
          2,
          3,
          4,
          5,
          6,
          7,
          8,
          9,
          10
         ],
         "y": [
          1.0239999999999978e-07,
          4.095999999999992e-06,
          7.372799999999987e-05,
          0.000786431999999999,
          0.005505023999999994,
          0.026424115199999976,
          0.08808038399999996,
          0.20132659199999994,
          0.30198988800000004,
          0.26843545600000007,
          0.10737418240000006
         ]
        },
        {
         "line": {
          "color": "#00CED1",
          "width": 6
         },
         "name": "Binomial probability",
         "type": "scatter",
         "visible": false,
         "x": [
          0,
          1,
          2,
          3,
          4,
          5,
          6,
          7,
          8,
          9,
          10
         ],
         "y": [
          5.766503906249966e-09,
          3.2676855468749826e-07,
          8.332598144531212e-06,
          0.00012591481640624952,
          0.0012486552626953086,
          0.008490855786328105,
          0.040095707879882744,
          0.12983372075390612,
          0.2758966566020507,
          0.3474254194248048,
          0.19687440434072287
         ]
        },
        {
         "line": {
          "color": "#00CED1",
          "width": 6
         },
         "name": "Binomial probability",
         "type": "scatter",
         "visible": false,
         "x": [
          0,
          1,
          2,
          3,
          4,
          5,
          6,
          7,
          8,
          9,
          10
         ],
         "y": [
          9.999999999999978e-11,
          8.999999999999981e-09,
          3.644999999999994e-07,
          8.747999999999988e-06,
          0.00013778099999999982,
          0.0014880347999999984,
          0.01116026099999999,
          0.057395627999999976,
          0.19371024449999993,
          0.38742048900000003,
          0.3486784401000001
         ]
        },
        {
         "line": {
          "color": "#00CED1",
          "width": 6
         },
         "name": "Binomial probability",
         "type": "scatter",
         "visible": false,
         "x": [
          0,
          1,
          2,
          3,
          4,
          5,
          6,
          7,
          8,
          9,
          10
         ],
         "y": [
          9.76562499999987e-14,
          1.855468749999978e-11,
          1.5864257812499831e-09,
          8.037890624999927e-08,
          2.6725986328124792e-06,
          6.093524882812462e-05,
          0.0009648081064453078,
          0.010475059441406212,
          0.07463479852001938,
          0.3151247048623045,
          0.5987369392383793
         ]
        },
        {
         "line": {
          "color": "#00CED1",
          "width": 6
         },
         "name": "Binomial probability",
         "type": "scatter",
         "visible": false,
         "x": [
          0,
          1,
          2,
          3,
          4,
          5,
          6,
          7,
          8,
          9,
          10
         ],
         "y": [
          0,
          0,
          0,
          0,
          0,
          0,
          0,
          0,
          0,
          0,
          1
         ]
        }
       ],
       "layout": {
        "height": 600,
        "sliders": [
         {
          "active": 10,
          "currentvalue": {
           "prefix": "Mean parameter theta: "
          },
          "pad": {
           "t": 50
          },
          "steps": [
           {
            "args": [
             {
              "visible": [
               true,
               false,
               false,
               false,
               false,
               false,
               false,
               false,
               false,
               false,
               false,
               false,
               false,
               false,
               false,
               false,
               false,
               false,
               false,
               false,
               false
              ]
             },
             {
              "title.text": "Mean parameter theta 0.000000"
             }
            ],
            "method": "update"
           },
           {
            "args": [
             {
              "visible": [
               false,
               true,
               false,
               false,
               false,
               false,
               false,
               false,
               false,
               false,
               false,
               false,
               false,
               false,
               false,
               false,
               false,
               false,
               false,
               false,
               false
              ]
             },
             {
              "title.text": "Mean parameter theta 0.050000"
             }
            ],
            "method": "update"
           },
           {
            "args": [
             {
              "visible": [
               false,
               false,
               true,
               false,
               false,
               false,
               false,
               false,
               false,
               false,
               false,
               false,
               false,
               false,
               false,
               false,
               false,
               false,
               false,
               false,
               false
              ]
             },
             {
              "title.text": "Mean parameter theta 0.100000"
             }
            ],
            "method": "update"
           },
           {
            "args": [
             {
              "visible": [
               false,
               false,
               false,
               true,
               false,
               false,
               false,
               false,
               false,
               false,
               false,
               false,
               false,
               false,
               false,
               false,
               false,
               false,
               false,
               false,
               false
              ]
             },
             {
              "title.text": "Mean parameter theta 0.150000"
             }
            ],
            "method": "update"
           },
           {
            "args": [
             {
              "visible": [
               false,
               false,
               false,
               false,
               true,
               false,
               false,
               false,
               false,
               false,
               false,
               false,
               false,
               false,
               false,
               false,
               false,
               false,
               false,
               false,
               false
              ]
             },
             {
              "title.text": "Mean parameter theta 0.200000"
             }
            ],
            "method": "update"
           },
           {
            "args": [
             {
              "visible": [
               false,
               false,
               false,
               false,
               false,
               true,
               false,
               false,
               false,
               false,
               false,
               false,
               false,
               false,
               false,
               false,
               false,
               false,
               false,
               false,
               false
              ]
             },
             {
              "title.text": "Mean parameter theta 0.250000"
             }
            ],
            "method": "update"
           },
           {
            "args": [
             {
              "visible": [
               false,
               false,
               false,
               false,
               false,
               false,
               true,
               false,
               false,
               false,
               false,
               false,
               false,
               false,
               false,
               false,
               false,
               false,
               false,
               false,
               false
              ]
             },
             {
              "title.text": "Mean parameter theta 0.300000"
             }
            ],
            "method": "update"
           },
           {
            "args": [
             {
              "visible": [
               false,
               false,
               false,
               false,
               false,
               false,
               false,
               true,
               false,
               false,
               false,
               false,
               false,
               false,
               false,
               false,
               false,
               false,
               false,
               false,
               false
              ]
             },
             {
              "title.text": "Mean parameter theta 0.350000"
             }
            ],
            "method": "update"
           },
           {
            "args": [
             {
              "visible": [
               false,
               false,
               false,
               false,
               false,
               false,
               false,
               false,
               true,
               false,
               false,
               false,
               false,
               false,
               false,
               false,
               false,
               false,
               false,
               false,
               false
              ]
             },
             {
              "title.text": "Mean parameter theta 0.400000"
             }
            ],
            "method": "update"
           },
           {
            "args": [
             {
              "visible": [
               false,
               false,
               false,
               false,
               false,
               false,
               false,
               false,
               false,
               true,
               false,
               false,
               false,
               false,
               false,
               false,
               false,
               false,
               false,
               false,
               false
              ]
             },
             {
              "title.text": "Mean parameter theta 0.450000"
             }
            ],
            "method": "update"
           },
           {
            "args": [
             {
              "visible": [
               false,
               false,
               false,
               false,
               false,
               false,
               false,
               false,
               false,
               false,
               true,
               false,
               false,
               false,
               false,
               false,
               false,
               false,
               false,
               false,
               false
              ]
             },
             {
              "title.text": "Mean parameter theta 0.500000"
             }
            ],
            "method": "update"
           },
           {
            "args": [
             {
              "visible": [
               false,
               false,
               false,
               false,
               false,
               false,
               false,
               false,
               false,
               false,
               false,
               true,
               false,
               false,
               false,
               false,
               false,
               false,
               false,
               false,
               false
              ]
             },
             {
              "title.text": "Mean parameter theta 0.550000"
             }
            ],
            "method": "update"
           },
           {
            "args": [
             {
              "visible": [
               false,
               false,
               false,
               false,
               false,
               false,
               false,
               false,
               false,
               false,
               false,
               false,
               true,
               false,
               false,
               false,
               false,
               false,
               false,
               false,
               false
              ]
             },
             {
              "title.text": "Mean parameter theta 0.600000"
             }
            ],
            "method": "update"
           },
           {
            "args": [
             {
              "visible": [
               false,
               false,
               false,
               false,
               false,
               false,
               false,
               false,
               false,
               false,
               false,
               false,
               false,
               true,
               false,
               false,
               false,
               false,
               false,
               false,
               false
              ]
             },
             {
              "title.text": "Mean parameter theta 0.650000"
             }
            ],
            "method": "update"
           },
           {
            "args": [
             {
              "visible": [
               false,
               false,
               false,
               false,
               false,
               false,
               false,
               false,
               false,
               false,
               false,
               false,
               false,
               false,
               true,
               false,
               false,
               false,
               false,
               false,
               false
              ]
             },
             {
              "title.text": "Mean parameter theta 0.700000"
             }
            ],
            "method": "update"
           },
           {
            "args": [
             {
              "visible": [
               false,
               false,
               false,
               false,
               false,
               false,
               false,
               false,
               false,
               false,
               false,
               false,
               false,
               false,
               false,
               true,
               false,
               false,
               false,
               false,
               false
              ]
             },
             {
              "title.text": "Mean parameter theta 0.750000"
             }
            ],
            "method": "update"
           },
           {
            "args": [
             {
              "visible": [
               false,
               false,
               false,
               false,
               false,
               false,
               false,
               false,
               false,
               false,
               false,
               false,
               false,
               false,
               false,
               false,
               true,
               false,
               false,
               false,
               false
              ]
             },
             {
              "title.text": "Mean parameter theta 0.800000"
             }
            ],
            "method": "update"
           },
           {
            "args": [
             {
              "visible": [
               false,
               false,
               false,
               false,
               false,
               false,
               false,
               false,
               false,
               false,
               false,
               false,
               false,
               false,
               false,
               false,
               false,
               true,
               false,
               false,
               false
              ]
             },
             {
              "title.text": "Mean parameter theta 0.850000"
             }
            ],
            "method": "update"
           },
           {
            "args": [
             {
              "visible": [
               false,
               false,
               false,
               false,
               false,
               false,
               false,
               false,
               false,
               false,
               false,
               false,
               false,
               false,
               false,
               false,
               false,
               false,
               true,
               false,
               false
              ]
             },
             {
              "title.text": "Mean parameter theta 0.900000"
             }
            ],
            "method": "update"
           },
           {
            "args": [
             {
              "visible": [
               false,
               false,
               false,
               false,
               false,
               false,
               false,
               false,
               false,
               false,
               false,
               false,
               false,
               false,
               false,
               false,
               false,
               false,
               false,
               true,
               false
              ]
             },
             {
              "title.text": "Mean parameter theta 0.950000"
             }
            ],
            "method": "update"
           },
           {
            "args": [
             {
              "visible": [
               false,
               false,
               false,
               false,
               false,
               false,
               false,
               false,
               false,
               false,
               false,
               false,
               false,
               false,
               false,
               false,
               false,
               false,
               false,
               false,
               true
              ]
             },
             {
              "title.text": "Mean parameter theta 1.000000"
             }
            ],
            "method": "update"
           }
          ]
         }
        ],
        "template": {
         "data": {
          "bar": [
           {
            "error_x": {
             "color": "#2a3f5f"
            },
            "error_y": {
             "color": "#2a3f5f"
            },
            "marker": {
             "line": {
              "color": "#E5ECF6",
              "width": 0.5
             }
            },
            "type": "bar"
           }
          ],
          "barpolar": [
           {
            "marker": {
             "line": {
              "color": "#E5ECF6",
              "width": 0.5
             }
            },
            "type": "barpolar"
           }
          ],
          "carpet": [
           {
            "aaxis": {
             "endlinecolor": "#2a3f5f",
             "gridcolor": "white",
             "linecolor": "white",
             "minorgridcolor": "white",
             "startlinecolor": "#2a3f5f"
            },
            "baxis": {
             "endlinecolor": "#2a3f5f",
             "gridcolor": "white",
             "linecolor": "white",
             "minorgridcolor": "white",
             "startlinecolor": "#2a3f5f"
            },
            "type": "carpet"
           }
          ],
          "choropleth": [
           {
            "colorbar": {
             "outlinewidth": 0,
             "ticks": ""
            },
            "type": "choropleth"
           }
          ],
          "contour": [
           {
            "colorbar": {
             "outlinewidth": 0,
             "ticks": ""
            },
            "colorscale": [
             [
              0,
              "#0d0887"
             ],
             [
              0.1111111111111111,
              "#46039f"
             ],
             [
              0.2222222222222222,
              "#7201a8"
             ],
             [
              0.3333333333333333,
              "#9c179e"
             ],
             [
              0.4444444444444444,
              "#bd3786"
             ],
             [
              0.5555555555555556,
              "#d8576b"
             ],
             [
              0.6666666666666666,
              "#ed7953"
             ],
             [
              0.7777777777777778,
              "#fb9f3a"
             ],
             [
              0.8888888888888888,
              "#fdca26"
             ],
             [
              1,
              "#f0f921"
             ]
            ],
            "type": "contour"
           }
          ],
          "contourcarpet": [
           {
            "colorbar": {
             "outlinewidth": 0,
             "ticks": ""
            },
            "type": "contourcarpet"
           }
          ],
          "heatmap": [
           {
            "colorbar": {
             "outlinewidth": 0,
             "ticks": ""
            },
            "colorscale": [
             [
              0,
              "#0d0887"
             ],
             [
              0.1111111111111111,
              "#46039f"
             ],
             [
              0.2222222222222222,
              "#7201a8"
             ],
             [
              0.3333333333333333,
              "#9c179e"
             ],
             [
              0.4444444444444444,
              "#bd3786"
             ],
             [
              0.5555555555555556,
              "#d8576b"
             ],
             [
              0.6666666666666666,
              "#ed7953"
             ],
             [
              0.7777777777777778,
              "#fb9f3a"
             ],
             [
              0.8888888888888888,
              "#fdca26"
             ],
             [
              1,
              "#f0f921"
             ]
            ],
            "type": "heatmap"
           }
          ],
          "heatmapgl": [
           {
            "colorbar": {
             "outlinewidth": 0,
             "ticks": ""
            },
            "colorscale": [
             [
              0,
              "#0d0887"
             ],
             [
              0.1111111111111111,
              "#46039f"
             ],
             [
              0.2222222222222222,
              "#7201a8"
             ],
             [
              0.3333333333333333,
              "#9c179e"
             ],
             [
              0.4444444444444444,
              "#bd3786"
             ],
             [
              0.5555555555555556,
              "#d8576b"
             ],
             [
              0.6666666666666666,
              "#ed7953"
             ],
             [
              0.7777777777777778,
              "#fb9f3a"
             ],
             [
              0.8888888888888888,
              "#fdca26"
             ],
             [
              1,
              "#f0f921"
             ]
            ],
            "type": "heatmapgl"
           }
          ],
          "histogram": [
           {
            "marker": {
             "colorbar": {
              "outlinewidth": 0,
              "ticks": ""
             }
            },
            "type": "histogram"
           }
          ],
          "histogram2d": [
           {
            "colorbar": {
             "outlinewidth": 0,
             "ticks": ""
            },
            "colorscale": [
             [
              0,
              "#0d0887"
             ],
             [
              0.1111111111111111,
              "#46039f"
             ],
             [
              0.2222222222222222,
              "#7201a8"
             ],
             [
              0.3333333333333333,
              "#9c179e"
             ],
             [
              0.4444444444444444,
              "#bd3786"
             ],
             [
              0.5555555555555556,
              "#d8576b"
             ],
             [
              0.6666666666666666,
              "#ed7953"
             ],
             [
              0.7777777777777778,
              "#fb9f3a"
             ],
             [
              0.8888888888888888,
              "#fdca26"
             ],
             [
              1,
              "#f0f921"
             ]
            ],
            "type": "histogram2d"
           }
          ],
          "histogram2dcontour": [
           {
            "colorbar": {
             "outlinewidth": 0,
             "ticks": ""
            },
            "colorscale": [
             [
              0,
              "#0d0887"
             ],
             [
              0.1111111111111111,
              "#46039f"
             ],
             [
              0.2222222222222222,
              "#7201a8"
             ],
             [
              0.3333333333333333,
              "#9c179e"
             ],
             [
              0.4444444444444444,
              "#bd3786"
             ],
             [
              0.5555555555555556,
              "#d8576b"
             ],
             [
              0.6666666666666666,
              "#ed7953"
             ],
             [
              0.7777777777777778,
              "#fb9f3a"
             ],
             [
              0.8888888888888888,
              "#fdca26"
             ],
             [
              1,
              "#f0f921"
             ]
            ],
            "type": "histogram2dcontour"
           }
          ],
          "mesh3d": [
           {
            "colorbar": {
             "outlinewidth": 0,
             "ticks": ""
            },
            "type": "mesh3d"
           }
          ],
          "parcoords": [
           {
            "line": {
             "colorbar": {
              "outlinewidth": 0,
              "ticks": ""
             }
            },
            "type": "parcoords"
           }
          ],
          "pie": [
           {
            "automargin": true,
            "type": "pie"
           }
          ],
          "scatter": [
           {
            "marker": {
             "colorbar": {
              "outlinewidth": 0,
              "ticks": ""
             }
            },
            "type": "scatter"
           }
          ],
          "scatter3d": [
           {
            "line": {
             "colorbar": {
              "outlinewidth": 0,
              "ticks": ""
             }
            },
            "marker": {
             "colorbar": {
              "outlinewidth": 0,
              "ticks": ""
             }
            },
            "type": "scatter3d"
           }
          ],
          "scattercarpet": [
           {
            "marker": {
             "colorbar": {
              "outlinewidth": 0,
              "ticks": ""
             }
            },
            "type": "scattercarpet"
           }
          ],
          "scattergeo": [
           {
            "marker": {
             "colorbar": {
              "outlinewidth": 0,
              "ticks": ""
             }
            },
            "type": "scattergeo"
           }
          ],
          "scattergl": [
           {
            "marker": {
             "colorbar": {
              "outlinewidth": 0,
              "ticks": ""
             }
            },
            "type": "scattergl"
           }
          ],
          "scattermapbox": [
           {
            "marker": {
             "colorbar": {
              "outlinewidth": 0,
              "ticks": ""
             }
            },
            "type": "scattermapbox"
           }
          ],
          "scatterpolar": [
           {
            "marker": {
             "colorbar": {
              "outlinewidth": 0,
              "ticks": ""
             }
            },
            "type": "scatterpolar"
           }
          ],
          "scatterpolargl": [
           {
            "marker": {
             "colorbar": {
              "outlinewidth": 0,
              "ticks": ""
             }
            },
            "type": "scatterpolargl"
           }
          ],
          "scatterternary": [
           {
            "marker": {
             "colorbar": {
              "outlinewidth": 0,
              "ticks": ""
             }
            },
            "type": "scatterternary"
           }
          ],
          "surface": [
           {
            "colorbar": {
             "outlinewidth": 0,
             "ticks": ""
            },
            "colorscale": [
             [
              0,
              "#0d0887"
             ],
             [
              0.1111111111111111,
              "#46039f"
             ],
             [
              0.2222222222222222,
              "#7201a8"
             ],
             [
              0.3333333333333333,
              "#9c179e"
             ],
             [
              0.4444444444444444,
              "#bd3786"
             ],
             [
              0.5555555555555556,
              "#d8576b"
             ],
             [
              0.6666666666666666,
              "#ed7953"
             ],
             [
              0.7777777777777778,
              "#fb9f3a"
             ],
             [
              0.8888888888888888,
              "#fdca26"
             ],
             [
              1,
              "#f0f921"
             ]
            ],
            "type": "surface"
           }
          ],
          "table": [
           {
            "cells": {
             "fill": {
              "color": "#EBF0F8"
             },
             "line": {
              "color": "white"
             }
            },
            "header": {
             "fill": {
              "color": "#C8D4E3"
             },
             "line": {
              "color": "white"
             }
            },
            "type": "table"
           }
          ]
         },
         "layout": {
          "annotationdefaults": {
           "arrowcolor": "#2a3f5f",
           "arrowhead": 0,
           "arrowwidth": 1
          },
          "coloraxis": {
           "colorbar": {
            "outlinewidth": 0,
            "ticks": ""
           }
          },
          "colorscale": {
           "diverging": [
            [
             0,
             "#8e0152"
            ],
            [
             0.1,
             "#c51b7d"
            ],
            [
             0.2,
             "#de77ae"
            ],
            [
             0.3,
             "#f1b6da"
            ],
            [
             0.4,
             "#fde0ef"
            ],
            [
             0.5,
             "#f7f7f7"
            ],
            [
             0.6,
             "#e6f5d0"
            ],
            [
             0.7,
             "#b8e186"
            ],
            [
             0.8,
             "#7fbc41"
            ],
            [
             0.9,
             "#4d9221"
            ],
            [
             1,
             "#276419"
            ]
           ],
           "sequential": [
            [
             0,
             "#0d0887"
            ],
            [
             0.1111111111111111,
             "#46039f"
            ],
            [
             0.2222222222222222,
             "#7201a8"
            ],
            [
             0.3333333333333333,
             "#9c179e"
            ],
            [
             0.4444444444444444,
             "#bd3786"
            ],
            [
             0.5555555555555556,
             "#d8576b"
            ],
            [
             0.6666666666666666,
             "#ed7953"
            ],
            [
             0.7777777777777778,
             "#fb9f3a"
            ],
            [
             0.8888888888888888,
             "#fdca26"
            ],
            [
             1,
             "#f0f921"
            ]
           ],
           "sequentialminus": [
            [
             0,
             "#0d0887"
            ],
            [
             0.1111111111111111,
             "#46039f"
            ],
            [
             0.2222222222222222,
             "#7201a8"
            ],
            [
             0.3333333333333333,
             "#9c179e"
            ],
            [
             0.4444444444444444,
             "#bd3786"
            ],
            [
             0.5555555555555556,
             "#d8576b"
            ],
            [
             0.6666666666666666,
             "#ed7953"
            ],
            [
             0.7777777777777778,
             "#fb9f3a"
            ],
            [
             0.8888888888888888,
             "#fdca26"
            ],
            [
             1,
             "#f0f921"
            ]
           ]
          },
          "colorway": [
           "#636efa",
           "#EF553B",
           "#00cc96",
           "#ab63fa",
           "#FFA15A",
           "#19d3f3",
           "#FF6692",
           "#B6E880",
           "#FF97FF",
           "#FECB52"
          ],
          "font": {
           "color": "#2a3f5f"
          },
          "geo": {
           "bgcolor": "white",
           "lakecolor": "white",
           "landcolor": "#E5ECF6",
           "showlakes": true,
           "showland": true,
           "subunitcolor": "white"
          },
          "hoverlabel": {
           "align": "left"
          },
          "hovermode": "closest",
          "mapbox": {
           "style": "light"
          },
          "paper_bgcolor": "white",
          "plot_bgcolor": "#E5ECF6",
          "polar": {
           "angularaxis": {
            "gridcolor": "white",
            "linecolor": "white",
            "ticks": ""
           },
           "bgcolor": "#E5ECF6",
           "radialaxis": {
            "gridcolor": "white",
            "linecolor": "white",
            "ticks": ""
           }
          },
          "scene": {
           "xaxis": {
            "backgroundcolor": "#E5ECF6",
            "gridcolor": "white",
            "gridwidth": 2,
            "linecolor": "white",
            "showbackground": true,
            "ticks": "",
            "zerolinecolor": "white"
           },
           "yaxis": {
            "backgroundcolor": "#E5ECF6",
            "gridcolor": "white",
            "gridwidth": 2,
            "linecolor": "white",
            "showbackground": true,
            "ticks": "",
            "zerolinecolor": "white"
           },
           "zaxis": {
            "backgroundcolor": "#E5ECF6",
            "gridcolor": "white",
            "gridwidth": 2,
            "linecolor": "white",
            "showbackground": true,
            "ticks": "",
            "zerolinecolor": "white"
           }
          },
          "shapedefaults": {
           "line": {
            "color": "#2a3f5f"
           }
          },
          "ternary": {
           "aaxis": {
            "gridcolor": "white",
            "linecolor": "white",
            "ticks": ""
           },
           "baxis": {
            "gridcolor": "white",
            "linecolor": "white",
            "ticks": ""
           },
           "bgcolor": "#E5ECF6",
           "caxis": {
            "gridcolor": "white",
            "linecolor": "white",
            "ticks": ""
           }
          },
          "title": {
           "x": 0.05
          },
          "xaxis": {
           "automargin": true,
           "gridcolor": "white",
           "linecolor": "white",
           "ticks": "",
           "title": {
            "standoff": 15
           },
           "zerolinecolor": "white",
           "zerolinewidth": 2
          },
          "yaxis": {
           "automargin": true,
           "gridcolor": "white",
           "linecolor": "white",
           "ticks": "",
           "title": {
            "standoff": 15
           },
           "zerolinecolor": "white",
           "zerolinewidth": 2
          }
         }
        },
        "title": {
         "text": "Binomial distribution - P(y/theta) vs y, move slider to vary the parameter theta"
        },
        "width": 800,
        "xaxis": {
         "title": {
          "text": "Binomial distribution - P(y/theta) vs y, move slider to vary the parameter theta"
         }
        }
       }
      },
      "text/html": [
       "<div>\n",
       "        \n",
       "        \n",
       "            <div id=\"8f9b0d91-7526-444f-939f-4190bd604061\" class=\"plotly-graph-div\" style=\"height:600px; width:800px;\"></div>\n",
       "            <script type=\"text/javascript\">\n",
       "                require([\"plotly\"], function(Plotly) {\n",
       "                    window.PLOTLYENV=window.PLOTLYENV || {};\n",
       "                    \n",
       "                if (document.getElementById(\"8f9b0d91-7526-444f-939f-4190bd604061\")) {\n",
       "                    Plotly.newPlot(\n",
       "                        '8f9b0d91-7526-444f-939f-4190bd604061',\n",
       "                        [{\"line\": {\"color\": \"#00CED1\", \"width\": 6}, \"name\": \"Binomial probability\", \"type\": \"scatter\", \"visible\": false, \"x\": [0.0, 1.0, 2.0, 3.0, 4.0, 5.0, 6.0, 7.0, 8.0, 9.0, 10.0], \"y\": [1.0, 0.0, 0.0, 0.0, 0.0, 0.0, 0.0, 0.0, 0.0, 0.0, 0.0]}, {\"line\": {\"color\": \"#00CED1\", \"width\": 6}, \"name\": \"Binomial probability\", \"type\": \"scatter\", \"visible\": false, \"x\": [0.0, 1.0, 2.0, 3.0, 4.0, 5.0, 6.0, 7.0, 8.0, 9.0, 10.0], \"y\": [0.5987369392383787, 0.31512470486230454, 0.07463479852001952, 0.010475059441406248, 0.0009648081064453125, 6.0935248828124994e-05, 2.672598632812501e-06, 8.037890625000001e-08, 1.586425781250001e-09, 1.8554687500000008e-11, 9.765625000000005e-14]}, {\"line\": {\"color\": \"#00CED1\", \"width\": 6}, \"name\": \"Binomial probability\", \"type\": \"scatter\", \"visible\": false, \"x\": [0.0, 1.0, 2.0, 3.0, 4.0, 5.0, 6.0, 7.0, 8.0, 9.0, 10.0], \"y\": [0.3486784401000001, 0.3874204890000001, 0.19371024450000007, 0.05739562800000002, 0.011160261000000003, 0.0014880348000000005, 0.00013778100000000007, 8.748000000000003e-06, 3.6450000000000023e-07, 9.000000000000004e-09, 1.0000000000000006e-10]}, {\"line\": {\"color\": \"#00CED1\", \"width\": 6}, \"name\": \"Binomial probability\", \"type\": \"scatter\", \"visible\": false, \"x\": [0.0, 1.0, 2.0, 3.0, 4.0, 5.0, 6.0, 7.0, 8.0, 9.0, 10.0], \"y\": [0.1968744043407226, 0.34742541942480465, 0.27589665660205076, 0.12983372075390628, 0.04009570787988283, 0.00849085578632813, 0.0012486552626953134, 0.0001259148164062501, 8.332598144531258e-06, 3.267685546875004e-07, 5.766503906250008e-09]}, {\"line\": {\"color\": \"#00CED1\", \"width\": 6}, \"name\": \"Binomial probability\", \"type\": \"scatter\", \"visible\": false, \"x\": [0.0, 1.0, 2.0, 3.0, 4.0, 5.0, 6.0, 7.0, 8.0, 9.0, 10.0], \"y\": [0.10737418240000006, 0.2684354560000001, 0.3019898880000002, 0.2013265920000001, 0.08808038400000005, 0.02642411520000001, 0.005505024000000003, 0.0007864320000000004, 7.372800000000005e-05, 4.096000000000002e-06, 1.0240000000000006e-07]}, {\"line\": {\"color\": \"#00CED1\", \"width\": 6}, \"name\": \"Binomial probability\", \"type\": \"scatter\", \"visible\": true, \"x\": [0.0, 1.0, 2.0, 3.0, 4.0, 5.0, 6.0, 7.0, 8.0, 9.0, 10.0], \"y\": [0.056313514709472656, 0.1877117156982422, 0.2815675735473633, 0.25028228759765625, 0.1459980010986328, 0.058399200439453125, 0.016222000122070312, 0.00308990478515625, 0.00038623809814453125, 2.86102294921875e-05, 9.5367431640625e-07]}, {\"line\": {\"color\": \"#00CED1\", \"width\": 6}, \"name\": \"Binomial probability\", \"type\": \"scatter\", \"visible\": false, \"x\": [0.0, 1.0, 2.0, 3.0, 4.0, 5.0, 6.0, 7.0, 8.0, 9.0, 10.0], \"y\": [0.02824752489999998, 0.12106082099999996, 0.23347444049999994, 0.266827932, 0.20012094900000005, 0.10291934520000004, 0.036756909000000025, 0.009001692000000007, 0.0014467005000000015, 0.00013778100000000015, 5.9049000000000085e-06]}, {\"line\": {\"color\": \"#00CED1\", \"width\": 6}, \"name\": \"Binomial probability\", \"type\": \"scatter\", \"visible\": false, \"x\": [0.0, 1.0, 2.0, 3.0, 4.0, 5.0, 6.0, 7.0, 8.0, 9.0, 10.0], \"y\": [0.013462743344628887, 0.0724916949326171, 0.17565295310595688, 0.2522196249726561, 0.23766849276269522, 0.1535704107082031, 0.06890979967675782, 0.02120301528515626, 0.004281378086425783, 0.0005123016513671879, 2.7585473535156275e-05]}, {\"line\": {\"color\": \"#00CED1\", \"width\": 6}, \"name\": \"Binomial probability\", \"type\": \"scatter\", \"visible\": false, \"x\": [0.0, 1.0, 2.0, 3.0, 4.0, 5.0, 6.0, 7.0, 8.0, 9.0, 10.0], \"y\": [0.006046617599999997, 0.04031078399999999, 0.12093235199999998, 0.21499084799999998, 0.250822656, 0.2006581248, 0.11147673600000005, 0.042467328000000006, 0.010616832000000005, 0.0015728640000000009, 0.00010485760000000006]}, {\"line\": {\"color\": \"#00CED1\", \"width\": 6}, \"name\": \"Binomial probability\", \"type\": \"scatter\", \"visible\": false, \"x\": [0.0, 1.0, 2.0, 3.0, 4.0, 5.0, 6.0, 7.0, 8.0, 9.0, 10.0], \"y\": [0.0025329516211914085, 0.020724149627929705, 0.0763025509028321, 0.1664782928789064, 0.23836664662207044, 0.23403270759257822, 0.15956775517675786, 0.07460310631640628, 0.02288958943798829, 0.004161743534179689, 0.00034050628916015635]}, {\"line\": {\"color\": \"#00CED1\", \"width\": 6}, \"name\": \"Binomial probability\", \"type\": \"scatter\", \"visible\": false, \"x\": [0.0, 1.0, 2.0, 3.0, 4.0, 5.0, 6.0, 7.0, 8.0, 9.0, 10.0], \"y\": [0.0009765625, 0.009765625, 0.0439453125, 0.1171875, 0.205078125, 0.24609375, 0.205078125, 0.1171875, 0.0439453125, 0.009765625, 0.0009765625]}, {\"line\": {\"color\": \"#00CED1\", \"width\": 6}, \"name\": \"Binomial probability\", \"type\": \"scatter\", \"visible\": false, \"x\": [0.0, 1.0, 2.0, 3.0, 4.0, 5.0, 6.0, 7.0, 8.0, 9.0, 10.0], \"y\": [0.0003405062891601559, 0.004161743534179684, 0.022889589437988266, 0.07460310631640622, 0.15956775517675775, 0.2340327075925781, 0.23836664662207033, 0.1664782928789063, 0.07630255090283207, 0.020724149627929702, 0.0025329516211914085]}, {\"line\": {\"color\": \"#00CED1\", \"width\": 6}, \"name\": \"Binomial probability\", \"type\": \"scatter\", \"visible\": false, \"x\": [0.0, 1.0, 2.0, 3.0, 4.0, 5.0, 6.0, 7.0, 8.0, 9.0, 10.0], \"y\": [0.00010485759999999977, 0.0015728639999999972, 0.010616831999999982, 0.04246732799999996, 0.11147673599999991, 0.20065812479999992, 0.25082265600000003, 0.2149908480000001, 0.12093235200000006, 0.040310784000000044, 0.006046617600000009]}, {\"line\": {\"color\": \"#00CED1\", \"width\": 6}, \"name\": \"Binomial probability\", \"type\": \"scatter\", \"visible\": false, \"x\": [0.0, 1.0, 2.0, 3.0, 4.0, 5.0, 6.0, 7.0, 8.0, 9.0, 10.0], \"y\": [2.758547353515623e-05, 0.0005123016513671872, 0.0042813780864257795, 0.02120301528515624, 0.0689097996767578, 0.1535704107082031, 0.2376684927626953, 0.25221962497265626, 0.17565295310595708, 0.0724916949326172, 0.013462743344628911]}, {\"line\": {\"color\": \"#00CED1\", \"width\": 6}, \"name\": \"Binomial probability\", \"type\": \"scatter\", \"visible\": false, \"x\": [0.0, 1.0, 2.0, 3.0, 4.0, 5.0, 6.0, 7.0, 8.0, 9.0, 10.0], \"y\": [5.904899999999987e-06, 0.00013778099999999974, 0.0014467004999999978, 0.009001691999999988, 0.03675690899999997, 0.10291934519999993, 0.20012094899999996, 0.26682793200000005, 0.23347444050000005, 0.12106082100000008, 0.028247524900000025]}, {\"line\": {\"color\": \"#00CED1\", \"width\": 6}, \"name\": \"Binomial probability\", \"type\": \"scatter\", \"visible\": false, \"x\": [0.0, 1.0, 2.0, 3.0, 4.0, 5.0, 6.0, 7.0, 8.0, 9.0, 10.0], \"y\": [9.5367431640625e-07, 2.86102294921875e-05, 0.00038623809814453125, 0.00308990478515625, 0.016222000122070312, 0.058399200439453125, 0.1459980010986328, 0.25028228759765625, 0.2815675735473633, 0.1877117156982422, 0.056313514709472656]}, {\"line\": {\"color\": \"#00CED1\", \"width\": 6}, \"name\": \"Binomial probability\", \"type\": \"scatter\", \"visible\": false, \"x\": [0.0, 1.0, 2.0, 3.0, 4.0, 5.0, 6.0, 7.0, 8.0, 9.0, 10.0], \"y\": [1.0239999999999978e-07, 4.095999999999992e-06, 7.372799999999987e-05, 0.000786431999999999, 0.005505023999999994, 0.026424115199999976, 0.08808038399999996, 0.20132659199999994, 0.30198988800000004, 0.26843545600000007, 0.10737418240000006]}, {\"line\": {\"color\": \"#00CED1\", \"width\": 6}, \"name\": \"Binomial probability\", \"type\": \"scatter\", \"visible\": false, \"x\": [0.0, 1.0, 2.0, 3.0, 4.0, 5.0, 6.0, 7.0, 8.0, 9.0, 10.0], \"y\": [5.766503906249966e-09, 3.2676855468749826e-07, 8.332598144531212e-06, 0.00012591481640624952, 0.0012486552626953086, 0.008490855786328105, 0.040095707879882744, 0.12983372075390612, 0.2758966566020507, 0.3474254194248048, 0.19687440434072287]}, {\"line\": {\"color\": \"#00CED1\", \"width\": 6}, \"name\": \"Binomial probability\", \"type\": \"scatter\", \"visible\": false, \"x\": [0.0, 1.0, 2.0, 3.0, 4.0, 5.0, 6.0, 7.0, 8.0, 9.0, 10.0], \"y\": [9.999999999999978e-11, 8.999999999999981e-09, 3.644999999999994e-07, 8.747999999999988e-06, 0.00013778099999999982, 0.0014880347999999984, 0.01116026099999999, 0.057395627999999976, 0.19371024449999993, 0.38742048900000003, 0.3486784401000001]}, {\"line\": {\"color\": \"#00CED1\", \"width\": 6}, \"name\": \"Binomial probability\", \"type\": \"scatter\", \"visible\": false, \"x\": [0.0, 1.0, 2.0, 3.0, 4.0, 5.0, 6.0, 7.0, 8.0, 9.0, 10.0], \"y\": [9.76562499999987e-14, 1.855468749999978e-11, 1.5864257812499831e-09, 8.037890624999927e-08, 2.6725986328124792e-06, 6.093524882812462e-05, 0.0009648081064453078, 0.010475059441406212, 0.07463479852001938, 0.3151247048623045, 0.5987369392383793]}, {\"line\": {\"color\": \"#00CED1\", \"width\": 6}, \"name\": \"Binomial probability\", \"type\": \"scatter\", \"visible\": false, \"x\": [0.0, 1.0, 2.0, 3.0, 4.0, 5.0, 6.0, 7.0, 8.0, 9.0, 10.0], \"y\": [0.0, 0.0, 0.0, 0.0, 0.0, 0.0, 0.0, 0.0, 0.0, 0.0, 1.0]}],\n",
       "                        {\"height\": 600, \"sliders\": [{\"active\": 10, \"currentvalue\": {\"prefix\": \"Mean parameter theta: \"}, \"pad\": {\"t\": 50}, \"steps\": [{\"args\": [{\"visible\": [true, false, false, false, false, false, false, false, false, false, false, false, false, false, false, false, false, false, false, false, false]}, {\"title.text\": \"Mean parameter theta 0.000000\"}], \"method\": \"update\"}, {\"args\": [{\"visible\": [false, true, false, false, false, false, false, false, false, false, false, false, false, false, false, false, false, false, false, false, false]}, {\"title.text\": \"Mean parameter theta 0.050000\"}], \"method\": \"update\"}, {\"args\": [{\"visible\": [false, false, true, false, false, false, false, false, false, false, false, false, false, false, false, false, false, false, false, false, false]}, {\"title.text\": \"Mean parameter theta 0.100000\"}], \"method\": \"update\"}, {\"args\": [{\"visible\": [false, false, false, true, false, false, false, false, false, false, false, false, false, false, false, false, false, false, false, false, false]}, {\"title.text\": \"Mean parameter theta 0.150000\"}], \"method\": \"update\"}, {\"args\": [{\"visible\": [false, false, false, false, true, false, false, false, false, false, false, false, false, false, false, false, false, false, false, false, false]}, {\"title.text\": \"Mean parameter theta 0.200000\"}], \"method\": \"update\"}, {\"args\": [{\"visible\": [false, false, false, false, false, true, false, false, false, false, false, false, false, false, false, false, false, false, false, false, false]}, {\"title.text\": \"Mean parameter theta 0.250000\"}], \"method\": \"update\"}, {\"args\": [{\"visible\": [false, false, false, false, false, false, true, false, false, false, false, false, false, false, false, false, false, false, false, false, false]}, {\"title.text\": \"Mean parameter theta 0.300000\"}], \"method\": \"update\"}, {\"args\": [{\"visible\": [false, false, false, false, false, false, false, true, false, false, false, false, false, false, false, false, false, false, false, false, false]}, {\"title.text\": \"Mean parameter theta 0.350000\"}], \"method\": \"update\"}, {\"args\": [{\"visible\": [false, false, false, false, false, false, false, false, true, false, false, false, false, false, false, false, false, false, false, false, false]}, {\"title.text\": \"Mean parameter theta 0.400000\"}], \"method\": \"update\"}, {\"args\": [{\"visible\": [false, false, false, false, false, false, false, false, false, true, false, false, false, false, false, false, false, false, false, false, false]}, {\"title.text\": \"Mean parameter theta 0.450000\"}], \"method\": \"update\"}, {\"args\": [{\"visible\": [false, false, false, false, false, false, false, false, false, false, true, false, false, false, false, false, false, false, false, false, false]}, {\"title.text\": \"Mean parameter theta 0.500000\"}], \"method\": \"update\"}, {\"args\": [{\"visible\": [false, false, false, false, false, false, false, false, false, false, false, true, false, false, false, false, false, false, false, false, false]}, {\"title.text\": \"Mean parameter theta 0.550000\"}], \"method\": \"update\"}, {\"args\": [{\"visible\": [false, false, false, false, false, false, false, false, false, false, false, false, true, false, false, false, false, false, false, false, false]}, {\"title.text\": \"Mean parameter theta 0.600000\"}], \"method\": \"update\"}, {\"args\": [{\"visible\": [false, false, false, false, false, false, false, false, false, false, false, false, false, true, false, false, false, false, false, false, false]}, {\"title.text\": \"Mean parameter theta 0.650000\"}], \"method\": \"update\"}, {\"args\": [{\"visible\": [false, false, false, false, false, false, false, false, false, false, false, false, false, false, true, false, false, false, false, false, false]}, {\"title.text\": \"Mean parameter theta 0.700000\"}], \"method\": \"update\"}, {\"args\": [{\"visible\": [false, false, false, false, false, false, false, false, false, false, false, false, false, false, false, true, false, false, false, false, false]}, {\"title.text\": \"Mean parameter theta 0.750000\"}], \"method\": \"update\"}, {\"args\": [{\"visible\": [false, false, false, false, false, false, false, false, false, false, false, false, false, false, false, false, true, false, false, false, false]}, {\"title.text\": \"Mean parameter theta 0.800000\"}], \"method\": \"update\"}, {\"args\": [{\"visible\": [false, false, false, false, false, false, false, false, false, false, false, false, false, false, false, false, false, true, false, false, false]}, {\"title.text\": \"Mean parameter theta 0.850000\"}], \"method\": \"update\"}, {\"args\": [{\"visible\": [false, false, false, false, false, false, false, false, false, false, false, false, false, false, false, false, false, false, true, false, false]}, {\"title.text\": \"Mean parameter theta 0.900000\"}], \"method\": \"update\"}, {\"args\": [{\"visible\": [false, false, false, false, false, false, false, false, false, false, false, false, false, false, false, false, false, false, false, true, false]}, {\"title.text\": \"Mean parameter theta 0.950000\"}], \"method\": \"update\"}, {\"args\": [{\"visible\": [false, false, false, false, false, false, false, false, false, false, false, false, false, false, false, false, false, false, false, false, true]}, {\"title.text\": \"Mean parameter theta 1.000000\"}], \"method\": \"update\"}]}], \"template\": {\"data\": {\"bar\": [{\"error_x\": {\"color\": \"#2a3f5f\"}, \"error_y\": {\"color\": \"#2a3f5f\"}, \"marker\": {\"line\": {\"color\": \"#E5ECF6\", \"width\": 0.5}}, \"type\": \"bar\"}], \"barpolar\": [{\"marker\": {\"line\": {\"color\": \"#E5ECF6\", \"width\": 0.5}}, \"type\": \"barpolar\"}], \"carpet\": [{\"aaxis\": {\"endlinecolor\": \"#2a3f5f\", \"gridcolor\": \"white\", \"linecolor\": \"white\", \"minorgridcolor\": \"white\", \"startlinecolor\": \"#2a3f5f\"}, \"baxis\": {\"endlinecolor\": \"#2a3f5f\", \"gridcolor\": \"white\", \"linecolor\": \"white\", \"minorgridcolor\": \"white\", \"startlinecolor\": \"#2a3f5f\"}, \"type\": \"carpet\"}], \"choropleth\": [{\"colorbar\": {\"outlinewidth\": 0, \"ticks\": \"\"}, \"type\": \"choropleth\"}], \"contour\": [{\"colorbar\": {\"outlinewidth\": 0, \"ticks\": \"\"}, \"colorscale\": [[0.0, \"#0d0887\"], [0.1111111111111111, \"#46039f\"], [0.2222222222222222, \"#7201a8\"], [0.3333333333333333, \"#9c179e\"], [0.4444444444444444, \"#bd3786\"], [0.5555555555555556, \"#d8576b\"], [0.6666666666666666, \"#ed7953\"], [0.7777777777777778, \"#fb9f3a\"], [0.8888888888888888, \"#fdca26\"], [1.0, \"#f0f921\"]], \"type\": \"contour\"}], \"contourcarpet\": [{\"colorbar\": {\"outlinewidth\": 0, \"ticks\": \"\"}, \"type\": \"contourcarpet\"}], \"heatmap\": [{\"colorbar\": {\"outlinewidth\": 0, \"ticks\": \"\"}, \"colorscale\": [[0.0, \"#0d0887\"], [0.1111111111111111, \"#46039f\"], [0.2222222222222222, \"#7201a8\"], [0.3333333333333333, \"#9c179e\"], [0.4444444444444444, \"#bd3786\"], [0.5555555555555556, \"#d8576b\"], [0.6666666666666666, \"#ed7953\"], [0.7777777777777778, \"#fb9f3a\"], [0.8888888888888888, \"#fdca26\"], [1.0, \"#f0f921\"]], \"type\": \"heatmap\"}], \"heatmapgl\": [{\"colorbar\": {\"outlinewidth\": 0, \"ticks\": \"\"}, \"colorscale\": [[0.0, \"#0d0887\"], [0.1111111111111111, \"#46039f\"], [0.2222222222222222, \"#7201a8\"], [0.3333333333333333, \"#9c179e\"], [0.4444444444444444, \"#bd3786\"], [0.5555555555555556, \"#d8576b\"], [0.6666666666666666, \"#ed7953\"], [0.7777777777777778, \"#fb9f3a\"], [0.8888888888888888, \"#fdca26\"], [1.0, \"#f0f921\"]], \"type\": \"heatmapgl\"}], \"histogram\": [{\"marker\": {\"colorbar\": {\"outlinewidth\": 0, \"ticks\": \"\"}}, \"type\": \"histogram\"}], \"histogram2d\": [{\"colorbar\": {\"outlinewidth\": 0, \"ticks\": \"\"}, \"colorscale\": [[0.0, \"#0d0887\"], [0.1111111111111111, \"#46039f\"], [0.2222222222222222, \"#7201a8\"], [0.3333333333333333, \"#9c179e\"], [0.4444444444444444, \"#bd3786\"], [0.5555555555555556, \"#d8576b\"], [0.6666666666666666, \"#ed7953\"], [0.7777777777777778, \"#fb9f3a\"], [0.8888888888888888, \"#fdca26\"], [1.0, \"#f0f921\"]], \"type\": \"histogram2d\"}], \"histogram2dcontour\": [{\"colorbar\": {\"outlinewidth\": 0, \"ticks\": \"\"}, \"colorscale\": [[0.0, \"#0d0887\"], [0.1111111111111111, \"#46039f\"], [0.2222222222222222, \"#7201a8\"], [0.3333333333333333, \"#9c179e\"], [0.4444444444444444, \"#bd3786\"], [0.5555555555555556, \"#d8576b\"], [0.6666666666666666, \"#ed7953\"], [0.7777777777777778, \"#fb9f3a\"], [0.8888888888888888, \"#fdca26\"], [1.0, \"#f0f921\"]], \"type\": \"histogram2dcontour\"}], \"mesh3d\": [{\"colorbar\": {\"outlinewidth\": 0, \"ticks\": \"\"}, \"type\": \"mesh3d\"}], \"parcoords\": [{\"line\": {\"colorbar\": {\"outlinewidth\": 0, \"ticks\": \"\"}}, \"type\": \"parcoords\"}], \"pie\": [{\"automargin\": true, \"type\": \"pie\"}], \"scatter\": [{\"marker\": {\"colorbar\": {\"outlinewidth\": 0, \"ticks\": \"\"}}, \"type\": \"scatter\"}], \"scatter3d\": [{\"line\": {\"colorbar\": {\"outlinewidth\": 0, \"ticks\": \"\"}}, \"marker\": {\"colorbar\": {\"outlinewidth\": 0, \"ticks\": \"\"}}, \"type\": \"scatter3d\"}], \"scattercarpet\": [{\"marker\": {\"colorbar\": {\"outlinewidth\": 0, \"ticks\": \"\"}}, \"type\": \"scattercarpet\"}], \"scattergeo\": [{\"marker\": {\"colorbar\": {\"outlinewidth\": 0, \"ticks\": \"\"}}, \"type\": \"scattergeo\"}], \"scattergl\": [{\"marker\": {\"colorbar\": {\"outlinewidth\": 0, \"ticks\": \"\"}}, \"type\": \"scattergl\"}], \"scattermapbox\": [{\"marker\": {\"colorbar\": {\"outlinewidth\": 0, \"ticks\": \"\"}}, \"type\": \"scattermapbox\"}], \"scatterpolar\": [{\"marker\": {\"colorbar\": {\"outlinewidth\": 0, \"ticks\": \"\"}}, \"type\": \"scatterpolar\"}], \"scatterpolargl\": [{\"marker\": {\"colorbar\": {\"outlinewidth\": 0, \"ticks\": \"\"}}, \"type\": \"scatterpolargl\"}], \"scatterternary\": [{\"marker\": {\"colorbar\": {\"outlinewidth\": 0, \"ticks\": \"\"}}, \"type\": \"scatterternary\"}], \"surface\": [{\"colorbar\": {\"outlinewidth\": 0, \"ticks\": \"\"}, \"colorscale\": [[0.0, \"#0d0887\"], [0.1111111111111111, \"#46039f\"], [0.2222222222222222, \"#7201a8\"], [0.3333333333333333, \"#9c179e\"], [0.4444444444444444, \"#bd3786\"], [0.5555555555555556, \"#d8576b\"], [0.6666666666666666, \"#ed7953\"], [0.7777777777777778, \"#fb9f3a\"], [0.8888888888888888, \"#fdca26\"], [1.0, \"#f0f921\"]], \"type\": \"surface\"}], \"table\": [{\"cells\": {\"fill\": {\"color\": \"#EBF0F8\"}, \"line\": {\"color\": \"white\"}}, \"header\": {\"fill\": {\"color\": \"#C8D4E3\"}, \"line\": {\"color\": \"white\"}}, \"type\": \"table\"}]}, \"layout\": {\"annotationdefaults\": {\"arrowcolor\": \"#2a3f5f\", \"arrowhead\": 0, \"arrowwidth\": 1}, \"coloraxis\": {\"colorbar\": {\"outlinewidth\": 0, \"ticks\": \"\"}}, \"colorscale\": {\"diverging\": [[0, \"#8e0152\"], [0.1, \"#c51b7d\"], [0.2, \"#de77ae\"], [0.3, \"#f1b6da\"], [0.4, \"#fde0ef\"], [0.5, \"#f7f7f7\"], [0.6, \"#e6f5d0\"], [0.7, \"#b8e186\"], [0.8, \"#7fbc41\"], [0.9, \"#4d9221\"], [1, \"#276419\"]], \"sequential\": [[0.0, \"#0d0887\"], [0.1111111111111111, \"#46039f\"], [0.2222222222222222, \"#7201a8\"], [0.3333333333333333, \"#9c179e\"], [0.4444444444444444, \"#bd3786\"], [0.5555555555555556, \"#d8576b\"], [0.6666666666666666, \"#ed7953\"], [0.7777777777777778, \"#fb9f3a\"], [0.8888888888888888, \"#fdca26\"], [1.0, \"#f0f921\"]], \"sequentialminus\": [[0.0, \"#0d0887\"], [0.1111111111111111, \"#46039f\"], [0.2222222222222222, \"#7201a8\"], [0.3333333333333333, \"#9c179e\"], [0.4444444444444444, \"#bd3786\"], [0.5555555555555556, \"#d8576b\"], [0.6666666666666666, \"#ed7953\"], [0.7777777777777778, \"#fb9f3a\"], [0.8888888888888888, \"#fdca26\"], [1.0, \"#f0f921\"]]}, \"colorway\": [\"#636efa\", \"#EF553B\", \"#00cc96\", \"#ab63fa\", \"#FFA15A\", \"#19d3f3\", \"#FF6692\", \"#B6E880\", \"#FF97FF\", \"#FECB52\"], \"font\": {\"color\": \"#2a3f5f\"}, \"geo\": {\"bgcolor\": \"white\", \"lakecolor\": \"white\", \"landcolor\": \"#E5ECF6\", \"showlakes\": true, \"showland\": true, \"subunitcolor\": \"white\"}, \"hoverlabel\": {\"align\": \"left\"}, \"hovermode\": \"closest\", \"mapbox\": {\"style\": \"light\"}, \"paper_bgcolor\": \"white\", \"plot_bgcolor\": \"#E5ECF6\", \"polar\": {\"angularaxis\": {\"gridcolor\": \"white\", \"linecolor\": \"white\", \"ticks\": \"\"}, \"bgcolor\": \"#E5ECF6\", \"radialaxis\": {\"gridcolor\": \"white\", \"linecolor\": \"white\", \"ticks\": \"\"}}, \"scene\": {\"xaxis\": {\"backgroundcolor\": \"#E5ECF6\", \"gridcolor\": \"white\", \"gridwidth\": 2, \"linecolor\": \"white\", \"showbackground\": true, \"ticks\": \"\", \"zerolinecolor\": \"white\"}, \"yaxis\": {\"backgroundcolor\": \"#E5ECF6\", \"gridcolor\": \"white\", \"gridwidth\": 2, \"linecolor\": \"white\", \"showbackground\": true, \"ticks\": \"\", \"zerolinecolor\": \"white\"}, \"zaxis\": {\"backgroundcolor\": \"#E5ECF6\", \"gridcolor\": \"white\", \"gridwidth\": 2, \"linecolor\": \"white\", \"showbackground\": true, \"ticks\": \"\", \"zerolinecolor\": \"white\"}}, \"shapedefaults\": {\"line\": {\"color\": \"#2a3f5f\"}}, \"ternary\": {\"aaxis\": {\"gridcolor\": \"white\", \"linecolor\": \"white\", \"ticks\": \"\"}, \"baxis\": {\"gridcolor\": \"white\", \"linecolor\": \"white\", \"ticks\": \"\"}, \"bgcolor\": \"#E5ECF6\", \"caxis\": {\"gridcolor\": \"white\", \"linecolor\": \"white\", \"ticks\": \"\"}}, \"title\": {\"x\": 0.05}, \"xaxis\": {\"automargin\": true, \"gridcolor\": \"white\", \"linecolor\": \"white\", \"ticks\": \"\", \"title\": {\"standoff\": 15}, \"zerolinecolor\": \"white\", \"zerolinewidth\": 2}, \"yaxis\": {\"automargin\": true, \"gridcolor\": \"white\", \"linecolor\": \"white\", \"ticks\": \"\", \"title\": {\"standoff\": 15}, \"zerolinecolor\": \"white\", \"zerolinewidth\": 2}}}, \"title\": {\"text\": \"Binomial distribution - P(y/theta) vs y, move slider to vary the parameter theta\"}, \"width\": 800, \"xaxis\": {\"title\": {\"text\": \"Binomial distribution - P(y/theta) vs y, move slider to vary the parameter theta\"}}},\n",
       "                        {\"responsive\": true}\n",
       "                    ).then(function(){\n",
       "                            \n",
       "var gd = document.getElementById('8f9b0d91-7526-444f-939f-4190bd604061');\n",
       "var x = new MutationObserver(function (mutations, observer) {{\n",
       "        var display = window.getComputedStyle(gd).display;\n",
       "        if (!display || display === 'none') {{\n",
       "            console.log([gd, 'removed!']);\n",
       "            Plotly.purge(gd);\n",
       "            observer.disconnect();\n",
       "        }}\n",
       "}});\n",
       "\n",
       "// Listen for the removal of the full notebook cells\n",
       "var notebookContainer = gd.closest('#notebook-container');\n",
       "if (notebookContainer) {{\n",
       "    x.observe(notebookContainer, {childList: true});\n",
       "}}\n",
       "\n",
       "// Listen for the clearing of the current output cell\n",
       "var outputEl = gd.closest('.output');\n",
       "if (outputEl) {{\n",
       "    x.observe(outputEl, {childList: true});\n",
       "}}\n",
       "\n",
       "                        })\n",
       "                };\n",
       "                });\n",
       "            </script>\n",
       "        </div>"
      ]
     },
     "metadata": {},
     "output_type": "display_data"
    },
    {
     "data": {
      "application/vnd.plotly.v1+json": {
       "config": {
        "plotlyServerURL": "https://plot.ly"
       },
       "data": [
        {
         "line": {
          "color": "#00CED1",
          "width": 6
         },
         "name": "Binomial probability",
         "type": "scatter",
         "visible": false,
         "x": [
          0,
          0.02040816326530612,
          0.04081632653061224,
          0.061224489795918366,
          0.08163265306122448,
          0.1020408163265306,
          0.12244897959183673,
          0.14285714285714285,
          0.16326530612244897,
          0.18367346938775508,
          0.2040816326530612,
          0.22448979591836732,
          0.24489795918367346,
          0.26530612244897955,
          0.2857142857142857,
          0.3061224489795918,
          0.32653061224489793,
          0.3469387755102041,
          0.36734693877551017,
          0.3877551020408163,
          0.4081632653061224,
          0.42857142857142855,
          0.44897959183673464,
          0.4693877551020408,
          0.4897959183673469,
          0.5102040816326531,
          0.5306122448979591,
          0.5510204081632653,
          0.5714285714285714,
          0.5918367346938775,
          0.6122448979591836,
          0.6326530612244897,
          0.6530612244897959,
          0.673469387755102,
          0.6938775510204082,
          0.7142857142857142,
          0.7346938775510203,
          0.7551020408163265,
          0.7755102040816326,
          0.7959183673469387,
          0.8163265306122448,
          0.836734693877551,
          0.8571428571428571,
          0.8775510204081632,
          0.8979591836734693,
          0.9183673469387754,
          0.9387755102040816,
          0.9591836734693877,
          0.9795918367346939,
          1
         ],
         "y": [
          1,
          0.8136761257837348,
          0.6592008809430719,
          0.5316398374317907,
          0.4267409674643455,
          0.34085209256967963,
          0.27084682909841135,
          0.21405831560130795,
          0.16822005355867573,
          0.13141323697825358,
          0.10201998843884479,
          0.07868195928376726,
          0.06026378990769129,
          0.04582096247806911,
          0.03457161303360778,
          0.025871902752579935,
          0.019194579328677214,
          0.014110388877077435,
          0.010272026663883979,
          0.007400341253594299,
          0.005272531447233649,
          0.003712098683732816,
          0.0025803394445109407,
          0.0017691826815251254,
          0.0011951964277455188,
          0.0007946055915856785,
          0.0005191795287419837,
          0.0003328633716500782,
          0.0002090413238294023,
          0.00012833323923657576,
          7.683785086305418e-05,
          4.4747033669989435e-05,
          2.5265530031816342e-05,
          1.3779676637770932e-05,
          7.226895755463182e-06,
          3.625096370832842e-06,
          1.7277174624268839e-06,
          7.75982023032891e-07,
          3.250618863770295e-07,
          1.253254289419692e-07,
          4.369827506834919e-08,
          1.345671546657322e-08,
          3.5401331746414474e-09,
          7.577949443680576e-10,
          1.2238811420114247e-10,
          1.3141323697825501e-11,
          7.400341253594379e-13,
          1.2833323923657716e-14,
          1.2532542894196988e-17,
          0
         ]
        },
        {
         "line": {
          "color": "#00CED1",
          "width": 6
         },
         "name": "Binomial probability",
         "type": "scatter",
         "visible": false,
         "x": [
          0,
          0.02040816326530612,
          0.04081632653061224,
          0.061224489795918366,
          0.08163265306122448,
          0.1020408163265306,
          0.12244897959183673,
          0.14285714285714285,
          0.16326530612244897,
          0.18367346938775508,
          0.2040816326530612,
          0.22448979591836732,
          0.24489795918367346,
          0.26530612244897955,
          0.2857142857142857,
          0.3061224489795918,
          0.32653061224489793,
          0.3469387755102041,
          0.36734693877551017,
          0.3877551020408163,
          0.4081632653061224,
          0.42857142857142855,
          0.44897959183673464,
          0.4693877551020408,
          0.4897959183673469,
          0.5102040816326531,
          0.5306122448979591,
          0.5510204081632653,
          0.5714285714285714,
          0.5918367346938775,
          0.6122448979591836,
          0.6326530612244897,
          0.6530612244897959,
          0.673469387755102,
          0.6938775510204082,
          0.7142857142857142,
          0.7346938775510203,
          0.7551020408163265,
          0.7755102040816326,
          0.7959183673469387,
          0.8163265306122448,
          0.836734693877551,
          0.8571428571428571,
          0.8775510204081632,
          0.8979591836734693,
          0.9183673469387754,
          0.9387755102040816,
          0.9591836734693877,
          0.9795918367346939,
          1
         ],
         "y": [
          0,
          0.16951585953827808,
          0.2805110131672646,
          0.34672163310768955,
          0.3793253044127515,
          0.3873319233746359,
          0.37792580804429493,
          0.35676385933551313,
          0.3282342508461965,
          0.2956797832010705,
          0.2615897139457558,
          0.22776356634774733,
          0.19545012943035014,
          0.16546458672636066,
          0.13828645213443108,
          0.11414074743785262,
          0.09306462704813193,
          0.07496144090947385,
          0.059644025790294056,
          0.046868827939430556,
          0.03636228584299068,
          0.02784074012799612,
          0.02102498806638544,
          0.01565046218272226,
          0.011473885706356981,
          0.008277141579017485,
          0.005868985977083293,
          0.004085141379341867,
          0.0027872176510586964,
          0.0018608319689303484,
          0.0012132292241534865,
          0.0007706433576498177,
          0.0004755864476577193,
          0.00028420583065402543,
          0.00016380963712383213,
          9.062740927082102e-05,
          4.784448357489831e-05,
          2.3926112376847463e-05,
          1.1229410620297381e-05,
          4.887691728736795e-06,
          1.9421455585932956e-06,
          6.896566676618773e-07,
          2.1240799047848676e-07,
          5.430863767971078e-08,
          1.0770154049700524e-08,
          1.4783989160053671e-09,
          1.1347189922178035e-10,
          3.0158311220595603e-12,
          6.015620589214548e-15,
          0
         ]
        },
        {
         "line": {
          "color": "#00CED1",
          "width": 6
         },
         "name": "Binomial probability",
         "type": "scatter",
         "visible": false,
         "x": [
          0,
          0.02040816326530612,
          0.04081632653061224,
          0.061224489795918366,
          0.08163265306122448,
          0.1020408163265306,
          0.12244897959183673,
          0.14285714285714285,
          0.16326530612244897,
          0.18367346938775508,
          0.2040816326530612,
          0.22448979591836732,
          0.24489795918367346,
          0.26530612244897955,
          0.2857142857142857,
          0.3061224489795918,
          0.32653061224489793,
          0.3469387755102041,
          0.36734693877551017,
          0.3877551020408163,
          0.4081632653061224,
          0.42857142857142855,
          0.44897959183673464,
          0.4693877551020408,
          0.4897959183673469,
          0.5102040816326531,
          0.5306122448979591,
          0.5510204081632653,
          0.5714285714285714,
          0.5918367346938775,
          0.6122448979591836,
          0.6326530612244897,
          0.6530612244897959,
          0.673469387755102,
          0.6938775510204082,
          0.7142857142857142,
          0.7346938775510203,
          0.7551020408163265,
          0.7755102040816326,
          0.7959183673469387,
          0.8163265306122448,
          0.836734693877551,
          0.8571428571428571,
          0.8775510204081632,
          0.8979591836734693,
          0.9183673469387754,
          0.9387755102040816,
          0.9591836734693877,
          0.9795918367346939,
          1
         ],
         "y": [
          0,
          0.015892111831713567,
          0.05371487486181663,
          0.1017552618903002,
          0.15173012176510056,
          0.19806746081657514,
          0.2373022515626968,
          0.2675728945016349,
          0.288205683669831,
          0.2993757804910839,
          0.3018342853220259,
          0.2966920140582497,
          0.28525154024970023,
          0.268879953430336,
          0.24891561384197597,
          0.22660295447220732,
          0.20305009537774232,
          0.1792046946742109,
          0.15584406738754253,
          0.1335761596273771,
          0.11284847330583314,
          0.09396249793198691,
          0.07709162291007993,
          0.06230087830429822,
          0.049567186251462156,
          0.03879910115164446,
          0.029855276492119345,
          0.022561121708638037,
          0.01672330590635218,
          0.012141928597270523,
          0.00862031290845898,
          0.005972486021786085,
          0.004028496968394797,
          0.002637785365757673,
          0.0016708582986630876,
          0.0010195583542967359,
          0.0005962158722410402,
          0.0003319748092287585,
          0.00017456629237007744,
          8.57789898393307e-05,
          3.8842911171865896e-05,
          1.5905206897952036e-05,
          5.735015742919141e-06,
          1.7514535651706724e-06,
          4.2649810036814016e-07,
          7.48439451227716e-08,
          7.829561046302836e-09,
          3.189241411577981e-10,
          1.2993740472703408e-12,
          0
         ]
        },
        {
         "line": {
          "color": "#00CED1",
          "width": 6
         },
         "name": "Binomial probability",
         "type": "scatter",
         "visible": false,
         "x": [
          0,
          0.02040816326530612,
          0.04081632653061224,
          0.061224489795918366,
          0.08163265306122448,
          0.1020408163265306,
          0.12244897959183673,
          0.14285714285714285,
          0.16326530612244897,
          0.18367346938775508,
          0.2040816326530612,
          0.22448979591836732,
          0.24489795918367346,
          0.26530612244897955,
          0.2857142857142857,
          0.3061224489795918,
          0.32653061224489793,
          0.3469387755102041,
          0.36734693877551017,
          0.3877551020408163,
          0.4081632653061224,
          0.42857142857142855,
          0.44897959183673464,
          0.4693877551020408,
          0.4897959183673469,
          0.5102040816326531,
          0.5306122448979591,
          0.5510204081632653,
          0.5714285714285714,
          0.5918367346938775,
          0.6122448979591836,
          0.6326530612244897,
          0.6530612244897959,
          0.673469387755102,
          0.6938775510204082,
          0.7142857142857142,
          0.7346938775510203,
          0.7551020408163265,
          0.7755102040816326,
          0.7959183673469387,
          0.8163265306122448,
          0.836734693877551,
          0.8571428571428571,
          0.8775510204081632,
          0.8979591836734693,
          0.9183673469387754,
          0.9387755102040816,
          0.9591836734693877,
          0.9795918367346939,
          1
         ],
         "y": [
          0,
          0.0008828951017618651,
          0.0060953049488586255,
          0.0176965672852696,
          0.035965658492468286,
          0.060020442671689433,
          0.08829851220937555,
          0.11892128644517103,
          0.14996068093389583,
          0.17962546829465031,
          0.20638241731420573,
          0.2290254143607542,
          0.24670403481055156,
          0.2589214366366198,
          0.26550998809810766,
          0.2665917111437732,
          0.26252941624596987,
          0.25387331745513214,
          0.2413069430516787,
          0.22559529181512572,
          0.20753742217164714,
          0.18792499586397382,
          0.16750772385400078,
          0.14696617446142143,
          0.1268919968037431,
          0.10777528097679019,
          0.08999851464291046,
          0.07383639831917901,
          0.05946064322258551,
          0.04694879057611269,
          0.03629605435140622,
          0.027429195063017574,
          0.020221474978609176,
          0.014507819511667203,
          0.010099410160807997,
          0.00679705569531157,
          0.004402824902703065,
          0.00272957065365868,
          0.0016081258448637432,
          0.0008921014943290387,
          0.0004603604287035955,
          0.00021737116093867775,
          9.176025188670622e-05,
          3.34722236899284e-05,
          1.0008488755305677e-05,
          2.245318353683146e-06,
          3.2014205167104886e-07,
          1.9985912845888658e-08,
          1.6631987805060344e-10,
          0
         ]
        },
        {
         "line": {
          "color": "#00CED1",
          "width": 6
         },
         "name": "Binomial probability",
         "type": "scatter",
         "visible": false,
         "x": [
          0,
          0.02040816326530612,
          0.04081632653061224,
          0.061224489795918366,
          0.08163265306122448,
          0.1020408163265306,
          0.12244897959183673,
          0.14285714285714285,
          0.16326530612244897,
          0.18367346938775508,
          0.2040816326530612,
          0.22448979591836732,
          0.24489795918367346,
          0.26530612244897955,
          0.2857142857142857,
          0.3061224489795918,
          0.32653061224489793,
          0.3469387755102041,
          0.36734693877551017,
          0.3877551020408163,
          0.4081632653061224,
          0.42857142857142855,
          0.44897959183673464,
          0.4693877551020408,
          0.4897959183673469,
          0.5102040816326531,
          0.5306122448979591,
          0.5510204081632653,
          0.5714285714285714,
          0.5918367346938775,
          0.6122448979591836,
          0.6326530612244897,
          0.6530612244897959,
          0.673469387755102,
          0.6938775510204082,
          0.7142857142857142,
          0.7346938775510203,
          0.7551020408163265,
          0.7755102040816326,
          0.7959183673469387,
          0.8163265306122448,
          0.836734693877551,
          0.8571428571428571,
          0.8775510204081632,
          0.8979591836734693,
          0.9183673469387754,
          0.9387755102040816,
          0.9591836734693877,
          0.9795918367346939,
          1
         ],
         "y": [
          0,
          3.218888391840132e-05,
          0.0004539056876809615,
          0.0020197169184275085,
          0.0055946579877172884,
          0.011935883485847329,
          0.02156126460926612,
          0.03468537521317488,
          0.05120608617254978,
          0.07072752814101854,
          0.09260749494868205,
          0.11601945332748731,
          0.14002120894652925,
          0.16362396343008612,
          0.18585699166867534,
          0.20582448286835425,
          0.22275223196627741,
          0.2360228498215681,
          0.24519899052025415,
          0.2500347817617643,
          0.25047619917267755,
          0.2466515570714656,
          0.23885360623626034,
          0.22751494315662352,
          0.21317855463028842,
          0.19646535594727374,
          0.17804053983706197,
          0.15858044639005492,
          0.1387415008526995,
          0.11913255608688594,
          0.10029172912888555,
          0.08266854623159459,
          0.06661191757659492,
          0.052364161049923794,
          0.04006099363787172,
          0.0297371186669881,
          0.02133676683617638,
          0.014728308318699958,
          0.009721851698494446,
          0.006088592698795685,
          0.003580581112139074,
          0.0019495475996687646,
          0.0009634826448104148,
          0.00041979747211118523,
          0.00015413072683170725,
          4.4204705088136876e-05,
          8.590478386506468e-06,
          8.219206657871701e-07,
          1.3970869756250674e-08,
          0
         ]
        },
        {
         "line": {
          "color": "#00CED1",
          "width": 6
         },
         "name": "Binomial probability",
         "type": "scatter",
         "visible": true,
         "x": [
          0,
          0.02040816326530612,
          0.04081632653061224,
          0.061224489795918366,
          0.08163265306122448,
          0.1020408163265306,
          0.12244897959183673,
          0.14285714285714285,
          0.16326530612244897,
          0.18367346938775508,
          0.2040816326530612,
          0.22448979591836732,
          0.24489795918367346,
          0.26530612244897955,
          0.2857142857142857,
          0.3061224489795918,
          0.32653061224489793,
          0.3469387755102041,
          0.36734693877551017,
          0.3877551020408163,
          0.4081632653061224,
          0.42857142857142855,
          0.44897959183673464,
          0.4693877551020408,
          0.4897959183673469,
          0.5102040816326531,
          0.5306122448979591,
          0.5510204081632653,
          0.5714285714285714,
          0.5918367346938775,
          0.6122448979591836,
          0.6326530612244897,
          0.6530612244897959,
          0.673469387755102,
          0.6938775510204082,
          0.7142857142857142,
          0.7346938775510203,
          0.7551020408163265,
          0.7755102040816326,
          0.7959183673469387,
          0.8163265306122448,
          0.836734693877551,
          0.8571428571428571,
          0.8775510204081632,
          0.8979591836734693,
          0.9183673469387754,
          0.9387755102040816,
          0.9591836734693877,
          0.9795918367346939,
          1
         ],
         "y": [
          0,
          8.047220979600331e-07,
          2.317816277519803e-05,
          0.00015806480231171804,
          0.0005967635186898439,
          0.0016276204753428178,
          0.003610258260156188,
          0.0069370750426349746,
          0.011989717737962875,
          0.019096432598075003,
          0.02849461383036371,
          0.04030149431375874,
          0.05449474077918977,
          0.07090371748637063,
          0.08921135600096416,
          0.10896590269501108,
          0.12960129859856137,
          0.15046456676124967,
          0.17084832887862866,
          0.19002643413894088,
          0.20729064759118143,
          0.22198640136431907,
          0.2335457483198989,
          0.24151586273549264,
          0.2455816949340922,
          0.24558169493409224,
          0.2415158627354927,
          0.233545748319899,
          0.22198640136431919,
          0.20729064759118154,
          0.19002643413894102,
          0.1708483288786288,
          0.15046456676124967,
          0.1296012985985614,
          0.10896590269501107,
          0.08921135600096426,
          0.07090371748637071,
          0.054494740779189824,
          0.0403014943137588,
          0.02849461383036378,
          0.019096432598075055,
          0.011989717737962898,
          0.006937075042634984,
          0.003610258260156192,
          0.0016276204753428267,
          0.0005967635186898472,
          0.00015806480231171882,
          2.3178162775198167e-05,
          8.047220979600378e-07,
          0
         ]
        },
        {
         "line": {
          "color": "#00CED1",
          "width": 6
         },
         "name": "Binomial probability",
         "type": "scatter",
         "visible": false,
         "x": [
          0,
          0.02040816326530612,
          0.04081632653061224,
          0.061224489795918366,
          0.08163265306122448,
          0.1020408163265306,
          0.12244897959183673,
          0.14285714285714285,
          0.16326530612244897,
          0.18367346938775508,
          0.2040816326530612,
          0.22448979591836732,
          0.24489795918367346,
          0.26530612244897955,
          0.2857142857142857,
          0.3061224489795918,
          0.32653061224489793,
          0.3469387755102041,
          0.36734693877551017,
          0.3877551020408163,
          0.4081632653061224,
          0.42857142857142855,
          0.44897959183673464,
          0.4693877551020408,
          0.4897959183673469,
          0.5102040816326531,
          0.5306122448979591,
          0.5510204081632653,
          0.5714285714285714,
          0.5918367346938775,
          0.6122448979591836,
          0.6326530612244897,
          0.6530612244897959,
          0.673469387755102,
          0.6938775510204082,
          0.7142857142857142,
          0.7346938775510203,
          0.7551020408163265,
          0.7755102040816326,
          0.7959183673469387,
          0.8163265306122448,
          0.836734693877551,
          0.8571428571428571,
          0.8775510204081632,
          0.8979591836734693,
          0.9183673469387754,
          0.9387755102040816,
          0.9591836734693877,
          0.9795918367346939,
          1
         ],
         "y": [
          0,
          1.3970869756250573e-08,
          8.219206657871641e-07,
          8.590478386506413e-06,
          4.420470508813659e-05,
          0.0001541307268317062,
          0.00041979747211118464,
          0.000963482644810413,
          0.00194954759966876,
          0.003580581112139063,
          0.006088592698795663,
          0.009721851698494433,
          0.014728308318699937,
          0.021336766836176344,
          0.029737118666988048,
          0.0400609936378717,
          0.05236416104992378,
          0.06661191757659489,
          0.0826685462315945,
          0.10029172912888547,
          0.11913255608688583,
          0.13874150085269943,
          0.15858044639005478,
          0.17804053983706186,
          0.19646535594727377,
          0.21317855463028842,
          0.2275149431566235,
          0.23885360623626029,
          0.24665155707146572,
          0.25047619917267766,
          0.25003478176176436,
          0.2451989905202542,
          0.23602284982156807,
          0.2227522319662773,
          0.20582448286835422,
          0.18585699166867545,
          0.1636239634300862,
          0.1400212089465294,
          0.11601945332748742,
          0.09260749494868223,
          0.07072752814101865,
          0.05120608617254984,
          0.03468537521317491,
          0.02156126460926614,
          0.01193588348584738,
          0.00559465798771731,
          0.002019716918427516,
          0.00045390568768096366,
          3.2188883918401476e-05,
          0
         ]
        },
        {
         "line": {
          "color": "#00CED1",
          "width": 6
         },
         "name": "Binomial probability",
         "type": "scatter",
         "visible": false,
         "x": [
          0,
          0.02040816326530612,
          0.04081632653061224,
          0.061224489795918366,
          0.08163265306122448,
          0.1020408163265306,
          0.12244897959183673,
          0.14285714285714285,
          0.16326530612244897,
          0.18367346938775508,
          0.2040816326530612,
          0.22448979591836732,
          0.24489795918367346,
          0.26530612244897955,
          0.2857142857142857,
          0.3061224489795918,
          0.32653061224489793,
          0.3469387755102041,
          0.36734693877551017,
          0.3877551020408163,
          0.4081632653061224,
          0.42857142857142855,
          0.44897959183673464,
          0.4693877551020408,
          0.4897959183673469,
          0.5102040816326531,
          0.5306122448979591,
          0.5510204081632653,
          0.5714285714285714,
          0.5918367346938775,
          0.6122448979591836,
          0.6326530612244897,
          0.6530612244897959,
          0.673469387755102,
          0.6938775510204082,
          0.7142857142857142,
          0.7346938775510203,
          0.7551020408163265,
          0.7755102040816326,
          0.7959183673469387,
          0.8163265306122448,
          0.836734693877551,
          0.8571428571428571,
          0.8775510204081632,
          0.8979591836734693,
          0.9183673469387754,
          0.9387755102040816,
          0.9591836734693877,
          0.9795918367346939,
          1
         ],
         "y": [
          0,
          1.6631987805060204e-10,
          1.998591284588849e-08,
          3.2014205167104643e-07,
          2.2453183536831277e-06,
          1.0008488755305596e-05,
          3.347222368992834e-05,
          9.1760251886706e-05,
          0.00021737116093867705,
          0.0004603604287035938,
          0.0008921014943290348,
          0.0016081258448637406,
          0.002729570653658676,
          0.004402824902703053,
          0.006797055695311554,
          0.01009941016080799,
          0.01450781951166719,
          0.02022147497860916,
          0.027429195063017525,
          0.03629605435140617,
          0.04694879057611264,
          0.059460643222585464,
          0.07383639831917893,
          0.08999851464291038,
          0.10777528097679019,
          0.1268919968037431,
          0.1469661744614213,
          0.16750772385400067,
          0.18792499586397388,
          0.20753742217164722,
          0.22559529181512566,
          0.24130694305167863,
          0.253873317455132,
          0.26252941624596965,
          0.26659171114377306,
          0.26550998809810766,
          0.2589214366366198,
          0.24670403481055175,
          0.22902541436075435,
          0.20638241731420598,
          0.17962546829465045,
          0.14996068093389586,
          0.11892128644517107,
          0.08829851220937561,
          0.060020442671689614,
          0.03596565849246838,
          0.017696567285269645,
          0.006095304948858647,
          0.0008828951017618682,
          0
         ]
        },
        {
         "line": {
          "color": "#00CED1",
          "width": 6
         },
         "name": "Binomial probability",
         "type": "scatter",
         "visible": false,
         "x": [
          0,
          0.02040816326530612,
          0.04081632653061224,
          0.061224489795918366,
          0.08163265306122448,
          0.1020408163265306,
          0.12244897959183673,
          0.14285714285714285,
          0.16326530612244897,
          0.18367346938775508,
          0.2040816326530612,
          0.22448979591836732,
          0.24489795918367346,
          0.26530612244897955,
          0.2857142857142857,
          0.3061224489795918,
          0.32653061224489793,
          0.3469387755102041,
          0.36734693877551017,
          0.3877551020408163,
          0.4081632653061224,
          0.42857142857142855,
          0.44897959183673464,
          0.4693877551020408,
          0.4897959183673469,
          0.5102040816326531,
          0.5306122448979591,
          0.5510204081632653,
          0.5714285714285714,
          0.5918367346938775,
          0.6122448979591836,
          0.6326530612244897,
          0.6530612244897959,
          0.673469387755102,
          0.6938775510204082,
          0.7142857142857142,
          0.7346938775510203,
          0.7551020408163265,
          0.7755102040816326,
          0.7959183673469387,
          0.8163265306122448,
          0.836734693877551,
          0.8571428571428571,
          0.8775510204081632,
          0.8979591836734693,
          0.9183673469387754,
          0.9387755102040816,
          0.9591836734693877,
          0.9795918367346939,
          1
         ],
         "y": [
          0,
          1.2993740472703285e-12,
          3.1892414115779504e-10,
          7.829561046302765e-09,
          7.484394512277092e-08,
          4.2649810036813614e-07,
          1.751453565170669e-06,
          5.735015742919124e-06,
          1.5905206897951975e-05,
          3.884291117186572e-05,
          8.577898983933026e-05,
          0.00017456629237007712,
          0.00033197480922875786,
          0.0005962158722410383,
          0.001019558354296733,
          0.001670858298663086,
          0.0026377853657576704,
          0.004028496968394794,
          0.005972486021786073,
          0.008620312908458962,
          0.01214192859727051,
          0.01672330590635216,
          0.022561121708638006,
          0.0298552764921193,
          0.03879910115164446,
          0.04956718625146215,
          0.062300878304298146,
          0.07709162291007984,
          0.09396249793198692,
          0.11284847330583318,
          0.13357615962737698,
          0.15584406738754242,
          0.17920469467421074,
          0.20305009537774216,
          0.22660295447220713,
          0.24891561384197583,
          0.2688799534303359,
          0.28525154024970034,
          0.2966920140582499,
          0.301834285322026,
          0.29937578049108393,
          0.288205683669831,
          0.2675728945016348,
          0.2373022515626969,
          0.19806746081657547,
          0.1517301217651008,
          0.10175526189030032,
          0.053714874861816767,
          0.015892111831713608,
          0
         ]
        },
        {
         "line": {
          "color": "#00CED1",
          "width": 6
         },
         "name": "Binomial probability",
         "type": "scatter",
         "visible": false,
         "x": [
          0,
          0.02040816326530612,
          0.04081632653061224,
          0.061224489795918366,
          0.08163265306122448,
          0.1020408163265306,
          0.12244897959183673,
          0.14285714285714285,
          0.16326530612244897,
          0.18367346938775508,
          0.2040816326530612,
          0.22448979591836732,
          0.24489795918367346,
          0.26530612244897955,
          0.2857142857142857,
          0.3061224489795918,
          0.32653061224489793,
          0.3469387755102041,
          0.36734693877551017,
          0.3877551020408163,
          0.4081632653061224,
          0.42857142857142855,
          0.44897959183673464,
          0.4693877551020408,
          0.4897959183673469,
          0.5102040816326531,
          0.5306122448979591,
          0.5510204081632653,
          0.5714285714285714,
          0.5918367346938775,
          0.6122448979591836,
          0.6326530612244897,
          0.6530612244897959,
          0.673469387755102,
          0.6938775510204082,
          0.7142857142857142,
          0.7346938775510203,
          0.7551020408163265,
          0.7755102040816326,
          0.7959183673469387,
          0.8163265306122448,
          0.836734693877551,
          0.8571428571428571,
          0.8775510204081632,
          0.8979591836734693,
          0.9183673469387754,
          0.9387755102040816,
          0.9591836734693877,
          0.9795918367346939,
          1
         ],
         "y": [
          0,
          6.015620589214483e-15,
          3.0158311220595275e-12,
          1.1347189922177921e-10,
          1.4783989160053514e-09,
          1.0770154049700405e-08,
          5.4308637679710674e-08,
          2.1240799047848602e-07,
          6.896566676618742e-07,
          1.9421455585932855e-06,
          4.887691728736766e-06,
          1.1229410620297356e-05,
          2.392611237684742e-05,
          4.7844483574898133e-05,
          9.06274092708207e-05,
          0.0001638096371238319,
          0.00028420583065402505,
          0.0004755864476577187,
          0.0007706433576498157,
          0.0012132292241534837,
          0.0018608319689303462,
          0.0027872176510586933,
          0.00408514137934186,
          0.005868985977083281,
          0.008277141579017485,
          0.011473885706356981,
          0.015650462182722234,
          0.021024988066385406,
          0.02784074012799612,
          0.036362285842990685,
          0.0468688279394305,
          0.05964402579029398,
          0.07496144090947376,
          0.09306462704813181,
          0.11414074743785248,
          0.13828645213443097,
          0.16546458672636047,
          0.1954501294303502,
          0.22776356634774736,
          0.26158971394575564,
          0.2956797832010703,
          0.3282342508461963,
          0.3567638593355129,
          0.377925808044295,
          0.38733192337463596,
          0.37932530441275153,
          0.34672163310768955,
          0.280511013167265,
          0.1695158595382783,
          0
         ]
        },
        {
         "line": {
          "color": "#00CED1",
          "width": 6
         },
         "name": "Binomial probability",
         "type": "scatter",
         "visible": false,
         "x": [
          0,
          0.02040816326530612,
          0.04081632653061224,
          0.061224489795918366,
          0.08163265306122448,
          0.1020408163265306,
          0.12244897959183673,
          0.14285714285714285,
          0.16326530612244897,
          0.18367346938775508,
          0.2040816326530612,
          0.22448979591836732,
          0.24489795918367346,
          0.26530612244897955,
          0.2857142857142857,
          0.3061224489795918,
          0.32653061224489793,
          0.3469387755102041,
          0.36734693877551017,
          0.3877551020408163,
          0.4081632653061224,
          0.42857142857142855,
          0.44897959183673464,
          0.4693877551020408,
          0.4897959183673469,
          0.5102040816326531,
          0.5306122448979591,
          0.5510204081632653,
          0.5714285714285714,
          0.5918367346938775,
          0.6122448979591836,
          0.6326530612244897,
          0.6530612244897959,
          0.673469387755102,
          0.6938775510204082,
          0.7142857142857142,
          0.7346938775510203,
          0.7551020408163265,
          0.7755102040816326,
          0.7959183673469387,
          0.8163265306122448,
          0.836734693877551,
          0.8571428571428571,
          0.8775510204081632,
          0.8979591836734693,
          0.9183673469387754,
          0.9387755102040816,
          0.9591836734693877,
          0.9795918367346939,
          1
         ],
         "y": [
          0,
          1.2532542894196839e-17,
          1.2833323923657563e-14,
          7.400341253594296e-13,
          1.3141323697825345e-11,
          1.2238811420114097e-10,
          7.577949443680559e-10,
          3.5401331746414338e-09,
          1.3456715466573153e-08,
          4.3698275068348925e-08,
          1.2532542894196836e-07,
          3.250618863770287e-07,
          7.759820230328892e-07,
          1.7277174624268767e-06,
          3.625096370832828e-06,
          7.22689575546317e-06,
          1.3779676637770909e-05,
          2.5265530031816302e-05,
          4.47470336699893e-05,
          7.683785086305396e-05,
          0.0001283332392365756,
          0.00020904132382940202,
          0.0003328633716500774,
          0.0005191795287419825,
          0.0007946055915856785,
          0.0011951964277455188,
          0.0017691826815251217,
          0.0025803394445109355,
          0.003712098683732816,
          0.005272531447233649,
          0.007400341253594286,
          0.010272026663883962,
          0.01411038887707741,
          0.019194579328677183,
          0.025871902752579893,
          0.03457161303360772,
          0.04582096247806904,
          0.06026378990769129,
          0.07868195928376726,
          0.10201998843884465,
          0.1314132369782534,
          0.1682200535586755,
          0.21405831560130767,
          0.27084682909841135,
          0.34085209256967924,
          0.426740967464345,
          0.5316398374317901,
          0.6592008809430719,
          0.8136761257837348,
          1
         ]
        }
       ],
       "layout": {
        "height": 600,
        "sliders": [
         {
          "active": 10,
          "currentvalue": {
           "prefix": "Number of positive events: "
          },
          "pad": {
           "t": 50
          },
          "steps": [
           {
            "args": [
             {
              "visible": [
               true,
               false,
               false,
               false,
               false,
               false,
               false,
               false,
               false,
               false,
               false
              ]
             },
             {
              "title.text": "num_p 0, total events 10"
             }
            ],
            "method": "update"
           },
           {
            "args": [
             {
              "visible": [
               false,
               true,
               false,
               false,
               false,
               false,
               false,
               false,
               false,
               false,
               false
              ]
             },
             {
              "title.text": "num_p 1, total events 10"
             }
            ],
            "method": "update"
           },
           {
            "args": [
             {
              "visible": [
               false,
               false,
               true,
               false,
               false,
               false,
               false,
               false,
               false,
               false,
               false
              ]
             },
             {
              "title.text": "num_p 2, total events 10"
             }
            ],
            "method": "update"
           },
           {
            "args": [
             {
              "visible": [
               false,
               false,
               false,
               true,
               false,
               false,
               false,
               false,
               false,
               false,
               false
              ]
             },
             {
              "title.text": "num_p 3, total events 10"
             }
            ],
            "method": "update"
           },
           {
            "args": [
             {
              "visible": [
               false,
               false,
               false,
               false,
               true,
               false,
               false,
               false,
               false,
               false,
               false
              ]
             },
             {
              "title.text": "num_p 4, total events 10"
             }
            ],
            "method": "update"
           },
           {
            "args": [
             {
              "visible": [
               false,
               false,
               false,
               false,
               false,
               true,
               false,
               false,
               false,
               false,
               false
              ]
             },
             {
              "title.text": "num_p 5, total events 10"
             }
            ],
            "method": "update"
           },
           {
            "args": [
             {
              "visible": [
               false,
               false,
               false,
               false,
               false,
               false,
               true,
               false,
               false,
               false,
               false
              ]
             },
             {
              "title.text": "num_p 6, total events 10"
             }
            ],
            "method": "update"
           },
           {
            "args": [
             {
              "visible": [
               false,
               false,
               false,
               false,
               false,
               false,
               false,
               true,
               false,
               false,
               false
              ]
             },
             {
              "title.text": "num_p 7, total events 10"
             }
            ],
            "method": "update"
           },
           {
            "args": [
             {
              "visible": [
               false,
               false,
               false,
               false,
               false,
               false,
               false,
               false,
               true,
               false,
               false
              ]
             },
             {
              "title.text": "num_p 8, total events 10"
             }
            ],
            "method": "update"
           },
           {
            "args": [
             {
              "visible": [
               false,
               false,
               false,
               false,
               false,
               false,
               false,
               false,
               false,
               true,
               false
              ]
             },
             {
              "title.text": "num_p 9, total events 10"
             }
            ],
            "method": "update"
           },
           {
            "args": [
             {
              "visible": [
               false,
               false,
               false,
               false,
               false,
               false,
               false,
               false,
               false,
               false,
               true
              ]
             },
             {
              "title.text": "num_p 10, total events 10"
             }
            ],
            "method": "update"
           }
          ]
         }
        ],
        "template": {
         "data": {
          "bar": [
           {
            "error_x": {
             "color": "#2a3f5f"
            },
            "error_y": {
             "color": "#2a3f5f"
            },
            "marker": {
             "line": {
              "color": "#E5ECF6",
              "width": 0.5
             }
            },
            "type": "bar"
           }
          ],
          "barpolar": [
           {
            "marker": {
             "line": {
              "color": "#E5ECF6",
              "width": 0.5
             }
            },
            "type": "barpolar"
           }
          ],
          "carpet": [
           {
            "aaxis": {
             "endlinecolor": "#2a3f5f",
             "gridcolor": "white",
             "linecolor": "white",
             "minorgridcolor": "white",
             "startlinecolor": "#2a3f5f"
            },
            "baxis": {
             "endlinecolor": "#2a3f5f",
             "gridcolor": "white",
             "linecolor": "white",
             "minorgridcolor": "white",
             "startlinecolor": "#2a3f5f"
            },
            "type": "carpet"
           }
          ],
          "choropleth": [
           {
            "colorbar": {
             "outlinewidth": 0,
             "ticks": ""
            },
            "type": "choropleth"
           }
          ],
          "contour": [
           {
            "colorbar": {
             "outlinewidth": 0,
             "ticks": ""
            },
            "colorscale": [
             [
              0,
              "#0d0887"
             ],
             [
              0.1111111111111111,
              "#46039f"
             ],
             [
              0.2222222222222222,
              "#7201a8"
             ],
             [
              0.3333333333333333,
              "#9c179e"
             ],
             [
              0.4444444444444444,
              "#bd3786"
             ],
             [
              0.5555555555555556,
              "#d8576b"
             ],
             [
              0.6666666666666666,
              "#ed7953"
             ],
             [
              0.7777777777777778,
              "#fb9f3a"
             ],
             [
              0.8888888888888888,
              "#fdca26"
             ],
             [
              1,
              "#f0f921"
             ]
            ],
            "type": "contour"
           }
          ],
          "contourcarpet": [
           {
            "colorbar": {
             "outlinewidth": 0,
             "ticks": ""
            },
            "type": "contourcarpet"
           }
          ],
          "heatmap": [
           {
            "colorbar": {
             "outlinewidth": 0,
             "ticks": ""
            },
            "colorscale": [
             [
              0,
              "#0d0887"
             ],
             [
              0.1111111111111111,
              "#46039f"
             ],
             [
              0.2222222222222222,
              "#7201a8"
             ],
             [
              0.3333333333333333,
              "#9c179e"
             ],
             [
              0.4444444444444444,
              "#bd3786"
             ],
             [
              0.5555555555555556,
              "#d8576b"
             ],
             [
              0.6666666666666666,
              "#ed7953"
             ],
             [
              0.7777777777777778,
              "#fb9f3a"
             ],
             [
              0.8888888888888888,
              "#fdca26"
             ],
             [
              1,
              "#f0f921"
             ]
            ],
            "type": "heatmap"
           }
          ],
          "heatmapgl": [
           {
            "colorbar": {
             "outlinewidth": 0,
             "ticks": ""
            },
            "colorscale": [
             [
              0,
              "#0d0887"
             ],
             [
              0.1111111111111111,
              "#46039f"
             ],
             [
              0.2222222222222222,
              "#7201a8"
             ],
             [
              0.3333333333333333,
              "#9c179e"
             ],
             [
              0.4444444444444444,
              "#bd3786"
             ],
             [
              0.5555555555555556,
              "#d8576b"
             ],
             [
              0.6666666666666666,
              "#ed7953"
             ],
             [
              0.7777777777777778,
              "#fb9f3a"
             ],
             [
              0.8888888888888888,
              "#fdca26"
             ],
             [
              1,
              "#f0f921"
             ]
            ],
            "type": "heatmapgl"
           }
          ],
          "histogram": [
           {
            "marker": {
             "colorbar": {
              "outlinewidth": 0,
              "ticks": ""
             }
            },
            "type": "histogram"
           }
          ],
          "histogram2d": [
           {
            "colorbar": {
             "outlinewidth": 0,
             "ticks": ""
            },
            "colorscale": [
             [
              0,
              "#0d0887"
             ],
             [
              0.1111111111111111,
              "#46039f"
             ],
             [
              0.2222222222222222,
              "#7201a8"
             ],
             [
              0.3333333333333333,
              "#9c179e"
             ],
             [
              0.4444444444444444,
              "#bd3786"
             ],
             [
              0.5555555555555556,
              "#d8576b"
             ],
             [
              0.6666666666666666,
              "#ed7953"
             ],
             [
              0.7777777777777778,
              "#fb9f3a"
             ],
             [
              0.8888888888888888,
              "#fdca26"
             ],
             [
              1,
              "#f0f921"
             ]
            ],
            "type": "histogram2d"
           }
          ],
          "histogram2dcontour": [
           {
            "colorbar": {
             "outlinewidth": 0,
             "ticks": ""
            },
            "colorscale": [
             [
              0,
              "#0d0887"
             ],
             [
              0.1111111111111111,
              "#46039f"
             ],
             [
              0.2222222222222222,
              "#7201a8"
             ],
             [
              0.3333333333333333,
              "#9c179e"
             ],
             [
              0.4444444444444444,
              "#bd3786"
             ],
             [
              0.5555555555555556,
              "#d8576b"
             ],
             [
              0.6666666666666666,
              "#ed7953"
             ],
             [
              0.7777777777777778,
              "#fb9f3a"
             ],
             [
              0.8888888888888888,
              "#fdca26"
             ],
             [
              1,
              "#f0f921"
             ]
            ],
            "type": "histogram2dcontour"
           }
          ],
          "mesh3d": [
           {
            "colorbar": {
             "outlinewidth": 0,
             "ticks": ""
            },
            "type": "mesh3d"
           }
          ],
          "parcoords": [
           {
            "line": {
             "colorbar": {
              "outlinewidth": 0,
              "ticks": ""
             }
            },
            "type": "parcoords"
           }
          ],
          "pie": [
           {
            "automargin": true,
            "type": "pie"
           }
          ],
          "scatter": [
           {
            "marker": {
             "colorbar": {
              "outlinewidth": 0,
              "ticks": ""
             }
            },
            "type": "scatter"
           }
          ],
          "scatter3d": [
           {
            "line": {
             "colorbar": {
              "outlinewidth": 0,
              "ticks": ""
             }
            },
            "marker": {
             "colorbar": {
              "outlinewidth": 0,
              "ticks": ""
             }
            },
            "type": "scatter3d"
           }
          ],
          "scattercarpet": [
           {
            "marker": {
             "colorbar": {
              "outlinewidth": 0,
              "ticks": ""
             }
            },
            "type": "scattercarpet"
           }
          ],
          "scattergeo": [
           {
            "marker": {
             "colorbar": {
              "outlinewidth": 0,
              "ticks": ""
             }
            },
            "type": "scattergeo"
           }
          ],
          "scattergl": [
           {
            "marker": {
             "colorbar": {
              "outlinewidth": 0,
              "ticks": ""
             }
            },
            "type": "scattergl"
           }
          ],
          "scattermapbox": [
           {
            "marker": {
             "colorbar": {
              "outlinewidth": 0,
              "ticks": ""
             }
            },
            "type": "scattermapbox"
           }
          ],
          "scatterpolar": [
           {
            "marker": {
             "colorbar": {
              "outlinewidth": 0,
              "ticks": ""
             }
            },
            "type": "scatterpolar"
           }
          ],
          "scatterpolargl": [
           {
            "marker": {
             "colorbar": {
              "outlinewidth": 0,
              "ticks": ""
             }
            },
            "type": "scatterpolargl"
           }
          ],
          "scatterternary": [
           {
            "marker": {
             "colorbar": {
              "outlinewidth": 0,
              "ticks": ""
             }
            },
            "type": "scatterternary"
           }
          ],
          "surface": [
           {
            "colorbar": {
             "outlinewidth": 0,
             "ticks": ""
            },
            "colorscale": [
             [
              0,
              "#0d0887"
             ],
             [
              0.1111111111111111,
              "#46039f"
             ],
             [
              0.2222222222222222,
              "#7201a8"
             ],
             [
              0.3333333333333333,
              "#9c179e"
             ],
             [
              0.4444444444444444,
              "#bd3786"
             ],
             [
              0.5555555555555556,
              "#d8576b"
             ],
             [
              0.6666666666666666,
              "#ed7953"
             ],
             [
              0.7777777777777778,
              "#fb9f3a"
             ],
             [
              0.8888888888888888,
              "#fdca26"
             ],
             [
              1,
              "#f0f921"
             ]
            ],
            "type": "surface"
           }
          ],
          "table": [
           {
            "cells": {
             "fill": {
              "color": "#EBF0F8"
             },
             "line": {
              "color": "white"
             }
            },
            "header": {
             "fill": {
              "color": "#C8D4E3"
             },
             "line": {
              "color": "white"
             }
            },
            "type": "table"
           }
          ]
         },
         "layout": {
          "annotationdefaults": {
           "arrowcolor": "#2a3f5f",
           "arrowhead": 0,
           "arrowwidth": 1
          },
          "coloraxis": {
           "colorbar": {
            "outlinewidth": 0,
            "ticks": ""
           }
          },
          "colorscale": {
           "diverging": [
            [
             0,
             "#8e0152"
            ],
            [
             0.1,
             "#c51b7d"
            ],
            [
             0.2,
             "#de77ae"
            ],
            [
             0.3,
             "#f1b6da"
            ],
            [
             0.4,
             "#fde0ef"
            ],
            [
             0.5,
             "#f7f7f7"
            ],
            [
             0.6,
             "#e6f5d0"
            ],
            [
             0.7,
             "#b8e186"
            ],
            [
             0.8,
             "#7fbc41"
            ],
            [
             0.9,
             "#4d9221"
            ],
            [
             1,
             "#276419"
            ]
           ],
           "sequential": [
            [
             0,
             "#0d0887"
            ],
            [
             0.1111111111111111,
             "#46039f"
            ],
            [
             0.2222222222222222,
             "#7201a8"
            ],
            [
             0.3333333333333333,
             "#9c179e"
            ],
            [
             0.4444444444444444,
             "#bd3786"
            ],
            [
             0.5555555555555556,
             "#d8576b"
            ],
            [
             0.6666666666666666,
             "#ed7953"
            ],
            [
             0.7777777777777778,
             "#fb9f3a"
            ],
            [
             0.8888888888888888,
             "#fdca26"
            ],
            [
             1,
             "#f0f921"
            ]
           ],
           "sequentialminus": [
            [
             0,
             "#0d0887"
            ],
            [
             0.1111111111111111,
             "#46039f"
            ],
            [
             0.2222222222222222,
             "#7201a8"
            ],
            [
             0.3333333333333333,
             "#9c179e"
            ],
            [
             0.4444444444444444,
             "#bd3786"
            ],
            [
             0.5555555555555556,
             "#d8576b"
            ],
            [
             0.6666666666666666,
             "#ed7953"
            ],
            [
             0.7777777777777778,
             "#fb9f3a"
            ],
            [
             0.8888888888888888,
             "#fdca26"
            ],
            [
             1,
             "#f0f921"
            ]
           ]
          },
          "colorway": [
           "#636efa",
           "#EF553B",
           "#00cc96",
           "#ab63fa",
           "#FFA15A",
           "#19d3f3",
           "#FF6692",
           "#B6E880",
           "#FF97FF",
           "#FECB52"
          ],
          "font": {
           "color": "#2a3f5f"
          },
          "geo": {
           "bgcolor": "white",
           "lakecolor": "white",
           "landcolor": "#E5ECF6",
           "showlakes": true,
           "showland": true,
           "subunitcolor": "white"
          },
          "hoverlabel": {
           "align": "left"
          },
          "hovermode": "closest",
          "mapbox": {
           "style": "light"
          },
          "paper_bgcolor": "white",
          "plot_bgcolor": "#E5ECF6",
          "polar": {
           "angularaxis": {
            "gridcolor": "white",
            "linecolor": "white",
            "ticks": ""
           },
           "bgcolor": "#E5ECF6",
           "radialaxis": {
            "gridcolor": "white",
            "linecolor": "white",
            "ticks": ""
           }
          },
          "scene": {
           "xaxis": {
            "backgroundcolor": "#E5ECF6",
            "gridcolor": "white",
            "gridwidth": 2,
            "linecolor": "white",
            "showbackground": true,
            "ticks": "",
            "zerolinecolor": "white"
           },
           "yaxis": {
            "backgroundcolor": "#E5ECF6",
            "gridcolor": "white",
            "gridwidth": 2,
            "linecolor": "white",
            "showbackground": true,
            "ticks": "",
            "zerolinecolor": "white"
           },
           "zaxis": {
            "backgroundcolor": "#E5ECF6",
            "gridcolor": "white",
            "gridwidth": 2,
            "linecolor": "white",
            "showbackground": true,
            "ticks": "",
            "zerolinecolor": "white"
           }
          },
          "shapedefaults": {
           "line": {
            "color": "#2a3f5f"
           }
          },
          "ternary": {
           "aaxis": {
            "gridcolor": "white",
            "linecolor": "white",
            "ticks": ""
           },
           "baxis": {
            "gridcolor": "white",
            "linecolor": "white",
            "ticks": ""
           },
           "bgcolor": "#E5ECF6",
           "caxis": {
            "gridcolor": "white",
            "linecolor": "white",
            "ticks": ""
           }
          },
          "title": {
           "x": 0.05
          },
          "xaxis": {
           "automargin": true,
           "gridcolor": "white",
           "linecolor": "white",
           "ticks": "",
           "title": {
            "standoff": 15
           },
           "zerolinecolor": "white",
           "zerolinewidth": 2
          },
          "yaxis": {
           "automargin": true,
           "gridcolor": "white",
           "linecolor": "white",
           "ticks": "",
           "title": {
            "standoff": 15
           },
           "zerolinecolor": "white",
           "zerolinewidth": 2
          }
         }
        },
        "title": {
         "text": "Binomial distribution - P(theta/y) vs theta, move slider to vary num_p"
        },
        "width": 800,
        "xaxis": {
         "title": {
          "text": "Binomial distribution - P(theta/y) vs theta, move slider to vary num_p"
         }
        }
       }
      },
      "text/html": [
       "<div>\n",
       "        \n",
       "        \n",
       "            <div id=\"29914a44-9f15-4f30-8661-80a66e637403\" class=\"plotly-graph-div\" style=\"height:600px; width:800px;\"></div>\n",
       "            <script type=\"text/javascript\">\n",
       "                require([\"plotly\"], function(Plotly) {\n",
       "                    window.PLOTLYENV=window.PLOTLYENV || {};\n",
       "                    \n",
       "                if (document.getElementById(\"29914a44-9f15-4f30-8661-80a66e637403\")) {\n",
       "                    Plotly.newPlot(\n",
       "                        '29914a44-9f15-4f30-8661-80a66e637403',\n",
       "                        [{\"line\": {\"color\": \"#00CED1\", \"width\": 6}, \"name\": \"Binomial probability\", \"type\": \"scatter\", \"visible\": false, \"x\": [0.0, 0.02040816326530612, 0.04081632653061224, 0.061224489795918366, 0.08163265306122448, 0.1020408163265306, 0.12244897959183673, 0.14285714285714285, 0.16326530612244897, 0.18367346938775508, 0.2040816326530612, 0.22448979591836732, 0.24489795918367346, 0.26530612244897955, 0.2857142857142857, 0.3061224489795918, 0.32653061224489793, 0.3469387755102041, 0.36734693877551017, 0.3877551020408163, 0.4081632653061224, 0.42857142857142855, 0.44897959183673464, 0.4693877551020408, 0.4897959183673469, 0.5102040816326531, 0.5306122448979591, 0.5510204081632653, 0.5714285714285714, 0.5918367346938775, 0.6122448979591836, 0.6326530612244897, 0.6530612244897959, 0.673469387755102, 0.6938775510204082, 0.7142857142857142, 0.7346938775510203, 0.7551020408163265, 0.7755102040816326, 0.7959183673469387, 0.8163265306122448, 0.836734693877551, 0.8571428571428571, 0.8775510204081632, 0.8979591836734693, 0.9183673469387754, 0.9387755102040816, 0.9591836734693877, 0.9795918367346939, 1.0], \"y\": [1.0, 0.8136761257837348, 0.6592008809430719, 0.5316398374317907, 0.4267409674643455, 0.34085209256967963, 0.27084682909841135, 0.21405831560130795, 0.16822005355867573, 0.13141323697825358, 0.10201998843884479, 0.07868195928376726, 0.06026378990769129, 0.04582096247806911, 0.03457161303360778, 0.025871902752579935, 0.019194579328677214, 0.014110388877077435, 0.010272026663883979, 0.007400341253594299, 0.005272531447233649, 0.003712098683732816, 0.0025803394445109407, 0.0017691826815251254, 0.0011951964277455188, 0.0007946055915856785, 0.0005191795287419837, 0.0003328633716500782, 0.0002090413238294023, 0.00012833323923657576, 7.683785086305418e-05, 4.4747033669989435e-05, 2.5265530031816342e-05, 1.3779676637770932e-05, 7.226895755463182e-06, 3.625096370832842e-06, 1.7277174624268839e-06, 7.75982023032891e-07, 3.250618863770295e-07, 1.253254289419692e-07, 4.369827506834919e-08, 1.345671546657322e-08, 3.5401331746414474e-09, 7.577949443680576e-10, 1.2238811420114247e-10, 1.3141323697825501e-11, 7.400341253594379e-13, 1.2833323923657716e-14, 1.2532542894196988e-17, 0.0]}, {\"line\": {\"color\": \"#00CED1\", \"width\": 6}, \"name\": \"Binomial probability\", \"type\": \"scatter\", \"visible\": false, \"x\": [0.0, 0.02040816326530612, 0.04081632653061224, 0.061224489795918366, 0.08163265306122448, 0.1020408163265306, 0.12244897959183673, 0.14285714285714285, 0.16326530612244897, 0.18367346938775508, 0.2040816326530612, 0.22448979591836732, 0.24489795918367346, 0.26530612244897955, 0.2857142857142857, 0.3061224489795918, 0.32653061224489793, 0.3469387755102041, 0.36734693877551017, 0.3877551020408163, 0.4081632653061224, 0.42857142857142855, 0.44897959183673464, 0.4693877551020408, 0.4897959183673469, 0.5102040816326531, 0.5306122448979591, 0.5510204081632653, 0.5714285714285714, 0.5918367346938775, 0.6122448979591836, 0.6326530612244897, 0.6530612244897959, 0.673469387755102, 0.6938775510204082, 0.7142857142857142, 0.7346938775510203, 0.7551020408163265, 0.7755102040816326, 0.7959183673469387, 0.8163265306122448, 0.836734693877551, 0.8571428571428571, 0.8775510204081632, 0.8979591836734693, 0.9183673469387754, 0.9387755102040816, 0.9591836734693877, 0.9795918367346939, 1.0], \"y\": [0.0, 0.16951585953827808, 0.2805110131672646, 0.34672163310768955, 0.3793253044127515, 0.3873319233746359, 0.37792580804429493, 0.35676385933551313, 0.3282342508461965, 0.2956797832010705, 0.2615897139457558, 0.22776356634774733, 0.19545012943035014, 0.16546458672636066, 0.13828645213443108, 0.11414074743785262, 0.09306462704813193, 0.07496144090947385, 0.059644025790294056, 0.046868827939430556, 0.03636228584299068, 0.02784074012799612, 0.02102498806638544, 0.01565046218272226, 0.011473885706356981, 0.008277141579017485, 0.005868985977083293, 0.004085141379341867, 0.0027872176510586964, 0.0018608319689303484, 0.0012132292241534865, 0.0007706433576498177, 0.0004755864476577193, 0.00028420583065402543, 0.00016380963712383213, 9.062740927082102e-05, 4.784448357489831e-05, 2.3926112376847463e-05, 1.1229410620297381e-05, 4.887691728736795e-06, 1.9421455585932956e-06, 6.896566676618773e-07, 2.1240799047848676e-07, 5.430863767971078e-08, 1.0770154049700524e-08, 1.4783989160053671e-09, 1.1347189922178035e-10, 3.0158311220595603e-12, 6.015620589214548e-15, 0.0]}, {\"line\": {\"color\": \"#00CED1\", \"width\": 6}, \"name\": \"Binomial probability\", \"type\": \"scatter\", \"visible\": false, \"x\": [0.0, 0.02040816326530612, 0.04081632653061224, 0.061224489795918366, 0.08163265306122448, 0.1020408163265306, 0.12244897959183673, 0.14285714285714285, 0.16326530612244897, 0.18367346938775508, 0.2040816326530612, 0.22448979591836732, 0.24489795918367346, 0.26530612244897955, 0.2857142857142857, 0.3061224489795918, 0.32653061224489793, 0.3469387755102041, 0.36734693877551017, 0.3877551020408163, 0.4081632653061224, 0.42857142857142855, 0.44897959183673464, 0.4693877551020408, 0.4897959183673469, 0.5102040816326531, 0.5306122448979591, 0.5510204081632653, 0.5714285714285714, 0.5918367346938775, 0.6122448979591836, 0.6326530612244897, 0.6530612244897959, 0.673469387755102, 0.6938775510204082, 0.7142857142857142, 0.7346938775510203, 0.7551020408163265, 0.7755102040816326, 0.7959183673469387, 0.8163265306122448, 0.836734693877551, 0.8571428571428571, 0.8775510204081632, 0.8979591836734693, 0.9183673469387754, 0.9387755102040816, 0.9591836734693877, 0.9795918367346939, 1.0], \"y\": [0.0, 0.015892111831713567, 0.05371487486181663, 0.1017552618903002, 0.15173012176510056, 0.19806746081657514, 0.2373022515626968, 0.2675728945016349, 0.288205683669831, 0.2993757804910839, 0.3018342853220259, 0.2966920140582497, 0.28525154024970023, 0.268879953430336, 0.24891561384197597, 0.22660295447220732, 0.20305009537774232, 0.1792046946742109, 0.15584406738754253, 0.1335761596273771, 0.11284847330583314, 0.09396249793198691, 0.07709162291007993, 0.06230087830429822, 0.049567186251462156, 0.03879910115164446, 0.029855276492119345, 0.022561121708638037, 0.01672330590635218, 0.012141928597270523, 0.00862031290845898, 0.005972486021786085, 0.004028496968394797, 0.002637785365757673, 0.0016708582986630876, 0.0010195583542967359, 0.0005962158722410402, 0.0003319748092287585, 0.00017456629237007744, 8.57789898393307e-05, 3.8842911171865896e-05, 1.5905206897952036e-05, 5.735015742919141e-06, 1.7514535651706724e-06, 4.2649810036814016e-07, 7.48439451227716e-08, 7.829561046302836e-09, 3.189241411577981e-10, 1.2993740472703408e-12, 0.0]}, {\"line\": {\"color\": \"#00CED1\", \"width\": 6}, \"name\": \"Binomial probability\", \"type\": \"scatter\", \"visible\": false, \"x\": [0.0, 0.02040816326530612, 0.04081632653061224, 0.061224489795918366, 0.08163265306122448, 0.1020408163265306, 0.12244897959183673, 0.14285714285714285, 0.16326530612244897, 0.18367346938775508, 0.2040816326530612, 0.22448979591836732, 0.24489795918367346, 0.26530612244897955, 0.2857142857142857, 0.3061224489795918, 0.32653061224489793, 0.3469387755102041, 0.36734693877551017, 0.3877551020408163, 0.4081632653061224, 0.42857142857142855, 0.44897959183673464, 0.4693877551020408, 0.4897959183673469, 0.5102040816326531, 0.5306122448979591, 0.5510204081632653, 0.5714285714285714, 0.5918367346938775, 0.6122448979591836, 0.6326530612244897, 0.6530612244897959, 0.673469387755102, 0.6938775510204082, 0.7142857142857142, 0.7346938775510203, 0.7551020408163265, 0.7755102040816326, 0.7959183673469387, 0.8163265306122448, 0.836734693877551, 0.8571428571428571, 0.8775510204081632, 0.8979591836734693, 0.9183673469387754, 0.9387755102040816, 0.9591836734693877, 0.9795918367346939, 1.0], \"y\": [0.0, 0.0008828951017618651, 0.0060953049488586255, 0.0176965672852696, 0.035965658492468286, 0.060020442671689433, 0.08829851220937555, 0.11892128644517103, 0.14996068093389583, 0.17962546829465031, 0.20638241731420573, 0.2290254143607542, 0.24670403481055156, 0.2589214366366198, 0.26550998809810766, 0.2665917111437732, 0.26252941624596987, 0.25387331745513214, 0.2413069430516787, 0.22559529181512572, 0.20753742217164714, 0.18792499586397382, 0.16750772385400078, 0.14696617446142143, 0.1268919968037431, 0.10777528097679019, 0.08999851464291046, 0.07383639831917901, 0.05946064322258551, 0.04694879057611269, 0.03629605435140622, 0.027429195063017574, 0.020221474978609176, 0.014507819511667203, 0.010099410160807997, 0.00679705569531157, 0.004402824902703065, 0.00272957065365868, 0.0016081258448637432, 0.0008921014943290387, 0.0004603604287035955, 0.00021737116093867775, 9.176025188670622e-05, 3.34722236899284e-05, 1.0008488755305677e-05, 2.245318353683146e-06, 3.2014205167104886e-07, 1.9985912845888658e-08, 1.6631987805060344e-10, 0.0]}, {\"line\": {\"color\": \"#00CED1\", \"width\": 6}, \"name\": \"Binomial probability\", \"type\": \"scatter\", \"visible\": false, \"x\": [0.0, 0.02040816326530612, 0.04081632653061224, 0.061224489795918366, 0.08163265306122448, 0.1020408163265306, 0.12244897959183673, 0.14285714285714285, 0.16326530612244897, 0.18367346938775508, 0.2040816326530612, 0.22448979591836732, 0.24489795918367346, 0.26530612244897955, 0.2857142857142857, 0.3061224489795918, 0.32653061224489793, 0.3469387755102041, 0.36734693877551017, 0.3877551020408163, 0.4081632653061224, 0.42857142857142855, 0.44897959183673464, 0.4693877551020408, 0.4897959183673469, 0.5102040816326531, 0.5306122448979591, 0.5510204081632653, 0.5714285714285714, 0.5918367346938775, 0.6122448979591836, 0.6326530612244897, 0.6530612244897959, 0.673469387755102, 0.6938775510204082, 0.7142857142857142, 0.7346938775510203, 0.7551020408163265, 0.7755102040816326, 0.7959183673469387, 0.8163265306122448, 0.836734693877551, 0.8571428571428571, 0.8775510204081632, 0.8979591836734693, 0.9183673469387754, 0.9387755102040816, 0.9591836734693877, 0.9795918367346939, 1.0], \"y\": [0.0, 3.218888391840132e-05, 0.0004539056876809615, 0.0020197169184275085, 0.0055946579877172884, 0.011935883485847329, 0.02156126460926612, 0.03468537521317488, 0.05120608617254978, 0.07072752814101854, 0.09260749494868205, 0.11601945332748731, 0.14002120894652925, 0.16362396343008612, 0.18585699166867534, 0.20582448286835425, 0.22275223196627741, 0.2360228498215681, 0.24519899052025415, 0.2500347817617643, 0.25047619917267755, 0.2466515570714656, 0.23885360623626034, 0.22751494315662352, 0.21317855463028842, 0.19646535594727374, 0.17804053983706197, 0.15858044639005492, 0.1387415008526995, 0.11913255608688594, 0.10029172912888555, 0.08266854623159459, 0.06661191757659492, 0.052364161049923794, 0.04006099363787172, 0.0297371186669881, 0.02133676683617638, 0.014728308318699958, 0.009721851698494446, 0.006088592698795685, 0.003580581112139074, 0.0019495475996687646, 0.0009634826448104148, 0.00041979747211118523, 0.00015413072683170725, 4.4204705088136876e-05, 8.590478386506468e-06, 8.219206657871701e-07, 1.3970869756250674e-08, 0.0]}, {\"line\": {\"color\": \"#00CED1\", \"width\": 6}, \"name\": \"Binomial probability\", \"type\": \"scatter\", \"visible\": true, \"x\": [0.0, 0.02040816326530612, 0.04081632653061224, 0.061224489795918366, 0.08163265306122448, 0.1020408163265306, 0.12244897959183673, 0.14285714285714285, 0.16326530612244897, 0.18367346938775508, 0.2040816326530612, 0.22448979591836732, 0.24489795918367346, 0.26530612244897955, 0.2857142857142857, 0.3061224489795918, 0.32653061224489793, 0.3469387755102041, 0.36734693877551017, 0.3877551020408163, 0.4081632653061224, 0.42857142857142855, 0.44897959183673464, 0.4693877551020408, 0.4897959183673469, 0.5102040816326531, 0.5306122448979591, 0.5510204081632653, 0.5714285714285714, 0.5918367346938775, 0.6122448979591836, 0.6326530612244897, 0.6530612244897959, 0.673469387755102, 0.6938775510204082, 0.7142857142857142, 0.7346938775510203, 0.7551020408163265, 0.7755102040816326, 0.7959183673469387, 0.8163265306122448, 0.836734693877551, 0.8571428571428571, 0.8775510204081632, 0.8979591836734693, 0.9183673469387754, 0.9387755102040816, 0.9591836734693877, 0.9795918367346939, 1.0], \"y\": [0.0, 8.047220979600331e-07, 2.317816277519803e-05, 0.00015806480231171804, 0.0005967635186898439, 0.0016276204753428178, 0.003610258260156188, 0.0069370750426349746, 0.011989717737962875, 0.019096432598075003, 0.02849461383036371, 0.04030149431375874, 0.05449474077918977, 0.07090371748637063, 0.08921135600096416, 0.10896590269501108, 0.12960129859856137, 0.15046456676124967, 0.17084832887862866, 0.19002643413894088, 0.20729064759118143, 0.22198640136431907, 0.2335457483198989, 0.24151586273549264, 0.2455816949340922, 0.24558169493409224, 0.2415158627354927, 0.233545748319899, 0.22198640136431919, 0.20729064759118154, 0.19002643413894102, 0.1708483288786288, 0.15046456676124967, 0.1296012985985614, 0.10896590269501107, 0.08921135600096426, 0.07090371748637071, 0.054494740779189824, 0.0403014943137588, 0.02849461383036378, 0.019096432598075055, 0.011989717737962898, 0.006937075042634984, 0.003610258260156192, 0.0016276204753428267, 0.0005967635186898472, 0.00015806480231171882, 2.3178162775198167e-05, 8.047220979600378e-07, 0.0]}, {\"line\": {\"color\": \"#00CED1\", \"width\": 6}, \"name\": \"Binomial probability\", \"type\": \"scatter\", \"visible\": false, \"x\": [0.0, 0.02040816326530612, 0.04081632653061224, 0.061224489795918366, 0.08163265306122448, 0.1020408163265306, 0.12244897959183673, 0.14285714285714285, 0.16326530612244897, 0.18367346938775508, 0.2040816326530612, 0.22448979591836732, 0.24489795918367346, 0.26530612244897955, 0.2857142857142857, 0.3061224489795918, 0.32653061224489793, 0.3469387755102041, 0.36734693877551017, 0.3877551020408163, 0.4081632653061224, 0.42857142857142855, 0.44897959183673464, 0.4693877551020408, 0.4897959183673469, 0.5102040816326531, 0.5306122448979591, 0.5510204081632653, 0.5714285714285714, 0.5918367346938775, 0.6122448979591836, 0.6326530612244897, 0.6530612244897959, 0.673469387755102, 0.6938775510204082, 0.7142857142857142, 0.7346938775510203, 0.7551020408163265, 0.7755102040816326, 0.7959183673469387, 0.8163265306122448, 0.836734693877551, 0.8571428571428571, 0.8775510204081632, 0.8979591836734693, 0.9183673469387754, 0.9387755102040816, 0.9591836734693877, 0.9795918367346939, 1.0], \"y\": [0.0, 1.3970869756250573e-08, 8.219206657871641e-07, 8.590478386506413e-06, 4.420470508813659e-05, 0.0001541307268317062, 0.00041979747211118464, 0.000963482644810413, 0.00194954759966876, 0.003580581112139063, 0.006088592698795663, 0.009721851698494433, 0.014728308318699937, 0.021336766836176344, 0.029737118666988048, 0.0400609936378717, 0.05236416104992378, 0.06661191757659489, 0.0826685462315945, 0.10029172912888547, 0.11913255608688583, 0.13874150085269943, 0.15858044639005478, 0.17804053983706186, 0.19646535594727377, 0.21317855463028842, 0.2275149431566235, 0.23885360623626029, 0.24665155707146572, 0.25047619917267766, 0.25003478176176436, 0.2451989905202542, 0.23602284982156807, 0.2227522319662773, 0.20582448286835422, 0.18585699166867545, 0.1636239634300862, 0.1400212089465294, 0.11601945332748742, 0.09260749494868223, 0.07072752814101865, 0.05120608617254984, 0.03468537521317491, 0.02156126460926614, 0.01193588348584738, 0.00559465798771731, 0.002019716918427516, 0.00045390568768096366, 3.2188883918401476e-05, 0.0]}, {\"line\": {\"color\": \"#00CED1\", \"width\": 6}, \"name\": \"Binomial probability\", \"type\": \"scatter\", \"visible\": false, \"x\": [0.0, 0.02040816326530612, 0.04081632653061224, 0.061224489795918366, 0.08163265306122448, 0.1020408163265306, 0.12244897959183673, 0.14285714285714285, 0.16326530612244897, 0.18367346938775508, 0.2040816326530612, 0.22448979591836732, 0.24489795918367346, 0.26530612244897955, 0.2857142857142857, 0.3061224489795918, 0.32653061224489793, 0.3469387755102041, 0.36734693877551017, 0.3877551020408163, 0.4081632653061224, 0.42857142857142855, 0.44897959183673464, 0.4693877551020408, 0.4897959183673469, 0.5102040816326531, 0.5306122448979591, 0.5510204081632653, 0.5714285714285714, 0.5918367346938775, 0.6122448979591836, 0.6326530612244897, 0.6530612244897959, 0.673469387755102, 0.6938775510204082, 0.7142857142857142, 0.7346938775510203, 0.7551020408163265, 0.7755102040816326, 0.7959183673469387, 0.8163265306122448, 0.836734693877551, 0.8571428571428571, 0.8775510204081632, 0.8979591836734693, 0.9183673469387754, 0.9387755102040816, 0.9591836734693877, 0.9795918367346939, 1.0], \"y\": [0.0, 1.6631987805060204e-10, 1.998591284588849e-08, 3.2014205167104643e-07, 2.2453183536831277e-06, 1.0008488755305596e-05, 3.347222368992834e-05, 9.1760251886706e-05, 0.00021737116093867705, 0.0004603604287035938, 0.0008921014943290348, 0.0016081258448637406, 0.002729570653658676, 0.004402824902703053, 0.006797055695311554, 0.01009941016080799, 0.01450781951166719, 0.02022147497860916, 0.027429195063017525, 0.03629605435140617, 0.04694879057611264, 0.059460643222585464, 0.07383639831917893, 0.08999851464291038, 0.10777528097679019, 0.1268919968037431, 0.1469661744614213, 0.16750772385400067, 0.18792499586397388, 0.20753742217164722, 0.22559529181512566, 0.24130694305167863, 0.253873317455132, 0.26252941624596965, 0.26659171114377306, 0.26550998809810766, 0.2589214366366198, 0.24670403481055175, 0.22902541436075435, 0.20638241731420598, 0.17962546829465045, 0.14996068093389586, 0.11892128644517107, 0.08829851220937561, 0.060020442671689614, 0.03596565849246838, 0.017696567285269645, 0.006095304948858647, 0.0008828951017618682, 0.0]}, {\"line\": {\"color\": \"#00CED1\", \"width\": 6}, \"name\": \"Binomial probability\", \"type\": \"scatter\", \"visible\": false, \"x\": [0.0, 0.02040816326530612, 0.04081632653061224, 0.061224489795918366, 0.08163265306122448, 0.1020408163265306, 0.12244897959183673, 0.14285714285714285, 0.16326530612244897, 0.18367346938775508, 0.2040816326530612, 0.22448979591836732, 0.24489795918367346, 0.26530612244897955, 0.2857142857142857, 0.3061224489795918, 0.32653061224489793, 0.3469387755102041, 0.36734693877551017, 0.3877551020408163, 0.4081632653061224, 0.42857142857142855, 0.44897959183673464, 0.4693877551020408, 0.4897959183673469, 0.5102040816326531, 0.5306122448979591, 0.5510204081632653, 0.5714285714285714, 0.5918367346938775, 0.6122448979591836, 0.6326530612244897, 0.6530612244897959, 0.673469387755102, 0.6938775510204082, 0.7142857142857142, 0.7346938775510203, 0.7551020408163265, 0.7755102040816326, 0.7959183673469387, 0.8163265306122448, 0.836734693877551, 0.8571428571428571, 0.8775510204081632, 0.8979591836734693, 0.9183673469387754, 0.9387755102040816, 0.9591836734693877, 0.9795918367346939, 1.0], \"y\": [0.0, 1.2993740472703285e-12, 3.1892414115779504e-10, 7.829561046302765e-09, 7.484394512277092e-08, 4.2649810036813614e-07, 1.751453565170669e-06, 5.735015742919124e-06, 1.5905206897951975e-05, 3.884291117186572e-05, 8.577898983933026e-05, 0.00017456629237007712, 0.00033197480922875786, 0.0005962158722410383, 0.001019558354296733, 0.001670858298663086, 0.0026377853657576704, 0.004028496968394794, 0.005972486021786073, 0.008620312908458962, 0.01214192859727051, 0.01672330590635216, 0.022561121708638006, 0.0298552764921193, 0.03879910115164446, 0.04956718625146215, 0.062300878304298146, 0.07709162291007984, 0.09396249793198692, 0.11284847330583318, 0.13357615962737698, 0.15584406738754242, 0.17920469467421074, 0.20305009537774216, 0.22660295447220713, 0.24891561384197583, 0.2688799534303359, 0.28525154024970034, 0.2966920140582499, 0.301834285322026, 0.29937578049108393, 0.288205683669831, 0.2675728945016348, 0.2373022515626969, 0.19806746081657547, 0.1517301217651008, 0.10175526189030032, 0.053714874861816767, 0.015892111831713608, 0.0]}, {\"line\": {\"color\": \"#00CED1\", \"width\": 6}, \"name\": \"Binomial probability\", \"type\": \"scatter\", \"visible\": false, \"x\": [0.0, 0.02040816326530612, 0.04081632653061224, 0.061224489795918366, 0.08163265306122448, 0.1020408163265306, 0.12244897959183673, 0.14285714285714285, 0.16326530612244897, 0.18367346938775508, 0.2040816326530612, 0.22448979591836732, 0.24489795918367346, 0.26530612244897955, 0.2857142857142857, 0.3061224489795918, 0.32653061224489793, 0.3469387755102041, 0.36734693877551017, 0.3877551020408163, 0.4081632653061224, 0.42857142857142855, 0.44897959183673464, 0.4693877551020408, 0.4897959183673469, 0.5102040816326531, 0.5306122448979591, 0.5510204081632653, 0.5714285714285714, 0.5918367346938775, 0.6122448979591836, 0.6326530612244897, 0.6530612244897959, 0.673469387755102, 0.6938775510204082, 0.7142857142857142, 0.7346938775510203, 0.7551020408163265, 0.7755102040816326, 0.7959183673469387, 0.8163265306122448, 0.836734693877551, 0.8571428571428571, 0.8775510204081632, 0.8979591836734693, 0.9183673469387754, 0.9387755102040816, 0.9591836734693877, 0.9795918367346939, 1.0], \"y\": [0.0, 6.015620589214483e-15, 3.0158311220595275e-12, 1.1347189922177921e-10, 1.4783989160053514e-09, 1.0770154049700405e-08, 5.4308637679710674e-08, 2.1240799047848602e-07, 6.896566676618742e-07, 1.9421455585932855e-06, 4.887691728736766e-06, 1.1229410620297356e-05, 2.392611237684742e-05, 4.7844483574898133e-05, 9.06274092708207e-05, 0.0001638096371238319, 0.00028420583065402505, 0.0004755864476577187, 0.0007706433576498157, 0.0012132292241534837, 0.0018608319689303462, 0.0027872176510586933, 0.00408514137934186, 0.005868985977083281, 0.008277141579017485, 0.011473885706356981, 0.015650462182722234, 0.021024988066385406, 0.02784074012799612, 0.036362285842990685, 0.0468688279394305, 0.05964402579029398, 0.07496144090947376, 0.09306462704813181, 0.11414074743785248, 0.13828645213443097, 0.16546458672636047, 0.1954501294303502, 0.22776356634774736, 0.26158971394575564, 0.2956797832010703, 0.3282342508461963, 0.3567638593355129, 0.377925808044295, 0.38733192337463596, 0.37932530441275153, 0.34672163310768955, 0.280511013167265, 0.1695158595382783, 0.0]}, {\"line\": {\"color\": \"#00CED1\", \"width\": 6}, \"name\": \"Binomial probability\", \"type\": \"scatter\", \"visible\": false, \"x\": [0.0, 0.02040816326530612, 0.04081632653061224, 0.061224489795918366, 0.08163265306122448, 0.1020408163265306, 0.12244897959183673, 0.14285714285714285, 0.16326530612244897, 0.18367346938775508, 0.2040816326530612, 0.22448979591836732, 0.24489795918367346, 0.26530612244897955, 0.2857142857142857, 0.3061224489795918, 0.32653061224489793, 0.3469387755102041, 0.36734693877551017, 0.3877551020408163, 0.4081632653061224, 0.42857142857142855, 0.44897959183673464, 0.4693877551020408, 0.4897959183673469, 0.5102040816326531, 0.5306122448979591, 0.5510204081632653, 0.5714285714285714, 0.5918367346938775, 0.6122448979591836, 0.6326530612244897, 0.6530612244897959, 0.673469387755102, 0.6938775510204082, 0.7142857142857142, 0.7346938775510203, 0.7551020408163265, 0.7755102040816326, 0.7959183673469387, 0.8163265306122448, 0.836734693877551, 0.8571428571428571, 0.8775510204081632, 0.8979591836734693, 0.9183673469387754, 0.9387755102040816, 0.9591836734693877, 0.9795918367346939, 1.0], \"y\": [0.0, 1.2532542894196839e-17, 1.2833323923657563e-14, 7.400341253594296e-13, 1.3141323697825345e-11, 1.2238811420114097e-10, 7.577949443680559e-10, 3.5401331746414338e-09, 1.3456715466573153e-08, 4.3698275068348925e-08, 1.2532542894196836e-07, 3.250618863770287e-07, 7.759820230328892e-07, 1.7277174624268767e-06, 3.625096370832828e-06, 7.22689575546317e-06, 1.3779676637770909e-05, 2.5265530031816302e-05, 4.47470336699893e-05, 7.683785086305396e-05, 0.0001283332392365756, 0.00020904132382940202, 0.0003328633716500774, 0.0005191795287419825, 0.0007946055915856785, 0.0011951964277455188, 0.0017691826815251217, 0.0025803394445109355, 0.003712098683732816, 0.005272531447233649, 0.007400341253594286, 0.010272026663883962, 0.01411038887707741, 0.019194579328677183, 0.025871902752579893, 0.03457161303360772, 0.04582096247806904, 0.06026378990769129, 0.07868195928376726, 0.10201998843884465, 0.1314132369782534, 0.1682200535586755, 0.21405831560130767, 0.27084682909841135, 0.34085209256967924, 0.426740967464345, 0.5316398374317901, 0.6592008809430719, 0.8136761257837348, 1.0]}],\n",
       "                        {\"height\": 600, \"sliders\": [{\"active\": 10, \"currentvalue\": {\"prefix\": \"Number of positive events: \"}, \"pad\": {\"t\": 50}, \"steps\": [{\"args\": [{\"visible\": [true, false, false, false, false, false, false, false, false, false, false]}, {\"title.text\": \"num_p 0, total events 10\"}], \"method\": \"update\"}, {\"args\": [{\"visible\": [false, true, false, false, false, false, false, false, false, false, false]}, {\"title.text\": \"num_p 1, total events 10\"}], \"method\": \"update\"}, {\"args\": [{\"visible\": [false, false, true, false, false, false, false, false, false, false, false]}, {\"title.text\": \"num_p 2, total events 10\"}], \"method\": \"update\"}, {\"args\": [{\"visible\": [false, false, false, true, false, false, false, false, false, false, false]}, {\"title.text\": \"num_p 3, total events 10\"}], \"method\": \"update\"}, {\"args\": [{\"visible\": [false, false, false, false, true, false, false, false, false, false, false]}, {\"title.text\": \"num_p 4, total events 10\"}], \"method\": \"update\"}, {\"args\": [{\"visible\": [false, false, false, false, false, true, false, false, false, false, false]}, {\"title.text\": \"num_p 5, total events 10\"}], \"method\": \"update\"}, {\"args\": [{\"visible\": [false, false, false, false, false, false, true, false, false, false, false]}, {\"title.text\": \"num_p 6, total events 10\"}], \"method\": \"update\"}, {\"args\": [{\"visible\": [false, false, false, false, false, false, false, true, false, false, false]}, {\"title.text\": \"num_p 7, total events 10\"}], \"method\": \"update\"}, {\"args\": [{\"visible\": [false, false, false, false, false, false, false, false, true, false, false]}, {\"title.text\": \"num_p 8, total events 10\"}], \"method\": \"update\"}, {\"args\": [{\"visible\": [false, false, false, false, false, false, false, false, false, true, false]}, {\"title.text\": \"num_p 9, total events 10\"}], \"method\": \"update\"}, {\"args\": [{\"visible\": [false, false, false, false, false, false, false, false, false, false, true]}, {\"title.text\": \"num_p 10, total events 10\"}], \"method\": \"update\"}]}], \"template\": {\"data\": {\"bar\": [{\"error_x\": {\"color\": \"#2a3f5f\"}, \"error_y\": {\"color\": \"#2a3f5f\"}, \"marker\": {\"line\": {\"color\": \"#E5ECF6\", \"width\": 0.5}}, \"type\": \"bar\"}], \"barpolar\": [{\"marker\": {\"line\": {\"color\": \"#E5ECF6\", \"width\": 0.5}}, \"type\": \"barpolar\"}], \"carpet\": [{\"aaxis\": {\"endlinecolor\": \"#2a3f5f\", \"gridcolor\": \"white\", \"linecolor\": \"white\", \"minorgridcolor\": \"white\", \"startlinecolor\": \"#2a3f5f\"}, \"baxis\": {\"endlinecolor\": \"#2a3f5f\", \"gridcolor\": \"white\", \"linecolor\": \"white\", \"minorgridcolor\": \"white\", \"startlinecolor\": \"#2a3f5f\"}, \"type\": \"carpet\"}], \"choropleth\": [{\"colorbar\": {\"outlinewidth\": 0, \"ticks\": \"\"}, \"type\": \"choropleth\"}], \"contour\": [{\"colorbar\": {\"outlinewidth\": 0, \"ticks\": \"\"}, \"colorscale\": [[0.0, \"#0d0887\"], [0.1111111111111111, \"#46039f\"], [0.2222222222222222, \"#7201a8\"], [0.3333333333333333, \"#9c179e\"], [0.4444444444444444, \"#bd3786\"], [0.5555555555555556, \"#d8576b\"], [0.6666666666666666, \"#ed7953\"], [0.7777777777777778, \"#fb9f3a\"], [0.8888888888888888, \"#fdca26\"], [1.0, \"#f0f921\"]], \"type\": \"contour\"}], \"contourcarpet\": [{\"colorbar\": {\"outlinewidth\": 0, \"ticks\": \"\"}, \"type\": \"contourcarpet\"}], \"heatmap\": [{\"colorbar\": {\"outlinewidth\": 0, \"ticks\": \"\"}, \"colorscale\": [[0.0, \"#0d0887\"], [0.1111111111111111, \"#46039f\"], [0.2222222222222222, \"#7201a8\"], [0.3333333333333333, \"#9c179e\"], [0.4444444444444444, \"#bd3786\"], [0.5555555555555556, \"#d8576b\"], [0.6666666666666666, \"#ed7953\"], [0.7777777777777778, \"#fb9f3a\"], [0.8888888888888888, \"#fdca26\"], [1.0, \"#f0f921\"]], \"type\": \"heatmap\"}], \"heatmapgl\": [{\"colorbar\": {\"outlinewidth\": 0, \"ticks\": \"\"}, \"colorscale\": [[0.0, \"#0d0887\"], [0.1111111111111111, \"#46039f\"], [0.2222222222222222, \"#7201a8\"], [0.3333333333333333, \"#9c179e\"], [0.4444444444444444, \"#bd3786\"], [0.5555555555555556, \"#d8576b\"], [0.6666666666666666, \"#ed7953\"], [0.7777777777777778, \"#fb9f3a\"], [0.8888888888888888, \"#fdca26\"], [1.0, \"#f0f921\"]], \"type\": \"heatmapgl\"}], \"histogram\": [{\"marker\": {\"colorbar\": {\"outlinewidth\": 0, \"ticks\": \"\"}}, \"type\": \"histogram\"}], \"histogram2d\": [{\"colorbar\": {\"outlinewidth\": 0, \"ticks\": \"\"}, \"colorscale\": [[0.0, \"#0d0887\"], [0.1111111111111111, \"#46039f\"], [0.2222222222222222, \"#7201a8\"], [0.3333333333333333, \"#9c179e\"], [0.4444444444444444, \"#bd3786\"], [0.5555555555555556, \"#d8576b\"], [0.6666666666666666, \"#ed7953\"], [0.7777777777777778, \"#fb9f3a\"], [0.8888888888888888, \"#fdca26\"], [1.0, \"#f0f921\"]], \"type\": \"histogram2d\"}], \"histogram2dcontour\": [{\"colorbar\": {\"outlinewidth\": 0, \"ticks\": \"\"}, \"colorscale\": [[0.0, \"#0d0887\"], [0.1111111111111111, \"#46039f\"], [0.2222222222222222, \"#7201a8\"], [0.3333333333333333, \"#9c179e\"], [0.4444444444444444, \"#bd3786\"], [0.5555555555555556, \"#d8576b\"], [0.6666666666666666, \"#ed7953\"], [0.7777777777777778, \"#fb9f3a\"], [0.8888888888888888, \"#fdca26\"], [1.0, \"#f0f921\"]], \"type\": \"histogram2dcontour\"}], \"mesh3d\": [{\"colorbar\": {\"outlinewidth\": 0, \"ticks\": \"\"}, \"type\": \"mesh3d\"}], \"parcoords\": [{\"line\": {\"colorbar\": {\"outlinewidth\": 0, \"ticks\": \"\"}}, \"type\": \"parcoords\"}], \"pie\": [{\"automargin\": true, \"type\": \"pie\"}], \"scatter\": [{\"marker\": {\"colorbar\": {\"outlinewidth\": 0, \"ticks\": \"\"}}, \"type\": \"scatter\"}], \"scatter3d\": [{\"line\": {\"colorbar\": {\"outlinewidth\": 0, \"ticks\": \"\"}}, \"marker\": {\"colorbar\": {\"outlinewidth\": 0, \"ticks\": \"\"}}, \"type\": \"scatter3d\"}], \"scattercarpet\": [{\"marker\": {\"colorbar\": {\"outlinewidth\": 0, \"ticks\": \"\"}}, \"type\": \"scattercarpet\"}], \"scattergeo\": [{\"marker\": {\"colorbar\": {\"outlinewidth\": 0, \"ticks\": \"\"}}, \"type\": \"scattergeo\"}], \"scattergl\": [{\"marker\": {\"colorbar\": {\"outlinewidth\": 0, \"ticks\": \"\"}}, \"type\": \"scattergl\"}], \"scattermapbox\": [{\"marker\": {\"colorbar\": {\"outlinewidth\": 0, \"ticks\": \"\"}}, \"type\": \"scattermapbox\"}], \"scatterpolar\": [{\"marker\": {\"colorbar\": {\"outlinewidth\": 0, \"ticks\": \"\"}}, \"type\": \"scatterpolar\"}], \"scatterpolargl\": [{\"marker\": {\"colorbar\": {\"outlinewidth\": 0, \"ticks\": \"\"}}, \"type\": \"scatterpolargl\"}], \"scatterternary\": [{\"marker\": {\"colorbar\": {\"outlinewidth\": 0, \"ticks\": \"\"}}, \"type\": \"scatterternary\"}], \"surface\": [{\"colorbar\": {\"outlinewidth\": 0, \"ticks\": \"\"}, \"colorscale\": [[0.0, \"#0d0887\"], [0.1111111111111111, \"#46039f\"], [0.2222222222222222, \"#7201a8\"], [0.3333333333333333, \"#9c179e\"], [0.4444444444444444, \"#bd3786\"], [0.5555555555555556, \"#d8576b\"], [0.6666666666666666, \"#ed7953\"], [0.7777777777777778, \"#fb9f3a\"], [0.8888888888888888, \"#fdca26\"], [1.0, \"#f0f921\"]], \"type\": \"surface\"}], \"table\": [{\"cells\": {\"fill\": {\"color\": \"#EBF0F8\"}, \"line\": {\"color\": \"white\"}}, \"header\": {\"fill\": {\"color\": \"#C8D4E3\"}, \"line\": {\"color\": \"white\"}}, \"type\": \"table\"}]}, \"layout\": {\"annotationdefaults\": {\"arrowcolor\": \"#2a3f5f\", \"arrowhead\": 0, \"arrowwidth\": 1}, \"coloraxis\": {\"colorbar\": {\"outlinewidth\": 0, \"ticks\": \"\"}}, \"colorscale\": {\"diverging\": [[0, \"#8e0152\"], [0.1, \"#c51b7d\"], [0.2, \"#de77ae\"], [0.3, \"#f1b6da\"], [0.4, \"#fde0ef\"], [0.5, \"#f7f7f7\"], [0.6, \"#e6f5d0\"], [0.7, \"#b8e186\"], [0.8, \"#7fbc41\"], [0.9, \"#4d9221\"], [1, \"#276419\"]], \"sequential\": [[0.0, \"#0d0887\"], [0.1111111111111111, \"#46039f\"], [0.2222222222222222, \"#7201a8\"], [0.3333333333333333, \"#9c179e\"], [0.4444444444444444, \"#bd3786\"], [0.5555555555555556, \"#d8576b\"], [0.6666666666666666, \"#ed7953\"], [0.7777777777777778, \"#fb9f3a\"], [0.8888888888888888, \"#fdca26\"], [1.0, \"#f0f921\"]], \"sequentialminus\": [[0.0, \"#0d0887\"], [0.1111111111111111, \"#46039f\"], [0.2222222222222222, \"#7201a8\"], [0.3333333333333333, \"#9c179e\"], [0.4444444444444444, \"#bd3786\"], [0.5555555555555556, \"#d8576b\"], [0.6666666666666666, \"#ed7953\"], [0.7777777777777778, \"#fb9f3a\"], [0.8888888888888888, \"#fdca26\"], [1.0, \"#f0f921\"]]}, \"colorway\": [\"#636efa\", \"#EF553B\", \"#00cc96\", \"#ab63fa\", \"#FFA15A\", \"#19d3f3\", \"#FF6692\", \"#B6E880\", \"#FF97FF\", \"#FECB52\"], \"font\": {\"color\": \"#2a3f5f\"}, \"geo\": {\"bgcolor\": \"white\", \"lakecolor\": \"white\", \"landcolor\": \"#E5ECF6\", \"showlakes\": true, \"showland\": true, \"subunitcolor\": \"white\"}, \"hoverlabel\": {\"align\": \"left\"}, \"hovermode\": \"closest\", \"mapbox\": {\"style\": \"light\"}, \"paper_bgcolor\": \"white\", \"plot_bgcolor\": \"#E5ECF6\", \"polar\": {\"angularaxis\": {\"gridcolor\": \"white\", \"linecolor\": \"white\", \"ticks\": \"\"}, \"bgcolor\": \"#E5ECF6\", \"radialaxis\": {\"gridcolor\": \"white\", \"linecolor\": \"white\", \"ticks\": \"\"}}, \"scene\": {\"xaxis\": {\"backgroundcolor\": \"#E5ECF6\", \"gridcolor\": \"white\", \"gridwidth\": 2, \"linecolor\": \"white\", \"showbackground\": true, \"ticks\": \"\", \"zerolinecolor\": \"white\"}, \"yaxis\": {\"backgroundcolor\": \"#E5ECF6\", \"gridcolor\": \"white\", \"gridwidth\": 2, \"linecolor\": \"white\", \"showbackground\": true, \"ticks\": \"\", \"zerolinecolor\": \"white\"}, \"zaxis\": {\"backgroundcolor\": \"#E5ECF6\", \"gridcolor\": \"white\", \"gridwidth\": 2, \"linecolor\": \"white\", \"showbackground\": true, \"ticks\": \"\", \"zerolinecolor\": \"white\"}}, \"shapedefaults\": {\"line\": {\"color\": \"#2a3f5f\"}}, \"ternary\": {\"aaxis\": {\"gridcolor\": \"white\", \"linecolor\": \"white\", \"ticks\": \"\"}, \"baxis\": {\"gridcolor\": \"white\", \"linecolor\": \"white\", \"ticks\": \"\"}, \"bgcolor\": \"#E5ECF6\", \"caxis\": {\"gridcolor\": \"white\", \"linecolor\": \"white\", \"ticks\": \"\"}}, \"title\": {\"x\": 0.05}, \"xaxis\": {\"automargin\": true, \"gridcolor\": \"white\", \"linecolor\": \"white\", \"ticks\": \"\", \"title\": {\"standoff\": 15}, \"zerolinecolor\": \"white\", \"zerolinewidth\": 2}, \"yaxis\": {\"automargin\": true, \"gridcolor\": \"white\", \"linecolor\": \"white\", \"ticks\": \"\", \"title\": {\"standoff\": 15}, \"zerolinecolor\": \"white\", \"zerolinewidth\": 2}}}, \"title\": {\"text\": \"Binomial distribution - P(theta/y) vs theta, move slider to vary num_p\"}, \"width\": 800, \"xaxis\": {\"title\": {\"text\": \"Binomial distribution - P(theta/y) vs theta, move slider to vary num_p\"}}},\n",
       "                        {\"responsive\": true}\n",
       "                    ).then(function(){\n",
       "                            \n",
       "var gd = document.getElementById('29914a44-9f15-4f30-8661-80a66e637403');\n",
       "var x = new MutationObserver(function (mutations, observer) {{\n",
       "        var display = window.getComputedStyle(gd).display;\n",
       "        if (!display || display === 'none') {{\n",
       "            console.log([gd, 'removed!']);\n",
       "            Plotly.purge(gd);\n",
       "            observer.disconnect();\n",
       "        }}\n",
       "}});\n",
       "\n",
       "// Listen for the removal of the full notebook cells\n",
       "var notebookContainer = gd.closest('#notebook-container');\n",
       "if (notebookContainer) {{\n",
       "    x.observe(notebookContainer, {childList: true});\n",
       "}}\n",
       "\n",
       "// Listen for the clearing of the current output cell\n",
       "var outputEl = gd.closest('.output');\n",
       "if (outputEl) {{\n",
       "    x.observe(outputEl, {childList: true});\n",
       "}}\n",
       "\n",
       "                        })\n",
       "                };\n",
       "                });\n",
       "            </script>\n",
       "        </div>"
      ]
     },
     "metadata": {},
     "output_type": "display_data"
    }
   ],
   "source": [
    "def binomial_vector(num_p, args):\n",
    "    total_events = args['total']\n",
    "    theta_range_steps = args['theta_range_steps']\n",
    "    theta =  np.linspace(0,1,theta_range_steps+1)\n",
    "    ncr = comb(int(total_events), int(num_p))\n",
    "    p_theta = ncr * theta**num_p * (1 - theta)**(total_events - num_p)\n",
    "    return(p_theta)\n",
    "\n",
    "def binomial_vector_over_y(theta, args):\n",
    "    total_events = args['total']\n",
    "    y_range_steps = args['y_range_steps']\n",
    "    y =  np.linspace(0, total_events , y_range_steps + 1)\n",
    "    p_theta = [comb(int(total_events), int(yelem)) * theta** yelem * (1 - theta)**(total_events - yelem) for yelem in y]\n",
    "    return(p_theta)\n",
    "   \n",
    "def binomial_likelihood(num_p, total_events, theta):\n",
    "    p_y_given_theta = theta**num_p * (1 - theta)**(total_events - num_p)\n",
    "    return(p_y_given_theta)\n",
    "\n",
    "# y_end = total, is how far you want to compute y values\n",
    "# theta_range_steps is number of steps that define the increment of theta parameter on the slider\n",
    "# y_range_steps should be total since discrete values are used for the binomial distribution\n",
    "fig = plotter_over_y(theta_end = 1, theta_range_steps=20, y_end=10,  y_range_steps=10,\n",
    "                     function=binomial_vector_over_y, \n",
    "                     function_args={'y_range_steps': 10, 'total': 10},\n",
    "                     plotting_args={'title': 'Binomial distribution - P(y/theta) vs y, move slider to vary the parameter theta'})\n",
    "pio.show(fig)\n",
    "\n",
    "fig = plotter(total=10, theta_range_steps=50, function=binomial_vector, \n",
    "              function_args={'total':10, 'theta_range_steps': 50},\n",
    "              plotting_args={'title':'Binomial distribution - P(theta/y) vs theta, move slider to vary num_p'})\n",
    "pio.show(fig)\n"
   ]
  },
  {
   "cell_type": "markdown",
   "metadata": {},
   "source": [
    "### Beta distribution is the conjugate prior of a binomial distribution. A class of conjugate priors for a sampling model P(y | $\\theta$) is one that makes the posterior P($\\theta$ |y) have the same form as the prior\n",
    "\n",
    "## beta(a,b| $\\theta$) = $ \\dfrac{\\gamma(a + b)}{\\gamma(a) \\gamma(b)} \\cdot \\theta^{a - 1} \\cdot (1 - \\theta)^{b -1}$\n",
    "\n",
    "#### This means that the posterior, computed from a likelihood function that has a binomial form,  will have a beta distribution. If we start with a uniform prior for p($\\theta$), this posterior can be analytically computed as beta(a, b) where\n",
    "#### a corresponds to num_p + 1 = number of positive + 1\n",
    "#### b corresponds to total - num_p + 1 = number of negative + 1\n",
    "#### a and b are pseudo, counts\n",
    "#### a = 1 and b = 1 gives you a uniform distribution\n",
    "#### If a beta distribution beta(a,b) is used as a prior for a binomial sampling model, the posterior is then given by beta(a+1,b+1)\n",
    "#### Conjugate priors make calculating the posterior easy, but it may not accurately reflect our prior information always\n"
   ]
  },
  {
   "cell_type": "code",
   "execution_count": 204,
   "metadata": {},
   "outputs": [
    {
     "data": {
      "application/vnd.plotly.v1+json": {
       "config": {
        "plotlyServerURL": "https://plot.ly"
       },
       "data": [
        {
         "line": {
          "color": "#00CED1",
          "width": 6
         },
         "name": "Binomial probability",
         "type": "scatter",
         "visible": false,
         "x": [
          0,
          0.02040816326530612,
          0.04081632653061224,
          0.061224489795918366,
          0.08163265306122448,
          0.1020408163265306,
          0.12244897959183673,
          0.14285714285714285,
          0.16326530612244897,
          0.18367346938775508,
          0.2040816326530612,
          0.22448979591836732,
          0.24489795918367346,
          0.26530612244897955,
          0.2857142857142857,
          0.3061224489795918,
          0.32653061224489793,
          0.3469387755102041,
          0.36734693877551017,
          0.3877551020408163,
          0.4081632653061224,
          0.42857142857142855,
          0.44897959183673464,
          0.4693877551020408,
          0.4897959183673469,
          0.5102040816326531,
          0.5306122448979591,
          0.5510204081632653,
          0.5714285714285714,
          0.5918367346938775,
          0.6122448979591836,
          0.6326530612244897,
          0.6530612244897959,
          0.673469387755102,
          0.6938775510204082,
          0.7142857142857142,
          0.7346938775510203,
          0.7551020408163265,
          0.7755102040816326,
          0.7959183673469387,
          0.8163265306122448,
          0.836734693877551,
          0.8571428571428571,
          0.8775510204081632,
          0.8979591836734693,
          0.9183673469387754,
          0.9387755102040816,
          0.9591836734693877,
          0.9795918367346939,
          1
         ],
         "y": [
          11,
          8.987800875763014,
          7.313158995906509,
          5.9247662550438935,
          4.778272996459956,
          3.835462841100001,
          3.0635107361034235,
          2.4343173677683376,
          1.9239135164257894,
          1.5119283446955678,
          1.1811160064000006,
          0.9169353414359823,
          0.7071777825573936,
          0.5416389437091464,
          0.41182968668869346,
          0.3107227738999998,
          0.23253151021729296,
          0.17251705690018734,
          0.1268213655067532,
          0.09232293024551741,
          0.06651279359999997,
          0.0473884627589347,
          0.03336360380057259,
          0.023191577119141278,
          0.015901061654396278,
          0.0107421875,
          0.00714175683193995,
          0.00466628222310542,
          0.0029917097032259956,
          0.0018788217933845624,
          0.0011534336000000006,
          0.0006906033032787047,
          0.0004021774284069272,
          0.00022708155294657515,
          0.00012384898975268844,
          6.495389999999986e-05,
          3.258164433649667e-05,
          1.5528380521871365e-05,
          6.9743719061913575e-06,
          2.9215915070566363e-06,
          1.1263999999999976e-06,
          3.9275139492863864e-07,
          1.2094627905536023e-07,
          3.181801204736003e-08,
          6.8109100646399975e-09,
          1.0999999999999976e-09,
          1.181116006399994e-10,
          6.651279359999936e-12,
          1.1534336000000103e-13,
          1.12640000000001e-16,
          0
         ]
        },
        {
         "line": {
          "color": "#00CED1",
          "width": 6
         },
         "name": "Binomial probability",
         "type": "scatter",
         "visible": false,
         "x": [
          0,
          0.02040816326530612,
          0.04081632653061224,
          0.061224489795918366,
          0.08163265306122448,
          0.1020408163265306,
          0.12244897959183673,
          0.14285714285714285,
          0.16326530612244897,
          0.18367346938775508,
          0.2040816326530612,
          0.22448979591836732,
          0.24489795918367346,
          0.26530612244897955,
          0.2857142857142857,
          0.3061224489795918,
          0.32653061224489793,
          0.3469387755102041,
          0.36734693877551017,
          0.3877551020408163,
          0.4081632653061224,
          0.42857142857142855,
          0.44897959183673464,
          0.4693877551020408,
          0.4897959183673469,
          0.5102040816326531,
          0.5306122448979591,
          0.5510204081632653,
          0.5714285714285714,
          0.5918367346938775,
          0.6122448979591836,
          0.6326530612244897,
          0.6530612244897959,
          0.673469387755102,
          0.6938775510204082,
          0.7142857142857142,
          0.7346938775510203,
          0.7551020408163265,
          0.7755102040816326,
          0.7959183673469387,
          0.8163265306122448,
          0.836734693877551,
          0.8571428571428571,
          0.8775510204081632,
          0.8979591836734693,
          0.9183673469387754,
          0.9387755102040816,
          0.9591836734693877,
          0.9795918367346939,
          1
         ],
         "y": [
          0,
          1.8342450766863296,
          3.0471495816277123,
          3.7817656947088683,
          4.1550199969217,
          4.261625379000001,
          4.177514640141032,
          3.9628422265996197,
          3.664597174144361,
          3.318867098112221,
          2.9527900160000016,
          2.5862278861014882,
          2.233192997549664,
          1.9030557481672712,
          1.6015598926782526,
          1.3316690309999992,
          1.09426593043432,
          0.8887242325161168,
          0.7133701809754868,
          0.5658502176338164,
          0.4434186239999999,
          0.34315783377159603,
          0.26214260129021316,
          0.19755787916305534,
          0.14677903065596562,
          0.107421875,
          0.07736903234601614,
          0.054778095662541895,
          0.03807630531378541,
          0.025945634289596335,
          0.01730150400000001,
          0.011267738106126236,
          0.007149820949456484,
          0.004408053674845283,
          0.0026317910322446302,
          0.0015155909999999973,
          0.0008378137115099143,
          0.00044196159946864654,
          0.0002208551103627263,
          0.00010358369888655349,
          4.505599999999991e-05,
          1.7892007991193547e-05,
          6.349679650406411e-06,
          1.9545350257664017e-06,
          4.994667380735998e-07,
          9.89999999999998e-08,
          1.3582834073599938e-08,
          1.042033766399991e-09,
          2.7682406400000218e-11,
          5.519360000000044e-14,
          0
         ]
        },
        {
         "line": {
          "color": "#00CED1",
          "width": 6
         },
         "name": "Binomial probability",
         "type": "scatter",
         "visible": false,
         "x": [
          0,
          0.02040816326530612,
          0.04081632653061224,
          0.061224489795918366,
          0.08163265306122448,
          0.1020408163265306,
          0.12244897959183673,
          0.14285714285714285,
          0.16326530612244897,
          0.18367346938775508,
          0.2040816326530612,
          0.22448979591836732,
          0.24489795918367346,
          0.26530612244897955,
          0.2857142857142857,
          0.3061224489795918,
          0.32653061224489793,
          0.3469387755102041,
          0.36734693877551017,
          0.3877551020408163,
          0.4081632653061224,
          0.42857142857142855,
          0.44897959183673464,
          0.4693877551020408,
          0.4897959183673469,
          0.5102040816326531,
          0.5306122448979591,
          0.5510204081632653,
          0.5714285714285714,
          0.5918367346938775,
          0.6122448979591836,
          0.6326530612244897,
          0.6530612244897959,
          0.673469387755102,
          0.6938775510204082,
          0.7142857142857142,
          0.7346938775510203,
          0.7551020408163265,
          0.7755102040816326,
          0.7959183673469387,
          0.8163265306122448,
          0.836734693877551,
          0.8571428571428571,
          0.8775510204081632,
          0.8979591836734693,
          0.9183673469387754,
          0.9387755102040816,
          0.9591836734693877,
          0.9795918367346939,
          1
         ],
         "y": [
          0,
          0.16845107847119353,
          0.5713405465551961,
          1.0862518484802068,
          1.6258773900997958,
          2.130812689500001,
          2.563474892813815,
          2.9030123287880936,
          3.141083292123738,
          3.2783931091108527,
          3.321888768000002,
          3.282520009282658,
          3.173484785991628,
          3.008885439669875,
          2.802729812186942,
          2.568218845499999,
          2.317269029155031,
          2.0602243571964527,
          1.8057182705942008,
          1.5606514066997195,
          1.3302558719999997,
          1.118221216945373,
          0.9268613402761107,
          0.7573052034583787,
          0.6096975119555496,
          0.4833984375,
          0.3771740326868287,
          0.2893712444782105,
          0.21807338497895284,
          0.16123358451392006,
          0.11678515200000006,
          0.0827289192528742,
          0.057198567595651874,
          0.03850564533614851,
          0.02516650174583928,
          0.015913705499999972,
          0.009694701518900437,
          0.005660508177809972,
          0.00314718532266885,
          0.0016526308322354674,
          0.0008110079999999987,
          0.0003667861638194679,
          0.0001500111817408514,
          5.402893249797123e-05,
          1.6482402356428793e-05,
          4.0094999999999935e-06,
          7.029116633087972e-07,
          7.346338053119944e-08,
          2.9896998912000214e-09,
          1.2170188800000086e-11,
          0
         ]
        },
        {
         "line": {
          "color": "#00CED1",
          "width": 6
         },
         "name": "Binomial probability",
         "type": "scatter",
         "visible": false,
         "x": [
          0,
          0.02040816326530612,
          0.04081632653061224,
          0.061224489795918366,
          0.08163265306122448,
          0.1020408163265306,
          0.12244897959183673,
          0.14285714285714285,
          0.16326530612244897,
          0.18367346938775508,
          0.2040816326530612,
          0.22448979591836732,
          0.24489795918367346,
          0.26530612244897955,
          0.2857142857142857,
          0.3061224489795918,
          0.32653061224489793,
          0.3469387755102041,
          0.36734693877551017,
          0.3877551020408163,
          0.4081632653061224,
          0.42857142857142855,
          0.44897959183673464,
          0.4693877551020408,
          0.4897959183673469,
          0.5102040816326531,
          0.5306122448979591,
          0.5510204081632653,
          0.5714285714285714,
          0.5918367346938775,
          0.6122448979591836,
          0.6326530612244897,
          0.6530612244897959,
          0.673469387755102,
          0.6938775510204082,
          0.7142857142857142,
          0.7346938775510203,
          0.7551020408163265,
          0.7755102040816326,
          0.7959183673469387,
          0.8163265306122448,
          0.836734693877551,
          0.8571428571428571,
          0.8775510204081632,
          0.8979591836734693,
          0.9183673469387754,
          0.9387755102040816,
          0.9591836734693877,
          0.9795918367346939,
          1
         ],
         "y": [
          0,
          0.009167405631085365,
          0.06348228295057735,
          0.1848939316562054,
          0.37701504697966287,
          0.6313519080000003,
          0.9321726882959325,
          1.2602224062956067,
          1.595470878539042,
          1.9190593809429377,
          2.214592512000001,
          2.4689039386057594,
          2.6724082408350545,
          2.819135907438442,
          2.906534620045718,
          2.935107251999998,
          2.9079454483514118,
          2.8302071977648238,
          2.7085774058913006,
          2.550742084068359,
          2.364899328,
          2.1593237292738237,
          1.941995189149946,
          1.7202982399548354,
          1.5007938755828907,
          1.2890625,
          1.089613872206394,
          0.9058578088013545,
          0.7401278520497795,
          0.5937490731306262,
          0.46714060800000007,
          0.35994336797741755,
          0.27116357971272004,
          0.1993233405635923,
          0.14261017655975594,
          0.09901861199999987,
          0.06647795327246012,
          0.042961805657224406,
          0.026576231613648076,
          0.01562487332295351,
          0.008650751999999989,
          0.004455772656769833,
          0.0021001565443719197,
          0.0008850453704429572,
          0.0003223225349701631,
          9.622799999999987e-05,
          2.1555957674803127e-05,
          3.0691367866367797e-06,
          1.9134079303680113e-07,
          1.5902380032000097e-09,
          0
         ]
        },
        {
         "line": {
          "color": "#00CED1",
          "width": 6
         },
         "name": "Binomial probability",
         "type": "scatter",
         "visible": false,
         "x": [
          0,
          0.02040816326530612,
          0.04081632653061224,
          0.061224489795918366,
          0.08163265306122448,
          0.1020408163265306,
          0.12244897959183673,
          0.14285714285714285,
          0.16326530612244897,
          0.18367346938775508,
          0.2040816326530612,
          0.22448979591836732,
          0.24489795918367346,
          0.26530612244897955,
          0.2857142857142857,
          0.3061224489795918,
          0.32653061224489793,
          0.3469387755102041,
          0.36734693877551017,
          0.3877551020408163,
          0.4081632653061224,
          0.42857142857142855,
          0.44897959183673464,
          0.4693877551020408,
          0.4897959183673469,
          0.5102040816326531,
          0.5306122448979591,
          0.5510204081632653,
          0.5714285714285714,
          0.5918367346938775,
          0.6122448979591836,
          0.6326530612244897,
          0.6530612244897959,
          0.673469387755102,
          0.6938775510204082,
          0.7142857142857142,
          0.7346938775510203,
          0.7551020408163265,
          0.7755102040816326,
          0.7959183673469387,
          0.8163265306122448,
          0.836734693877551,
          0.8571428571428571,
          0.8775510204081632,
          0.8979591836734693,
          0.9183673469387754,
          0.9387755102040816,
          0.9591836734693877,
          0.9795918367346939,
          1
         ],
         "y": [
          0,
          0.00032740734396733437,
          0.004628916465146265,
          0.020653045557342094,
          0.057371854975166066,
          0.12276287100000004,
          0.22245030061607482,
          0.3590168483051438,
          0.5318236261796805,
          0.7371996402402747,
          0.9688842240000005,
          1.218625662004125,
          1.4768571857246355,
          1.7333876187628259,
          1.9780582830866698,
          2.201330438999999,
          2.3947786045246917,
          2.551474670712229,
          2.666255883924249,
          2.7358765901700943,
          2.7590492159999997,
          2.7363843810625177,
          2.6702433850811755,
          2.564518672525264,
          2.4243593374800545,
          2.255859375,
          2.065726299391289,
          1.860947020254957,
          1.6484665795654183,
          1.434893593399013,
          1.2262440960000003,
          1.0277330375144684,
          0.8436200257729066,
          0.6771131127969091,
          0.5303315940815927,
          0.4043259989999996,
          0.2991507897260705,
          0.2139828397157908,
          0.1472766168589664,
          0.09694523675377976,
          0.06055526399999993,
          0.03552240979147064,
          0.019295188251417007,
          0.009514237732261791,
          0.004136472532117093,
          0.0015155909999999982,
          0.00043381364820541313,
          8.414550023362513e-05,
          8.03631330754564e-06,
          1.363629087744007e-07,
          0
         ]
        },
        {
         "line": {
          "color": "#00CED1",
          "width": 6
         },
         "name": "Binomial probability",
         "type": "scatter",
         "visible": true,
         "x": [
          0,
          0.02040816326530612,
          0.04081632653061224,
          0.061224489795918366,
          0.08163265306122448,
          0.1020408163265306,
          0.12244897959183673,
          0.14285714285714285,
          0.16326530612244897,
          0.18367346938775508,
          0.2040816326530612,
          0.22448979591836732,
          0.24489795918367346,
          0.26530612244897955,
          0.2857142857142857,
          0.3061224489795918,
          0.32653061224489793,
          0.3469387755102041,
          0.36734693877551017,
          0.3877551020408163,
          0.4081632653061224,
          0.42857142857142855,
          0.44897959183673464,
          0.4693877551020408,
          0.4897959183673469,
          0.5102040816326531,
          0.5306122448979591,
          0.5510204081632653,
          0.5714285714285714,
          0.5918367346938775,
          0.6122448979591836,
          0.6326530612244897,
          0.6530612244897959,
          0.673469387755102,
          0.6938775510204082,
          0.7142857142857142,
          0.7346938775510203,
          0.7551020408163265,
          0.7755102040816326,
          0.7959183673469387,
          0.8163265306122448,
          0.836734693877551,
          0.8571428571428571,
          0.8775510204081632,
          0.8979591836734693,
          0.9183673469387754,
          0.9387755102040816,
          0.9591836734693877,
          0.9795918367346939,
          1
         ],
         "y": [
          0,
          8.01813903593472e-06,
          0.00023144582325731325,
          0.0015819354043921606,
          0.00598662834523472,
          0.016368382800000008,
          0.03640095828263042,
          0.07013352385495832,
          0.121559685983927,
          0.1941891735267065,
          0.2906652672000002,
          0.41245791637062695,
          0.5596511440640723,
          0.7308336987216237,
          0.9230938654404459,
          1.1321127971999994,
          1.3523455649080613,
          1.5772752509857415,
          1.799722721648868,
          2.0121931050283277,
          2.2072393728,
          2.377823669061222,
          2.517658048790823,
          2.6215079763591587,
          2.6854441892086753,
          2.70703125,
          2.6854441892086753,
          2.6215079763591578,
          2.5176580487908207,
          2.377823669061221,
          2.2072393728,
          2.0121931050283277,
          1.799722721648868,
          1.5772752509857417,
          1.3523455649080613,
          1.1321127971999994,
          0.923093865440446,
          0.7308336987216237,
          0.5596511440640723,
          0.4124579163706267,
          0.29066526719999974,
          0.1941891735267062,
          0.12155968598392711,
          0.07013352385495833,
          0.03640095828263042,
          0.016368382799999984,
          0.0059866283452347045,
          0.0015819354043921541,
          0.00023144582325731428,
          8.018139035934755e-06,
          0
         ]
        },
        {
         "line": {
          "color": "#00CED1",
          "width": 6
         },
         "name": "Binomial probability",
         "type": "scatter",
         "visible": false,
         "x": [
          0,
          0.02040816326530612,
          0.04081632653061224,
          0.061224489795918366,
          0.08163265306122448,
          0.1020408163265306,
          0.12244897959183673,
          0.14285714285714285,
          0.16326530612244897,
          0.18367346938775508,
          0.2040816326530612,
          0.22448979591836732,
          0.24489795918367346,
          0.26530612244897955,
          0.2857142857142857,
          0.3061224489795918,
          0.32653061224489793,
          0.3469387755102041,
          0.36734693877551017,
          0.3877551020408163,
          0.4081632653061224,
          0.42857142857142855,
          0.44897959183673464,
          0.4693877551020408,
          0.4897959183673469,
          0.5102040816326531,
          0.5306122448979591,
          0.5510204081632653,
          0.5714285714285714,
          0.5918367346938775,
          0.6122448979591836,
          0.6326530612244897,
          0.6530612244897959,
          0.673469387755102,
          0.6938775510204082,
          0.7142857142857142,
          0.7346938775510203,
          0.7551020408163265,
          0.7755102040816326,
          0.7959183673469387,
          0.8163265306122448,
          0.836734693877551,
          0.8571428571428571,
          0.8775510204081632,
          0.8979591836734693,
          0.9183673469387754,
          0.9387755102040816,
          0.9591836734693877,
          0.9795918367346939,
          1
         ],
         "y": [
          0,
          1.363629087744e-07,
          8.0363133075456e-06,
          8.414550023362556e-05,
          0.00043381364820541454,
          0.0015155910000000006,
          0.004136472532117094,
          0.009514237732261791,
          0.019295188251416986,
          0.0355224097914707,
          0.06055526400000003,
          0.09694523675377983,
          0.1472766168589664,
          0.2139828397157908,
          0.2991507897260705,
          0.4043259989999998,
          0.5303315940815928,
          0.6771131127969094,
          0.8436200257729067,
          1.0277330375144684,
          1.2262440960000003,
          1.4348935933990128,
          1.6484665795654194,
          1.8609470202549583,
          2.065726299391289,
          2.255859375,
          2.4243593374800545,
          2.5645186725252627,
          2.6702433850811746,
          2.736384381062516,
          2.7590492159999997,
          2.7358765901700948,
          2.666255883924249,
          2.5514746707122296,
          2.3947786045246926,
          2.201330438999999,
          1.9780582830866698,
          1.7333876187628257,
          1.4768571857246355,
          1.2186256620041245,
          0.9688842239999995,
          0.7371996402402738,
          0.5318236261796809,
          0.3590168483051438,
          0.22245030061607482,
          0.12276287099999991,
          0.057371854975165955,
          0.020653045557342035,
          0.00462891646514628,
          0.0003274073439673355,
          0
         ]
        },
        {
         "line": {
          "color": "#00CED1",
          "width": 6
         },
         "name": "Binomial probability",
         "type": "scatter",
         "visible": false,
         "x": [
          0,
          0.02040816326530612,
          0.04081632653061224,
          0.061224489795918366,
          0.08163265306122448,
          0.1020408163265306,
          0.12244897959183673,
          0.14285714285714285,
          0.16326530612244897,
          0.18367346938775508,
          0.2040816326530612,
          0.22448979591836732,
          0.24489795918367346,
          0.26530612244897955,
          0.2857142857142857,
          0.3061224489795918,
          0.32653061224489793,
          0.3469387755102041,
          0.36734693877551017,
          0.3877551020408163,
          0.4081632653061224,
          0.42857142857142855,
          0.44897959183673464,
          0.4693877551020408,
          0.4897959183673469,
          0.5102040816326531,
          0.5306122448979591,
          0.5510204081632653,
          0.5714285714285714,
          0.5918367346938775,
          0.6122448979591836,
          0.6326530612244897,
          0.6530612244897959,
          0.673469387755102,
          0.6938775510204082,
          0.7142857142857142,
          0.7346938775510203,
          0.7551020408163265,
          0.7755102040816326,
          0.7959183673469387,
          0.8163265306122448,
          0.836734693877551,
          0.8571428571428571,
          0.8775510204081632,
          0.8979591836734693,
          0.9183673469387754,
          0.9387755102040816,
          0.9591836734693877,
          0.9795918367346939,
          1
         ],
         "y": [
          0,
          1.5902380032000002e-09,
          1.913407930368e-07,
          3.0691367866367987e-06,
          2.1555957674803204e-05,
          9.622800000000004e-05,
          0.0003223225349701631,
          0.0008850453704429573,
          0.0021001565443719166,
          0.004455772656769843,
          0.008650752000000005,
          0.015624873322953524,
          0.026576231613648072,
          0.042961805657224406,
          0.06647795327246012,
          0.09901861199999995,
          0.14261017655975608,
          0.19932334056359244,
          0.27116357971272004,
          0.35994336797741755,
          0.46714060800000007,
          0.5937490731306259,
          0.74012785204978,
          0.9058578088013555,
          1.089613872206394,
          1.2890625,
          1.500793875582891,
          1.7202982399548352,
          1.9419951891499456,
          2.1593237292738214,
          2.364899328,
          2.550742084068359,
          2.7085774058913006,
          2.8302071977648264,
          2.907945448351413,
          2.9351072520000003,
          2.9065346200457185,
          2.819135907438442,
          2.6724082408350545,
          2.468903938605759,
          2.2145925119999994,
          1.9190593809429362,
          1.5954708785390426,
          1.2602224062956067,
          0.9321726882959326,
          0.6313519079999997,
          0.3770150469796622,
          0.18489393165620507,
          0.0634822829505775,
          0.009167405631085387,
          0
         ]
        },
        {
         "line": {
          "color": "#00CED1",
          "width": 6
         },
         "name": "Binomial probability",
         "type": "scatter",
         "visible": false,
         "x": [
          0,
          0.02040816326530612,
          0.04081632653061224,
          0.061224489795918366,
          0.08163265306122448,
          0.1020408163265306,
          0.12244897959183673,
          0.14285714285714285,
          0.16326530612244897,
          0.18367346938775508,
          0.2040816326530612,
          0.22448979591836732,
          0.24489795918367346,
          0.26530612244897955,
          0.2857142857142857,
          0.3061224489795918,
          0.32653061224489793,
          0.3469387755102041,
          0.36734693877551017,
          0.3877551020408163,
          0.4081632653061224,
          0.42857142857142855,
          0.44897959183673464,
          0.4693877551020408,
          0.4897959183673469,
          0.5102040816326531,
          0.5306122448979591,
          0.5510204081632653,
          0.5714285714285714,
          0.5918367346938775,
          0.6122448979591836,
          0.6326530612244897,
          0.6530612244897959,
          0.673469387755102,
          0.6938775510204082,
          0.7142857142857142,
          0.7346938775510203,
          0.7551020408163265,
          0.7755102040816326,
          0.7959183673469387,
          0.8163265306122448,
          0.836734693877551,
          0.8571428571428571,
          0.8775510204081632,
          0.8979591836734693,
          0.9183673469387754,
          0.9387755102040816,
          0.9591836734693877,
          0.9795918367346939,
          1
         ],
         "y": [
          0,
          1.21701888e-11,
          2.9896998912000007e-09,
          7.346338053119997e-08,
          7.029116633088002e-07,
          4.009500000000002e-06,
          1.6482402356428793e-05,
          5.402893249797123e-05,
          0.0001500111817408512,
          0.0003667861638194687,
          0.0008110080000000005,
          0.001652630832235469,
          0.0031471853226688502,
          0.005660508177809972,
          0.009694701518900437,
          0.015913705499999993,
          0.02516650174583931,
          0.03850564533614854,
          0.05719856759565187,
          0.0827289192528742,
          0.11678515200000006,
          0.16123358451391995,
          0.21807338497895304,
          0.2893712444782107,
          0.3771740326868287,
          0.4833984375,
          0.6096975119555496,
          0.7573052034583785,
          0.9268613402761107,
          1.1182212169453716,
          1.330255872,
          1.5606514066997195,
          1.8057182705942005,
          2.060224357196455,
          2.3172690291550326,
          2.5682188455000006,
          2.802729812186942,
          3.008885439669875,
          3.173484785991628,
          3.2825200092826576,
          3.321888768,
          3.2783931091108505,
          3.1410832921237395,
          2.9030123287880936,
          2.5634748928138147,
          2.1308126894999995,
          1.6258773900997938,
          1.0862518484802057,
          0.5713405465551971,
          0.16845107847119384,
          0
         ]
        },
        {
         "line": {
          "color": "#00CED1",
          "width": 6
         },
         "name": "Binomial probability",
         "type": "scatter",
         "visible": false,
         "x": [
          0,
          0.02040816326530612,
          0.04081632653061224,
          0.061224489795918366,
          0.08163265306122448,
          0.1020408163265306,
          0.12244897959183673,
          0.14285714285714285,
          0.16326530612244897,
          0.18367346938775508,
          0.2040816326530612,
          0.22448979591836732,
          0.24489795918367346,
          0.26530612244897955,
          0.2857142857142857,
          0.3061224489795918,
          0.32653061224489793,
          0.3469387755102041,
          0.36734693877551017,
          0.3877551020408163,
          0.4081632653061224,
          0.42857142857142855,
          0.44897959183673464,
          0.4693877551020408,
          0.4897959183673469,
          0.5102040816326531,
          0.5306122448979591,
          0.5510204081632653,
          0.5714285714285714,
          0.5918367346938775,
          0.6122448979591836,
          0.6326530612244897,
          0.6530612244897959,
          0.673469387755102,
          0.6938775510204082,
          0.7142857142857142,
          0.7346938775510203,
          0.7551020408163265,
          0.7755102040816326,
          0.7959183673469387,
          0.8163265306122448,
          0.836734693877551,
          0.8571428571428571,
          0.8775510204081632,
          0.8979591836734693,
          0.9183673469387754,
          0.9387755102040816,
          0.9591836734693877,
          0.9795918367346939,
          1
         ],
         "y": [
          0,
          5.519360000000001e-14,
          2.7682406400000005e-11,
          1.0420337663999996e-09,
          1.3582834073600003e-08,
          9.900000000000005e-08,
          4.994667380735998e-07,
          1.9545350257664017e-06,
          6.349679650406401e-06,
          1.7892007991193594e-05,
          4.5056000000000024e-05,
          0.0001035836988865536,
          0.00022085511036272633,
          0.00044196159946864654,
          0.0008378137115099143,
          0.0015155909999999995,
          0.002631791032244634,
          0.0044080536748452885,
          0.007149820949456483,
          0.011267738106126234,
          0.01730150400000001,
          0.025945634289596307,
          0.03807630531378545,
          0.054778095662541944,
          0.07736903234601614,
          0.107421875,
          0.14677903065596562,
          0.1975578791630553,
          0.26214260129021316,
          0.34315783377159553,
          0.44341862399999993,
          0.5658502176338164,
          0.7133701809754867,
          0.8887242325161179,
          1.0942659304343214,
          1.3316690310000008,
          1.6015598926782524,
          1.9030557481672712,
          2.233192997549664,
          2.586227886101488,
          2.952790016000001,
          3.31886709811222,
          3.6645971741443613,
          3.9628422265996197,
          4.177514640141031,
          4.261625379,
          4.155019996921697,
          3.7817656947088687,
          3.047149581627715,
          1.834245076686331,
          0
         ]
        },
        {
         "line": {
          "color": "#00CED1",
          "width": 6
         },
         "name": "Binomial probability",
         "type": "scatter",
         "visible": false,
         "x": [
          0,
          0.02040816326530612,
          0.04081632653061224,
          0.061224489795918366,
          0.08163265306122448,
          0.1020408163265306,
          0.12244897959183673,
          0.14285714285714285,
          0.16326530612244897,
          0.18367346938775508,
          0.2040816326530612,
          0.22448979591836732,
          0.24489795918367346,
          0.26530612244897955,
          0.2857142857142857,
          0.3061224489795918,
          0.32653061224489793,
          0.3469387755102041,
          0.36734693877551017,
          0.3877551020408163,
          0.4081632653061224,
          0.42857142857142855,
          0.44897959183673464,
          0.4693877551020408,
          0.4897959183673469,
          0.5102040816326531,
          0.5306122448979591,
          0.5510204081632653,
          0.5714285714285714,
          0.5918367346938775,
          0.6122448979591836,
          0.6326530612244897,
          0.6530612244897959,
          0.673469387755102,
          0.6938775510204082,
          0.7142857142857142,
          0.7346938775510203,
          0.7551020408163265,
          0.7755102040816326,
          0.7959183673469387,
          0.8163265306122448,
          0.836734693877551,
          0.8571428571428571,
          0.8775510204081632,
          0.8979591836734693,
          0.9183673469387754,
          0.9387755102040816,
          0.9591836734693877,
          0.9795918367346939,
          1
         ],
         "y": [
          0,
          1.1264000000000002e-16,
          1.1534336000000002e-13,
          6.651279359999998e-12,
          1.1811160064000002e-10,
          1.1000000000000005e-09,
          6.8109100646399975e-09,
          3.181801204736003e-08,
          1.2094627905536002e-07,
          3.9275139492863985e-07,
          1.1264000000000006e-06,
          2.92159150705664e-06,
          6.9743719061913575e-06,
          1.5528380521871365e-05,
          3.258164433649667e-05,
          6.495389999999997e-05,
          0.00012384898975268866,
          0.00022708155294657553,
          0.0004021774284069272,
          0.0006906033032787047,
          0.0011534336000000006,
          0.00187882179338456,
          0.0029917097032259995,
          0.0046662822231054255,
          0.00714175683193995,
          0.0107421875,
          0.015901061654396278,
          0.023191577119141278,
          0.03336360380057259,
          0.0473884627589346,
          0.06651279359999997,
          0.09232293024551741,
          0.1268213655067532,
          0.1725170569001876,
          0.23253151021729335,
          0.3107227739000003,
          0.41182968668869346,
          0.5416389437091464,
          0.7071777825573936,
          0.9169353414359823,
          1.1811160064000006,
          1.5119283446955678,
          1.9239135164257894,
          2.4343173677683376,
          3.0635107361034235,
          3.835462841100001,
          4.778272996459956,
          5.924766255043901,
          7.313158995906509,
          8.987800875763014,
          11
         ]
        }
       ],
       "layout": {
        "height": 600,
        "sliders": [
         {
          "active": 10,
          "currentvalue": {
           "prefix": "Number of positive events: "
          },
          "pad": {
           "t": 50
          },
          "steps": [
           {
            "args": [
             {
              "visible": [
               true,
               false,
               false,
               false,
               false,
               false,
               false,
               false,
               false,
               false,
               false
              ]
             },
             {
              "title.text": "Beta distribution a 1, b 11"
             }
            ],
            "method": "update"
           },
           {
            "args": [
             {
              "visible": [
               false,
               true,
               false,
               false,
               false,
               false,
               false,
               false,
               false,
               false,
               false
              ]
             },
             {
              "title.text": "Beta distribution a 2, b 10"
             }
            ],
            "method": "update"
           },
           {
            "args": [
             {
              "visible": [
               false,
               false,
               true,
               false,
               false,
               false,
               false,
               false,
               false,
               false,
               false
              ]
             },
             {
              "title.text": "Beta distribution a 3, b 9"
             }
            ],
            "method": "update"
           },
           {
            "args": [
             {
              "visible": [
               false,
               false,
               false,
               true,
               false,
               false,
               false,
               false,
               false,
               false,
               false
              ]
             },
             {
              "title.text": "Beta distribution a 4, b 8"
             }
            ],
            "method": "update"
           },
           {
            "args": [
             {
              "visible": [
               false,
               false,
               false,
               false,
               true,
               false,
               false,
               false,
               false,
               false,
               false
              ]
             },
             {
              "title.text": "Beta distribution a 5, b 7"
             }
            ],
            "method": "update"
           },
           {
            "args": [
             {
              "visible": [
               false,
               false,
               false,
               false,
               false,
               true,
               false,
               false,
               false,
               false,
               false
              ]
             },
             {
              "title.text": "Beta distribution a 6, b 6"
             }
            ],
            "method": "update"
           },
           {
            "args": [
             {
              "visible": [
               false,
               false,
               false,
               false,
               false,
               false,
               true,
               false,
               false,
               false,
               false
              ]
             },
             {
              "title.text": "Beta distribution a 7, b 5"
             }
            ],
            "method": "update"
           },
           {
            "args": [
             {
              "visible": [
               false,
               false,
               false,
               false,
               false,
               false,
               false,
               true,
               false,
               false,
               false
              ]
             },
             {
              "title.text": "Beta distribution a 8, b 4"
             }
            ],
            "method": "update"
           },
           {
            "args": [
             {
              "visible": [
               false,
               false,
               false,
               false,
               false,
               false,
               false,
               false,
               true,
               false,
               false
              ]
             },
             {
              "title.text": "Beta distribution a 9, b 3"
             }
            ],
            "method": "update"
           },
           {
            "args": [
             {
              "visible": [
               false,
               false,
               false,
               false,
               false,
               false,
               false,
               false,
               false,
               true,
               false
              ]
             },
             {
              "title.text": "Beta distribution a 10, b 2"
             }
            ],
            "method": "update"
           },
           {
            "args": [
             {
              "visible": [
               false,
               false,
               false,
               false,
               false,
               false,
               false,
               false,
               false,
               false,
               true
              ]
             },
             {
              "title.text": "Beta distribution a 11, b 1"
             }
            ],
            "method": "update"
           }
          ]
         }
        ],
        "template": {
         "data": {
          "bar": [
           {
            "error_x": {
             "color": "#2a3f5f"
            },
            "error_y": {
             "color": "#2a3f5f"
            },
            "marker": {
             "line": {
              "color": "#E5ECF6",
              "width": 0.5
             }
            },
            "type": "bar"
           }
          ],
          "barpolar": [
           {
            "marker": {
             "line": {
              "color": "#E5ECF6",
              "width": 0.5
             }
            },
            "type": "barpolar"
           }
          ],
          "carpet": [
           {
            "aaxis": {
             "endlinecolor": "#2a3f5f",
             "gridcolor": "white",
             "linecolor": "white",
             "minorgridcolor": "white",
             "startlinecolor": "#2a3f5f"
            },
            "baxis": {
             "endlinecolor": "#2a3f5f",
             "gridcolor": "white",
             "linecolor": "white",
             "minorgridcolor": "white",
             "startlinecolor": "#2a3f5f"
            },
            "type": "carpet"
           }
          ],
          "choropleth": [
           {
            "colorbar": {
             "outlinewidth": 0,
             "ticks": ""
            },
            "type": "choropleth"
           }
          ],
          "contour": [
           {
            "colorbar": {
             "outlinewidth": 0,
             "ticks": ""
            },
            "colorscale": [
             [
              0,
              "#0d0887"
             ],
             [
              0.1111111111111111,
              "#46039f"
             ],
             [
              0.2222222222222222,
              "#7201a8"
             ],
             [
              0.3333333333333333,
              "#9c179e"
             ],
             [
              0.4444444444444444,
              "#bd3786"
             ],
             [
              0.5555555555555556,
              "#d8576b"
             ],
             [
              0.6666666666666666,
              "#ed7953"
             ],
             [
              0.7777777777777778,
              "#fb9f3a"
             ],
             [
              0.8888888888888888,
              "#fdca26"
             ],
             [
              1,
              "#f0f921"
             ]
            ],
            "type": "contour"
           }
          ],
          "contourcarpet": [
           {
            "colorbar": {
             "outlinewidth": 0,
             "ticks": ""
            },
            "type": "contourcarpet"
           }
          ],
          "heatmap": [
           {
            "colorbar": {
             "outlinewidth": 0,
             "ticks": ""
            },
            "colorscale": [
             [
              0,
              "#0d0887"
             ],
             [
              0.1111111111111111,
              "#46039f"
             ],
             [
              0.2222222222222222,
              "#7201a8"
             ],
             [
              0.3333333333333333,
              "#9c179e"
             ],
             [
              0.4444444444444444,
              "#bd3786"
             ],
             [
              0.5555555555555556,
              "#d8576b"
             ],
             [
              0.6666666666666666,
              "#ed7953"
             ],
             [
              0.7777777777777778,
              "#fb9f3a"
             ],
             [
              0.8888888888888888,
              "#fdca26"
             ],
             [
              1,
              "#f0f921"
             ]
            ],
            "type": "heatmap"
           }
          ],
          "heatmapgl": [
           {
            "colorbar": {
             "outlinewidth": 0,
             "ticks": ""
            },
            "colorscale": [
             [
              0,
              "#0d0887"
             ],
             [
              0.1111111111111111,
              "#46039f"
             ],
             [
              0.2222222222222222,
              "#7201a8"
             ],
             [
              0.3333333333333333,
              "#9c179e"
             ],
             [
              0.4444444444444444,
              "#bd3786"
             ],
             [
              0.5555555555555556,
              "#d8576b"
             ],
             [
              0.6666666666666666,
              "#ed7953"
             ],
             [
              0.7777777777777778,
              "#fb9f3a"
             ],
             [
              0.8888888888888888,
              "#fdca26"
             ],
             [
              1,
              "#f0f921"
             ]
            ],
            "type": "heatmapgl"
           }
          ],
          "histogram": [
           {
            "marker": {
             "colorbar": {
              "outlinewidth": 0,
              "ticks": ""
             }
            },
            "type": "histogram"
           }
          ],
          "histogram2d": [
           {
            "colorbar": {
             "outlinewidth": 0,
             "ticks": ""
            },
            "colorscale": [
             [
              0,
              "#0d0887"
             ],
             [
              0.1111111111111111,
              "#46039f"
             ],
             [
              0.2222222222222222,
              "#7201a8"
             ],
             [
              0.3333333333333333,
              "#9c179e"
             ],
             [
              0.4444444444444444,
              "#bd3786"
             ],
             [
              0.5555555555555556,
              "#d8576b"
             ],
             [
              0.6666666666666666,
              "#ed7953"
             ],
             [
              0.7777777777777778,
              "#fb9f3a"
             ],
             [
              0.8888888888888888,
              "#fdca26"
             ],
             [
              1,
              "#f0f921"
             ]
            ],
            "type": "histogram2d"
           }
          ],
          "histogram2dcontour": [
           {
            "colorbar": {
             "outlinewidth": 0,
             "ticks": ""
            },
            "colorscale": [
             [
              0,
              "#0d0887"
             ],
             [
              0.1111111111111111,
              "#46039f"
             ],
             [
              0.2222222222222222,
              "#7201a8"
             ],
             [
              0.3333333333333333,
              "#9c179e"
             ],
             [
              0.4444444444444444,
              "#bd3786"
             ],
             [
              0.5555555555555556,
              "#d8576b"
             ],
             [
              0.6666666666666666,
              "#ed7953"
             ],
             [
              0.7777777777777778,
              "#fb9f3a"
             ],
             [
              0.8888888888888888,
              "#fdca26"
             ],
             [
              1,
              "#f0f921"
             ]
            ],
            "type": "histogram2dcontour"
           }
          ],
          "mesh3d": [
           {
            "colorbar": {
             "outlinewidth": 0,
             "ticks": ""
            },
            "type": "mesh3d"
           }
          ],
          "parcoords": [
           {
            "line": {
             "colorbar": {
              "outlinewidth": 0,
              "ticks": ""
             }
            },
            "type": "parcoords"
           }
          ],
          "pie": [
           {
            "automargin": true,
            "type": "pie"
           }
          ],
          "scatter": [
           {
            "marker": {
             "colorbar": {
              "outlinewidth": 0,
              "ticks": ""
             }
            },
            "type": "scatter"
           }
          ],
          "scatter3d": [
           {
            "line": {
             "colorbar": {
              "outlinewidth": 0,
              "ticks": ""
             }
            },
            "marker": {
             "colorbar": {
              "outlinewidth": 0,
              "ticks": ""
             }
            },
            "type": "scatter3d"
           }
          ],
          "scattercarpet": [
           {
            "marker": {
             "colorbar": {
              "outlinewidth": 0,
              "ticks": ""
             }
            },
            "type": "scattercarpet"
           }
          ],
          "scattergeo": [
           {
            "marker": {
             "colorbar": {
              "outlinewidth": 0,
              "ticks": ""
             }
            },
            "type": "scattergeo"
           }
          ],
          "scattergl": [
           {
            "marker": {
             "colorbar": {
              "outlinewidth": 0,
              "ticks": ""
             }
            },
            "type": "scattergl"
           }
          ],
          "scattermapbox": [
           {
            "marker": {
             "colorbar": {
              "outlinewidth": 0,
              "ticks": ""
             }
            },
            "type": "scattermapbox"
           }
          ],
          "scatterpolar": [
           {
            "marker": {
             "colorbar": {
              "outlinewidth": 0,
              "ticks": ""
             }
            },
            "type": "scatterpolar"
           }
          ],
          "scatterpolargl": [
           {
            "marker": {
             "colorbar": {
              "outlinewidth": 0,
              "ticks": ""
             }
            },
            "type": "scatterpolargl"
           }
          ],
          "scatterternary": [
           {
            "marker": {
             "colorbar": {
              "outlinewidth": 0,
              "ticks": ""
             }
            },
            "type": "scatterternary"
           }
          ],
          "surface": [
           {
            "colorbar": {
             "outlinewidth": 0,
             "ticks": ""
            },
            "colorscale": [
             [
              0,
              "#0d0887"
             ],
             [
              0.1111111111111111,
              "#46039f"
             ],
             [
              0.2222222222222222,
              "#7201a8"
             ],
             [
              0.3333333333333333,
              "#9c179e"
             ],
             [
              0.4444444444444444,
              "#bd3786"
             ],
             [
              0.5555555555555556,
              "#d8576b"
             ],
             [
              0.6666666666666666,
              "#ed7953"
             ],
             [
              0.7777777777777778,
              "#fb9f3a"
             ],
             [
              0.8888888888888888,
              "#fdca26"
             ],
             [
              1,
              "#f0f921"
             ]
            ],
            "type": "surface"
           }
          ],
          "table": [
           {
            "cells": {
             "fill": {
              "color": "#EBF0F8"
             },
             "line": {
              "color": "white"
             }
            },
            "header": {
             "fill": {
              "color": "#C8D4E3"
             },
             "line": {
              "color": "white"
             }
            },
            "type": "table"
           }
          ]
         },
         "layout": {
          "annotationdefaults": {
           "arrowcolor": "#2a3f5f",
           "arrowhead": 0,
           "arrowwidth": 1
          },
          "coloraxis": {
           "colorbar": {
            "outlinewidth": 0,
            "ticks": ""
           }
          },
          "colorscale": {
           "diverging": [
            [
             0,
             "#8e0152"
            ],
            [
             0.1,
             "#c51b7d"
            ],
            [
             0.2,
             "#de77ae"
            ],
            [
             0.3,
             "#f1b6da"
            ],
            [
             0.4,
             "#fde0ef"
            ],
            [
             0.5,
             "#f7f7f7"
            ],
            [
             0.6,
             "#e6f5d0"
            ],
            [
             0.7,
             "#b8e186"
            ],
            [
             0.8,
             "#7fbc41"
            ],
            [
             0.9,
             "#4d9221"
            ],
            [
             1,
             "#276419"
            ]
           ],
           "sequential": [
            [
             0,
             "#0d0887"
            ],
            [
             0.1111111111111111,
             "#46039f"
            ],
            [
             0.2222222222222222,
             "#7201a8"
            ],
            [
             0.3333333333333333,
             "#9c179e"
            ],
            [
             0.4444444444444444,
             "#bd3786"
            ],
            [
             0.5555555555555556,
             "#d8576b"
            ],
            [
             0.6666666666666666,
             "#ed7953"
            ],
            [
             0.7777777777777778,
             "#fb9f3a"
            ],
            [
             0.8888888888888888,
             "#fdca26"
            ],
            [
             1,
             "#f0f921"
            ]
           ],
           "sequentialminus": [
            [
             0,
             "#0d0887"
            ],
            [
             0.1111111111111111,
             "#46039f"
            ],
            [
             0.2222222222222222,
             "#7201a8"
            ],
            [
             0.3333333333333333,
             "#9c179e"
            ],
            [
             0.4444444444444444,
             "#bd3786"
            ],
            [
             0.5555555555555556,
             "#d8576b"
            ],
            [
             0.6666666666666666,
             "#ed7953"
            ],
            [
             0.7777777777777778,
             "#fb9f3a"
            ],
            [
             0.8888888888888888,
             "#fdca26"
            ],
            [
             1,
             "#f0f921"
            ]
           ]
          },
          "colorway": [
           "#636efa",
           "#EF553B",
           "#00cc96",
           "#ab63fa",
           "#FFA15A",
           "#19d3f3",
           "#FF6692",
           "#B6E880",
           "#FF97FF",
           "#FECB52"
          ],
          "font": {
           "color": "#2a3f5f"
          },
          "geo": {
           "bgcolor": "white",
           "lakecolor": "white",
           "landcolor": "#E5ECF6",
           "showlakes": true,
           "showland": true,
           "subunitcolor": "white"
          },
          "hoverlabel": {
           "align": "left"
          },
          "hovermode": "closest",
          "mapbox": {
           "style": "light"
          },
          "paper_bgcolor": "white",
          "plot_bgcolor": "#E5ECF6",
          "polar": {
           "angularaxis": {
            "gridcolor": "white",
            "linecolor": "white",
            "ticks": ""
           },
           "bgcolor": "#E5ECF6",
           "radialaxis": {
            "gridcolor": "white",
            "linecolor": "white",
            "ticks": ""
           }
          },
          "scene": {
           "xaxis": {
            "backgroundcolor": "#E5ECF6",
            "gridcolor": "white",
            "gridwidth": 2,
            "linecolor": "white",
            "showbackground": true,
            "ticks": "",
            "zerolinecolor": "white"
           },
           "yaxis": {
            "backgroundcolor": "#E5ECF6",
            "gridcolor": "white",
            "gridwidth": 2,
            "linecolor": "white",
            "showbackground": true,
            "ticks": "",
            "zerolinecolor": "white"
           },
           "zaxis": {
            "backgroundcolor": "#E5ECF6",
            "gridcolor": "white",
            "gridwidth": 2,
            "linecolor": "white",
            "showbackground": true,
            "ticks": "",
            "zerolinecolor": "white"
           }
          },
          "shapedefaults": {
           "line": {
            "color": "#2a3f5f"
           }
          },
          "ternary": {
           "aaxis": {
            "gridcolor": "white",
            "linecolor": "white",
            "ticks": ""
           },
           "baxis": {
            "gridcolor": "white",
            "linecolor": "white",
            "ticks": ""
           },
           "bgcolor": "#E5ECF6",
           "caxis": {
            "gridcolor": "white",
            "linecolor": "white",
            "ticks": ""
           }
          },
          "title": {
           "x": 0.05
          },
          "xaxis": {
           "automargin": true,
           "gridcolor": "white",
           "linecolor": "white",
           "ticks": "",
           "title": {
            "standoff": 15
           },
           "zerolinecolor": "white",
           "zerolinewidth": 2
          },
          "yaxis": {
           "automargin": true,
           "gridcolor": "white",
           "linecolor": "white",
           "ticks": "",
           "title": {
            "standoff": 15
           },
           "zerolinecolor": "white",
           "zerolinewidth": 2
          }
         }
        },
        "title": {
         "text": "Beta distribution - P(theta/y) vs theta, move slider to vary num_p"
        },
        "width": 800,
        "xaxis": {
         "title": {
          "text": "Beta distribution - P(theta/y) vs theta, move slider to vary num_p"
         }
        }
       }
      },
      "text/html": [
       "<div>\n",
       "        \n",
       "        \n",
       "            <div id=\"1bf45124-517d-4bf2-ab34-b3a9572abaab\" class=\"plotly-graph-div\" style=\"height:600px; width:800px;\"></div>\n",
       "            <script type=\"text/javascript\">\n",
       "                require([\"plotly\"], function(Plotly) {\n",
       "                    window.PLOTLYENV=window.PLOTLYENV || {};\n",
       "                    \n",
       "                if (document.getElementById(\"1bf45124-517d-4bf2-ab34-b3a9572abaab\")) {\n",
       "                    Plotly.newPlot(\n",
       "                        '1bf45124-517d-4bf2-ab34-b3a9572abaab',\n",
       "                        [{\"line\": {\"color\": \"#00CED1\", \"width\": 6}, \"name\": \"Binomial probability\", \"type\": \"scatter\", \"visible\": false, \"x\": [0.0, 0.02040816326530612, 0.04081632653061224, 0.061224489795918366, 0.08163265306122448, 0.1020408163265306, 0.12244897959183673, 0.14285714285714285, 0.16326530612244897, 0.18367346938775508, 0.2040816326530612, 0.22448979591836732, 0.24489795918367346, 0.26530612244897955, 0.2857142857142857, 0.3061224489795918, 0.32653061224489793, 0.3469387755102041, 0.36734693877551017, 0.3877551020408163, 0.4081632653061224, 0.42857142857142855, 0.44897959183673464, 0.4693877551020408, 0.4897959183673469, 0.5102040816326531, 0.5306122448979591, 0.5510204081632653, 0.5714285714285714, 0.5918367346938775, 0.6122448979591836, 0.6326530612244897, 0.6530612244897959, 0.673469387755102, 0.6938775510204082, 0.7142857142857142, 0.7346938775510203, 0.7551020408163265, 0.7755102040816326, 0.7959183673469387, 0.8163265306122448, 0.836734693877551, 0.8571428571428571, 0.8775510204081632, 0.8979591836734693, 0.9183673469387754, 0.9387755102040816, 0.9591836734693877, 0.9795918367346939, 1.0], \"y\": [11.0, 8.987800875763014, 7.313158995906509, 5.9247662550438935, 4.778272996459956, 3.835462841100001, 3.0635107361034235, 2.4343173677683376, 1.9239135164257894, 1.5119283446955678, 1.1811160064000006, 0.9169353414359823, 0.7071777825573936, 0.5416389437091464, 0.41182968668869346, 0.3107227738999998, 0.23253151021729296, 0.17251705690018734, 0.1268213655067532, 0.09232293024551741, 0.06651279359999997, 0.0473884627589347, 0.03336360380057259, 0.023191577119141278, 0.015901061654396278, 0.0107421875, 0.00714175683193995, 0.00466628222310542, 0.0029917097032259956, 0.0018788217933845624, 0.0011534336000000006, 0.0006906033032787047, 0.0004021774284069272, 0.00022708155294657515, 0.00012384898975268844, 6.495389999999986e-05, 3.258164433649667e-05, 1.5528380521871365e-05, 6.9743719061913575e-06, 2.9215915070566363e-06, 1.1263999999999976e-06, 3.9275139492863864e-07, 1.2094627905536023e-07, 3.181801204736003e-08, 6.8109100646399975e-09, 1.0999999999999976e-09, 1.181116006399994e-10, 6.651279359999936e-12, 1.1534336000000103e-13, 1.12640000000001e-16, 0.0]}, {\"line\": {\"color\": \"#00CED1\", \"width\": 6}, \"name\": \"Binomial probability\", \"type\": \"scatter\", \"visible\": false, \"x\": [0.0, 0.02040816326530612, 0.04081632653061224, 0.061224489795918366, 0.08163265306122448, 0.1020408163265306, 0.12244897959183673, 0.14285714285714285, 0.16326530612244897, 0.18367346938775508, 0.2040816326530612, 0.22448979591836732, 0.24489795918367346, 0.26530612244897955, 0.2857142857142857, 0.3061224489795918, 0.32653061224489793, 0.3469387755102041, 0.36734693877551017, 0.3877551020408163, 0.4081632653061224, 0.42857142857142855, 0.44897959183673464, 0.4693877551020408, 0.4897959183673469, 0.5102040816326531, 0.5306122448979591, 0.5510204081632653, 0.5714285714285714, 0.5918367346938775, 0.6122448979591836, 0.6326530612244897, 0.6530612244897959, 0.673469387755102, 0.6938775510204082, 0.7142857142857142, 0.7346938775510203, 0.7551020408163265, 0.7755102040816326, 0.7959183673469387, 0.8163265306122448, 0.836734693877551, 0.8571428571428571, 0.8775510204081632, 0.8979591836734693, 0.9183673469387754, 0.9387755102040816, 0.9591836734693877, 0.9795918367346939, 1.0], \"y\": [0.0, 1.8342450766863296, 3.0471495816277123, 3.7817656947088683, 4.1550199969217, 4.261625379000001, 4.177514640141032, 3.9628422265996197, 3.664597174144361, 3.318867098112221, 2.9527900160000016, 2.5862278861014882, 2.233192997549664, 1.9030557481672712, 1.6015598926782526, 1.3316690309999992, 1.09426593043432, 0.8887242325161168, 0.7133701809754868, 0.5658502176338164, 0.4434186239999999, 0.34315783377159603, 0.26214260129021316, 0.19755787916305534, 0.14677903065596562, 0.107421875, 0.07736903234601614, 0.054778095662541895, 0.03807630531378541, 0.025945634289596335, 0.01730150400000001, 0.011267738106126236, 0.007149820949456484, 0.004408053674845283, 0.0026317910322446302, 0.0015155909999999973, 0.0008378137115099143, 0.00044196159946864654, 0.0002208551103627263, 0.00010358369888655349, 4.505599999999991e-05, 1.7892007991193547e-05, 6.349679650406411e-06, 1.9545350257664017e-06, 4.994667380735998e-07, 9.89999999999998e-08, 1.3582834073599938e-08, 1.042033766399991e-09, 2.7682406400000218e-11, 5.519360000000044e-14, 0.0]}, {\"line\": {\"color\": \"#00CED1\", \"width\": 6}, \"name\": \"Binomial probability\", \"type\": \"scatter\", \"visible\": false, \"x\": [0.0, 0.02040816326530612, 0.04081632653061224, 0.061224489795918366, 0.08163265306122448, 0.1020408163265306, 0.12244897959183673, 0.14285714285714285, 0.16326530612244897, 0.18367346938775508, 0.2040816326530612, 0.22448979591836732, 0.24489795918367346, 0.26530612244897955, 0.2857142857142857, 0.3061224489795918, 0.32653061224489793, 0.3469387755102041, 0.36734693877551017, 0.3877551020408163, 0.4081632653061224, 0.42857142857142855, 0.44897959183673464, 0.4693877551020408, 0.4897959183673469, 0.5102040816326531, 0.5306122448979591, 0.5510204081632653, 0.5714285714285714, 0.5918367346938775, 0.6122448979591836, 0.6326530612244897, 0.6530612244897959, 0.673469387755102, 0.6938775510204082, 0.7142857142857142, 0.7346938775510203, 0.7551020408163265, 0.7755102040816326, 0.7959183673469387, 0.8163265306122448, 0.836734693877551, 0.8571428571428571, 0.8775510204081632, 0.8979591836734693, 0.9183673469387754, 0.9387755102040816, 0.9591836734693877, 0.9795918367346939, 1.0], \"y\": [0.0, 0.16845107847119353, 0.5713405465551961, 1.0862518484802068, 1.6258773900997958, 2.130812689500001, 2.563474892813815, 2.9030123287880936, 3.141083292123738, 3.2783931091108527, 3.321888768000002, 3.282520009282658, 3.173484785991628, 3.008885439669875, 2.802729812186942, 2.568218845499999, 2.317269029155031, 2.0602243571964527, 1.8057182705942008, 1.5606514066997195, 1.3302558719999997, 1.118221216945373, 0.9268613402761107, 0.7573052034583787, 0.6096975119555496, 0.4833984375, 0.3771740326868287, 0.2893712444782105, 0.21807338497895284, 0.16123358451392006, 0.11678515200000006, 0.0827289192528742, 0.057198567595651874, 0.03850564533614851, 0.02516650174583928, 0.015913705499999972, 0.009694701518900437, 0.005660508177809972, 0.00314718532266885, 0.0016526308322354674, 0.0008110079999999987, 0.0003667861638194679, 0.0001500111817408514, 5.402893249797123e-05, 1.6482402356428793e-05, 4.0094999999999935e-06, 7.029116633087972e-07, 7.346338053119944e-08, 2.9896998912000214e-09, 1.2170188800000086e-11, 0.0]}, {\"line\": {\"color\": \"#00CED1\", \"width\": 6}, \"name\": \"Binomial probability\", \"type\": \"scatter\", \"visible\": false, \"x\": [0.0, 0.02040816326530612, 0.04081632653061224, 0.061224489795918366, 0.08163265306122448, 0.1020408163265306, 0.12244897959183673, 0.14285714285714285, 0.16326530612244897, 0.18367346938775508, 0.2040816326530612, 0.22448979591836732, 0.24489795918367346, 0.26530612244897955, 0.2857142857142857, 0.3061224489795918, 0.32653061224489793, 0.3469387755102041, 0.36734693877551017, 0.3877551020408163, 0.4081632653061224, 0.42857142857142855, 0.44897959183673464, 0.4693877551020408, 0.4897959183673469, 0.5102040816326531, 0.5306122448979591, 0.5510204081632653, 0.5714285714285714, 0.5918367346938775, 0.6122448979591836, 0.6326530612244897, 0.6530612244897959, 0.673469387755102, 0.6938775510204082, 0.7142857142857142, 0.7346938775510203, 0.7551020408163265, 0.7755102040816326, 0.7959183673469387, 0.8163265306122448, 0.836734693877551, 0.8571428571428571, 0.8775510204081632, 0.8979591836734693, 0.9183673469387754, 0.9387755102040816, 0.9591836734693877, 0.9795918367346939, 1.0], \"y\": [0.0, 0.009167405631085365, 0.06348228295057735, 0.1848939316562054, 0.37701504697966287, 0.6313519080000003, 0.9321726882959325, 1.2602224062956067, 1.595470878539042, 1.9190593809429377, 2.214592512000001, 2.4689039386057594, 2.6724082408350545, 2.819135907438442, 2.906534620045718, 2.935107251999998, 2.9079454483514118, 2.8302071977648238, 2.7085774058913006, 2.550742084068359, 2.364899328, 2.1593237292738237, 1.941995189149946, 1.7202982399548354, 1.5007938755828907, 1.2890625, 1.089613872206394, 0.9058578088013545, 0.7401278520497795, 0.5937490731306262, 0.46714060800000007, 0.35994336797741755, 0.27116357971272004, 0.1993233405635923, 0.14261017655975594, 0.09901861199999987, 0.06647795327246012, 0.042961805657224406, 0.026576231613648076, 0.01562487332295351, 0.008650751999999989, 0.004455772656769833, 0.0021001565443719197, 0.0008850453704429572, 0.0003223225349701631, 9.622799999999987e-05, 2.1555957674803127e-05, 3.0691367866367797e-06, 1.9134079303680113e-07, 1.5902380032000097e-09, 0.0]}, {\"line\": {\"color\": \"#00CED1\", \"width\": 6}, \"name\": \"Binomial probability\", \"type\": \"scatter\", \"visible\": false, \"x\": [0.0, 0.02040816326530612, 0.04081632653061224, 0.061224489795918366, 0.08163265306122448, 0.1020408163265306, 0.12244897959183673, 0.14285714285714285, 0.16326530612244897, 0.18367346938775508, 0.2040816326530612, 0.22448979591836732, 0.24489795918367346, 0.26530612244897955, 0.2857142857142857, 0.3061224489795918, 0.32653061224489793, 0.3469387755102041, 0.36734693877551017, 0.3877551020408163, 0.4081632653061224, 0.42857142857142855, 0.44897959183673464, 0.4693877551020408, 0.4897959183673469, 0.5102040816326531, 0.5306122448979591, 0.5510204081632653, 0.5714285714285714, 0.5918367346938775, 0.6122448979591836, 0.6326530612244897, 0.6530612244897959, 0.673469387755102, 0.6938775510204082, 0.7142857142857142, 0.7346938775510203, 0.7551020408163265, 0.7755102040816326, 0.7959183673469387, 0.8163265306122448, 0.836734693877551, 0.8571428571428571, 0.8775510204081632, 0.8979591836734693, 0.9183673469387754, 0.9387755102040816, 0.9591836734693877, 0.9795918367346939, 1.0], \"y\": [0.0, 0.00032740734396733437, 0.004628916465146265, 0.020653045557342094, 0.057371854975166066, 0.12276287100000004, 0.22245030061607482, 0.3590168483051438, 0.5318236261796805, 0.7371996402402747, 0.9688842240000005, 1.218625662004125, 1.4768571857246355, 1.7333876187628259, 1.9780582830866698, 2.201330438999999, 2.3947786045246917, 2.551474670712229, 2.666255883924249, 2.7358765901700943, 2.7590492159999997, 2.7363843810625177, 2.6702433850811755, 2.564518672525264, 2.4243593374800545, 2.255859375, 2.065726299391289, 1.860947020254957, 1.6484665795654183, 1.434893593399013, 1.2262440960000003, 1.0277330375144684, 0.8436200257729066, 0.6771131127969091, 0.5303315940815927, 0.4043259989999996, 0.2991507897260705, 0.2139828397157908, 0.1472766168589664, 0.09694523675377976, 0.06055526399999993, 0.03552240979147064, 0.019295188251417007, 0.009514237732261791, 0.004136472532117093, 0.0015155909999999982, 0.00043381364820541313, 8.414550023362513e-05, 8.03631330754564e-06, 1.363629087744007e-07, 0.0]}, {\"line\": {\"color\": \"#00CED1\", \"width\": 6}, \"name\": \"Binomial probability\", \"type\": \"scatter\", \"visible\": true, \"x\": [0.0, 0.02040816326530612, 0.04081632653061224, 0.061224489795918366, 0.08163265306122448, 0.1020408163265306, 0.12244897959183673, 0.14285714285714285, 0.16326530612244897, 0.18367346938775508, 0.2040816326530612, 0.22448979591836732, 0.24489795918367346, 0.26530612244897955, 0.2857142857142857, 0.3061224489795918, 0.32653061224489793, 0.3469387755102041, 0.36734693877551017, 0.3877551020408163, 0.4081632653061224, 0.42857142857142855, 0.44897959183673464, 0.4693877551020408, 0.4897959183673469, 0.5102040816326531, 0.5306122448979591, 0.5510204081632653, 0.5714285714285714, 0.5918367346938775, 0.6122448979591836, 0.6326530612244897, 0.6530612244897959, 0.673469387755102, 0.6938775510204082, 0.7142857142857142, 0.7346938775510203, 0.7551020408163265, 0.7755102040816326, 0.7959183673469387, 0.8163265306122448, 0.836734693877551, 0.8571428571428571, 0.8775510204081632, 0.8979591836734693, 0.9183673469387754, 0.9387755102040816, 0.9591836734693877, 0.9795918367346939, 1.0], \"y\": [0.0, 8.01813903593472e-06, 0.00023144582325731325, 0.0015819354043921606, 0.00598662834523472, 0.016368382800000008, 0.03640095828263042, 0.07013352385495832, 0.121559685983927, 0.1941891735267065, 0.2906652672000002, 0.41245791637062695, 0.5596511440640723, 0.7308336987216237, 0.9230938654404459, 1.1321127971999994, 1.3523455649080613, 1.5772752509857415, 1.799722721648868, 2.0121931050283277, 2.2072393728, 2.377823669061222, 2.517658048790823, 2.6215079763591587, 2.6854441892086753, 2.70703125, 2.6854441892086753, 2.6215079763591578, 2.5176580487908207, 2.377823669061221, 2.2072393728, 2.0121931050283277, 1.799722721648868, 1.5772752509857417, 1.3523455649080613, 1.1321127971999994, 0.923093865440446, 0.7308336987216237, 0.5596511440640723, 0.4124579163706267, 0.29066526719999974, 0.1941891735267062, 0.12155968598392711, 0.07013352385495833, 0.03640095828263042, 0.016368382799999984, 0.0059866283452347045, 0.0015819354043921541, 0.00023144582325731428, 8.018139035934755e-06, 0.0]}, {\"line\": {\"color\": \"#00CED1\", \"width\": 6}, \"name\": \"Binomial probability\", \"type\": \"scatter\", \"visible\": false, \"x\": [0.0, 0.02040816326530612, 0.04081632653061224, 0.061224489795918366, 0.08163265306122448, 0.1020408163265306, 0.12244897959183673, 0.14285714285714285, 0.16326530612244897, 0.18367346938775508, 0.2040816326530612, 0.22448979591836732, 0.24489795918367346, 0.26530612244897955, 0.2857142857142857, 0.3061224489795918, 0.32653061224489793, 0.3469387755102041, 0.36734693877551017, 0.3877551020408163, 0.4081632653061224, 0.42857142857142855, 0.44897959183673464, 0.4693877551020408, 0.4897959183673469, 0.5102040816326531, 0.5306122448979591, 0.5510204081632653, 0.5714285714285714, 0.5918367346938775, 0.6122448979591836, 0.6326530612244897, 0.6530612244897959, 0.673469387755102, 0.6938775510204082, 0.7142857142857142, 0.7346938775510203, 0.7551020408163265, 0.7755102040816326, 0.7959183673469387, 0.8163265306122448, 0.836734693877551, 0.8571428571428571, 0.8775510204081632, 0.8979591836734693, 0.9183673469387754, 0.9387755102040816, 0.9591836734693877, 0.9795918367346939, 1.0], \"y\": [0.0, 1.363629087744e-07, 8.0363133075456e-06, 8.414550023362556e-05, 0.00043381364820541454, 0.0015155910000000006, 0.004136472532117094, 0.009514237732261791, 0.019295188251416986, 0.0355224097914707, 0.06055526400000003, 0.09694523675377983, 0.1472766168589664, 0.2139828397157908, 0.2991507897260705, 0.4043259989999998, 0.5303315940815928, 0.6771131127969094, 0.8436200257729067, 1.0277330375144684, 1.2262440960000003, 1.4348935933990128, 1.6484665795654194, 1.8609470202549583, 2.065726299391289, 2.255859375, 2.4243593374800545, 2.5645186725252627, 2.6702433850811746, 2.736384381062516, 2.7590492159999997, 2.7358765901700948, 2.666255883924249, 2.5514746707122296, 2.3947786045246926, 2.201330438999999, 1.9780582830866698, 1.7333876187628257, 1.4768571857246355, 1.2186256620041245, 0.9688842239999995, 0.7371996402402738, 0.5318236261796809, 0.3590168483051438, 0.22245030061607482, 0.12276287099999991, 0.057371854975165955, 0.020653045557342035, 0.00462891646514628, 0.0003274073439673355, 0.0]}, {\"line\": {\"color\": \"#00CED1\", \"width\": 6}, \"name\": \"Binomial probability\", \"type\": \"scatter\", \"visible\": false, \"x\": [0.0, 0.02040816326530612, 0.04081632653061224, 0.061224489795918366, 0.08163265306122448, 0.1020408163265306, 0.12244897959183673, 0.14285714285714285, 0.16326530612244897, 0.18367346938775508, 0.2040816326530612, 0.22448979591836732, 0.24489795918367346, 0.26530612244897955, 0.2857142857142857, 0.3061224489795918, 0.32653061224489793, 0.3469387755102041, 0.36734693877551017, 0.3877551020408163, 0.4081632653061224, 0.42857142857142855, 0.44897959183673464, 0.4693877551020408, 0.4897959183673469, 0.5102040816326531, 0.5306122448979591, 0.5510204081632653, 0.5714285714285714, 0.5918367346938775, 0.6122448979591836, 0.6326530612244897, 0.6530612244897959, 0.673469387755102, 0.6938775510204082, 0.7142857142857142, 0.7346938775510203, 0.7551020408163265, 0.7755102040816326, 0.7959183673469387, 0.8163265306122448, 0.836734693877551, 0.8571428571428571, 0.8775510204081632, 0.8979591836734693, 0.9183673469387754, 0.9387755102040816, 0.9591836734693877, 0.9795918367346939, 1.0], \"y\": [0.0, 1.5902380032000002e-09, 1.913407930368e-07, 3.0691367866367987e-06, 2.1555957674803204e-05, 9.622800000000004e-05, 0.0003223225349701631, 0.0008850453704429573, 0.0021001565443719166, 0.004455772656769843, 0.008650752000000005, 0.015624873322953524, 0.026576231613648072, 0.042961805657224406, 0.06647795327246012, 0.09901861199999995, 0.14261017655975608, 0.19932334056359244, 0.27116357971272004, 0.35994336797741755, 0.46714060800000007, 0.5937490731306259, 0.74012785204978, 0.9058578088013555, 1.089613872206394, 1.2890625, 1.500793875582891, 1.7202982399548352, 1.9419951891499456, 2.1593237292738214, 2.364899328, 2.550742084068359, 2.7085774058913006, 2.8302071977648264, 2.907945448351413, 2.9351072520000003, 2.9065346200457185, 2.819135907438442, 2.6724082408350545, 2.468903938605759, 2.2145925119999994, 1.9190593809429362, 1.5954708785390426, 1.2602224062956067, 0.9321726882959326, 0.6313519079999997, 0.3770150469796622, 0.18489393165620507, 0.0634822829505775, 0.009167405631085387, 0.0]}, {\"line\": {\"color\": \"#00CED1\", \"width\": 6}, \"name\": \"Binomial probability\", \"type\": \"scatter\", \"visible\": false, \"x\": [0.0, 0.02040816326530612, 0.04081632653061224, 0.061224489795918366, 0.08163265306122448, 0.1020408163265306, 0.12244897959183673, 0.14285714285714285, 0.16326530612244897, 0.18367346938775508, 0.2040816326530612, 0.22448979591836732, 0.24489795918367346, 0.26530612244897955, 0.2857142857142857, 0.3061224489795918, 0.32653061224489793, 0.3469387755102041, 0.36734693877551017, 0.3877551020408163, 0.4081632653061224, 0.42857142857142855, 0.44897959183673464, 0.4693877551020408, 0.4897959183673469, 0.5102040816326531, 0.5306122448979591, 0.5510204081632653, 0.5714285714285714, 0.5918367346938775, 0.6122448979591836, 0.6326530612244897, 0.6530612244897959, 0.673469387755102, 0.6938775510204082, 0.7142857142857142, 0.7346938775510203, 0.7551020408163265, 0.7755102040816326, 0.7959183673469387, 0.8163265306122448, 0.836734693877551, 0.8571428571428571, 0.8775510204081632, 0.8979591836734693, 0.9183673469387754, 0.9387755102040816, 0.9591836734693877, 0.9795918367346939, 1.0], \"y\": [0.0, 1.21701888e-11, 2.9896998912000007e-09, 7.346338053119997e-08, 7.029116633088002e-07, 4.009500000000002e-06, 1.6482402356428793e-05, 5.402893249797123e-05, 0.0001500111817408512, 0.0003667861638194687, 0.0008110080000000005, 0.001652630832235469, 0.0031471853226688502, 0.005660508177809972, 0.009694701518900437, 0.015913705499999993, 0.02516650174583931, 0.03850564533614854, 0.05719856759565187, 0.0827289192528742, 0.11678515200000006, 0.16123358451391995, 0.21807338497895304, 0.2893712444782107, 0.3771740326868287, 0.4833984375, 0.6096975119555496, 0.7573052034583785, 0.9268613402761107, 1.1182212169453716, 1.330255872, 1.5606514066997195, 1.8057182705942005, 2.060224357196455, 2.3172690291550326, 2.5682188455000006, 2.802729812186942, 3.008885439669875, 3.173484785991628, 3.2825200092826576, 3.321888768, 3.2783931091108505, 3.1410832921237395, 2.9030123287880936, 2.5634748928138147, 2.1308126894999995, 1.6258773900997938, 1.0862518484802057, 0.5713405465551971, 0.16845107847119384, 0.0]}, {\"line\": {\"color\": \"#00CED1\", \"width\": 6}, \"name\": \"Binomial probability\", \"type\": \"scatter\", \"visible\": false, \"x\": [0.0, 0.02040816326530612, 0.04081632653061224, 0.061224489795918366, 0.08163265306122448, 0.1020408163265306, 0.12244897959183673, 0.14285714285714285, 0.16326530612244897, 0.18367346938775508, 0.2040816326530612, 0.22448979591836732, 0.24489795918367346, 0.26530612244897955, 0.2857142857142857, 0.3061224489795918, 0.32653061224489793, 0.3469387755102041, 0.36734693877551017, 0.3877551020408163, 0.4081632653061224, 0.42857142857142855, 0.44897959183673464, 0.4693877551020408, 0.4897959183673469, 0.5102040816326531, 0.5306122448979591, 0.5510204081632653, 0.5714285714285714, 0.5918367346938775, 0.6122448979591836, 0.6326530612244897, 0.6530612244897959, 0.673469387755102, 0.6938775510204082, 0.7142857142857142, 0.7346938775510203, 0.7551020408163265, 0.7755102040816326, 0.7959183673469387, 0.8163265306122448, 0.836734693877551, 0.8571428571428571, 0.8775510204081632, 0.8979591836734693, 0.9183673469387754, 0.9387755102040816, 0.9591836734693877, 0.9795918367346939, 1.0], \"y\": [0.0, 5.519360000000001e-14, 2.7682406400000005e-11, 1.0420337663999996e-09, 1.3582834073600003e-08, 9.900000000000005e-08, 4.994667380735998e-07, 1.9545350257664017e-06, 6.349679650406401e-06, 1.7892007991193594e-05, 4.5056000000000024e-05, 0.0001035836988865536, 0.00022085511036272633, 0.00044196159946864654, 0.0008378137115099143, 0.0015155909999999995, 0.002631791032244634, 0.0044080536748452885, 0.007149820949456483, 0.011267738106126234, 0.01730150400000001, 0.025945634289596307, 0.03807630531378545, 0.054778095662541944, 0.07736903234601614, 0.107421875, 0.14677903065596562, 0.1975578791630553, 0.26214260129021316, 0.34315783377159553, 0.44341862399999993, 0.5658502176338164, 0.7133701809754867, 0.8887242325161179, 1.0942659304343214, 1.3316690310000008, 1.6015598926782524, 1.9030557481672712, 2.233192997549664, 2.586227886101488, 2.952790016000001, 3.31886709811222, 3.6645971741443613, 3.9628422265996197, 4.177514640141031, 4.261625379, 4.155019996921697, 3.7817656947088687, 3.047149581627715, 1.834245076686331, 0.0]}, {\"line\": {\"color\": \"#00CED1\", \"width\": 6}, \"name\": \"Binomial probability\", \"type\": \"scatter\", \"visible\": false, \"x\": [0.0, 0.02040816326530612, 0.04081632653061224, 0.061224489795918366, 0.08163265306122448, 0.1020408163265306, 0.12244897959183673, 0.14285714285714285, 0.16326530612244897, 0.18367346938775508, 0.2040816326530612, 0.22448979591836732, 0.24489795918367346, 0.26530612244897955, 0.2857142857142857, 0.3061224489795918, 0.32653061224489793, 0.3469387755102041, 0.36734693877551017, 0.3877551020408163, 0.4081632653061224, 0.42857142857142855, 0.44897959183673464, 0.4693877551020408, 0.4897959183673469, 0.5102040816326531, 0.5306122448979591, 0.5510204081632653, 0.5714285714285714, 0.5918367346938775, 0.6122448979591836, 0.6326530612244897, 0.6530612244897959, 0.673469387755102, 0.6938775510204082, 0.7142857142857142, 0.7346938775510203, 0.7551020408163265, 0.7755102040816326, 0.7959183673469387, 0.8163265306122448, 0.836734693877551, 0.8571428571428571, 0.8775510204081632, 0.8979591836734693, 0.9183673469387754, 0.9387755102040816, 0.9591836734693877, 0.9795918367346939, 1.0], \"y\": [0.0, 1.1264000000000002e-16, 1.1534336000000002e-13, 6.651279359999998e-12, 1.1811160064000002e-10, 1.1000000000000005e-09, 6.8109100646399975e-09, 3.181801204736003e-08, 1.2094627905536002e-07, 3.9275139492863985e-07, 1.1264000000000006e-06, 2.92159150705664e-06, 6.9743719061913575e-06, 1.5528380521871365e-05, 3.258164433649667e-05, 6.495389999999997e-05, 0.00012384898975268866, 0.00022708155294657553, 0.0004021774284069272, 0.0006906033032787047, 0.0011534336000000006, 0.00187882179338456, 0.0029917097032259995, 0.0046662822231054255, 0.00714175683193995, 0.0107421875, 0.015901061654396278, 0.023191577119141278, 0.03336360380057259, 0.0473884627589346, 0.06651279359999997, 0.09232293024551741, 0.1268213655067532, 0.1725170569001876, 0.23253151021729335, 0.3107227739000003, 0.41182968668869346, 0.5416389437091464, 0.7071777825573936, 0.9169353414359823, 1.1811160064000006, 1.5119283446955678, 1.9239135164257894, 2.4343173677683376, 3.0635107361034235, 3.835462841100001, 4.778272996459956, 5.924766255043901, 7.313158995906509, 8.987800875763014, 11.0]}],\n",
       "                        {\"height\": 600, \"sliders\": [{\"active\": 10, \"currentvalue\": {\"prefix\": \"Number of positive events: \"}, \"pad\": {\"t\": 50}, \"steps\": [{\"args\": [{\"visible\": [true, false, false, false, false, false, false, false, false, false, false]}, {\"title.text\": \"Beta distribution a 1, b 11\"}], \"method\": \"update\"}, {\"args\": [{\"visible\": [false, true, false, false, false, false, false, false, false, false, false]}, {\"title.text\": \"Beta distribution a 2, b 10\"}], \"method\": \"update\"}, {\"args\": [{\"visible\": [false, false, true, false, false, false, false, false, false, false, false]}, {\"title.text\": \"Beta distribution a 3, b 9\"}], \"method\": \"update\"}, {\"args\": [{\"visible\": [false, false, false, true, false, false, false, false, false, false, false]}, {\"title.text\": \"Beta distribution a 4, b 8\"}], \"method\": \"update\"}, {\"args\": [{\"visible\": [false, false, false, false, true, false, false, false, false, false, false]}, {\"title.text\": \"Beta distribution a 5, b 7\"}], \"method\": \"update\"}, {\"args\": [{\"visible\": [false, false, false, false, false, true, false, false, false, false, false]}, {\"title.text\": \"Beta distribution a 6, b 6\"}], \"method\": \"update\"}, {\"args\": [{\"visible\": [false, false, false, false, false, false, true, false, false, false, false]}, {\"title.text\": \"Beta distribution a 7, b 5\"}], \"method\": \"update\"}, {\"args\": [{\"visible\": [false, false, false, false, false, false, false, true, false, false, false]}, {\"title.text\": \"Beta distribution a 8, b 4\"}], \"method\": \"update\"}, {\"args\": [{\"visible\": [false, false, false, false, false, false, false, false, true, false, false]}, {\"title.text\": \"Beta distribution a 9, b 3\"}], \"method\": \"update\"}, {\"args\": [{\"visible\": [false, false, false, false, false, false, false, false, false, true, false]}, {\"title.text\": \"Beta distribution a 10, b 2\"}], \"method\": \"update\"}, {\"args\": [{\"visible\": [false, false, false, false, false, false, false, false, false, false, true]}, {\"title.text\": \"Beta distribution a 11, b 1\"}], \"method\": \"update\"}]}], \"template\": {\"data\": {\"bar\": [{\"error_x\": {\"color\": \"#2a3f5f\"}, \"error_y\": {\"color\": \"#2a3f5f\"}, \"marker\": {\"line\": {\"color\": \"#E5ECF6\", \"width\": 0.5}}, \"type\": \"bar\"}], \"barpolar\": [{\"marker\": {\"line\": {\"color\": \"#E5ECF6\", \"width\": 0.5}}, \"type\": \"barpolar\"}], \"carpet\": [{\"aaxis\": {\"endlinecolor\": \"#2a3f5f\", \"gridcolor\": \"white\", \"linecolor\": \"white\", \"minorgridcolor\": \"white\", \"startlinecolor\": \"#2a3f5f\"}, \"baxis\": {\"endlinecolor\": \"#2a3f5f\", \"gridcolor\": \"white\", \"linecolor\": \"white\", \"minorgridcolor\": \"white\", \"startlinecolor\": \"#2a3f5f\"}, \"type\": \"carpet\"}], \"choropleth\": [{\"colorbar\": {\"outlinewidth\": 0, \"ticks\": \"\"}, \"type\": \"choropleth\"}], \"contour\": [{\"colorbar\": {\"outlinewidth\": 0, \"ticks\": \"\"}, \"colorscale\": [[0.0, \"#0d0887\"], [0.1111111111111111, \"#46039f\"], [0.2222222222222222, \"#7201a8\"], [0.3333333333333333, \"#9c179e\"], [0.4444444444444444, \"#bd3786\"], [0.5555555555555556, \"#d8576b\"], [0.6666666666666666, \"#ed7953\"], [0.7777777777777778, \"#fb9f3a\"], [0.8888888888888888, \"#fdca26\"], [1.0, \"#f0f921\"]], \"type\": \"contour\"}], \"contourcarpet\": [{\"colorbar\": {\"outlinewidth\": 0, \"ticks\": \"\"}, \"type\": \"contourcarpet\"}], \"heatmap\": [{\"colorbar\": {\"outlinewidth\": 0, \"ticks\": \"\"}, \"colorscale\": [[0.0, \"#0d0887\"], [0.1111111111111111, \"#46039f\"], [0.2222222222222222, \"#7201a8\"], [0.3333333333333333, \"#9c179e\"], [0.4444444444444444, \"#bd3786\"], [0.5555555555555556, \"#d8576b\"], [0.6666666666666666, \"#ed7953\"], [0.7777777777777778, \"#fb9f3a\"], [0.8888888888888888, \"#fdca26\"], [1.0, \"#f0f921\"]], \"type\": \"heatmap\"}], \"heatmapgl\": [{\"colorbar\": {\"outlinewidth\": 0, \"ticks\": \"\"}, \"colorscale\": [[0.0, \"#0d0887\"], [0.1111111111111111, \"#46039f\"], [0.2222222222222222, \"#7201a8\"], [0.3333333333333333, \"#9c179e\"], [0.4444444444444444, \"#bd3786\"], [0.5555555555555556, \"#d8576b\"], [0.6666666666666666, \"#ed7953\"], [0.7777777777777778, \"#fb9f3a\"], [0.8888888888888888, \"#fdca26\"], [1.0, \"#f0f921\"]], \"type\": \"heatmapgl\"}], \"histogram\": [{\"marker\": {\"colorbar\": {\"outlinewidth\": 0, \"ticks\": \"\"}}, \"type\": \"histogram\"}], \"histogram2d\": [{\"colorbar\": {\"outlinewidth\": 0, \"ticks\": \"\"}, \"colorscale\": [[0.0, \"#0d0887\"], [0.1111111111111111, \"#46039f\"], [0.2222222222222222, \"#7201a8\"], [0.3333333333333333, \"#9c179e\"], [0.4444444444444444, \"#bd3786\"], [0.5555555555555556, \"#d8576b\"], [0.6666666666666666, \"#ed7953\"], [0.7777777777777778, \"#fb9f3a\"], [0.8888888888888888, \"#fdca26\"], [1.0, \"#f0f921\"]], \"type\": \"histogram2d\"}], \"histogram2dcontour\": [{\"colorbar\": {\"outlinewidth\": 0, \"ticks\": \"\"}, \"colorscale\": [[0.0, \"#0d0887\"], [0.1111111111111111, \"#46039f\"], [0.2222222222222222, \"#7201a8\"], [0.3333333333333333, \"#9c179e\"], [0.4444444444444444, \"#bd3786\"], [0.5555555555555556, \"#d8576b\"], [0.6666666666666666, \"#ed7953\"], [0.7777777777777778, \"#fb9f3a\"], [0.8888888888888888, \"#fdca26\"], [1.0, \"#f0f921\"]], \"type\": \"histogram2dcontour\"}], \"mesh3d\": [{\"colorbar\": {\"outlinewidth\": 0, \"ticks\": \"\"}, \"type\": \"mesh3d\"}], \"parcoords\": [{\"line\": {\"colorbar\": {\"outlinewidth\": 0, \"ticks\": \"\"}}, \"type\": \"parcoords\"}], \"pie\": [{\"automargin\": true, \"type\": \"pie\"}], \"scatter\": [{\"marker\": {\"colorbar\": {\"outlinewidth\": 0, \"ticks\": \"\"}}, \"type\": \"scatter\"}], \"scatter3d\": [{\"line\": {\"colorbar\": {\"outlinewidth\": 0, \"ticks\": \"\"}}, \"marker\": {\"colorbar\": {\"outlinewidth\": 0, \"ticks\": \"\"}}, \"type\": \"scatter3d\"}], \"scattercarpet\": [{\"marker\": {\"colorbar\": {\"outlinewidth\": 0, \"ticks\": \"\"}}, \"type\": \"scattercarpet\"}], \"scattergeo\": [{\"marker\": {\"colorbar\": {\"outlinewidth\": 0, \"ticks\": \"\"}}, \"type\": \"scattergeo\"}], \"scattergl\": [{\"marker\": {\"colorbar\": {\"outlinewidth\": 0, \"ticks\": \"\"}}, \"type\": \"scattergl\"}], \"scattermapbox\": [{\"marker\": {\"colorbar\": {\"outlinewidth\": 0, \"ticks\": \"\"}}, \"type\": \"scattermapbox\"}], \"scatterpolar\": [{\"marker\": {\"colorbar\": {\"outlinewidth\": 0, \"ticks\": \"\"}}, \"type\": \"scatterpolar\"}], \"scatterpolargl\": [{\"marker\": {\"colorbar\": {\"outlinewidth\": 0, \"ticks\": \"\"}}, \"type\": \"scatterpolargl\"}], \"scatterternary\": [{\"marker\": {\"colorbar\": {\"outlinewidth\": 0, \"ticks\": \"\"}}, \"type\": \"scatterternary\"}], \"surface\": [{\"colorbar\": {\"outlinewidth\": 0, \"ticks\": \"\"}, \"colorscale\": [[0.0, \"#0d0887\"], [0.1111111111111111, \"#46039f\"], [0.2222222222222222, \"#7201a8\"], [0.3333333333333333, \"#9c179e\"], [0.4444444444444444, \"#bd3786\"], [0.5555555555555556, \"#d8576b\"], [0.6666666666666666, \"#ed7953\"], [0.7777777777777778, \"#fb9f3a\"], [0.8888888888888888, \"#fdca26\"], [1.0, \"#f0f921\"]], \"type\": \"surface\"}], \"table\": [{\"cells\": {\"fill\": {\"color\": \"#EBF0F8\"}, \"line\": {\"color\": \"white\"}}, \"header\": {\"fill\": {\"color\": \"#C8D4E3\"}, \"line\": {\"color\": \"white\"}}, \"type\": \"table\"}]}, \"layout\": {\"annotationdefaults\": {\"arrowcolor\": \"#2a3f5f\", \"arrowhead\": 0, \"arrowwidth\": 1}, \"coloraxis\": {\"colorbar\": {\"outlinewidth\": 0, \"ticks\": \"\"}}, \"colorscale\": {\"diverging\": [[0, \"#8e0152\"], [0.1, \"#c51b7d\"], [0.2, \"#de77ae\"], [0.3, \"#f1b6da\"], [0.4, \"#fde0ef\"], [0.5, \"#f7f7f7\"], [0.6, \"#e6f5d0\"], [0.7, \"#b8e186\"], [0.8, \"#7fbc41\"], [0.9, \"#4d9221\"], [1, \"#276419\"]], \"sequential\": [[0.0, \"#0d0887\"], [0.1111111111111111, \"#46039f\"], [0.2222222222222222, \"#7201a8\"], [0.3333333333333333, \"#9c179e\"], [0.4444444444444444, \"#bd3786\"], [0.5555555555555556, \"#d8576b\"], [0.6666666666666666, \"#ed7953\"], [0.7777777777777778, \"#fb9f3a\"], [0.8888888888888888, \"#fdca26\"], [1.0, \"#f0f921\"]], \"sequentialminus\": [[0.0, \"#0d0887\"], [0.1111111111111111, \"#46039f\"], [0.2222222222222222, \"#7201a8\"], [0.3333333333333333, \"#9c179e\"], [0.4444444444444444, \"#bd3786\"], [0.5555555555555556, \"#d8576b\"], [0.6666666666666666, \"#ed7953\"], [0.7777777777777778, \"#fb9f3a\"], [0.8888888888888888, \"#fdca26\"], [1.0, \"#f0f921\"]]}, \"colorway\": [\"#636efa\", \"#EF553B\", \"#00cc96\", \"#ab63fa\", \"#FFA15A\", \"#19d3f3\", \"#FF6692\", \"#B6E880\", \"#FF97FF\", \"#FECB52\"], \"font\": {\"color\": \"#2a3f5f\"}, \"geo\": {\"bgcolor\": \"white\", \"lakecolor\": \"white\", \"landcolor\": \"#E5ECF6\", \"showlakes\": true, \"showland\": true, \"subunitcolor\": \"white\"}, \"hoverlabel\": {\"align\": \"left\"}, \"hovermode\": \"closest\", \"mapbox\": {\"style\": \"light\"}, \"paper_bgcolor\": \"white\", \"plot_bgcolor\": \"#E5ECF6\", \"polar\": {\"angularaxis\": {\"gridcolor\": \"white\", \"linecolor\": \"white\", \"ticks\": \"\"}, \"bgcolor\": \"#E5ECF6\", \"radialaxis\": {\"gridcolor\": \"white\", \"linecolor\": \"white\", \"ticks\": \"\"}}, \"scene\": {\"xaxis\": {\"backgroundcolor\": \"#E5ECF6\", \"gridcolor\": \"white\", \"gridwidth\": 2, \"linecolor\": \"white\", \"showbackground\": true, \"ticks\": \"\", \"zerolinecolor\": \"white\"}, \"yaxis\": {\"backgroundcolor\": \"#E5ECF6\", \"gridcolor\": \"white\", \"gridwidth\": 2, \"linecolor\": \"white\", \"showbackground\": true, \"ticks\": \"\", \"zerolinecolor\": \"white\"}, \"zaxis\": {\"backgroundcolor\": \"#E5ECF6\", \"gridcolor\": \"white\", \"gridwidth\": 2, \"linecolor\": \"white\", \"showbackground\": true, \"ticks\": \"\", \"zerolinecolor\": \"white\"}}, \"shapedefaults\": {\"line\": {\"color\": \"#2a3f5f\"}}, \"ternary\": {\"aaxis\": {\"gridcolor\": \"white\", \"linecolor\": \"white\", \"ticks\": \"\"}, \"baxis\": {\"gridcolor\": \"white\", \"linecolor\": \"white\", \"ticks\": \"\"}, \"bgcolor\": \"#E5ECF6\", \"caxis\": {\"gridcolor\": \"white\", \"linecolor\": \"white\", \"ticks\": \"\"}}, \"title\": {\"x\": 0.05}, \"xaxis\": {\"automargin\": true, \"gridcolor\": \"white\", \"linecolor\": \"white\", \"ticks\": \"\", \"title\": {\"standoff\": 15}, \"zerolinecolor\": \"white\", \"zerolinewidth\": 2}, \"yaxis\": {\"automargin\": true, \"gridcolor\": \"white\", \"linecolor\": \"white\", \"ticks\": \"\", \"title\": {\"standoff\": 15}, \"zerolinecolor\": \"white\", \"zerolinewidth\": 2}}}, \"title\": {\"text\": \"Beta distribution - P(theta/y) vs theta, move slider to vary num_p\"}, \"width\": 800, \"xaxis\": {\"title\": {\"text\": \"Beta distribution - P(theta/y) vs theta, move slider to vary num_p\"}}},\n",
       "                        {\"responsive\": true}\n",
       "                    ).then(function(){\n",
       "                            \n",
       "var gd = document.getElementById('1bf45124-517d-4bf2-ab34-b3a9572abaab');\n",
       "var x = new MutationObserver(function (mutations, observer) {{\n",
       "        var display = window.getComputedStyle(gd).display;\n",
       "        if (!display || display === 'none') {{\n",
       "            console.log([gd, 'removed!']);\n",
       "            Plotly.purge(gd);\n",
       "            observer.disconnect();\n",
       "        }}\n",
       "}});\n",
       "\n",
       "// Listen for the removal of the full notebook cells\n",
       "var notebookContainer = gd.closest('#notebook-container');\n",
       "if (notebookContainer) {{\n",
       "    x.observe(notebookContainer, {childList: true});\n",
       "}}\n",
       "\n",
       "// Listen for the clearing of the current output cell\n",
       "var outputEl = gd.closest('.output');\n",
       "if (outputEl) {{\n",
       "    x.observe(outputEl, {childList: true});\n",
       "}}\n",
       "\n",
       "                        })\n",
       "                };\n",
       "                });\n",
       "            </script>\n",
       "        </div>"
      ]
     },
     "metadata": {},
     "output_type": "display_data"
    }
   ],
   "source": [
    "def beta_vector(num_p, args):\n",
    "    alpha = num_p + 1\n",
    "    beta = args['total'] - num_p + 1\n",
    "    theta_range_steps = args['theta_range_steps'] \n",
    "    \n",
    "    theta =  np.linspace(0,1,theta_range_steps+1)\n",
    "    term = gamma(alpha + beta) / ( gamma(alpha) * gamma(beta) )\n",
    "    p_theta = term * theta**(alpha - 1) * (1 - theta)**(beta - 1)\n",
    "    return(p_theta)\n",
    "\n",
    "\n",
    "fig = plotter(total=10, theta_range_steps=50, function=beta_vector, \n",
    "              function_args={'total':10, 'theta_range_steps': 50},\n",
    "              plotting_args={'title': 'Beta distribution - P(theta/y) vs theta, move slider to vary num_p'})\n",
    "pio.show(fig)"
   ]
  },
  {
   "cell_type": "code",
   "execution_count": 205,
   "metadata": {},
   "outputs": [
    {
     "data": {
      "application/vnd.plotly.v1+json": {
       "config": {
        "plotlyServerURL": "https://plot.ly"
       },
       "data": [
        {
         "hovertemplate": "x=%{x}<br>y=%{y}<extra></extra>",
         "legendgroup": "",
         "line": {
          "color": "steelblue",
          "dash": "solid",
          "width": 4
         },
         "mode": "lines",
         "name": "",
         "showlegend": false,
         "type": "scatter",
         "x": [
          0,
          0.01,
          0.02,
          0.03,
          0.04,
          0.05,
          0.06,
          0.07,
          0.08,
          0.09,
          0.1,
          0.11,
          0.12,
          0.13,
          0.14,
          0.15,
          0.16,
          0.17,
          0.18,
          0.19,
          0.2,
          0.21,
          0.22,
          0.23,
          0.24,
          0.25,
          0.26,
          0.27,
          0.28,
          0.29,
          0.3,
          0.31,
          0.32,
          0.33,
          0.34,
          0.35000000000000003,
          0.36,
          0.37,
          0.38,
          0.39,
          0.4,
          0.41000000000000003,
          0.42,
          0.43,
          0.44,
          0.45,
          0.46,
          0.47000000000000003,
          0.48,
          0.49,
          0.5,
          0.51,
          0.52,
          0.53,
          0.54,
          0.55,
          0.56,
          0.5700000000000001,
          0.58,
          0.59,
          0.6,
          0.61,
          0.62,
          0.63,
          0.64,
          0.65,
          0.66,
          0.67,
          0.68,
          0.6900000000000001,
          0.7000000000000001,
          0.71,
          0.72,
          0.73,
          0.74,
          0.75,
          0.76,
          0.77,
          0.78,
          0.79,
          0.8,
          0.81,
          0.8200000000000001,
          0.8300000000000001,
          0.84,
          0.85,
          0.86,
          0.87,
          0.88,
          0.89,
          0.9,
          0.91,
          0.92,
          0.93,
          0.9400000000000001,
          0.9500000000000001,
          0.96,
          0.97,
          0.98,
          0.99,
          1
         ],
         "xaxis": "x",
         "y": [
          0,
          0.059399999999999994,
          0.1176,
          0.17459999999999998,
          0.2304,
          0.28500000000000003,
          0.3384,
          0.3906,
          0.4416,
          0.49140000000000006,
          0.5400000000000001,
          0.5874,
          0.6335999999999999,
          0.6786,
          0.7224,
          0.7649999999999999,
          0.8063999999999999,
          0.8466,
          0.8856000000000002,
          0.9234000000000001,
          0.9600000000000002,
          0.9954000000000001,
          1.0296,
          1.0626000000000002,
          1.0944,
          1.125,
          1.1544,
          1.1826,
          1.2096,
          1.2353999999999998,
          1.2599999999999998,
          1.2833999999999999,
          1.3055999999999999,
          1.3265999999999998,
          1.3463999999999998,
          1.3649999999999998,
          1.3824,
          1.3985999999999998,
          1.4136000000000002,
          1.4273999999999998,
          1.4400000000000002,
          1.4513999999999998,
          1.4616000000000002,
          1.4706000000000001,
          1.4784000000000002,
          1.4850000000000003,
          1.4904000000000002,
          1.4946000000000002,
          1.4976,
          1.4994,
          1.5,
          1.4994,
          1.4976,
          1.4946,
          1.4904,
          1.4849999999999999,
          1.4784,
          1.4706,
          1.4616,
          1.4514,
          1.44,
          1.4274,
          1.4136,
          1.3986,
          1.3823999999999999,
          1.365,
          1.3463999999999998,
          1.3266,
          1.3055999999999999,
          1.2833999999999999,
          1.2599999999999998,
          1.2354,
          1.2096000000000002,
          1.1826,
          1.1543999999999999,
          1.125,
          1.0944,
          1.0626,
          1.0295999999999998,
          0.9953999999999998,
          0.96,
          0.9233999999999998,
          0.8855999999999997,
          0.8465999999999997,
          0.8064000000000001,
          0.765,
          0.7224,
          0.6786,
          0.6336,
          0.5873999999999999,
          0.5399999999999999,
          0.49139999999999984,
          0.4415999999999998,
          0.3905999999999997,
          0.3383999999999997,
          0.28499999999999964,
          0.2304000000000002,
          0.17460000000000017,
          0.11760000000000011,
          0.05940000000000005,
          0
         ],
         "yaxis": "y"
        }
       ],
       "layout": {
        "height": 600,
        "legend": {
         "tracegroupgap": 0
        },
        "template": {
         "data": {
          "bar": [
           {
            "error_x": {
             "color": "#2a3f5f"
            },
            "error_y": {
             "color": "#2a3f5f"
            },
            "marker": {
             "line": {
              "color": "#E5ECF6",
              "width": 0.5
             }
            },
            "type": "bar"
           }
          ],
          "barpolar": [
           {
            "marker": {
             "line": {
              "color": "#E5ECF6",
              "width": 0.5
             }
            },
            "type": "barpolar"
           }
          ],
          "carpet": [
           {
            "aaxis": {
             "endlinecolor": "#2a3f5f",
             "gridcolor": "white",
             "linecolor": "white",
             "minorgridcolor": "white",
             "startlinecolor": "#2a3f5f"
            },
            "baxis": {
             "endlinecolor": "#2a3f5f",
             "gridcolor": "white",
             "linecolor": "white",
             "minorgridcolor": "white",
             "startlinecolor": "#2a3f5f"
            },
            "type": "carpet"
           }
          ],
          "choropleth": [
           {
            "colorbar": {
             "outlinewidth": 0,
             "ticks": ""
            },
            "type": "choropleth"
           }
          ],
          "contour": [
           {
            "colorbar": {
             "outlinewidth": 0,
             "ticks": ""
            },
            "colorscale": [
             [
              0,
              "#0d0887"
             ],
             [
              0.1111111111111111,
              "#46039f"
             ],
             [
              0.2222222222222222,
              "#7201a8"
             ],
             [
              0.3333333333333333,
              "#9c179e"
             ],
             [
              0.4444444444444444,
              "#bd3786"
             ],
             [
              0.5555555555555556,
              "#d8576b"
             ],
             [
              0.6666666666666666,
              "#ed7953"
             ],
             [
              0.7777777777777778,
              "#fb9f3a"
             ],
             [
              0.8888888888888888,
              "#fdca26"
             ],
             [
              1,
              "#f0f921"
             ]
            ],
            "type": "contour"
           }
          ],
          "contourcarpet": [
           {
            "colorbar": {
             "outlinewidth": 0,
             "ticks": ""
            },
            "type": "contourcarpet"
           }
          ],
          "heatmap": [
           {
            "colorbar": {
             "outlinewidth": 0,
             "ticks": ""
            },
            "colorscale": [
             [
              0,
              "#0d0887"
             ],
             [
              0.1111111111111111,
              "#46039f"
             ],
             [
              0.2222222222222222,
              "#7201a8"
             ],
             [
              0.3333333333333333,
              "#9c179e"
             ],
             [
              0.4444444444444444,
              "#bd3786"
             ],
             [
              0.5555555555555556,
              "#d8576b"
             ],
             [
              0.6666666666666666,
              "#ed7953"
             ],
             [
              0.7777777777777778,
              "#fb9f3a"
             ],
             [
              0.8888888888888888,
              "#fdca26"
             ],
             [
              1,
              "#f0f921"
             ]
            ],
            "type": "heatmap"
           }
          ],
          "heatmapgl": [
           {
            "colorbar": {
             "outlinewidth": 0,
             "ticks": ""
            },
            "colorscale": [
             [
              0,
              "#0d0887"
             ],
             [
              0.1111111111111111,
              "#46039f"
             ],
             [
              0.2222222222222222,
              "#7201a8"
             ],
             [
              0.3333333333333333,
              "#9c179e"
             ],
             [
              0.4444444444444444,
              "#bd3786"
             ],
             [
              0.5555555555555556,
              "#d8576b"
             ],
             [
              0.6666666666666666,
              "#ed7953"
             ],
             [
              0.7777777777777778,
              "#fb9f3a"
             ],
             [
              0.8888888888888888,
              "#fdca26"
             ],
             [
              1,
              "#f0f921"
             ]
            ],
            "type": "heatmapgl"
           }
          ],
          "histogram": [
           {
            "marker": {
             "colorbar": {
              "outlinewidth": 0,
              "ticks": ""
             }
            },
            "type": "histogram"
           }
          ],
          "histogram2d": [
           {
            "colorbar": {
             "outlinewidth": 0,
             "ticks": ""
            },
            "colorscale": [
             [
              0,
              "#0d0887"
             ],
             [
              0.1111111111111111,
              "#46039f"
             ],
             [
              0.2222222222222222,
              "#7201a8"
             ],
             [
              0.3333333333333333,
              "#9c179e"
             ],
             [
              0.4444444444444444,
              "#bd3786"
             ],
             [
              0.5555555555555556,
              "#d8576b"
             ],
             [
              0.6666666666666666,
              "#ed7953"
             ],
             [
              0.7777777777777778,
              "#fb9f3a"
             ],
             [
              0.8888888888888888,
              "#fdca26"
             ],
             [
              1,
              "#f0f921"
             ]
            ],
            "type": "histogram2d"
           }
          ],
          "histogram2dcontour": [
           {
            "colorbar": {
             "outlinewidth": 0,
             "ticks": ""
            },
            "colorscale": [
             [
              0,
              "#0d0887"
             ],
             [
              0.1111111111111111,
              "#46039f"
             ],
             [
              0.2222222222222222,
              "#7201a8"
             ],
             [
              0.3333333333333333,
              "#9c179e"
             ],
             [
              0.4444444444444444,
              "#bd3786"
             ],
             [
              0.5555555555555556,
              "#d8576b"
             ],
             [
              0.6666666666666666,
              "#ed7953"
             ],
             [
              0.7777777777777778,
              "#fb9f3a"
             ],
             [
              0.8888888888888888,
              "#fdca26"
             ],
             [
              1,
              "#f0f921"
             ]
            ],
            "type": "histogram2dcontour"
           }
          ],
          "mesh3d": [
           {
            "colorbar": {
             "outlinewidth": 0,
             "ticks": ""
            },
            "type": "mesh3d"
           }
          ],
          "parcoords": [
           {
            "line": {
             "colorbar": {
              "outlinewidth": 0,
              "ticks": ""
             }
            },
            "type": "parcoords"
           }
          ],
          "pie": [
           {
            "automargin": true,
            "type": "pie"
           }
          ],
          "scatter": [
           {
            "marker": {
             "colorbar": {
              "outlinewidth": 0,
              "ticks": ""
             }
            },
            "type": "scatter"
           }
          ],
          "scatter3d": [
           {
            "line": {
             "colorbar": {
              "outlinewidth": 0,
              "ticks": ""
             }
            },
            "marker": {
             "colorbar": {
              "outlinewidth": 0,
              "ticks": ""
             }
            },
            "type": "scatter3d"
           }
          ],
          "scattercarpet": [
           {
            "marker": {
             "colorbar": {
              "outlinewidth": 0,
              "ticks": ""
             }
            },
            "type": "scattercarpet"
           }
          ],
          "scattergeo": [
           {
            "marker": {
             "colorbar": {
              "outlinewidth": 0,
              "ticks": ""
             }
            },
            "type": "scattergeo"
           }
          ],
          "scattergl": [
           {
            "marker": {
             "colorbar": {
              "outlinewidth": 0,
              "ticks": ""
             }
            },
            "type": "scattergl"
           }
          ],
          "scattermapbox": [
           {
            "marker": {
             "colorbar": {
              "outlinewidth": 0,
              "ticks": ""
             }
            },
            "type": "scattermapbox"
           }
          ],
          "scatterpolar": [
           {
            "marker": {
             "colorbar": {
              "outlinewidth": 0,
              "ticks": ""
             }
            },
            "type": "scatterpolar"
           }
          ],
          "scatterpolargl": [
           {
            "marker": {
             "colorbar": {
              "outlinewidth": 0,
              "ticks": ""
             }
            },
            "type": "scatterpolargl"
           }
          ],
          "scatterternary": [
           {
            "marker": {
             "colorbar": {
              "outlinewidth": 0,
              "ticks": ""
             }
            },
            "type": "scatterternary"
           }
          ],
          "surface": [
           {
            "colorbar": {
             "outlinewidth": 0,
             "ticks": ""
            },
            "colorscale": [
             [
              0,
              "#0d0887"
             ],
             [
              0.1111111111111111,
              "#46039f"
             ],
             [
              0.2222222222222222,
              "#7201a8"
             ],
             [
              0.3333333333333333,
              "#9c179e"
             ],
             [
              0.4444444444444444,
              "#bd3786"
             ],
             [
              0.5555555555555556,
              "#d8576b"
             ],
             [
              0.6666666666666666,
              "#ed7953"
             ],
             [
              0.7777777777777778,
              "#fb9f3a"
             ],
             [
              0.8888888888888888,
              "#fdca26"
             ],
             [
              1,
              "#f0f921"
             ]
            ],
            "type": "surface"
           }
          ],
          "table": [
           {
            "cells": {
             "fill": {
              "color": "#EBF0F8"
             },
             "line": {
              "color": "white"
             }
            },
            "header": {
             "fill": {
              "color": "#C8D4E3"
             },
             "line": {
              "color": "white"
             }
            },
            "type": "table"
           }
          ]
         },
         "layout": {
          "annotationdefaults": {
           "arrowcolor": "#2a3f5f",
           "arrowhead": 0,
           "arrowwidth": 1
          },
          "coloraxis": {
           "colorbar": {
            "outlinewidth": 0,
            "ticks": ""
           }
          },
          "colorscale": {
           "diverging": [
            [
             0,
             "#8e0152"
            ],
            [
             0.1,
             "#c51b7d"
            ],
            [
             0.2,
             "#de77ae"
            ],
            [
             0.3,
             "#f1b6da"
            ],
            [
             0.4,
             "#fde0ef"
            ],
            [
             0.5,
             "#f7f7f7"
            ],
            [
             0.6,
             "#e6f5d0"
            ],
            [
             0.7,
             "#b8e186"
            ],
            [
             0.8,
             "#7fbc41"
            ],
            [
             0.9,
             "#4d9221"
            ],
            [
             1,
             "#276419"
            ]
           ],
           "sequential": [
            [
             0,
             "#0d0887"
            ],
            [
             0.1111111111111111,
             "#46039f"
            ],
            [
             0.2222222222222222,
             "#7201a8"
            ],
            [
             0.3333333333333333,
             "#9c179e"
            ],
            [
             0.4444444444444444,
             "#bd3786"
            ],
            [
             0.5555555555555556,
             "#d8576b"
            ],
            [
             0.6666666666666666,
             "#ed7953"
            ],
            [
             0.7777777777777778,
             "#fb9f3a"
            ],
            [
             0.8888888888888888,
             "#fdca26"
            ],
            [
             1,
             "#f0f921"
            ]
           ],
           "sequentialminus": [
            [
             0,
             "#0d0887"
            ],
            [
             0.1111111111111111,
             "#46039f"
            ],
            [
             0.2222222222222222,
             "#7201a8"
            ],
            [
             0.3333333333333333,
             "#9c179e"
            ],
            [
             0.4444444444444444,
             "#bd3786"
            ],
            [
             0.5555555555555556,
             "#d8576b"
            ],
            [
             0.6666666666666666,
             "#ed7953"
            ],
            [
             0.7777777777777778,
             "#fb9f3a"
            ],
            [
             0.8888888888888888,
             "#fdca26"
            ],
            [
             1,
             "#f0f921"
            ]
           ]
          },
          "colorway": [
           "#636efa",
           "#EF553B",
           "#00cc96",
           "#ab63fa",
           "#FFA15A",
           "#19d3f3",
           "#FF6692",
           "#B6E880",
           "#FF97FF",
           "#FECB52"
          ],
          "font": {
           "color": "#2a3f5f"
          },
          "geo": {
           "bgcolor": "white",
           "lakecolor": "white",
           "landcolor": "#E5ECF6",
           "showlakes": true,
           "showland": true,
           "subunitcolor": "white"
          },
          "hoverlabel": {
           "align": "left"
          },
          "hovermode": "closest",
          "mapbox": {
           "style": "light"
          },
          "paper_bgcolor": "white",
          "plot_bgcolor": "#E5ECF6",
          "polar": {
           "angularaxis": {
            "gridcolor": "white",
            "linecolor": "white",
            "ticks": ""
           },
           "bgcolor": "#E5ECF6",
           "radialaxis": {
            "gridcolor": "white",
            "linecolor": "white",
            "ticks": ""
           }
          },
          "scene": {
           "xaxis": {
            "backgroundcolor": "#E5ECF6",
            "gridcolor": "white",
            "gridwidth": 2,
            "linecolor": "white",
            "showbackground": true,
            "ticks": "",
            "zerolinecolor": "white"
           },
           "yaxis": {
            "backgroundcolor": "#E5ECF6",
            "gridcolor": "white",
            "gridwidth": 2,
            "linecolor": "white",
            "showbackground": true,
            "ticks": "",
            "zerolinecolor": "white"
           },
           "zaxis": {
            "backgroundcolor": "#E5ECF6",
            "gridcolor": "white",
            "gridwidth": 2,
            "linecolor": "white",
            "showbackground": true,
            "ticks": "",
            "zerolinecolor": "white"
           }
          },
          "shapedefaults": {
           "line": {
            "color": "#2a3f5f"
           }
          },
          "ternary": {
           "aaxis": {
            "gridcolor": "white",
            "linecolor": "white",
            "ticks": ""
           },
           "baxis": {
            "gridcolor": "white",
            "linecolor": "white",
            "ticks": ""
           },
           "bgcolor": "#E5ECF6",
           "caxis": {
            "gridcolor": "white",
            "linecolor": "white",
            "ticks": ""
           }
          },
          "title": {
           "x": 0.05
          },
          "xaxis": {
           "automargin": true,
           "gridcolor": "white",
           "linecolor": "white",
           "ticks": "",
           "title": {
            "standoff": 15
           },
           "zerolinecolor": "white",
           "zerolinewidth": 2
          },
          "yaxis": {
           "automargin": true,
           "gridcolor": "white",
           "linecolor": "white",
           "ticks": "",
           "title": {
            "standoff": 15
           },
           "zerolinecolor": "white",
           "zerolinewidth": 2
          }
         }
        },
        "title": {
         "text": "Beta distribution a 2, b 2"
        },
        "width": 800,
        "xaxis": {
         "anchor": "y",
         "domain": [
          0,
          1
         ],
         "title": {
          "text": "Theta"
         }
        },
        "yaxis": {
         "anchor": "x",
         "domain": [
          0,
          1
         ],
         "title": {
          "text": "P(theta)"
         }
        }
       }
      },
      "text/html": [
       "<div>\n",
       "        \n",
       "        \n",
       "            <div id=\"c280da9d-fe5f-4ea7-8944-9c8195987287\" class=\"plotly-graph-div\" style=\"height:600px; width:800px;\"></div>\n",
       "            <script type=\"text/javascript\">\n",
       "                require([\"plotly\"], function(Plotly) {\n",
       "                    window.PLOTLYENV=window.PLOTLYENV || {};\n",
       "                    \n",
       "                if (document.getElementById(\"c280da9d-fe5f-4ea7-8944-9c8195987287\")) {\n",
       "                    Plotly.newPlot(\n",
       "                        'c280da9d-fe5f-4ea7-8944-9c8195987287',\n",
       "                        [{\"hovertemplate\": \"x=%{x}<br>y=%{y}<extra></extra>\", \"legendgroup\": \"\", \"line\": {\"color\": \"steelblue\", \"dash\": \"solid\", \"width\": 4}, \"mode\": \"lines\", \"name\": \"\", \"showlegend\": false, \"type\": \"scatter\", \"x\": [0.0, 0.01, 0.02, 0.03, 0.04, 0.05, 0.06, 0.07, 0.08, 0.09, 0.1, 0.11, 0.12, 0.13, 0.14, 0.15, 0.16, 0.17, 0.18, 0.19, 0.2, 0.21, 0.22, 0.23, 0.24, 0.25, 0.26, 0.27, 0.28, 0.29, 0.3, 0.31, 0.32, 0.33, 0.34, 0.35000000000000003, 0.36, 0.37, 0.38, 0.39, 0.4, 0.41000000000000003, 0.42, 0.43, 0.44, 0.45, 0.46, 0.47000000000000003, 0.48, 0.49, 0.5, 0.51, 0.52, 0.53, 0.54, 0.55, 0.56, 0.5700000000000001, 0.58, 0.59, 0.6, 0.61, 0.62, 0.63, 0.64, 0.65, 0.66, 0.67, 0.68, 0.6900000000000001, 0.7000000000000001, 0.71, 0.72, 0.73, 0.74, 0.75, 0.76, 0.77, 0.78, 0.79, 0.8, 0.81, 0.8200000000000001, 0.8300000000000001, 0.84, 0.85, 0.86, 0.87, 0.88, 0.89, 0.9, 0.91, 0.92, 0.93, 0.9400000000000001, 0.9500000000000001, 0.96, 0.97, 0.98, 0.99, 1.0], \"xaxis\": \"x\", \"y\": [0.0, 0.059399999999999994, 0.1176, 0.17459999999999998, 0.2304, 0.28500000000000003, 0.3384, 0.3906, 0.4416, 0.49140000000000006, 0.5400000000000001, 0.5874, 0.6335999999999999, 0.6786, 0.7224, 0.7649999999999999, 0.8063999999999999, 0.8466, 0.8856000000000002, 0.9234000000000001, 0.9600000000000002, 0.9954000000000001, 1.0296, 1.0626000000000002, 1.0944, 1.125, 1.1544, 1.1826, 1.2096, 1.2353999999999998, 1.2599999999999998, 1.2833999999999999, 1.3055999999999999, 1.3265999999999998, 1.3463999999999998, 1.3649999999999998, 1.3824, 1.3985999999999998, 1.4136000000000002, 1.4273999999999998, 1.4400000000000002, 1.4513999999999998, 1.4616000000000002, 1.4706000000000001, 1.4784000000000002, 1.4850000000000003, 1.4904000000000002, 1.4946000000000002, 1.4976, 1.4994, 1.5, 1.4994, 1.4976, 1.4946, 1.4904, 1.4849999999999999, 1.4784, 1.4706, 1.4616, 1.4514, 1.44, 1.4274, 1.4136, 1.3986, 1.3823999999999999, 1.365, 1.3463999999999998, 1.3266, 1.3055999999999999, 1.2833999999999999, 1.2599999999999998, 1.2354, 1.2096000000000002, 1.1826, 1.1543999999999999, 1.125, 1.0944, 1.0626, 1.0295999999999998, 0.9953999999999998, 0.96, 0.9233999999999998, 0.8855999999999997, 0.8465999999999997, 0.8064000000000001, 0.765, 0.7224, 0.6786, 0.6336, 0.5873999999999999, 0.5399999999999999, 0.49139999999999984, 0.4415999999999998, 0.3905999999999997, 0.3383999999999997, 0.28499999999999964, 0.2304000000000002, 0.17460000000000017, 0.11760000000000011, 0.05940000000000005, 0.0], \"yaxis\": \"y\"}],\n",
       "                        {\"height\": 600, \"legend\": {\"tracegroupgap\": 0}, \"template\": {\"data\": {\"bar\": [{\"error_x\": {\"color\": \"#2a3f5f\"}, \"error_y\": {\"color\": \"#2a3f5f\"}, \"marker\": {\"line\": {\"color\": \"#E5ECF6\", \"width\": 0.5}}, \"type\": \"bar\"}], \"barpolar\": [{\"marker\": {\"line\": {\"color\": \"#E5ECF6\", \"width\": 0.5}}, \"type\": \"barpolar\"}], \"carpet\": [{\"aaxis\": {\"endlinecolor\": \"#2a3f5f\", \"gridcolor\": \"white\", \"linecolor\": \"white\", \"minorgridcolor\": \"white\", \"startlinecolor\": \"#2a3f5f\"}, \"baxis\": {\"endlinecolor\": \"#2a3f5f\", \"gridcolor\": \"white\", \"linecolor\": \"white\", \"minorgridcolor\": \"white\", \"startlinecolor\": \"#2a3f5f\"}, \"type\": \"carpet\"}], \"choropleth\": [{\"colorbar\": {\"outlinewidth\": 0, \"ticks\": \"\"}, \"type\": \"choropleth\"}], \"contour\": [{\"colorbar\": {\"outlinewidth\": 0, \"ticks\": \"\"}, \"colorscale\": [[0.0, \"#0d0887\"], [0.1111111111111111, \"#46039f\"], [0.2222222222222222, \"#7201a8\"], [0.3333333333333333, \"#9c179e\"], [0.4444444444444444, \"#bd3786\"], [0.5555555555555556, \"#d8576b\"], [0.6666666666666666, \"#ed7953\"], [0.7777777777777778, \"#fb9f3a\"], [0.8888888888888888, \"#fdca26\"], [1.0, \"#f0f921\"]], \"type\": \"contour\"}], \"contourcarpet\": [{\"colorbar\": {\"outlinewidth\": 0, \"ticks\": \"\"}, \"type\": \"contourcarpet\"}], \"heatmap\": [{\"colorbar\": {\"outlinewidth\": 0, \"ticks\": \"\"}, \"colorscale\": [[0.0, \"#0d0887\"], [0.1111111111111111, \"#46039f\"], [0.2222222222222222, \"#7201a8\"], [0.3333333333333333, \"#9c179e\"], [0.4444444444444444, \"#bd3786\"], [0.5555555555555556, \"#d8576b\"], [0.6666666666666666, \"#ed7953\"], [0.7777777777777778, \"#fb9f3a\"], [0.8888888888888888, \"#fdca26\"], [1.0, \"#f0f921\"]], \"type\": \"heatmap\"}], \"heatmapgl\": [{\"colorbar\": {\"outlinewidth\": 0, \"ticks\": \"\"}, \"colorscale\": [[0.0, \"#0d0887\"], [0.1111111111111111, \"#46039f\"], [0.2222222222222222, \"#7201a8\"], [0.3333333333333333, \"#9c179e\"], [0.4444444444444444, \"#bd3786\"], [0.5555555555555556, \"#d8576b\"], [0.6666666666666666, \"#ed7953\"], [0.7777777777777778, \"#fb9f3a\"], [0.8888888888888888, \"#fdca26\"], [1.0, \"#f0f921\"]], \"type\": \"heatmapgl\"}], \"histogram\": [{\"marker\": {\"colorbar\": {\"outlinewidth\": 0, \"ticks\": \"\"}}, \"type\": \"histogram\"}], \"histogram2d\": [{\"colorbar\": {\"outlinewidth\": 0, \"ticks\": \"\"}, \"colorscale\": [[0.0, \"#0d0887\"], [0.1111111111111111, \"#46039f\"], [0.2222222222222222, \"#7201a8\"], [0.3333333333333333, \"#9c179e\"], [0.4444444444444444, \"#bd3786\"], [0.5555555555555556, \"#d8576b\"], [0.6666666666666666, \"#ed7953\"], [0.7777777777777778, \"#fb9f3a\"], [0.8888888888888888, \"#fdca26\"], [1.0, \"#f0f921\"]], \"type\": \"histogram2d\"}], \"histogram2dcontour\": [{\"colorbar\": {\"outlinewidth\": 0, \"ticks\": \"\"}, \"colorscale\": [[0.0, \"#0d0887\"], [0.1111111111111111, \"#46039f\"], [0.2222222222222222, \"#7201a8\"], [0.3333333333333333, \"#9c179e\"], [0.4444444444444444, \"#bd3786\"], [0.5555555555555556, \"#d8576b\"], [0.6666666666666666, \"#ed7953\"], [0.7777777777777778, \"#fb9f3a\"], [0.8888888888888888, \"#fdca26\"], [1.0, \"#f0f921\"]], \"type\": \"histogram2dcontour\"}], \"mesh3d\": [{\"colorbar\": {\"outlinewidth\": 0, \"ticks\": \"\"}, \"type\": \"mesh3d\"}], \"parcoords\": [{\"line\": {\"colorbar\": {\"outlinewidth\": 0, \"ticks\": \"\"}}, \"type\": \"parcoords\"}], \"pie\": [{\"automargin\": true, \"type\": \"pie\"}], \"scatter\": [{\"marker\": {\"colorbar\": {\"outlinewidth\": 0, \"ticks\": \"\"}}, \"type\": \"scatter\"}], \"scatter3d\": [{\"line\": {\"colorbar\": {\"outlinewidth\": 0, \"ticks\": \"\"}}, \"marker\": {\"colorbar\": {\"outlinewidth\": 0, \"ticks\": \"\"}}, \"type\": \"scatter3d\"}], \"scattercarpet\": [{\"marker\": {\"colorbar\": {\"outlinewidth\": 0, \"ticks\": \"\"}}, \"type\": \"scattercarpet\"}], \"scattergeo\": [{\"marker\": {\"colorbar\": {\"outlinewidth\": 0, \"ticks\": \"\"}}, \"type\": \"scattergeo\"}], \"scattergl\": [{\"marker\": {\"colorbar\": {\"outlinewidth\": 0, \"ticks\": \"\"}}, \"type\": \"scattergl\"}], \"scattermapbox\": [{\"marker\": {\"colorbar\": {\"outlinewidth\": 0, \"ticks\": \"\"}}, \"type\": \"scattermapbox\"}], \"scatterpolar\": [{\"marker\": {\"colorbar\": {\"outlinewidth\": 0, \"ticks\": \"\"}}, \"type\": \"scatterpolar\"}], \"scatterpolargl\": [{\"marker\": {\"colorbar\": {\"outlinewidth\": 0, \"ticks\": \"\"}}, \"type\": \"scatterpolargl\"}], \"scatterternary\": [{\"marker\": {\"colorbar\": {\"outlinewidth\": 0, \"ticks\": \"\"}}, \"type\": \"scatterternary\"}], \"surface\": [{\"colorbar\": {\"outlinewidth\": 0, \"ticks\": \"\"}, \"colorscale\": [[0.0, \"#0d0887\"], [0.1111111111111111, \"#46039f\"], [0.2222222222222222, \"#7201a8\"], [0.3333333333333333, \"#9c179e\"], [0.4444444444444444, \"#bd3786\"], [0.5555555555555556, \"#d8576b\"], [0.6666666666666666, \"#ed7953\"], [0.7777777777777778, \"#fb9f3a\"], [0.8888888888888888, \"#fdca26\"], [1.0, \"#f0f921\"]], \"type\": \"surface\"}], \"table\": [{\"cells\": {\"fill\": {\"color\": \"#EBF0F8\"}, \"line\": {\"color\": \"white\"}}, \"header\": {\"fill\": {\"color\": \"#C8D4E3\"}, \"line\": {\"color\": \"white\"}}, \"type\": \"table\"}]}, \"layout\": {\"annotationdefaults\": {\"arrowcolor\": \"#2a3f5f\", \"arrowhead\": 0, \"arrowwidth\": 1}, \"coloraxis\": {\"colorbar\": {\"outlinewidth\": 0, \"ticks\": \"\"}}, \"colorscale\": {\"diverging\": [[0, \"#8e0152\"], [0.1, \"#c51b7d\"], [0.2, \"#de77ae\"], [0.3, \"#f1b6da\"], [0.4, \"#fde0ef\"], [0.5, \"#f7f7f7\"], [0.6, \"#e6f5d0\"], [0.7, \"#b8e186\"], [0.8, \"#7fbc41\"], [0.9, \"#4d9221\"], [1, \"#276419\"]], \"sequential\": [[0.0, \"#0d0887\"], [0.1111111111111111, \"#46039f\"], [0.2222222222222222, \"#7201a8\"], [0.3333333333333333, \"#9c179e\"], [0.4444444444444444, \"#bd3786\"], [0.5555555555555556, \"#d8576b\"], [0.6666666666666666, \"#ed7953\"], [0.7777777777777778, \"#fb9f3a\"], [0.8888888888888888, \"#fdca26\"], [1.0, \"#f0f921\"]], \"sequentialminus\": [[0.0, \"#0d0887\"], [0.1111111111111111, \"#46039f\"], [0.2222222222222222, \"#7201a8\"], [0.3333333333333333, \"#9c179e\"], [0.4444444444444444, \"#bd3786\"], [0.5555555555555556, \"#d8576b\"], [0.6666666666666666, \"#ed7953\"], [0.7777777777777778, \"#fb9f3a\"], [0.8888888888888888, \"#fdca26\"], [1.0, \"#f0f921\"]]}, \"colorway\": [\"#636efa\", \"#EF553B\", \"#00cc96\", \"#ab63fa\", \"#FFA15A\", \"#19d3f3\", \"#FF6692\", \"#B6E880\", \"#FF97FF\", \"#FECB52\"], \"font\": {\"color\": \"#2a3f5f\"}, \"geo\": {\"bgcolor\": \"white\", \"lakecolor\": \"white\", \"landcolor\": \"#E5ECF6\", \"showlakes\": true, \"showland\": true, \"subunitcolor\": \"white\"}, \"hoverlabel\": {\"align\": \"left\"}, \"hovermode\": \"closest\", \"mapbox\": {\"style\": \"light\"}, \"paper_bgcolor\": \"white\", \"plot_bgcolor\": \"#E5ECF6\", \"polar\": {\"angularaxis\": {\"gridcolor\": \"white\", \"linecolor\": \"white\", \"ticks\": \"\"}, \"bgcolor\": \"#E5ECF6\", \"radialaxis\": {\"gridcolor\": \"white\", \"linecolor\": \"white\", \"ticks\": \"\"}}, \"scene\": {\"xaxis\": {\"backgroundcolor\": \"#E5ECF6\", \"gridcolor\": \"white\", \"gridwidth\": 2, \"linecolor\": \"white\", \"showbackground\": true, \"ticks\": \"\", \"zerolinecolor\": \"white\"}, \"yaxis\": {\"backgroundcolor\": \"#E5ECF6\", \"gridcolor\": \"white\", \"gridwidth\": 2, \"linecolor\": \"white\", \"showbackground\": true, \"ticks\": \"\", \"zerolinecolor\": \"white\"}, \"zaxis\": {\"backgroundcolor\": \"#E5ECF6\", \"gridcolor\": \"white\", \"gridwidth\": 2, \"linecolor\": \"white\", \"showbackground\": true, \"ticks\": \"\", \"zerolinecolor\": \"white\"}}, \"shapedefaults\": {\"line\": {\"color\": \"#2a3f5f\"}}, \"ternary\": {\"aaxis\": {\"gridcolor\": \"white\", \"linecolor\": \"white\", \"ticks\": \"\"}, \"baxis\": {\"gridcolor\": \"white\", \"linecolor\": \"white\", \"ticks\": \"\"}, \"bgcolor\": \"#E5ECF6\", \"caxis\": {\"gridcolor\": \"white\", \"linecolor\": \"white\", \"ticks\": \"\"}}, \"title\": {\"x\": 0.05}, \"xaxis\": {\"automargin\": true, \"gridcolor\": \"white\", \"linecolor\": \"white\", \"ticks\": \"\", \"title\": {\"standoff\": 15}, \"zerolinecolor\": \"white\", \"zerolinewidth\": 2}, \"yaxis\": {\"automargin\": true, \"gridcolor\": \"white\", \"linecolor\": \"white\", \"ticks\": \"\", \"title\": {\"standoff\": 15}, \"zerolinecolor\": \"white\", \"zerolinewidth\": 2}}}, \"title\": {\"text\": \"Beta distribution a 2, b 2\"}, \"width\": 800, \"xaxis\": {\"anchor\": \"y\", \"domain\": [0.0, 1.0], \"title\": {\"text\": \"Theta\"}}, \"yaxis\": {\"anchor\": \"x\", \"domain\": [0.0, 1.0], \"title\": {\"text\": \"P(theta)\"}}},\n",
       "                        {\"responsive\": true}\n",
       "                    ).then(function(){\n",
       "                            \n",
       "var gd = document.getElementById('c280da9d-fe5f-4ea7-8944-9c8195987287');\n",
       "var x = new MutationObserver(function (mutations, observer) {{\n",
       "        var display = window.getComputedStyle(gd).display;\n",
       "        if (!display || display === 'none') {{\n",
       "            console.log([gd, 'removed!']);\n",
       "            Plotly.purge(gd);\n",
       "            observer.disconnect();\n",
       "        }}\n",
       "}});\n",
       "\n",
       "// Listen for the removal of the full notebook cells\n",
       "var notebookContainer = gd.closest('#notebook-container');\n",
       "if (notebookContainer) {{\n",
       "    x.observe(notebookContainer, {childList: true});\n",
       "}}\n",
       "\n",
       "// Listen for the clearing of the current output cell\n",
       "var outputEl = gd.closest('.output');\n",
       "if (outputEl) {{\n",
       "    x.observe(outputEl, {childList: true});\n",
       "}}\n",
       "\n",
       "                        })\n",
       "                };\n",
       "                });\n",
       "            </script>\n",
       "        </div>"
      ]
     },
     "metadata": {},
     "output_type": "display_data"
    }
   ],
   "source": [
    "def beta_individual(alpha, beta, theta_range_steps):\n",
    "    theta =  np.linspace(0,1,theta_range_steps+1)\n",
    "    term = gamma(alpha + beta) / ( gamma(alpha) * gamma(beta) )\n",
    "    p_theta = term * theta**(alpha - 1) * (1 - theta)**(beta - 1)\n",
    "    fig = px.line(x=theta, y=p_theta, color_discrete_sequence=[\"steelblue\"], \n",
    "                  height=600, width=800, title=\"Beta distribution a %d, b %d\" %(alpha, beta))\n",
    "    fig.data[0].line['width'] = 4\n",
    "    fig.layout.xaxis.title.text = \"Theta\"\n",
    "    fig.layout.yaxis.title.text = \"P(theta)\"\n",
    "    fig.show()\n",
    "\n",
    "\n",
    "beta_individual(alpha=2,beta=2,theta_range_steps=100)"
   ]
  },
  {
   "cell_type": "markdown",
   "metadata": {},
   "source": [
    "## Poisson distributions are discrete distributions that indicate the probability of a number of events\n",
    "\n",
    "## P(y|$\\theta$) = $\\theta^y \\cdot e^{-\\theta} / y! $\n",
    "\n",
    "#### The mean and variance of a Poisson distribution are both given by $\\theta$, resulting in the distribution growing wider as the mean moves away from zero.\n",
    "\n",
    "#### If we notice 'n' observations that are drawn from a distribution with the underlying parameter $\\theta$, the joint distribution for this can be written as\n",
    "\n",
    "#### $P(Y_1 = y_1, Y_2 = y_2, ... Y_n = y_n) =  \\theta^{\\sum y_i} e^{-n \\theta} / (y_1! ... y_n!)$"
   ]
  },
  {
   "cell_type": "code",
   "execution_count": 154,
   "metadata": {
    "inputHidden": false,
    "outputHidden": false
   },
   "outputs": [
    {
     "data": {
      "application/vnd.plotly.v1+json": {
       "config": {
        "plotlyServerURL": "https://plot.ly"
       },
       "data": [
        {
         "line": {
          "color": "#00CED1",
          "width": 6
         },
         "name": "Binomial probability",
         "type": "scatter",
         "visible": false,
         "x": [
          0,
          1,
          2,
          3,
          4,
          5,
          6,
          7,
          8,
          9,
          10,
          11,
          12,
          13,
          14,
          15,
          16,
          17,
          18,
          19,
          20
         ],
         "y": [
          1,
          0,
          0,
          0,
          0,
          0,
          0,
          0,
          0,
          0,
          0,
          0,
          0,
          0,
          0,
          0,
          0,
          0,
          0,
          0,
          0
         ]
        },
        {
         "line": {
          "color": "#00CED1",
          "width": 6
         },
         "name": "Binomial probability",
         "type": "scatter",
         "visible": false,
         "x": [
          0,
          1,
          2,
          3,
          4,
          5,
          6,
          7,
          8,
          9,
          10,
          11,
          12,
          13,
          14,
          15,
          16,
          17,
          18,
          19,
          20
         ],
         "y": [
          0.36787944117144233,
          0.36787944117144233,
          0.18393972058572117,
          0.06131324019524039,
          0.015328310048810098,
          0.0030656620097620196,
          0.0005109436682936699,
          7.299195261338141e-05,
          9.123994076672677e-06,
          1.0137771196302974e-06,
          1.0137771196302975e-07,
          9.216155633002704e-09,
          7.68012969416892e-10,
          5.907792072437631e-11,
          4.2198514803125934e-12,
          2.8132343202083955e-13,
          1.7582714501302472e-14,
          1.0342773236060278e-15,
          5.745985131144599e-17,
          3.0242027006024205e-18,
          1.5121013503012103e-19
         ]
        },
        {
         "line": {
          "color": "#00CED1",
          "width": 6
         },
         "name": "Binomial probability",
         "type": "scatter",
         "visible": false,
         "x": [
          0,
          1,
          2,
          3,
          4,
          5,
          6,
          7,
          8,
          9,
          10,
          11,
          12,
          13,
          14,
          15,
          16,
          17,
          18,
          19,
          20
         ],
         "y": [
          0.1353352832366127,
          0.2706705664732254,
          0.2706705664732254,
          0.1804470443154836,
          0.0902235221577418,
          0.03608940886309672,
          0.012029802954365574,
          0.0034370865583901638,
          0.0008592716395975409,
          0.00019094925324389798,
          3.8189850648779595e-05,
          6.943609208869018e-06,
          1.1572682014781697e-06,
          1.7804126176587226e-07,
          2.5434465966553178e-08,
          3.391262128873757e-09,
          4.2390776610921964e-10,
          4.987150189520231e-11,
          5.541277988355812e-12,
          5.832924198269276e-13,
          5.832924198269276e-14
         ]
        },
        {
         "line": {
          "color": "#00CED1",
          "width": 6
         },
         "name": "Binomial probability",
         "type": "scatter",
         "visible": false,
         "x": [
          0,
          1,
          2,
          3,
          4,
          5,
          6,
          7,
          8,
          9,
          10,
          11,
          12,
          13,
          14,
          15,
          16,
          17,
          18,
          19,
          20
         ],
         "y": [
          0.049787068367863944,
          0.14936120510359183,
          0.22404180765538775,
          0.22404180765538775,
          0.16803135574154082,
          0.10081881344492448,
          0.05040940672246225,
          0.02160403145248382,
          0.008101511794681432,
          0.002700503931560477,
          0.0008101511794681432,
          0.00022095032167312998,
          5.5237580418282494e-05,
          1.2747133942680574e-05,
          2.7315287020029804e-06,
          5.46305740400596e-07,
          1.0243232632511176e-07,
          1.8076292880902075e-08,
          3.0127154801503463e-09,
          4.756919179184757e-10,
          7.135378768777135e-11
         ]
        },
        {
         "line": {
          "color": "#00CED1",
          "width": 6
         },
         "name": "Binomial probability",
         "type": "scatter",
         "visible": false,
         "x": [
          0,
          1,
          2,
          3,
          4,
          5,
          6,
          7,
          8,
          9,
          10,
          11,
          12,
          13,
          14,
          15,
          16,
          17,
          18,
          19,
          20
         ],
         "y": [
          0.01831563888873418,
          0.07326255555493671,
          0.14652511110987343,
          0.19536681481316456,
          0.19536681481316456,
          0.15629345185053165,
          0.1041956345670211,
          0.059540362609726345,
          0.029770181304863173,
          0.013231191691050298,
          0.0052924766764201195,
          0.0019245369732436798,
          0.00064151232441456,
          0.00019738840751217228,
          5.6396687860620656e-05,
          1.5039116762832175e-05,
          3.759779190708044e-06,
          8.846539272254221e-07,
          1.9658976160564933e-07,
          4.138731823276828e-08,
          8.277463646553656e-09
         ]
        },
        {
         "line": {
          "color": "#00CED1",
          "width": 6
         },
         "name": "Binomial probability",
         "type": "scatter",
         "visible": true,
         "x": [
          0,
          1,
          2,
          3,
          4,
          5,
          6,
          7,
          8,
          9,
          10,
          11,
          12,
          13,
          14,
          15,
          16,
          17,
          18,
          19,
          20
         ],
         "y": [
          0.006737946999085467,
          0.03368973499542734,
          0.08422433748856833,
          0.14037389581428056,
          0.1754673697678507,
          0.1754673697678507,
          0.1462228081398756,
          0.104444862957054,
          0.06527803934815875,
          0.03626557741564375,
          0.01813278870782187,
          0.00824217668537358,
          0.0034342402855723248,
          0.0013208616482970478,
          0.00047173630296323143,
          0.00015724543432107713,
          4.91391982253366e-05,
          1.4452705360393119e-05,
          4.014640377886977e-06,
          1.0564843099702573e-06,
          2.6412107749256427e-07
         ]
        },
        {
         "line": {
          "color": "#00CED1",
          "width": 6
         },
         "name": "Binomial probability",
         "type": "scatter",
         "visible": false,
         "x": [
          0,
          1,
          2,
          3,
          4,
          5,
          6,
          7,
          8,
          9,
          10,
          11,
          12,
          13,
          14,
          15,
          16,
          17,
          18,
          19,
          20
         ],
         "y": [
          0.0024787521766663585,
          0.014872513059998151,
          0.044617539179994455,
          0.08923507835998891,
          0.13385261753998337,
          0.16062314104798003,
          0.16062314104798003,
          0.13767697804112575,
          0.1032577335308443,
          0.06883848902056287,
          0.041303093412337726,
          0.022528960043093304,
          0.011264480021546652,
          0.0051989907791753776,
          0.0022281389053608763,
          0.0008912555621443505,
          0.0003342208358041314,
          0.00011796029498969344,
          3.9320098329897816e-05,
          1.2416873156809836e-05,
          3.7250619470429508e-06
         ]
        },
        {
         "line": {
          "color": "#00CED1",
          "width": 6
         },
         "name": "Binomial probability",
         "type": "scatter",
         "visible": false,
         "x": [
          0,
          1,
          2,
          3,
          4,
          5,
          6,
          7,
          8,
          9,
          10,
          11,
          12,
          13,
          14,
          15,
          16,
          17,
          18,
          19,
          20
         ],
         "y": [
          0.0009118819655545162,
          0.006383173758881614,
          0.022341108156085646,
          0.052129252364199845,
          0.09122619163734973,
          0.12771666829228961,
          0.1490027796743379,
          0.1490027796743379,
          0.13037743221504564,
          0.10140466950059107,
          0.07098326865041375,
          0.045171170959354204,
          0.02634984972628995,
          0.014188380621848434,
          0.007094190310924218,
          0.0033106221450979684,
          0.0014483971884803612,
          0.0005963988423154428,
          0.0002319328831226722,
          8.544895693993186e-05,
          2.990713492897615e-05
         ]
        },
        {
         "line": {
          "color": "#00CED1",
          "width": 6
         },
         "name": "Binomial probability",
         "type": "scatter",
         "visible": false,
         "x": [
          0,
          1,
          2,
          3,
          4,
          5,
          6,
          7,
          8,
          9,
          10,
          11,
          12,
          13,
          14,
          15,
          16,
          17,
          18,
          19,
          20
         ],
         "y": [
          0.00033546262790251185,
          0.002683701023220095,
          0.01073480409288038,
          0.02862614424768101,
          0.05725228849536202,
          0.09160366159257924,
          0.12213821545677231,
          0.13958653195059692,
          0.13958653195059692,
          0.1240769172894195,
          0.09926153383153559,
          0.07219020642293499,
          0.048126804281956655,
          0.029616494942742554,
          0.01692371139585289,
          0.009025979411121541,
          0.004512989705560771,
          0.0021237598614403624,
          0.0009438932717512722,
          0.00039742874600053567,
          0.00015897149840021427
         ]
        },
        {
         "line": {
          "color": "#00CED1",
          "width": 6
         },
         "name": "Binomial probability",
         "type": "scatter",
         "visible": false,
         "x": [
          0,
          1,
          2,
          3,
          4,
          5,
          6,
          7,
          8,
          9,
          10,
          11,
          12,
          13,
          14,
          15,
          16,
          17,
          18,
          19,
          20
         ],
         "y": [
          0.00012340980408667956,
          0.001110688236780116,
          0.004998097065510522,
          0.014994291196531567,
          0.03373715519219602,
          0.06072687934595285,
          0.09109031901892926,
          0.11711612445290907,
          0.1317556400095227,
          0.13175564000952267,
          0.11858007600857041,
          0.09702006218883034,
          0.07276504664162275,
          0.05037580152112345,
          0.03238444383500794,
          0.01943066630100476,
          0.010929749794315177,
          0.005786338126402153,
          0.0028931690632010764,
          0.0013704485036215622,
          0.000616701826629703
         ]
        },
        {
         "line": {
          "color": "#00CED1",
          "width": 6
         },
         "name": "Binomial probability",
         "type": "scatter",
         "visible": false,
         "x": [
          0,
          1,
          2,
          3,
          4,
          5,
          6,
          7,
          8,
          9,
          10,
          11,
          12,
          13,
          14,
          15,
          16,
          17,
          18,
          19,
          20
         ],
         "y": [
          4.5399929762484854e-05,
          0.00045399929762484856,
          0.0022699964881242427,
          0.007566654960414142,
          0.018916637401035354,
          0.03783327480207071,
          0.06305545800345118,
          0.09007922571921599,
          0.11259903214901998,
          0.1251100357211333,
          0.1251100357211333,
          0.11373639611012118,
          0.09478033009176766,
          0.07290794622443666,
          0.05207710444602619,
          0.03471806963068413,
          0.021698793519177577,
          0.012763996187751515,
          0.007091108993195286,
          0.0037321626279975192,
          0.0018660813139987594
         ]
        },
        {
         "line": {
          "color": "#00CED1",
          "width": 6
         },
         "name": "Binomial probability",
         "type": "scatter",
         "visible": false,
         "x": [
          0,
          1,
          2,
          3,
          4,
          5,
          6,
          7,
          8,
          9,
          10,
          11,
          12,
          13,
          14,
          15,
          16,
          17,
          18,
          19,
          20
         ],
         "y": [
          1.670170079024566e-05,
          0.00018371870869270227,
          0.0010104528978098625,
          0.003704993958636162,
          0.010188733386249446,
          0.02241521344974878,
          0.0410945579912061,
          0.06457716255760958,
          0.08879359851671317,
          0.108525509298205,
          0.1193780602280255,
          0.1193780602280255,
          0.10942988854235669,
          0.09259452107430183,
          0.07275283798695144,
          0.05335208119043105,
          0.03667955581842135,
          0.023733830235449106,
          0.014504007366107787,
          0.008397056896167666,
          0.004618381292892217
         ]
        },
        {
         "line": {
          "color": "#00CED1",
          "width": 6
         },
         "name": "Binomial probability",
         "type": "scatter",
         "visible": false,
         "x": [
          0,
          1,
          2,
          3,
          4,
          5,
          6,
          7,
          8,
          9,
          10,
          11,
          12,
          13,
          14,
          15,
          16,
          17,
          18,
          19,
          20
         ],
         "y": [
          6.14421235332821e-06,
          7.373054823993851e-05,
          0.0004423832894396311,
          0.0017695331577585243,
          0.005308599473275573,
          0.012740638735861376,
          0.02548127747172275,
          0.043682189951524716,
          0.06552328492728707,
          0.08736437990304943,
          0.10483725588365932,
          0.11436791550944653,
          0.11436791550944653,
          0.10557038354718142,
          0.09048890018329836,
          0.07239112014663869,
          0.054293340109979014,
          0.03832471066586754,
          0.02554980711057836,
          0.01613672028036528,
          0.009682032168219168
         ]
        },
        {
         "line": {
          "color": "#00CED1",
          "width": 6
         },
         "name": "Binomial probability",
         "type": "scatter",
         "visible": false,
         "x": [
          0,
          1,
          2,
          3,
          4,
          5,
          6,
          7,
          8,
          9,
          10,
          11,
          12,
          13,
          14,
          15,
          16,
          17,
          18,
          19,
          20
         ],
         "y": [
          2.2603294069810542e-06,
          2.9384282290753705e-05,
          0.0001909978348898991,
          0.000827657284522896,
          0.002689886174699412,
          0.006993704054218471,
          0.015153025450806688,
          0.028141332980069562,
          0.045729666092613044,
          0.06605396213377439,
          0.08587015077390671,
          0.10148290546007156,
          0.10993981424841087,
          0.10993981424841086,
          0.10208697037352438,
          0.08847537432372113,
          0.07188624163802343,
          0.05497183184084144,
          0.03970187855171882,
          0.02716444321959708,
          0.017656888092738104
         ]
        },
        {
         "line": {
          "color": "#00CED1",
          "width": 6
         },
         "name": "Binomial probability",
         "type": "scatter",
         "visible": false,
         "x": [
          0,
          1,
          2,
          3,
          4,
          5,
          6,
          7,
          8,
          9,
          10,
          11,
          12,
          13,
          14,
          15,
          16,
          17,
          18,
          19,
          20
         ],
         "y": [
          8.315287191035679e-07,
          1.164140206744995e-05,
          8.148981447214965e-05,
          0.0003802858008700317,
          0.001331000303045111,
          0.003726800848526311,
          0.008695868646561392,
          0.017391737293122784,
          0.03043554026296487,
          0.0473441737423898,
          0.06628184323934572,
          0.0843587095773491,
          0.09841849450690728,
          0.10598914793051555,
          0.10598914793051553,
          0.09892320473514783,
          0.08655780414325434,
          0.07128289752973888,
          0.055442253634241344,
          0.04085218688838836,
          0.028596530821871854
         ]
        },
        {
         "line": {
          "color": "#00CED1",
          "width": 6
         },
         "name": "Binomial probability",
         "type": "scatter",
         "visible": false,
         "x": [
          0,
          1,
          2,
          3,
          4,
          5,
          6,
          7,
          8,
          9,
          10,
          11,
          12,
          13,
          14,
          15,
          16,
          17,
          18,
          19,
          20
         ],
         "y": [
          3.059023205018258e-07,
          4.588534807527386e-06,
          3.44140110564554e-05,
          0.000172070055282277,
          0.0006452627073085387,
          0.0019357881219256162,
          0.0048394703048140406,
          0.010370293510315801,
          0.019444300331842128,
          0.03240716721973688,
          0.048610750829605316,
          0.06628738749491635,
          0.08285923436864542,
          0.09560680888689858,
          0.10243586666453419,
          0.10243586666453419,
          0.0960336249980008,
          0.08473555146882424,
          0.07061295955735353,
          0.05574707333475278,
          0.041810305001064585
         ]
        },
        {
         "line": {
          "color": "#00CED1",
          "width": 6
         },
         "name": "Binomial probability",
         "type": "scatter",
         "visible": false,
         "x": [
          0,
          1,
          2,
          3,
          4,
          5,
          6,
          7,
          8,
          9,
          10,
          11,
          12,
          13,
          14,
          15,
          16,
          17,
          18,
          19,
          20
         ],
         "y": [
          1.1253517471925912e-07,
          1.8005627955081459e-06,
          1.4404502364065167e-05,
          7.682401260834756e-05,
          0.00030729605043339025,
          0.0009833473613868487,
          0.00262225963036493,
          0.005993736297976983,
          0.011987472595953966,
          0.02131106239280705,
          0.03409769982849128,
          0.049596654295987315,
          0.06612887239464975,
          0.0813893814087997,
          0.09301643589577108,
          0.09921753162215582,
          0.09921753162215582,
          0.09338120623261724,
          0.08300551665121533,
          0.0698993824431287,
          0.05591950595450296
         ]
        },
        {
         "line": {
          "color": "#00CED1",
          "width": 6
         },
         "name": "Binomial probability",
         "type": "scatter",
         "visible": false,
         "x": [
          0,
          1,
          2,
          3,
          4,
          5,
          6,
          7,
          8,
          9,
          10,
          11,
          12,
          13,
          14,
          15,
          16,
          17,
          18,
          19,
          20
         ],
         "y": [
          4.139937718785167e-08,
          7.037894121934784e-07,
          5.982210003644566e-06,
          3.389919002065254e-05,
          0.0001440715575877733,
          0.0004898432957984292,
          0.0013878893380955494,
          0.0033705883925177634,
          0.007162500334100246,
          0.013529167297744909,
          0.022999584406166347,
          0.035544812264075264,
          0.050355150707439955,
          0.06584904323280609,
          0.07995955249697884,
          0.09062082616324268,
          0.09628462779844535,
          0.09628462779844535,
          0.09093548180964281,
          0.08136332582968041,
          0.06915882695522836
         ]
        },
        {
         "line": {
          "color": "#00CED1",
          "width": 6
         },
         "name": "Binomial probability",
         "type": "scatter",
         "visible": false,
         "x": [
          0,
          1,
          2,
          3,
          4,
          5,
          6,
          7,
          8,
          9,
          10,
          11,
          12,
          13,
          14,
          15,
          16,
          17,
          18,
          19,
          20
         ],
         "y": [
          1.522997974471263e-08,
          2.741396354048273e-07,
          2.467256718643446e-06,
          1.4803540311860676e-05,
          6.661593140337305e-05,
          0.00023981735305214294,
          0.0007194520591564289,
          0.0018500195806879598,
          0.004162544056547909,
          0.00832508811309582,
          0.014985158603572475,
          0.024521168624027687,
          0.03678175293604153,
          0.050928580988365196,
          0.0654796041278981,
          0.07857552495347774,
          0.08839746557266245,
          0.09359731648870141,
          0.09359731648870143,
          0.08867114193666449,
          0.07980402774299804
         ]
        },
        {
         "line": {
          "color": "#00CED1",
          "width": 6
         },
         "name": "Binomial probability",
         "type": "scatter",
         "visible": false,
         "x": [
          0,
          1,
          2,
          3,
          4,
          5,
          6,
          7,
          8,
          9,
          10,
          11,
          12,
          13,
          14,
          15,
          16,
          17,
          18,
          19,
          20
         ],
         "y": [
          5.602796437537268e-09,
          1.0645313231320808e-07,
          1.0113047569754769e-06,
          6.404930127511353e-06,
          3.042341810567893e-05,
          0.00011560898880157993,
          0.0003660951312050031,
          0.000993686784699294,
          0.002360006113660824,
          0.004982235128839517,
          0.009466246744795083,
          0.016350789831918778,
          0.02588875056720473,
          0.03783740467514537,
          0.05135076348769729,
          0.0650443004177499,
          0.07724010674607801,
          0.08632717812796956,
          0.09112313246841229,
          0.0911231324684123,
          0.08656697584499168
         ]
        },
        {
         "line": {
          "color": "#00CED1",
          "width": 6
         },
         "name": "Binomial probability",
         "type": "scatter",
         "visible": false,
         "x": [
          0,
          1,
          2,
          3,
          4,
          5,
          6,
          7,
          8,
          9,
          10,
          11,
          12,
          13,
          14,
          15,
          16,
          17,
          18,
          19,
          20
         ],
         "y": [
          2.061153622438558e-09,
          4.122307244877116e-08,
          4.122307244877116e-07,
          2.7482048299180773e-06,
          1.3741024149590386e-05,
          5.496409659836154e-05,
          0.0001832136553278718,
          0.0005234675866510624,
          0.0013086689666276558,
          0.0029081532591725685,
          0.005816306518345136,
          0.010575102760627522,
          0.017625171267712535,
          0.02711564810417313,
          0.03873664014881876,
          0.05164885353175835,
          0.06456106691469793,
          0.07595419637023286,
          0.08439355152248096,
          0.08883531739208522,
          0.08883531739208521
         ]
        }
       ],
       "layout": {
        "height": 600,
        "sliders": [
         {
          "active": 10,
          "currentvalue": {
           "prefix": "Mean parameter theta: "
          },
          "pad": {
           "t": 50
          },
          "steps": [
           {
            "args": [
             {
              "visible": [
               true,
               false,
               false,
               false,
               false,
               false,
               false,
               false,
               false,
               false,
               false,
               false,
               false,
               false,
               false,
               false,
               false,
               false,
               false,
               false,
               false
              ]
             },
             {
              "title.text": "Mean parameter theta 0"
             }
            ],
            "method": "update"
           },
           {
            "args": [
             {
              "visible": [
               false,
               true,
               false,
               false,
               false,
               false,
               false,
               false,
               false,
               false,
               false,
               false,
               false,
               false,
               false,
               false,
               false,
               false,
               false,
               false,
               false
              ]
             },
             {
              "title.text": "Mean parameter theta 1"
             }
            ],
            "method": "update"
           },
           {
            "args": [
             {
              "visible": [
               false,
               false,
               true,
               false,
               false,
               false,
               false,
               false,
               false,
               false,
               false,
               false,
               false,
               false,
               false,
               false,
               false,
               false,
               false,
               false,
               false
              ]
             },
             {
              "title.text": "Mean parameter theta 2"
             }
            ],
            "method": "update"
           },
           {
            "args": [
             {
              "visible": [
               false,
               false,
               false,
               true,
               false,
               false,
               false,
               false,
               false,
               false,
               false,
               false,
               false,
               false,
               false,
               false,
               false,
               false,
               false,
               false,
               false
              ]
             },
             {
              "title.text": "Mean parameter theta 3"
             }
            ],
            "method": "update"
           },
           {
            "args": [
             {
              "visible": [
               false,
               false,
               false,
               false,
               true,
               false,
               false,
               false,
               false,
               false,
               false,
               false,
               false,
               false,
               false,
               false,
               false,
               false,
               false,
               false,
               false
              ]
             },
             {
              "title.text": "Mean parameter theta 4"
             }
            ],
            "method": "update"
           },
           {
            "args": [
             {
              "visible": [
               false,
               false,
               false,
               false,
               false,
               true,
               false,
               false,
               false,
               false,
               false,
               false,
               false,
               false,
               false,
               false,
               false,
               false,
               false,
               false,
               false
              ]
             },
             {
              "title.text": "Mean parameter theta 5"
             }
            ],
            "method": "update"
           },
           {
            "args": [
             {
              "visible": [
               false,
               false,
               false,
               false,
               false,
               false,
               true,
               false,
               false,
               false,
               false,
               false,
               false,
               false,
               false,
               false,
               false,
               false,
               false,
               false,
               false
              ]
             },
             {
              "title.text": "Mean parameter theta 6"
             }
            ],
            "method": "update"
           },
           {
            "args": [
             {
              "visible": [
               false,
               false,
               false,
               false,
               false,
               false,
               false,
               true,
               false,
               false,
               false,
               false,
               false,
               false,
               false,
               false,
               false,
               false,
               false,
               false,
               false
              ]
             },
             {
              "title.text": "Mean parameter theta 7"
             }
            ],
            "method": "update"
           },
           {
            "args": [
             {
              "visible": [
               false,
               false,
               false,
               false,
               false,
               false,
               false,
               false,
               true,
               false,
               false,
               false,
               false,
               false,
               false,
               false,
               false,
               false,
               false,
               false,
               false
              ]
             },
             {
              "title.text": "Mean parameter theta 8"
             }
            ],
            "method": "update"
           },
           {
            "args": [
             {
              "visible": [
               false,
               false,
               false,
               false,
               false,
               false,
               false,
               false,
               false,
               true,
               false,
               false,
               false,
               false,
               false,
               false,
               false,
               false,
               false,
               false,
               false
              ]
             },
             {
              "title.text": "Mean parameter theta 9"
             }
            ],
            "method": "update"
           },
           {
            "args": [
             {
              "visible": [
               false,
               false,
               false,
               false,
               false,
               false,
               false,
               false,
               false,
               false,
               true,
               false,
               false,
               false,
               false,
               false,
               false,
               false,
               false,
               false,
               false
              ]
             },
             {
              "title.text": "Mean parameter theta 10"
             }
            ],
            "method": "update"
           },
           {
            "args": [
             {
              "visible": [
               false,
               false,
               false,
               false,
               false,
               false,
               false,
               false,
               false,
               false,
               false,
               true,
               false,
               false,
               false,
               false,
               false,
               false,
               false,
               false,
               false
              ]
             },
             {
              "title.text": "Mean parameter theta 11"
             }
            ],
            "method": "update"
           },
           {
            "args": [
             {
              "visible": [
               false,
               false,
               false,
               false,
               false,
               false,
               false,
               false,
               false,
               false,
               false,
               false,
               true,
               false,
               false,
               false,
               false,
               false,
               false,
               false,
               false
              ]
             },
             {
              "title.text": "Mean parameter theta 12"
             }
            ],
            "method": "update"
           },
           {
            "args": [
             {
              "visible": [
               false,
               false,
               false,
               false,
               false,
               false,
               false,
               false,
               false,
               false,
               false,
               false,
               false,
               true,
               false,
               false,
               false,
               false,
               false,
               false,
               false
              ]
             },
             {
              "title.text": "Mean parameter theta 13"
             }
            ],
            "method": "update"
           },
           {
            "args": [
             {
              "visible": [
               false,
               false,
               false,
               false,
               false,
               false,
               false,
               false,
               false,
               false,
               false,
               false,
               false,
               false,
               true,
               false,
               false,
               false,
               false,
               false,
               false
              ]
             },
             {
              "title.text": "Mean parameter theta 14"
             }
            ],
            "method": "update"
           },
           {
            "args": [
             {
              "visible": [
               false,
               false,
               false,
               false,
               false,
               false,
               false,
               false,
               false,
               false,
               false,
               false,
               false,
               false,
               false,
               true,
               false,
               false,
               false,
               false,
               false
              ]
             },
             {
              "title.text": "Mean parameter theta 15"
             }
            ],
            "method": "update"
           },
           {
            "args": [
             {
              "visible": [
               false,
               false,
               false,
               false,
               false,
               false,
               false,
               false,
               false,
               false,
               false,
               false,
               false,
               false,
               false,
               false,
               true,
               false,
               false,
               false,
               false
              ]
             },
             {
              "title.text": "Mean parameter theta 16"
             }
            ],
            "method": "update"
           },
           {
            "args": [
             {
              "visible": [
               false,
               false,
               false,
               false,
               false,
               false,
               false,
               false,
               false,
               false,
               false,
               false,
               false,
               false,
               false,
               false,
               false,
               true,
               false,
               false,
               false
              ]
             },
             {
              "title.text": "Mean parameter theta 17"
             }
            ],
            "method": "update"
           },
           {
            "args": [
             {
              "visible": [
               false,
               false,
               false,
               false,
               false,
               false,
               false,
               false,
               false,
               false,
               false,
               false,
               false,
               false,
               false,
               false,
               false,
               false,
               true,
               false,
               false
              ]
             },
             {
              "title.text": "Mean parameter theta 18"
             }
            ],
            "method": "update"
           },
           {
            "args": [
             {
              "visible": [
               false,
               false,
               false,
               false,
               false,
               false,
               false,
               false,
               false,
               false,
               false,
               false,
               false,
               false,
               false,
               false,
               false,
               false,
               false,
               true,
               false
              ]
             },
             {
              "title.text": "Mean parameter theta 19"
             }
            ],
            "method": "update"
           },
           {
            "args": [
             {
              "visible": [
               false,
               false,
               false,
               false,
               false,
               false,
               false,
               false,
               false,
               false,
               false,
               false,
               false,
               false,
               false,
               false,
               false,
               false,
               false,
               false,
               true
              ]
             },
             {
              "title.text": "Mean parameter theta 20"
             }
            ],
            "method": "update"
           }
          ]
         }
        ],
        "template": {
         "data": {
          "bar": [
           {
            "error_x": {
             "color": "#2a3f5f"
            },
            "error_y": {
             "color": "#2a3f5f"
            },
            "marker": {
             "line": {
              "color": "#E5ECF6",
              "width": 0.5
             }
            },
            "type": "bar"
           }
          ],
          "barpolar": [
           {
            "marker": {
             "line": {
              "color": "#E5ECF6",
              "width": 0.5
             }
            },
            "type": "barpolar"
           }
          ],
          "carpet": [
           {
            "aaxis": {
             "endlinecolor": "#2a3f5f",
             "gridcolor": "white",
             "linecolor": "white",
             "minorgridcolor": "white",
             "startlinecolor": "#2a3f5f"
            },
            "baxis": {
             "endlinecolor": "#2a3f5f",
             "gridcolor": "white",
             "linecolor": "white",
             "minorgridcolor": "white",
             "startlinecolor": "#2a3f5f"
            },
            "type": "carpet"
           }
          ],
          "choropleth": [
           {
            "colorbar": {
             "outlinewidth": 0,
             "ticks": ""
            },
            "type": "choropleth"
           }
          ],
          "contour": [
           {
            "colorbar": {
             "outlinewidth": 0,
             "ticks": ""
            },
            "colorscale": [
             [
              0,
              "#0d0887"
             ],
             [
              0.1111111111111111,
              "#46039f"
             ],
             [
              0.2222222222222222,
              "#7201a8"
             ],
             [
              0.3333333333333333,
              "#9c179e"
             ],
             [
              0.4444444444444444,
              "#bd3786"
             ],
             [
              0.5555555555555556,
              "#d8576b"
             ],
             [
              0.6666666666666666,
              "#ed7953"
             ],
             [
              0.7777777777777778,
              "#fb9f3a"
             ],
             [
              0.8888888888888888,
              "#fdca26"
             ],
             [
              1,
              "#f0f921"
             ]
            ],
            "type": "contour"
           }
          ],
          "contourcarpet": [
           {
            "colorbar": {
             "outlinewidth": 0,
             "ticks": ""
            },
            "type": "contourcarpet"
           }
          ],
          "heatmap": [
           {
            "colorbar": {
             "outlinewidth": 0,
             "ticks": ""
            },
            "colorscale": [
             [
              0,
              "#0d0887"
             ],
             [
              0.1111111111111111,
              "#46039f"
             ],
             [
              0.2222222222222222,
              "#7201a8"
             ],
             [
              0.3333333333333333,
              "#9c179e"
             ],
             [
              0.4444444444444444,
              "#bd3786"
             ],
             [
              0.5555555555555556,
              "#d8576b"
             ],
             [
              0.6666666666666666,
              "#ed7953"
             ],
             [
              0.7777777777777778,
              "#fb9f3a"
             ],
             [
              0.8888888888888888,
              "#fdca26"
             ],
             [
              1,
              "#f0f921"
             ]
            ],
            "type": "heatmap"
           }
          ],
          "heatmapgl": [
           {
            "colorbar": {
             "outlinewidth": 0,
             "ticks": ""
            },
            "colorscale": [
             [
              0,
              "#0d0887"
             ],
             [
              0.1111111111111111,
              "#46039f"
             ],
             [
              0.2222222222222222,
              "#7201a8"
             ],
             [
              0.3333333333333333,
              "#9c179e"
             ],
             [
              0.4444444444444444,
              "#bd3786"
             ],
             [
              0.5555555555555556,
              "#d8576b"
             ],
             [
              0.6666666666666666,
              "#ed7953"
             ],
             [
              0.7777777777777778,
              "#fb9f3a"
             ],
             [
              0.8888888888888888,
              "#fdca26"
             ],
             [
              1,
              "#f0f921"
             ]
            ],
            "type": "heatmapgl"
           }
          ],
          "histogram": [
           {
            "marker": {
             "colorbar": {
              "outlinewidth": 0,
              "ticks": ""
             }
            },
            "type": "histogram"
           }
          ],
          "histogram2d": [
           {
            "colorbar": {
             "outlinewidth": 0,
             "ticks": ""
            },
            "colorscale": [
             [
              0,
              "#0d0887"
             ],
             [
              0.1111111111111111,
              "#46039f"
             ],
             [
              0.2222222222222222,
              "#7201a8"
             ],
             [
              0.3333333333333333,
              "#9c179e"
             ],
             [
              0.4444444444444444,
              "#bd3786"
             ],
             [
              0.5555555555555556,
              "#d8576b"
             ],
             [
              0.6666666666666666,
              "#ed7953"
             ],
             [
              0.7777777777777778,
              "#fb9f3a"
             ],
             [
              0.8888888888888888,
              "#fdca26"
             ],
             [
              1,
              "#f0f921"
             ]
            ],
            "type": "histogram2d"
           }
          ],
          "histogram2dcontour": [
           {
            "colorbar": {
             "outlinewidth": 0,
             "ticks": ""
            },
            "colorscale": [
             [
              0,
              "#0d0887"
             ],
             [
              0.1111111111111111,
              "#46039f"
             ],
             [
              0.2222222222222222,
              "#7201a8"
             ],
             [
              0.3333333333333333,
              "#9c179e"
             ],
             [
              0.4444444444444444,
              "#bd3786"
             ],
             [
              0.5555555555555556,
              "#d8576b"
             ],
             [
              0.6666666666666666,
              "#ed7953"
             ],
             [
              0.7777777777777778,
              "#fb9f3a"
             ],
             [
              0.8888888888888888,
              "#fdca26"
             ],
             [
              1,
              "#f0f921"
             ]
            ],
            "type": "histogram2dcontour"
           }
          ],
          "mesh3d": [
           {
            "colorbar": {
             "outlinewidth": 0,
             "ticks": ""
            },
            "type": "mesh3d"
           }
          ],
          "parcoords": [
           {
            "line": {
             "colorbar": {
              "outlinewidth": 0,
              "ticks": ""
             }
            },
            "type": "parcoords"
           }
          ],
          "pie": [
           {
            "automargin": true,
            "type": "pie"
           }
          ],
          "scatter": [
           {
            "marker": {
             "colorbar": {
              "outlinewidth": 0,
              "ticks": ""
             }
            },
            "type": "scatter"
           }
          ],
          "scatter3d": [
           {
            "line": {
             "colorbar": {
              "outlinewidth": 0,
              "ticks": ""
             }
            },
            "marker": {
             "colorbar": {
              "outlinewidth": 0,
              "ticks": ""
             }
            },
            "type": "scatter3d"
           }
          ],
          "scattercarpet": [
           {
            "marker": {
             "colorbar": {
              "outlinewidth": 0,
              "ticks": ""
             }
            },
            "type": "scattercarpet"
           }
          ],
          "scattergeo": [
           {
            "marker": {
             "colorbar": {
              "outlinewidth": 0,
              "ticks": ""
             }
            },
            "type": "scattergeo"
           }
          ],
          "scattergl": [
           {
            "marker": {
             "colorbar": {
              "outlinewidth": 0,
              "ticks": ""
             }
            },
            "type": "scattergl"
           }
          ],
          "scattermapbox": [
           {
            "marker": {
             "colorbar": {
              "outlinewidth": 0,
              "ticks": ""
             }
            },
            "type": "scattermapbox"
           }
          ],
          "scatterpolar": [
           {
            "marker": {
             "colorbar": {
              "outlinewidth": 0,
              "ticks": ""
             }
            },
            "type": "scatterpolar"
           }
          ],
          "scatterpolargl": [
           {
            "marker": {
             "colorbar": {
              "outlinewidth": 0,
              "ticks": ""
             }
            },
            "type": "scatterpolargl"
           }
          ],
          "scatterternary": [
           {
            "marker": {
             "colorbar": {
              "outlinewidth": 0,
              "ticks": ""
             }
            },
            "type": "scatterternary"
           }
          ],
          "surface": [
           {
            "colorbar": {
             "outlinewidth": 0,
             "ticks": ""
            },
            "colorscale": [
             [
              0,
              "#0d0887"
             ],
             [
              0.1111111111111111,
              "#46039f"
             ],
             [
              0.2222222222222222,
              "#7201a8"
             ],
             [
              0.3333333333333333,
              "#9c179e"
             ],
             [
              0.4444444444444444,
              "#bd3786"
             ],
             [
              0.5555555555555556,
              "#d8576b"
             ],
             [
              0.6666666666666666,
              "#ed7953"
             ],
             [
              0.7777777777777778,
              "#fb9f3a"
             ],
             [
              0.8888888888888888,
              "#fdca26"
             ],
             [
              1,
              "#f0f921"
             ]
            ],
            "type": "surface"
           }
          ],
          "table": [
           {
            "cells": {
             "fill": {
              "color": "#EBF0F8"
             },
             "line": {
              "color": "white"
             }
            },
            "header": {
             "fill": {
              "color": "#C8D4E3"
             },
             "line": {
              "color": "white"
             }
            },
            "type": "table"
           }
          ]
         },
         "layout": {
          "annotationdefaults": {
           "arrowcolor": "#2a3f5f",
           "arrowhead": 0,
           "arrowwidth": 1
          },
          "coloraxis": {
           "colorbar": {
            "outlinewidth": 0,
            "ticks": ""
           }
          },
          "colorscale": {
           "diverging": [
            [
             0,
             "#8e0152"
            ],
            [
             0.1,
             "#c51b7d"
            ],
            [
             0.2,
             "#de77ae"
            ],
            [
             0.3,
             "#f1b6da"
            ],
            [
             0.4,
             "#fde0ef"
            ],
            [
             0.5,
             "#f7f7f7"
            ],
            [
             0.6,
             "#e6f5d0"
            ],
            [
             0.7,
             "#b8e186"
            ],
            [
             0.8,
             "#7fbc41"
            ],
            [
             0.9,
             "#4d9221"
            ],
            [
             1,
             "#276419"
            ]
           ],
           "sequential": [
            [
             0,
             "#0d0887"
            ],
            [
             0.1111111111111111,
             "#46039f"
            ],
            [
             0.2222222222222222,
             "#7201a8"
            ],
            [
             0.3333333333333333,
             "#9c179e"
            ],
            [
             0.4444444444444444,
             "#bd3786"
            ],
            [
             0.5555555555555556,
             "#d8576b"
            ],
            [
             0.6666666666666666,
             "#ed7953"
            ],
            [
             0.7777777777777778,
             "#fb9f3a"
            ],
            [
             0.8888888888888888,
             "#fdca26"
            ],
            [
             1,
             "#f0f921"
            ]
           ],
           "sequentialminus": [
            [
             0,
             "#0d0887"
            ],
            [
             0.1111111111111111,
             "#46039f"
            ],
            [
             0.2222222222222222,
             "#7201a8"
            ],
            [
             0.3333333333333333,
             "#9c179e"
            ],
            [
             0.4444444444444444,
             "#bd3786"
            ],
            [
             0.5555555555555556,
             "#d8576b"
            ],
            [
             0.6666666666666666,
             "#ed7953"
            ],
            [
             0.7777777777777778,
             "#fb9f3a"
            ],
            [
             0.8888888888888888,
             "#fdca26"
            ],
            [
             1,
             "#f0f921"
            ]
           ]
          },
          "colorway": [
           "#636efa",
           "#EF553B",
           "#00cc96",
           "#ab63fa",
           "#FFA15A",
           "#19d3f3",
           "#FF6692",
           "#B6E880",
           "#FF97FF",
           "#FECB52"
          ],
          "font": {
           "color": "#2a3f5f"
          },
          "geo": {
           "bgcolor": "white",
           "lakecolor": "white",
           "landcolor": "#E5ECF6",
           "showlakes": true,
           "showland": true,
           "subunitcolor": "white"
          },
          "hoverlabel": {
           "align": "left"
          },
          "hovermode": "closest",
          "mapbox": {
           "style": "light"
          },
          "paper_bgcolor": "white",
          "plot_bgcolor": "#E5ECF6",
          "polar": {
           "angularaxis": {
            "gridcolor": "white",
            "linecolor": "white",
            "ticks": ""
           },
           "bgcolor": "#E5ECF6",
           "radialaxis": {
            "gridcolor": "white",
            "linecolor": "white",
            "ticks": ""
           }
          },
          "scene": {
           "xaxis": {
            "backgroundcolor": "#E5ECF6",
            "gridcolor": "white",
            "gridwidth": 2,
            "linecolor": "white",
            "showbackground": true,
            "ticks": "",
            "zerolinecolor": "white"
           },
           "yaxis": {
            "backgroundcolor": "#E5ECF6",
            "gridcolor": "white",
            "gridwidth": 2,
            "linecolor": "white",
            "showbackground": true,
            "ticks": "",
            "zerolinecolor": "white"
           },
           "zaxis": {
            "backgroundcolor": "#E5ECF6",
            "gridcolor": "white",
            "gridwidth": 2,
            "linecolor": "white",
            "showbackground": true,
            "ticks": "",
            "zerolinecolor": "white"
           }
          },
          "shapedefaults": {
           "line": {
            "color": "#2a3f5f"
           }
          },
          "ternary": {
           "aaxis": {
            "gridcolor": "white",
            "linecolor": "white",
            "ticks": ""
           },
           "baxis": {
            "gridcolor": "white",
            "linecolor": "white",
            "ticks": ""
           },
           "bgcolor": "#E5ECF6",
           "caxis": {
            "gridcolor": "white",
            "linecolor": "white",
            "ticks": ""
           }
          },
          "title": {
           "x": 0.05
          },
          "xaxis": {
           "automargin": true,
           "gridcolor": "white",
           "linecolor": "white",
           "ticks": "",
           "title": {
            "standoff": 15
           },
           "zerolinecolor": "white",
           "zerolinewidth": 2
          },
          "yaxis": {
           "automargin": true,
           "gridcolor": "white",
           "linecolor": "white",
           "ticks": "",
           "title": {
            "standoff": 15
           },
           "zerolinecolor": "white",
           "zerolinewidth": 2
          }
         }
        },
        "title": {
         "text": "Poisson distribution - P(y/theta) vs y, move slider to vary the mean parameter theta"
        },
        "width": 800,
        "xaxis": {
         "title": {
          "text": "Poisson distribution - P(y/theta) vs y, move slider to vary the mean parameter theta"
         }
        }
       }
      },
      "text/html": [
       "<div>\n",
       "        \n",
       "        \n",
       "            <div id=\"f758e5dd-b5d7-4477-9ab7-e918fba3d34a\" class=\"plotly-graph-div\" style=\"height:600px; width:800px;\"></div>\n",
       "            <script type=\"text/javascript\">\n",
       "                require([\"plotly\"], function(Plotly) {\n",
       "                    window.PLOTLYENV=window.PLOTLYENV || {};\n",
       "                    \n",
       "                if (document.getElementById(\"f758e5dd-b5d7-4477-9ab7-e918fba3d34a\")) {\n",
       "                    Plotly.newPlot(\n",
       "                        'f758e5dd-b5d7-4477-9ab7-e918fba3d34a',\n",
       "                        [{\"line\": {\"color\": \"#00CED1\", \"width\": 6}, \"name\": \"Binomial probability\", \"type\": \"scatter\", \"visible\": false, \"x\": [0.0, 1.0, 2.0, 3.0, 4.0, 5.0, 6.0, 7.0, 8.0, 9.0, 10.0, 11.0, 12.0, 13.0, 14.0, 15.0, 16.0, 17.0, 18.0, 19.0, 20.0], \"y\": [1.0, 0.0, 0.0, 0.0, 0.0, 0.0, 0.0, 0.0, 0.0, 0.0, 0.0, 0.0, 0.0, 0.0, 0.0, 0.0, 0.0, 0.0, 0.0, 0.0, 0.0]}, {\"line\": {\"color\": \"#00CED1\", \"width\": 6}, \"name\": \"Binomial probability\", \"type\": \"scatter\", \"visible\": false, \"x\": [0.0, 1.0, 2.0, 3.0, 4.0, 5.0, 6.0, 7.0, 8.0, 9.0, 10.0, 11.0, 12.0, 13.0, 14.0, 15.0, 16.0, 17.0, 18.0, 19.0, 20.0], \"y\": [0.36787944117144233, 0.36787944117144233, 0.18393972058572117, 0.06131324019524039, 0.015328310048810098, 0.0030656620097620196, 0.0005109436682936699, 7.299195261338141e-05, 9.123994076672677e-06, 1.0137771196302974e-06, 1.0137771196302975e-07, 9.216155633002704e-09, 7.68012969416892e-10, 5.907792072437631e-11, 4.2198514803125934e-12, 2.8132343202083955e-13, 1.7582714501302472e-14, 1.0342773236060278e-15, 5.745985131144599e-17, 3.0242027006024205e-18, 1.5121013503012103e-19]}, {\"line\": {\"color\": \"#00CED1\", \"width\": 6}, \"name\": \"Binomial probability\", \"type\": \"scatter\", \"visible\": false, \"x\": [0.0, 1.0, 2.0, 3.0, 4.0, 5.0, 6.0, 7.0, 8.0, 9.0, 10.0, 11.0, 12.0, 13.0, 14.0, 15.0, 16.0, 17.0, 18.0, 19.0, 20.0], \"y\": [0.1353352832366127, 0.2706705664732254, 0.2706705664732254, 0.1804470443154836, 0.0902235221577418, 0.03608940886309672, 0.012029802954365574, 0.0034370865583901638, 0.0008592716395975409, 0.00019094925324389798, 3.8189850648779595e-05, 6.943609208869018e-06, 1.1572682014781697e-06, 1.7804126176587226e-07, 2.5434465966553178e-08, 3.391262128873757e-09, 4.2390776610921964e-10, 4.987150189520231e-11, 5.541277988355812e-12, 5.832924198269276e-13, 5.832924198269276e-14]}, {\"line\": {\"color\": \"#00CED1\", \"width\": 6}, \"name\": \"Binomial probability\", \"type\": \"scatter\", \"visible\": false, \"x\": [0.0, 1.0, 2.0, 3.0, 4.0, 5.0, 6.0, 7.0, 8.0, 9.0, 10.0, 11.0, 12.0, 13.0, 14.0, 15.0, 16.0, 17.0, 18.0, 19.0, 20.0], \"y\": [0.049787068367863944, 0.14936120510359183, 0.22404180765538775, 0.22404180765538775, 0.16803135574154082, 0.10081881344492448, 0.05040940672246225, 0.02160403145248382, 0.008101511794681432, 0.002700503931560477, 0.0008101511794681432, 0.00022095032167312998, 5.5237580418282494e-05, 1.2747133942680574e-05, 2.7315287020029804e-06, 5.46305740400596e-07, 1.0243232632511176e-07, 1.8076292880902075e-08, 3.0127154801503463e-09, 4.756919179184757e-10, 7.135378768777135e-11]}, {\"line\": {\"color\": \"#00CED1\", \"width\": 6}, \"name\": \"Binomial probability\", \"type\": \"scatter\", \"visible\": false, \"x\": [0.0, 1.0, 2.0, 3.0, 4.0, 5.0, 6.0, 7.0, 8.0, 9.0, 10.0, 11.0, 12.0, 13.0, 14.0, 15.0, 16.0, 17.0, 18.0, 19.0, 20.0], \"y\": [0.01831563888873418, 0.07326255555493671, 0.14652511110987343, 0.19536681481316456, 0.19536681481316456, 0.15629345185053165, 0.1041956345670211, 0.059540362609726345, 0.029770181304863173, 0.013231191691050298, 0.0052924766764201195, 0.0019245369732436798, 0.00064151232441456, 0.00019738840751217228, 5.6396687860620656e-05, 1.5039116762832175e-05, 3.759779190708044e-06, 8.846539272254221e-07, 1.9658976160564933e-07, 4.138731823276828e-08, 8.277463646553656e-09]}, {\"line\": {\"color\": \"#00CED1\", \"width\": 6}, \"name\": \"Binomial probability\", \"type\": \"scatter\", \"visible\": true, \"x\": [0.0, 1.0, 2.0, 3.0, 4.0, 5.0, 6.0, 7.0, 8.0, 9.0, 10.0, 11.0, 12.0, 13.0, 14.0, 15.0, 16.0, 17.0, 18.0, 19.0, 20.0], \"y\": [0.006737946999085467, 0.03368973499542734, 0.08422433748856833, 0.14037389581428056, 0.1754673697678507, 0.1754673697678507, 0.1462228081398756, 0.104444862957054, 0.06527803934815875, 0.03626557741564375, 0.01813278870782187, 0.00824217668537358, 0.0034342402855723248, 0.0013208616482970478, 0.00047173630296323143, 0.00015724543432107713, 4.91391982253366e-05, 1.4452705360393119e-05, 4.014640377886977e-06, 1.0564843099702573e-06, 2.6412107749256427e-07]}, {\"line\": {\"color\": \"#00CED1\", \"width\": 6}, \"name\": \"Binomial probability\", \"type\": \"scatter\", \"visible\": false, \"x\": [0.0, 1.0, 2.0, 3.0, 4.0, 5.0, 6.0, 7.0, 8.0, 9.0, 10.0, 11.0, 12.0, 13.0, 14.0, 15.0, 16.0, 17.0, 18.0, 19.0, 20.0], \"y\": [0.0024787521766663585, 0.014872513059998151, 0.044617539179994455, 0.08923507835998891, 0.13385261753998337, 0.16062314104798003, 0.16062314104798003, 0.13767697804112575, 0.1032577335308443, 0.06883848902056287, 0.041303093412337726, 0.022528960043093304, 0.011264480021546652, 0.0051989907791753776, 0.0022281389053608763, 0.0008912555621443505, 0.0003342208358041314, 0.00011796029498969344, 3.9320098329897816e-05, 1.2416873156809836e-05, 3.7250619470429508e-06]}, {\"line\": {\"color\": \"#00CED1\", \"width\": 6}, \"name\": \"Binomial probability\", \"type\": \"scatter\", \"visible\": false, \"x\": [0.0, 1.0, 2.0, 3.0, 4.0, 5.0, 6.0, 7.0, 8.0, 9.0, 10.0, 11.0, 12.0, 13.0, 14.0, 15.0, 16.0, 17.0, 18.0, 19.0, 20.0], \"y\": [0.0009118819655545162, 0.006383173758881614, 0.022341108156085646, 0.052129252364199845, 0.09122619163734973, 0.12771666829228961, 0.1490027796743379, 0.1490027796743379, 0.13037743221504564, 0.10140466950059107, 0.07098326865041375, 0.045171170959354204, 0.02634984972628995, 0.014188380621848434, 0.007094190310924218, 0.0033106221450979684, 0.0014483971884803612, 0.0005963988423154428, 0.0002319328831226722, 8.544895693993186e-05, 2.990713492897615e-05]}, {\"line\": {\"color\": \"#00CED1\", \"width\": 6}, \"name\": \"Binomial probability\", \"type\": \"scatter\", \"visible\": false, \"x\": [0.0, 1.0, 2.0, 3.0, 4.0, 5.0, 6.0, 7.0, 8.0, 9.0, 10.0, 11.0, 12.0, 13.0, 14.0, 15.0, 16.0, 17.0, 18.0, 19.0, 20.0], \"y\": [0.00033546262790251185, 0.002683701023220095, 0.01073480409288038, 0.02862614424768101, 0.05725228849536202, 0.09160366159257924, 0.12213821545677231, 0.13958653195059692, 0.13958653195059692, 0.1240769172894195, 0.09926153383153559, 0.07219020642293499, 0.048126804281956655, 0.029616494942742554, 0.01692371139585289, 0.009025979411121541, 0.004512989705560771, 0.0021237598614403624, 0.0009438932717512722, 0.00039742874600053567, 0.00015897149840021427]}, {\"line\": {\"color\": \"#00CED1\", \"width\": 6}, \"name\": \"Binomial probability\", \"type\": \"scatter\", \"visible\": false, \"x\": [0.0, 1.0, 2.0, 3.0, 4.0, 5.0, 6.0, 7.0, 8.0, 9.0, 10.0, 11.0, 12.0, 13.0, 14.0, 15.0, 16.0, 17.0, 18.0, 19.0, 20.0], \"y\": [0.00012340980408667956, 0.001110688236780116, 0.004998097065510522, 0.014994291196531567, 0.03373715519219602, 0.06072687934595285, 0.09109031901892926, 0.11711612445290907, 0.1317556400095227, 0.13175564000952267, 0.11858007600857041, 0.09702006218883034, 0.07276504664162275, 0.05037580152112345, 0.03238444383500794, 0.01943066630100476, 0.010929749794315177, 0.005786338126402153, 0.0028931690632010764, 0.0013704485036215622, 0.000616701826629703]}, {\"line\": {\"color\": \"#00CED1\", \"width\": 6}, \"name\": \"Binomial probability\", \"type\": \"scatter\", \"visible\": false, \"x\": [0.0, 1.0, 2.0, 3.0, 4.0, 5.0, 6.0, 7.0, 8.0, 9.0, 10.0, 11.0, 12.0, 13.0, 14.0, 15.0, 16.0, 17.0, 18.0, 19.0, 20.0], \"y\": [4.5399929762484854e-05, 0.00045399929762484856, 0.0022699964881242427, 0.007566654960414142, 0.018916637401035354, 0.03783327480207071, 0.06305545800345118, 0.09007922571921599, 0.11259903214901998, 0.1251100357211333, 0.1251100357211333, 0.11373639611012118, 0.09478033009176766, 0.07290794622443666, 0.05207710444602619, 0.03471806963068413, 0.021698793519177577, 0.012763996187751515, 0.007091108993195286, 0.0037321626279975192, 0.0018660813139987594]}, {\"line\": {\"color\": \"#00CED1\", \"width\": 6}, \"name\": \"Binomial probability\", \"type\": \"scatter\", \"visible\": false, \"x\": [0.0, 1.0, 2.0, 3.0, 4.0, 5.0, 6.0, 7.0, 8.0, 9.0, 10.0, 11.0, 12.0, 13.0, 14.0, 15.0, 16.0, 17.0, 18.0, 19.0, 20.0], \"y\": [1.670170079024566e-05, 0.00018371870869270227, 0.0010104528978098625, 0.003704993958636162, 0.010188733386249446, 0.02241521344974878, 0.0410945579912061, 0.06457716255760958, 0.08879359851671317, 0.108525509298205, 0.1193780602280255, 0.1193780602280255, 0.10942988854235669, 0.09259452107430183, 0.07275283798695144, 0.05335208119043105, 0.03667955581842135, 0.023733830235449106, 0.014504007366107787, 0.008397056896167666, 0.004618381292892217]}, {\"line\": {\"color\": \"#00CED1\", \"width\": 6}, \"name\": \"Binomial probability\", \"type\": \"scatter\", \"visible\": false, \"x\": [0.0, 1.0, 2.0, 3.0, 4.0, 5.0, 6.0, 7.0, 8.0, 9.0, 10.0, 11.0, 12.0, 13.0, 14.0, 15.0, 16.0, 17.0, 18.0, 19.0, 20.0], \"y\": [6.14421235332821e-06, 7.373054823993851e-05, 0.0004423832894396311, 0.0017695331577585243, 0.005308599473275573, 0.012740638735861376, 0.02548127747172275, 0.043682189951524716, 0.06552328492728707, 0.08736437990304943, 0.10483725588365932, 0.11436791550944653, 0.11436791550944653, 0.10557038354718142, 0.09048890018329836, 0.07239112014663869, 0.054293340109979014, 0.03832471066586754, 0.02554980711057836, 0.01613672028036528, 0.009682032168219168]}, {\"line\": {\"color\": \"#00CED1\", \"width\": 6}, \"name\": \"Binomial probability\", \"type\": \"scatter\", \"visible\": false, \"x\": [0.0, 1.0, 2.0, 3.0, 4.0, 5.0, 6.0, 7.0, 8.0, 9.0, 10.0, 11.0, 12.0, 13.0, 14.0, 15.0, 16.0, 17.0, 18.0, 19.0, 20.0], \"y\": [2.2603294069810542e-06, 2.9384282290753705e-05, 0.0001909978348898991, 0.000827657284522896, 0.002689886174699412, 0.006993704054218471, 0.015153025450806688, 0.028141332980069562, 0.045729666092613044, 0.06605396213377439, 0.08587015077390671, 0.10148290546007156, 0.10993981424841087, 0.10993981424841086, 0.10208697037352438, 0.08847537432372113, 0.07188624163802343, 0.05497183184084144, 0.03970187855171882, 0.02716444321959708, 0.017656888092738104]}, {\"line\": {\"color\": \"#00CED1\", \"width\": 6}, \"name\": \"Binomial probability\", \"type\": \"scatter\", \"visible\": false, \"x\": [0.0, 1.0, 2.0, 3.0, 4.0, 5.0, 6.0, 7.0, 8.0, 9.0, 10.0, 11.0, 12.0, 13.0, 14.0, 15.0, 16.0, 17.0, 18.0, 19.0, 20.0], \"y\": [8.315287191035679e-07, 1.164140206744995e-05, 8.148981447214965e-05, 0.0003802858008700317, 0.001331000303045111, 0.003726800848526311, 0.008695868646561392, 0.017391737293122784, 0.03043554026296487, 0.0473441737423898, 0.06628184323934572, 0.0843587095773491, 0.09841849450690728, 0.10598914793051555, 0.10598914793051553, 0.09892320473514783, 0.08655780414325434, 0.07128289752973888, 0.055442253634241344, 0.04085218688838836, 0.028596530821871854]}, {\"line\": {\"color\": \"#00CED1\", \"width\": 6}, \"name\": \"Binomial probability\", \"type\": \"scatter\", \"visible\": false, \"x\": [0.0, 1.0, 2.0, 3.0, 4.0, 5.0, 6.0, 7.0, 8.0, 9.0, 10.0, 11.0, 12.0, 13.0, 14.0, 15.0, 16.0, 17.0, 18.0, 19.0, 20.0], \"y\": [3.059023205018258e-07, 4.588534807527386e-06, 3.44140110564554e-05, 0.000172070055282277, 0.0006452627073085387, 0.0019357881219256162, 0.0048394703048140406, 0.010370293510315801, 0.019444300331842128, 0.03240716721973688, 0.048610750829605316, 0.06628738749491635, 0.08285923436864542, 0.09560680888689858, 0.10243586666453419, 0.10243586666453419, 0.0960336249980008, 0.08473555146882424, 0.07061295955735353, 0.05574707333475278, 0.041810305001064585]}, {\"line\": {\"color\": \"#00CED1\", \"width\": 6}, \"name\": \"Binomial probability\", \"type\": \"scatter\", \"visible\": false, \"x\": [0.0, 1.0, 2.0, 3.0, 4.0, 5.0, 6.0, 7.0, 8.0, 9.0, 10.0, 11.0, 12.0, 13.0, 14.0, 15.0, 16.0, 17.0, 18.0, 19.0, 20.0], \"y\": [1.1253517471925912e-07, 1.8005627955081459e-06, 1.4404502364065167e-05, 7.682401260834756e-05, 0.00030729605043339025, 0.0009833473613868487, 0.00262225963036493, 0.005993736297976983, 0.011987472595953966, 0.02131106239280705, 0.03409769982849128, 0.049596654295987315, 0.06612887239464975, 0.0813893814087997, 0.09301643589577108, 0.09921753162215582, 0.09921753162215582, 0.09338120623261724, 0.08300551665121533, 0.0698993824431287, 0.05591950595450296]}, {\"line\": {\"color\": \"#00CED1\", \"width\": 6}, \"name\": \"Binomial probability\", \"type\": \"scatter\", \"visible\": false, \"x\": [0.0, 1.0, 2.0, 3.0, 4.0, 5.0, 6.0, 7.0, 8.0, 9.0, 10.0, 11.0, 12.0, 13.0, 14.0, 15.0, 16.0, 17.0, 18.0, 19.0, 20.0], \"y\": [4.139937718785167e-08, 7.037894121934784e-07, 5.982210003644566e-06, 3.389919002065254e-05, 0.0001440715575877733, 0.0004898432957984292, 0.0013878893380955494, 0.0033705883925177634, 0.007162500334100246, 0.013529167297744909, 0.022999584406166347, 0.035544812264075264, 0.050355150707439955, 0.06584904323280609, 0.07995955249697884, 0.09062082616324268, 0.09628462779844535, 0.09628462779844535, 0.09093548180964281, 0.08136332582968041, 0.06915882695522836]}, {\"line\": {\"color\": \"#00CED1\", \"width\": 6}, \"name\": \"Binomial probability\", \"type\": \"scatter\", \"visible\": false, \"x\": [0.0, 1.0, 2.0, 3.0, 4.0, 5.0, 6.0, 7.0, 8.0, 9.0, 10.0, 11.0, 12.0, 13.0, 14.0, 15.0, 16.0, 17.0, 18.0, 19.0, 20.0], \"y\": [1.522997974471263e-08, 2.741396354048273e-07, 2.467256718643446e-06, 1.4803540311860676e-05, 6.661593140337305e-05, 0.00023981735305214294, 0.0007194520591564289, 0.0018500195806879598, 0.004162544056547909, 0.00832508811309582, 0.014985158603572475, 0.024521168624027687, 0.03678175293604153, 0.050928580988365196, 0.0654796041278981, 0.07857552495347774, 0.08839746557266245, 0.09359731648870141, 0.09359731648870143, 0.08867114193666449, 0.07980402774299804]}, {\"line\": {\"color\": \"#00CED1\", \"width\": 6}, \"name\": \"Binomial probability\", \"type\": \"scatter\", \"visible\": false, \"x\": [0.0, 1.0, 2.0, 3.0, 4.0, 5.0, 6.0, 7.0, 8.0, 9.0, 10.0, 11.0, 12.0, 13.0, 14.0, 15.0, 16.0, 17.0, 18.0, 19.0, 20.0], \"y\": [5.602796437537268e-09, 1.0645313231320808e-07, 1.0113047569754769e-06, 6.404930127511353e-06, 3.042341810567893e-05, 0.00011560898880157993, 0.0003660951312050031, 0.000993686784699294, 0.002360006113660824, 0.004982235128839517, 0.009466246744795083, 0.016350789831918778, 0.02588875056720473, 0.03783740467514537, 0.05135076348769729, 0.0650443004177499, 0.07724010674607801, 0.08632717812796956, 0.09112313246841229, 0.0911231324684123, 0.08656697584499168]}, {\"line\": {\"color\": \"#00CED1\", \"width\": 6}, \"name\": \"Binomial probability\", \"type\": \"scatter\", \"visible\": false, \"x\": [0.0, 1.0, 2.0, 3.0, 4.0, 5.0, 6.0, 7.0, 8.0, 9.0, 10.0, 11.0, 12.0, 13.0, 14.0, 15.0, 16.0, 17.0, 18.0, 19.0, 20.0], \"y\": [2.061153622438558e-09, 4.122307244877116e-08, 4.122307244877116e-07, 2.7482048299180773e-06, 1.3741024149590386e-05, 5.496409659836154e-05, 0.0001832136553278718, 0.0005234675866510624, 0.0013086689666276558, 0.0029081532591725685, 0.005816306518345136, 0.010575102760627522, 0.017625171267712535, 0.02711564810417313, 0.03873664014881876, 0.05164885353175835, 0.06456106691469793, 0.07595419637023286, 0.08439355152248096, 0.08883531739208522, 0.08883531739208521]}],\n",
       "                        {\"height\": 600, \"sliders\": [{\"active\": 10, \"currentvalue\": {\"prefix\": \"Mean parameter theta: \"}, \"pad\": {\"t\": 50}, \"steps\": [{\"args\": [{\"visible\": [true, false, false, false, false, false, false, false, false, false, false, false, false, false, false, false, false, false, false, false, false]}, {\"title.text\": \"Mean parameter theta 0\"}], \"method\": \"update\"}, {\"args\": [{\"visible\": [false, true, false, false, false, false, false, false, false, false, false, false, false, false, false, false, false, false, false, false, false]}, {\"title.text\": \"Mean parameter theta 1\"}], \"method\": \"update\"}, {\"args\": [{\"visible\": [false, false, true, false, false, false, false, false, false, false, false, false, false, false, false, false, false, false, false, false, false]}, {\"title.text\": \"Mean parameter theta 2\"}], \"method\": \"update\"}, {\"args\": [{\"visible\": [false, false, false, true, false, false, false, false, false, false, false, false, false, false, false, false, false, false, false, false, false]}, {\"title.text\": \"Mean parameter theta 3\"}], \"method\": \"update\"}, {\"args\": [{\"visible\": [false, false, false, false, true, false, false, false, false, false, false, false, false, false, false, false, false, false, false, false, false]}, {\"title.text\": \"Mean parameter theta 4\"}], \"method\": \"update\"}, {\"args\": [{\"visible\": [false, false, false, false, false, true, false, false, false, false, false, false, false, false, false, false, false, false, false, false, false]}, {\"title.text\": \"Mean parameter theta 5\"}], \"method\": \"update\"}, {\"args\": [{\"visible\": [false, false, false, false, false, false, true, false, false, false, false, false, false, false, false, false, false, false, false, false, false]}, {\"title.text\": \"Mean parameter theta 6\"}], \"method\": \"update\"}, {\"args\": [{\"visible\": [false, false, false, false, false, false, false, true, false, false, false, false, false, false, false, false, false, false, false, false, false]}, {\"title.text\": \"Mean parameter theta 7\"}], \"method\": \"update\"}, {\"args\": [{\"visible\": [false, false, false, false, false, false, false, false, true, false, false, false, false, false, false, false, false, false, false, false, false]}, {\"title.text\": \"Mean parameter theta 8\"}], \"method\": \"update\"}, {\"args\": [{\"visible\": [false, false, false, false, false, false, false, false, false, true, false, false, false, false, false, false, false, false, false, false, false]}, {\"title.text\": \"Mean parameter theta 9\"}], \"method\": \"update\"}, {\"args\": [{\"visible\": [false, false, false, false, false, false, false, false, false, false, true, false, false, false, false, false, false, false, false, false, false]}, {\"title.text\": \"Mean parameter theta 10\"}], \"method\": \"update\"}, {\"args\": [{\"visible\": [false, false, false, false, false, false, false, false, false, false, false, true, false, false, false, false, false, false, false, false, false]}, {\"title.text\": \"Mean parameter theta 11\"}], \"method\": \"update\"}, {\"args\": [{\"visible\": [false, false, false, false, false, false, false, false, false, false, false, false, true, false, false, false, false, false, false, false, false]}, {\"title.text\": \"Mean parameter theta 12\"}], \"method\": \"update\"}, {\"args\": [{\"visible\": [false, false, false, false, false, false, false, false, false, false, false, false, false, true, false, false, false, false, false, false, false]}, {\"title.text\": \"Mean parameter theta 13\"}], \"method\": \"update\"}, {\"args\": [{\"visible\": [false, false, false, false, false, false, false, false, false, false, false, false, false, false, true, false, false, false, false, false, false]}, {\"title.text\": \"Mean parameter theta 14\"}], \"method\": \"update\"}, {\"args\": [{\"visible\": [false, false, false, false, false, false, false, false, false, false, false, false, false, false, false, true, false, false, false, false, false]}, {\"title.text\": \"Mean parameter theta 15\"}], \"method\": \"update\"}, {\"args\": [{\"visible\": [false, false, false, false, false, false, false, false, false, false, false, false, false, false, false, false, true, false, false, false, false]}, {\"title.text\": \"Mean parameter theta 16\"}], \"method\": \"update\"}, {\"args\": [{\"visible\": [false, false, false, false, false, false, false, false, false, false, false, false, false, false, false, false, false, true, false, false, false]}, {\"title.text\": \"Mean parameter theta 17\"}], \"method\": \"update\"}, {\"args\": [{\"visible\": [false, false, false, false, false, false, false, false, false, false, false, false, false, false, false, false, false, false, true, false, false]}, {\"title.text\": \"Mean parameter theta 18\"}], \"method\": \"update\"}, {\"args\": [{\"visible\": [false, false, false, false, false, false, false, false, false, false, false, false, false, false, false, false, false, false, false, true, false]}, {\"title.text\": \"Mean parameter theta 19\"}], \"method\": \"update\"}, {\"args\": [{\"visible\": [false, false, false, false, false, false, false, false, false, false, false, false, false, false, false, false, false, false, false, false, true]}, {\"title.text\": \"Mean parameter theta 20\"}], \"method\": \"update\"}]}], \"template\": {\"data\": {\"bar\": [{\"error_x\": {\"color\": \"#2a3f5f\"}, \"error_y\": {\"color\": \"#2a3f5f\"}, \"marker\": {\"line\": {\"color\": \"#E5ECF6\", \"width\": 0.5}}, \"type\": \"bar\"}], \"barpolar\": [{\"marker\": {\"line\": {\"color\": \"#E5ECF6\", \"width\": 0.5}}, \"type\": \"barpolar\"}], \"carpet\": [{\"aaxis\": {\"endlinecolor\": \"#2a3f5f\", \"gridcolor\": \"white\", \"linecolor\": \"white\", \"minorgridcolor\": \"white\", \"startlinecolor\": \"#2a3f5f\"}, \"baxis\": {\"endlinecolor\": \"#2a3f5f\", \"gridcolor\": \"white\", \"linecolor\": \"white\", \"minorgridcolor\": \"white\", \"startlinecolor\": \"#2a3f5f\"}, \"type\": \"carpet\"}], \"choropleth\": [{\"colorbar\": {\"outlinewidth\": 0, \"ticks\": \"\"}, \"type\": \"choropleth\"}], \"contour\": [{\"colorbar\": {\"outlinewidth\": 0, \"ticks\": \"\"}, \"colorscale\": [[0.0, \"#0d0887\"], [0.1111111111111111, \"#46039f\"], [0.2222222222222222, \"#7201a8\"], [0.3333333333333333, \"#9c179e\"], [0.4444444444444444, \"#bd3786\"], [0.5555555555555556, \"#d8576b\"], [0.6666666666666666, \"#ed7953\"], [0.7777777777777778, \"#fb9f3a\"], [0.8888888888888888, \"#fdca26\"], [1.0, \"#f0f921\"]], \"type\": \"contour\"}], \"contourcarpet\": [{\"colorbar\": {\"outlinewidth\": 0, \"ticks\": \"\"}, \"type\": \"contourcarpet\"}], \"heatmap\": [{\"colorbar\": {\"outlinewidth\": 0, \"ticks\": \"\"}, \"colorscale\": [[0.0, \"#0d0887\"], [0.1111111111111111, \"#46039f\"], [0.2222222222222222, \"#7201a8\"], [0.3333333333333333, \"#9c179e\"], [0.4444444444444444, \"#bd3786\"], [0.5555555555555556, \"#d8576b\"], [0.6666666666666666, \"#ed7953\"], [0.7777777777777778, \"#fb9f3a\"], [0.8888888888888888, \"#fdca26\"], [1.0, \"#f0f921\"]], \"type\": \"heatmap\"}], \"heatmapgl\": [{\"colorbar\": {\"outlinewidth\": 0, \"ticks\": \"\"}, \"colorscale\": [[0.0, \"#0d0887\"], [0.1111111111111111, \"#46039f\"], [0.2222222222222222, \"#7201a8\"], [0.3333333333333333, \"#9c179e\"], [0.4444444444444444, \"#bd3786\"], [0.5555555555555556, \"#d8576b\"], [0.6666666666666666, \"#ed7953\"], [0.7777777777777778, \"#fb9f3a\"], [0.8888888888888888, \"#fdca26\"], [1.0, \"#f0f921\"]], \"type\": \"heatmapgl\"}], \"histogram\": [{\"marker\": {\"colorbar\": {\"outlinewidth\": 0, \"ticks\": \"\"}}, \"type\": \"histogram\"}], \"histogram2d\": [{\"colorbar\": {\"outlinewidth\": 0, \"ticks\": \"\"}, \"colorscale\": [[0.0, \"#0d0887\"], [0.1111111111111111, \"#46039f\"], [0.2222222222222222, \"#7201a8\"], [0.3333333333333333, \"#9c179e\"], [0.4444444444444444, \"#bd3786\"], [0.5555555555555556, \"#d8576b\"], [0.6666666666666666, \"#ed7953\"], [0.7777777777777778, \"#fb9f3a\"], [0.8888888888888888, \"#fdca26\"], [1.0, \"#f0f921\"]], \"type\": \"histogram2d\"}], \"histogram2dcontour\": [{\"colorbar\": {\"outlinewidth\": 0, \"ticks\": \"\"}, \"colorscale\": [[0.0, \"#0d0887\"], [0.1111111111111111, \"#46039f\"], [0.2222222222222222, \"#7201a8\"], [0.3333333333333333, \"#9c179e\"], [0.4444444444444444, \"#bd3786\"], [0.5555555555555556, \"#d8576b\"], [0.6666666666666666, \"#ed7953\"], [0.7777777777777778, \"#fb9f3a\"], [0.8888888888888888, \"#fdca26\"], [1.0, \"#f0f921\"]], \"type\": \"histogram2dcontour\"}], \"mesh3d\": [{\"colorbar\": {\"outlinewidth\": 0, \"ticks\": \"\"}, \"type\": \"mesh3d\"}], \"parcoords\": [{\"line\": {\"colorbar\": {\"outlinewidth\": 0, \"ticks\": \"\"}}, \"type\": \"parcoords\"}], \"pie\": [{\"automargin\": true, \"type\": \"pie\"}], \"scatter\": [{\"marker\": {\"colorbar\": {\"outlinewidth\": 0, \"ticks\": \"\"}}, \"type\": \"scatter\"}], \"scatter3d\": [{\"line\": {\"colorbar\": {\"outlinewidth\": 0, \"ticks\": \"\"}}, \"marker\": {\"colorbar\": {\"outlinewidth\": 0, \"ticks\": \"\"}}, \"type\": \"scatter3d\"}], \"scattercarpet\": [{\"marker\": {\"colorbar\": {\"outlinewidth\": 0, \"ticks\": \"\"}}, \"type\": \"scattercarpet\"}], \"scattergeo\": [{\"marker\": {\"colorbar\": {\"outlinewidth\": 0, \"ticks\": \"\"}}, \"type\": \"scattergeo\"}], \"scattergl\": [{\"marker\": {\"colorbar\": {\"outlinewidth\": 0, \"ticks\": \"\"}}, \"type\": \"scattergl\"}], \"scattermapbox\": [{\"marker\": {\"colorbar\": {\"outlinewidth\": 0, \"ticks\": \"\"}}, \"type\": \"scattermapbox\"}], \"scatterpolar\": [{\"marker\": {\"colorbar\": {\"outlinewidth\": 0, \"ticks\": \"\"}}, \"type\": \"scatterpolar\"}], \"scatterpolargl\": [{\"marker\": {\"colorbar\": {\"outlinewidth\": 0, \"ticks\": \"\"}}, \"type\": \"scatterpolargl\"}], \"scatterternary\": [{\"marker\": {\"colorbar\": {\"outlinewidth\": 0, \"ticks\": \"\"}}, \"type\": \"scatterternary\"}], \"surface\": [{\"colorbar\": {\"outlinewidth\": 0, \"ticks\": \"\"}, \"colorscale\": [[0.0, \"#0d0887\"], [0.1111111111111111, \"#46039f\"], [0.2222222222222222, \"#7201a8\"], [0.3333333333333333, \"#9c179e\"], [0.4444444444444444, \"#bd3786\"], [0.5555555555555556, \"#d8576b\"], [0.6666666666666666, \"#ed7953\"], [0.7777777777777778, \"#fb9f3a\"], [0.8888888888888888, \"#fdca26\"], [1.0, \"#f0f921\"]], \"type\": \"surface\"}], \"table\": [{\"cells\": {\"fill\": {\"color\": \"#EBF0F8\"}, \"line\": {\"color\": \"white\"}}, \"header\": {\"fill\": {\"color\": \"#C8D4E3\"}, \"line\": {\"color\": \"white\"}}, \"type\": \"table\"}]}, \"layout\": {\"annotationdefaults\": {\"arrowcolor\": \"#2a3f5f\", \"arrowhead\": 0, \"arrowwidth\": 1}, \"coloraxis\": {\"colorbar\": {\"outlinewidth\": 0, \"ticks\": \"\"}}, \"colorscale\": {\"diverging\": [[0, \"#8e0152\"], [0.1, \"#c51b7d\"], [0.2, \"#de77ae\"], [0.3, \"#f1b6da\"], [0.4, \"#fde0ef\"], [0.5, \"#f7f7f7\"], [0.6, \"#e6f5d0\"], [0.7, \"#b8e186\"], [0.8, \"#7fbc41\"], [0.9, \"#4d9221\"], [1, \"#276419\"]], \"sequential\": [[0.0, \"#0d0887\"], [0.1111111111111111, \"#46039f\"], [0.2222222222222222, \"#7201a8\"], [0.3333333333333333, \"#9c179e\"], [0.4444444444444444, \"#bd3786\"], [0.5555555555555556, \"#d8576b\"], [0.6666666666666666, \"#ed7953\"], [0.7777777777777778, \"#fb9f3a\"], [0.8888888888888888, \"#fdca26\"], [1.0, \"#f0f921\"]], \"sequentialminus\": [[0.0, \"#0d0887\"], [0.1111111111111111, \"#46039f\"], [0.2222222222222222, \"#7201a8\"], [0.3333333333333333, \"#9c179e\"], [0.4444444444444444, \"#bd3786\"], [0.5555555555555556, \"#d8576b\"], [0.6666666666666666, \"#ed7953\"], [0.7777777777777778, \"#fb9f3a\"], [0.8888888888888888, \"#fdca26\"], [1.0, \"#f0f921\"]]}, \"colorway\": [\"#636efa\", \"#EF553B\", \"#00cc96\", \"#ab63fa\", \"#FFA15A\", \"#19d3f3\", \"#FF6692\", \"#B6E880\", \"#FF97FF\", \"#FECB52\"], \"font\": {\"color\": \"#2a3f5f\"}, \"geo\": {\"bgcolor\": \"white\", \"lakecolor\": \"white\", \"landcolor\": \"#E5ECF6\", \"showlakes\": true, \"showland\": true, \"subunitcolor\": \"white\"}, \"hoverlabel\": {\"align\": \"left\"}, \"hovermode\": \"closest\", \"mapbox\": {\"style\": \"light\"}, \"paper_bgcolor\": \"white\", \"plot_bgcolor\": \"#E5ECF6\", \"polar\": {\"angularaxis\": {\"gridcolor\": \"white\", \"linecolor\": \"white\", \"ticks\": \"\"}, \"bgcolor\": \"#E5ECF6\", \"radialaxis\": {\"gridcolor\": \"white\", \"linecolor\": \"white\", \"ticks\": \"\"}}, \"scene\": {\"xaxis\": {\"backgroundcolor\": \"#E5ECF6\", \"gridcolor\": \"white\", \"gridwidth\": 2, \"linecolor\": \"white\", \"showbackground\": true, \"ticks\": \"\", \"zerolinecolor\": \"white\"}, \"yaxis\": {\"backgroundcolor\": \"#E5ECF6\", \"gridcolor\": \"white\", \"gridwidth\": 2, \"linecolor\": \"white\", \"showbackground\": true, \"ticks\": \"\", \"zerolinecolor\": \"white\"}, \"zaxis\": {\"backgroundcolor\": \"#E5ECF6\", \"gridcolor\": \"white\", \"gridwidth\": 2, \"linecolor\": \"white\", \"showbackground\": true, \"ticks\": \"\", \"zerolinecolor\": \"white\"}}, \"shapedefaults\": {\"line\": {\"color\": \"#2a3f5f\"}}, \"ternary\": {\"aaxis\": {\"gridcolor\": \"white\", \"linecolor\": \"white\", \"ticks\": \"\"}, \"baxis\": {\"gridcolor\": \"white\", \"linecolor\": \"white\", \"ticks\": \"\"}, \"bgcolor\": \"#E5ECF6\", \"caxis\": {\"gridcolor\": \"white\", \"linecolor\": \"white\", \"ticks\": \"\"}}, \"title\": {\"x\": 0.05}, \"xaxis\": {\"automargin\": true, \"gridcolor\": \"white\", \"linecolor\": \"white\", \"ticks\": \"\", \"title\": {\"standoff\": 15}, \"zerolinecolor\": \"white\", \"zerolinewidth\": 2}, \"yaxis\": {\"automargin\": true, \"gridcolor\": \"white\", \"linecolor\": \"white\", \"ticks\": \"\", \"title\": {\"standoff\": 15}, \"zerolinecolor\": \"white\", \"zerolinewidth\": 2}}}, \"title\": {\"text\": \"Poisson distribution - P(y/theta) vs y, move slider to vary the mean parameter theta\"}, \"width\": 800, \"xaxis\": {\"title\": {\"text\": \"Poisson distribution - P(y/theta) vs y, move slider to vary the mean parameter theta\"}}},\n",
       "                        {\"responsive\": true}\n",
       "                    ).then(function(){\n",
       "                            \n",
       "var gd = document.getElementById('f758e5dd-b5d7-4477-9ab7-e918fba3d34a');\n",
       "var x = new MutationObserver(function (mutations, observer) {{\n",
       "        var display = window.getComputedStyle(gd).display;\n",
       "        if (!display || display === 'none') {{\n",
       "            console.log([gd, 'removed!']);\n",
       "            Plotly.purge(gd);\n",
       "            observer.disconnect();\n",
       "        }}\n",
       "}});\n",
       "\n",
       "// Listen for the removal of the full notebook cells\n",
       "var notebookContainer = gd.closest('#notebook-container');\n",
       "if (notebookContainer) {{\n",
       "    x.observe(notebookContainer, {childList: true});\n",
       "}}\n",
       "\n",
       "// Listen for the clearing of the current output cell\n",
       "var outputEl = gd.closest('.output');\n",
       "if (outputEl) {{\n",
       "    x.observe(outputEl, {childList: true});\n",
       "}}\n",
       "\n",
       "                        })\n",
       "                };\n",
       "                });\n",
       "            </script>\n",
       "        </div>"
      ]
     },
     "metadata": {},
     "output_type": "display_data"
    }
   ],
   "source": [
    "def poisson_vector(theta, args):\n",
    "    y_range_steps = args['y_range_steps']\n",
    "    y_end = args['y_end']\n",
    "    y =  np.linspace(0,y_end,y_range_steps+1)\n",
    "    \n",
    "    p_theta = (theta**y * np.exp(-theta)) / factorial(y)\n",
    "    return(p_theta)\n",
    "\n",
    "# y_end is how far you want to compute y values\n",
    "# theta_range_steps is the number of steps that define the increment of theta parameter on the slider\n",
    "# y_range_steps should be y_end since discrete values are used for the binomial distribution\n",
    "# In general y_end = y_range_steps\n",
    "fig = plotter_over_y(theta_end = 20, theta_range_steps=20, y_end = 20, y_range_steps=20, function=poisson_vector, \n",
    "              function_args={'y_end': 20, 'y_range_steps': 20},\n",
    "              plotting_args={'title': 'Poisson distribution - P(y/theta) vs y, move slider to vary the mean parameter theta'})\n",
    "pio.show(fig)"
   ]
  },
  {
   "cell_type": "code",
   "execution_count": 192,
   "metadata": {},
   "outputs": [
    {
     "data": {
      "application/vnd.plotly.v1+json": {
       "config": {
        "plotlyServerURL": "https://plot.ly"
       },
       "data": [
        {
         "hovertemplate": "x=%{x}<br>y=%{y}<extra></extra>",
         "legendgroup": "",
         "line": {
          "color": "steelblue",
          "dash": "solid",
          "width": 4
         },
         "mode": "lines",
         "name": "",
         "showlegend": false,
         "type": "scatter",
         "x": [
          0,
          1,
          2,
          3,
          4,
          5,
          6,
          7,
          8,
          9,
          10,
          11,
          12,
          13,
          14,
          15,
          16,
          17,
          18,
          19,
          20
         ],
         "xaxis": "x",
         "y": [
          6.14421235332821e-06,
          7.373054823993851e-05,
          0.0004423832894396311,
          0.0017695331577585243,
          0.005308599473275573,
          0.012740638735861376,
          0.02548127747172275,
          0.043682189951524716,
          0.06552328492728707,
          0.08736437990304943,
          0.10483725588365932,
          0.11436791550944653,
          0.11436791550944653,
          0.10557038354718142,
          0.09048890018329836,
          0.07239112014663869,
          0.054293340109979014,
          0.03832471066586754,
          0.02554980711057836,
          0.01613672028036528,
          0.009682032168219168
         ],
         "yaxis": "y"
        }
       ],
       "layout": {
        "height": 600,
        "legend": {
         "tracegroupgap": 0
        },
        "template": {
         "data": {
          "bar": [
           {
            "error_x": {
             "color": "#2a3f5f"
            },
            "error_y": {
             "color": "#2a3f5f"
            },
            "marker": {
             "line": {
              "color": "#E5ECF6",
              "width": 0.5
             }
            },
            "type": "bar"
           }
          ],
          "barpolar": [
           {
            "marker": {
             "line": {
              "color": "#E5ECF6",
              "width": 0.5
             }
            },
            "type": "barpolar"
           }
          ],
          "carpet": [
           {
            "aaxis": {
             "endlinecolor": "#2a3f5f",
             "gridcolor": "white",
             "linecolor": "white",
             "minorgridcolor": "white",
             "startlinecolor": "#2a3f5f"
            },
            "baxis": {
             "endlinecolor": "#2a3f5f",
             "gridcolor": "white",
             "linecolor": "white",
             "minorgridcolor": "white",
             "startlinecolor": "#2a3f5f"
            },
            "type": "carpet"
           }
          ],
          "choropleth": [
           {
            "colorbar": {
             "outlinewidth": 0,
             "ticks": ""
            },
            "type": "choropleth"
           }
          ],
          "contour": [
           {
            "colorbar": {
             "outlinewidth": 0,
             "ticks": ""
            },
            "colorscale": [
             [
              0,
              "#0d0887"
             ],
             [
              0.1111111111111111,
              "#46039f"
             ],
             [
              0.2222222222222222,
              "#7201a8"
             ],
             [
              0.3333333333333333,
              "#9c179e"
             ],
             [
              0.4444444444444444,
              "#bd3786"
             ],
             [
              0.5555555555555556,
              "#d8576b"
             ],
             [
              0.6666666666666666,
              "#ed7953"
             ],
             [
              0.7777777777777778,
              "#fb9f3a"
             ],
             [
              0.8888888888888888,
              "#fdca26"
             ],
             [
              1,
              "#f0f921"
             ]
            ],
            "type": "contour"
           }
          ],
          "contourcarpet": [
           {
            "colorbar": {
             "outlinewidth": 0,
             "ticks": ""
            },
            "type": "contourcarpet"
           }
          ],
          "heatmap": [
           {
            "colorbar": {
             "outlinewidth": 0,
             "ticks": ""
            },
            "colorscale": [
             [
              0,
              "#0d0887"
             ],
             [
              0.1111111111111111,
              "#46039f"
             ],
             [
              0.2222222222222222,
              "#7201a8"
             ],
             [
              0.3333333333333333,
              "#9c179e"
             ],
             [
              0.4444444444444444,
              "#bd3786"
             ],
             [
              0.5555555555555556,
              "#d8576b"
             ],
             [
              0.6666666666666666,
              "#ed7953"
             ],
             [
              0.7777777777777778,
              "#fb9f3a"
             ],
             [
              0.8888888888888888,
              "#fdca26"
             ],
             [
              1,
              "#f0f921"
             ]
            ],
            "type": "heatmap"
           }
          ],
          "heatmapgl": [
           {
            "colorbar": {
             "outlinewidth": 0,
             "ticks": ""
            },
            "colorscale": [
             [
              0,
              "#0d0887"
             ],
             [
              0.1111111111111111,
              "#46039f"
             ],
             [
              0.2222222222222222,
              "#7201a8"
             ],
             [
              0.3333333333333333,
              "#9c179e"
             ],
             [
              0.4444444444444444,
              "#bd3786"
             ],
             [
              0.5555555555555556,
              "#d8576b"
             ],
             [
              0.6666666666666666,
              "#ed7953"
             ],
             [
              0.7777777777777778,
              "#fb9f3a"
             ],
             [
              0.8888888888888888,
              "#fdca26"
             ],
             [
              1,
              "#f0f921"
             ]
            ],
            "type": "heatmapgl"
           }
          ],
          "histogram": [
           {
            "marker": {
             "colorbar": {
              "outlinewidth": 0,
              "ticks": ""
             }
            },
            "type": "histogram"
           }
          ],
          "histogram2d": [
           {
            "colorbar": {
             "outlinewidth": 0,
             "ticks": ""
            },
            "colorscale": [
             [
              0,
              "#0d0887"
             ],
             [
              0.1111111111111111,
              "#46039f"
             ],
             [
              0.2222222222222222,
              "#7201a8"
             ],
             [
              0.3333333333333333,
              "#9c179e"
             ],
             [
              0.4444444444444444,
              "#bd3786"
             ],
             [
              0.5555555555555556,
              "#d8576b"
             ],
             [
              0.6666666666666666,
              "#ed7953"
             ],
             [
              0.7777777777777778,
              "#fb9f3a"
             ],
             [
              0.8888888888888888,
              "#fdca26"
             ],
             [
              1,
              "#f0f921"
             ]
            ],
            "type": "histogram2d"
           }
          ],
          "histogram2dcontour": [
           {
            "colorbar": {
             "outlinewidth": 0,
             "ticks": ""
            },
            "colorscale": [
             [
              0,
              "#0d0887"
             ],
             [
              0.1111111111111111,
              "#46039f"
             ],
             [
              0.2222222222222222,
              "#7201a8"
             ],
             [
              0.3333333333333333,
              "#9c179e"
             ],
             [
              0.4444444444444444,
              "#bd3786"
             ],
             [
              0.5555555555555556,
              "#d8576b"
             ],
             [
              0.6666666666666666,
              "#ed7953"
             ],
             [
              0.7777777777777778,
              "#fb9f3a"
             ],
             [
              0.8888888888888888,
              "#fdca26"
             ],
             [
              1,
              "#f0f921"
             ]
            ],
            "type": "histogram2dcontour"
           }
          ],
          "mesh3d": [
           {
            "colorbar": {
             "outlinewidth": 0,
             "ticks": ""
            },
            "type": "mesh3d"
           }
          ],
          "parcoords": [
           {
            "line": {
             "colorbar": {
              "outlinewidth": 0,
              "ticks": ""
             }
            },
            "type": "parcoords"
           }
          ],
          "pie": [
           {
            "automargin": true,
            "type": "pie"
           }
          ],
          "scatter": [
           {
            "marker": {
             "colorbar": {
              "outlinewidth": 0,
              "ticks": ""
             }
            },
            "type": "scatter"
           }
          ],
          "scatter3d": [
           {
            "line": {
             "colorbar": {
              "outlinewidth": 0,
              "ticks": ""
             }
            },
            "marker": {
             "colorbar": {
              "outlinewidth": 0,
              "ticks": ""
             }
            },
            "type": "scatter3d"
           }
          ],
          "scattercarpet": [
           {
            "marker": {
             "colorbar": {
              "outlinewidth": 0,
              "ticks": ""
             }
            },
            "type": "scattercarpet"
           }
          ],
          "scattergeo": [
           {
            "marker": {
             "colorbar": {
              "outlinewidth": 0,
              "ticks": ""
             }
            },
            "type": "scattergeo"
           }
          ],
          "scattergl": [
           {
            "marker": {
             "colorbar": {
              "outlinewidth": 0,
              "ticks": ""
             }
            },
            "type": "scattergl"
           }
          ],
          "scattermapbox": [
           {
            "marker": {
             "colorbar": {
              "outlinewidth": 0,
              "ticks": ""
             }
            },
            "type": "scattermapbox"
           }
          ],
          "scatterpolar": [
           {
            "marker": {
             "colorbar": {
              "outlinewidth": 0,
              "ticks": ""
             }
            },
            "type": "scatterpolar"
           }
          ],
          "scatterpolargl": [
           {
            "marker": {
             "colorbar": {
              "outlinewidth": 0,
              "ticks": ""
             }
            },
            "type": "scatterpolargl"
           }
          ],
          "scatterternary": [
           {
            "marker": {
             "colorbar": {
              "outlinewidth": 0,
              "ticks": ""
             }
            },
            "type": "scatterternary"
           }
          ],
          "surface": [
           {
            "colorbar": {
             "outlinewidth": 0,
             "ticks": ""
            },
            "colorscale": [
             [
              0,
              "#0d0887"
             ],
             [
              0.1111111111111111,
              "#46039f"
             ],
             [
              0.2222222222222222,
              "#7201a8"
             ],
             [
              0.3333333333333333,
              "#9c179e"
             ],
             [
              0.4444444444444444,
              "#bd3786"
             ],
             [
              0.5555555555555556,
              "#d8576b"
             ],
             [
              0.6666666666666666,
              "#ed7953"
             ],
             [
              0.7777777777777778,
              "#fb9f3a"
             ],
             [
              0.8888888888888888,
              "#fdca26"
             ],
             [
              1,
              "#f0f921"
             ]
            ],
            "type": "surface"
           }
          ],
          "table": [
           {
            "cells": {
             "fill": {
              "color": "#EBF0F8"
             },
             "line": {
              "color": "white"
             }
            },
            "header": {
             "fill": {
              "color": "#C8D4E3"
             },
             "line": {
              "color": "white"
             }
            },
            "type": "table"
           }
          ]
         },
         "layout": {
          "annotationdefaults": {
           "arrowcolor": "#2a3f5f",
           "arrowhead": 0,
           "arrowwidth": 1
          },
          "coloraxis": {
           "colorbar": {
            "outlinewidth": 0,
            "ticks": ""
           }
          },
          "colorscale": {
           "diverging": [
            [
             0,
             "#8e0152"
            ],
            [
             0.1,
             "#c51b7d"
            ],
            [
             0.2,
             "#de77ae"
            ],
            [
             0.3,
             "#f1b6da"
            ],
            [
             0.4,
             "#fde0ef"
            ],
            [
             0.5,
             "#f7f7f7"
            ],
            [
             0.6,
             "#e6f5d0"
            ],
            [
             0.7,
             "#b8e186"
            ],
            [
             0.8,
             "#7fbc41"
            ],
            [
             0.9,
             "#4d9221"
            ],
            [
             1,
             "#276419"
            ]
           ],
           "sequential": [
            [
             0,
             "#0d0887"
            ],
            [
             0.1111111111111111,
             "#46039f"
            ],
            [
             0.2222222222222222,
             "#7201a8"
            ],
            [
             0.3333333333333333,
             "#9c179e"
            ],
            [
             0.4444444444444444,
             "#bd3786"
            ],
            [
             0.5555555555555556,
             "#d8576b"
            ],
            [
             0.6666666666666666,
             "#ed7953"
            ],
            [
             0.7777777777777778,
             "#fb9f3a"
            ],
            [
             0.8888888888888888,
             "#fdca26"
            ],
            [
             1,
             "#f0f921"
            ]
           ],
           "sequentialminus": [
            [
             0,
             "#0d0887"
            ],
            [
             0.1111111111111111,
             "#46039f"
            ],
            [
             0.2222222222222222,
             "#7201a8"
            ],
            [
             0.3333333333333333,
             "#9c179e"
            ],
            [
             0.4444444444444444,
             "#bd3786"
            ],
            [
             0.5555555555555556,
             "#d8576b"
            ],
            [
             0.6666666666666666,
             "#ed7953"
            ],
            [
             0.7777777777777778,
             "#fb9f3a"
            ],
            [
             0.8888888888888888,
             "#fdca26"
            ],
            [
             1,
             "#f0f921"
            ]
           ]
          },
          "colorway": [
           "#636efa",
           "#EF553B",
           "#00cc96",
           "#ab63fa",
           "#FFA15A",
           "#19d3f3",
           "#FF6692",
           "#B6E880",
           "#FF97FF",
           "#FECB52"
          ],
          "font": {
           "color": "#2a3f5f"
          },
          "geo": {
           "bgcolor": "white",
           "lakecolor": "white",
           "landcolor": "#E5ECF6",
           "showlakes": true,
           "showland": true,
           "subunitcolor": "white"
          },
          "hoverlabel": {
           "align": "left"
          },
          "hovermode": "closest",
          "mapbox": {
           "style": "light"
          },
          "paper_bgcolor": "white",
          "plot_bgcolor": "#E5ECF6",
          "polar": {
           "angularaxis": {
            "gridcolor": "white",
            "linecolor": "white",
            "ticks": ""
           },
           "bgcolor": "#E5ECF6",
           "radialaxis": {
            "gridcolor": "white",
            "linecolor": "white",
            "ticks": ""
           }
          },
          "scene": {
           "xaxis": {
            "backgroundcolor": "#E5ECF6",
            "gridcolor": "white",
            "gridwidth": 2,
            "linecolor": "white",
            "showbackground": true,
            "ticks": "",
            "zerolinecolor": "white"
           },
           "yaxis": {
            "backgroundcolor": "#E5ECF6",
            "gridcolor": "white",
            "gridwidth": 2,
            "linecolor": "white",
            "showbackground": true,
            "ticks": "",
            "zerolinecolor": "white"
           },
           "zaxis": {
            "backgroundcolor": "#E5ECF6",
            "gridcolor": "white",
            "gridwidth": 2,
            "linecolor": "white",
            "showbackground": true,
            "ticks": "",
            "zerolinecolor": "white"
           }
          },
          "shapedefaults": {
           "line": {
            "color": "#2a3f5f"
           }
          },
          "ternary": {
           "aaxis": {
            "gridcolor": "white",
            "linecolor": "white",
            "ticks": ""
           },
           "baxis": {
            "gridcolor": "white",
            "linecolor": "white",
            "ticks": ""
           },
           "bgcolor": "#E5ECF6",
           "caxis": {
            "gridcolor": "white",
            "linecolor": "white",
            "ticks": ""
           }
          },
          "title": {
           "x": 0.05
          },
          "xaxis": {
           "automargin": true,
           "gridcolor": "white",
           "linecolor": "white",
           "ticks": "",
           "title": {
            "standoff": 15
           },
           "zerolinecolor": "white",
           "zerolinewidth": 2
          },
          "yaxis": {
           "automargin": true,
           "gridcolor": "white",
           "linecolor": "white",
           "ticks": "",
           "title": {
            "standoff": 15
           },
           "zerolinecolor": "white",
           "zerolinewidth": 2
          }
         }
        },
        "title": {
         "text": "Poisson distribution with mean 12"
        },
        "width": 800,
        "xaxis": {
         "anchor": "y",
         "domain": [
          0,
          1
         ],
         "title": {
          "text": "Theta"
         }
        },
        "yaxis": {
         "anchor": "x",
         "domain": [
          0,
          1
         ],
         "title": {
          "text": "P(theta)"
         }
        }
       }
      },
      "text/html": [
       "<div>\n",
       "        \n",
       "        \n",
       "            <div id=\"4c8be166-8188-42e8-ab58-010d45a5bf7e\" class=\"plotly-graph-div\" style=\"height:600px; width:800px;\"></div>\n",
       "            <script type=\"text/javascript\">\n",
       "                require([\"plotly\"], function(Plotly) {\n",
       "                    window.PLOTLYENV=window.PLOTLYENV || {};\n",
       "                    \n",
       "                if (document.getElementById(\"4c8be166-8188-42e8-ab58-010d45a5bf7e\")) {\n",
       "                    Plotly.newPlot(\n",
       "                        '4c8be166-8188-42e8-ab58-010d45a5bf7e',\n",
       "                        [{\"hovertemplate\": \"x=%{x}<br>y=%{y}<extra></extra>\", \"legendgroup\": \"\", \"line\": {\"color\": \"steelblue\", \"dash\": \"solid\", \"width\": 4}, \"mode\": \"lines\", \"name\": \"\", \"showlegend\": false, \"type\": \"scatter\", \"x\": [0.0, 1.0, 2.0, 3.0, 4.0, 5.0, 6.0, 7.0, 8.0, 9.0, 10.0, 11.0, 12.0, 13.0, 14.0, 15.0, 16.0, 17.0, 18.0, 19.0, 20.0], \"xaxis\": \"x\", \"y\": [6.14421235332821e-06, 7.373054823993851e-05, 0.0004423832894396311, 0.0017695331577585243, 0.005308599473275573, 0.012740638735861376, 0.02548127747172275, 0.043682189951524716, 0.06552328492728707, 0.08736437990304943, 0.10483725588365932, 0.11436791550944653, 0.11436791550944653, 0.10557038354718142, 0.09048890018329836, 0.07239112014663869, 0.054293340109979014, 0.03832471066586754, 0.02554980711057836, 0.01613672028036528, 0.009682032168219168], \"yaxis\": \"y\"}],\n",
       "                        {\"height\": 600, \"legend\": {\"tracegroupgap\": 0}, \"template\": {\"data\": {\"bar\": [{\"error_x\": {\"color\": \"#2a3f5f\"}, \"error_y\": {\"color\": \"#2a3f5f\"}, \"marker\": {\"line\": {\"color\": \"#E5ECF6\", \"width\": 0.5}}, \"type\": \"bar\"}], \"barpolar\": [{\"marker\": {\"line\": {\"color\": \"#E5ECF6\", \"width\": 0.5}}, \"type\": \"barpolar\"}], \"carpet\": [{\"aaxis\": {\"endlinecolor\": \"#2a3f5f\", \"gridcolor\": \"white\", \"linecolor\": \"white\", \"minorgridcolor\": \"white\", \"startlinecolor\": \"#2a3f5f\"}, \"baxis\": {\"endlinecolor\": \"#2a3f5f\", \"gridcolor\": \"white\", \"linecolor\": \"white\", \"minorgridcolor\": \"white\", \"startlinecolor\": \"#2a3f5f\"}, \"type\": \"carpet\"}], \"choropleth\": [{\"colorbar\": {\"outlinewidth\": 0, \"ticks\": \"\"}, \"type\": \"choropleth\"}], \"contour\": [{\"colorbar\": {\"outlinewidth\": 0, \"ticks\": \"\"}, \"colorscale\": [[0.0, \"#0d0887\"], [0.1111111111111111, \"#46039f\"], [0.2222222222222222, \"#7201a8\"], [0.3333333333333333, \"#9c179e\"], [0.4444444444444444, \"#bd3786\"], [0.5555555555555556, \"#d8576b\"], [0.6666666666666666, \"#ed7953\"], [0.7777777777777778, \"#fb9f3a\"], [0.8888888888888888, \"#fdca26\"], [1.0, \"#f0f921\"]], \"type\": \"contour\"}], \"contourcarpet\": [{\"colorbar\": {\"outlinewidth\": 0, \"ticks\": \"\"}, \"type\": \"contourcarpet\"}], \"heatmap\": [{\"colorbar\": {\"outlinewidth\": 0, \"ticks\": \"\"}, \"colorscale\": [[0.0, \"#0d0887\"], [0.1111111111111111, \"#46039f\"], [0.2222222222222222, \"#7201a8\"], [0.3333333333333333, \"#9c179e\"], [0.4444444444444444, \"#bd3786\"], [0.5555555555555556, \"#d8576b\"], [0.6666666666666666, \"#ed7953\"], [0.7777777777777778, \"#fb9f3a\"], [0.8888888888888888, \"#fdca26\"], [1.0, \"#f0f921\"]], \"type\": \"heatmap\"}], \"heatmapgl\": [{\"colorbar\": {\"outlinewidth\": 0, \"ticks\": \"\"}, \"colorscale\": [[0.0, \"#0d0887\"], [0.1111111111111111, \"#46039f\"], [0.2222222222222222, \"#7201a8\"], [0.3333333333333333, \"#9c179e\"], [0.4444444444444444, \"#bd3786\"], [0.5555555555555556, \"#d8576b\"], [0.6666666666666666, \"#ed7953\"], [0.7777777777777778, \"#fb9f3a\"], [0.8888888888888888, \"#fdca26\"], [1.0, \"#f0f921\"]], \"type\": \"heatmapgl\"}], \"histogram\": [{\"marker\": {\"colorbar\": {\"outlinewidth\": 0, \"ticks\": \"\"}}, \"type\": \"histogram\"}], \"histogram2d\": [{\"colorbar\": {\"outlinewidth\": 0, \"ticks\": \"\"}, \"colorscale\": [[0.0, \"#0d0887\"], [0.1111111111111111, \"#46039f\"], [0.2222222222222222, \"#7201a8\"], [0.3333333333333333, \"#9c179e\"], [0.4444444444444444, \"#bd3786\"], [0.5555555555555556, \"#d8576b\"], [0.6666666666666666, \"#ed7953\"], [0.7777777777777778, \"#fb9f3a\"], [0.8888888888888888, \"#fdca26\"], [1.0, \"#f0f921\"]], \"type\": \"histogram2d\"}], \"histogram2dcontour\": [{\"colorbar\": {\"outlinewidth\": 0, \"ticks\": \"\"}, \"colorscale\": [[0.0, \"#0d0887\"], [0.1111111111111111, \"#46039f\"], [0.2222222222222222, \"#7201a8\"], [0.3333333333333333, \"#9c179e\"], [0.4444444444444444, \"#bd3786\"], [0.5555555555555556, \"#d8576b\"], [0.6666666666666666, \"#ed7953\"], [0.7777777777777778, \"#fb9f3a\"], [0.8888888888888888, \"#fdca26\"], [1.0, \"#f0f921\"]], \"type\": \"histogram2dcontour\"}], \"mesh3d\": [{\"colorbar\": {\"outlinewidth\": 0, \"ticks\": \"\"}, \"type\": \"mesh3d\"}], \"parcoords\": [{\"line\": {\"colorbar\": {\"outlinewidth\": 0, \"ticks\": \"\"}}, \"type\": \"parcoords\"}], \"pie\": [{\"automargin\": true, \"type\": \"pie\"}], \"scatter\": [{\"marker\": {\"colorbar\": {\"outlinewidth\": 0, \"ticks\": \"\"}}, \"type\": \"scatter\"}], \"scatter3d\": [{\"line\": {\"colorbar\": {\"outlinewidth\": 0, \"ticks\": \"\"}}, \"marker\": {\"colorbar\": {\"outlinewidth\": 0, \"ticks\": \"\"}}, \"type\": \"scatter3d\"}], \"scattercarpet\": [{\"marker\": {\"colorbar\": {\"outlinewidth\": 0, \"ticks\": \"\"}}, \"type\": \"scattercarpet\"}], \"scattergeo\": [{\"marker\": {\"colorbar\": {\"outlinewidth\": 0, \"ticks\": \"\"}}, \"type\": \"scattergeo\"}], \"scattergl\": [{\"marker\": {\"colorbar\": {\"outlinewidth\": 0, \"ticks\": \"\"}}, \"type\": \"scattergl\"}], \"scattermapbox\": [{\"marker\": {\"colorbar\": {\"outlinewidth\": 0, \"ticks\": \"\"}}, \"type\": \"scattermapbox\"}], \"scatterpolar\": [{\"marker\": {\"colorbar\": {\"outlinewidth\": 0, \"ticks\": \"\"}}, \"type\": \"scatterpolar\"}], \"scatterpolargl\": [{\"marker\": {\"colorbar\": {\"outlinewidth\": 0, \"ticks\": \"\"}}, \"type\": \"scatterpolargl\"}], \"scatterternary\": [{\"marker\": {\"colorbar\": {\"outlinewidth\": 0, \"ticks\": \"\"}}, \"type\": \"scatterternary\"}], \"surface\": [{\"colorbar\": {\"outlinewidth\": 0, \"ticks\": \"\"}, \"colorscale\": [[0.0, \"#0d0887\"], [0.1111111111111111, \"#46039f\"], [0.2222222222222222, \"#7201a8\"], [0.3333333333333333, \"#9c179e\"], [0.4444444444444444, \"#bd3786\"], [0.5555555555555556, \"#d8576b\"], [0.6666666666666666, \"#ed7953\"], [0.7777777777777778, \"#fb9f3a\"], [0.8888888888888888, \"#fdca26\"], [1.0, \"#f0f921\"]], \"type\": \"surface\"}], \"table\": [{\"cells\": {\"fill\": {\"color\": \"#EBF0F8\"}, \"line\": {\"color\": \"white\"}}, \"header\": {\"fill\": {\"color\": \"#C8D4E3\"}, \"line\": {\"color\": \"white\"}}, \"type\": \"table\"}]}, \"layout\": {\"annotationdefaults\": {\"arrowcolor\": \"#2a3f5f\", \"arrowhead\": 0, \"arrowwidth\": 1}, \"coloraxis\": {\"colorbar\": {\"outlinewidth\": 0, \"ticks\": \"\"}}, \"colorscale\": {\"diverging\": [[0, \"#8e0152\"], [0.1, \"#c51b7d\"], [0.2, \"#de77ae\"], [0.3, \"#f1b6da\"], [0.4, \"#fde0ef\"], [0.5, \"#f7f7f7\"], [0.6, \"#e6f5d0\"], [0.7, \"#b8e186\"], [0.8, \"#7fbc41\"], [0.9, \"#4d9221\"], [1, \"#276419\"]], \"sequential\": [[0.0, \"#0d0887\"], [0.1111111111111111, \"#46039f\"], [0.2222222222222222, \"#7201a8\"], [0.3333333333333333, \"#9c179e\"], [0.4444444444444444, \"#bd3786\"], [0.5555555555555556, \"#d8576b\"], [0.6666666666666666, \"#ed7953\"], [0.7777777777777778, \"#fb9f3a\"], [0.8888888888888888, \"#fdca26\"], [1.0, \"#f0f921\"]], \"sequentialminus\": [[0.0, \"#0d0887\"], [0.1111111111111111, \"#46039f\"], [0.2222222222222222, \"#7201a8\"], [0.3333333333333333, \"#9c179e\"], [0.4444444444444444, \"#bd3786\"], [0.5555555555555556, \"#d8576b\"], [0.6666666666666666, \"#ed7953\"], [0.7777777777777778, \"#fb9f3a\"], [0.8888888888888888, \"#fdca26\"], [1.0, \"#f0f921\"]]}, \"colorway\": [\"#636efa\", \"#EF553B\", \"#00cc96\", \"#ab63fa\", \"#FFA15A\", \"#19d3f3\", \"#FF6692\", \"#B6E880\", \"#FF97FF\", \"#FECB52\"], \"font\": {\"color\": \"#2a3f5f\"}, \"geo\": {\"bgcolor\": \"white\", \"lakecolor\": \"white\", \"landcolor\": \"#E5ECF6\", \"showlakes\": true, \"showland\": true, \"subunitcolor\": \"white\"}, \"hoverlabel\": {\"align\": \"left\"}, \"hovermode\": \"closest\", \"mapbox\": {\"style\": \"light\"}, \"paper_bgcolor\": \"white\", \"plot_bgcolor\": \"#E5ECF6\", \"polar\": {\"angularaxis\": {\"gridcolor\": \"white\", \"linecolor\": \"white\", \"ticks\": \"\"}, \"bgcolor\": \"#E5ECF6\", \"radialaxis\": {\"gridcolor\": \"white\", \"linecolor\": \"white\", \"ticks\": \"\"}}, \"scene\": {\"xaxis\": {\"backgroundcolor\": \"#E5ECF6\", \"gridcolor\": \"white\", \"gridwidth\": 2, \"linecolor\": \"white\", \"showbackground\": true, \"ticks\": \"\", \"zerolinecolor\": \"white\"}, \"yaxis\": {\"backgroundcolor\": \"#E5ECF6\", \"gridcolor\": \"white\", \"gridwidth\": 2, \"linecolor\": \"white\", \"showbackground\": true, \"ticks\": \"\", \"zerolinecolor\": \"white\"}, \"zaxis\": {\"backgroundcolor\": \"#E5ECF6\", \"gridcolor\": \"white\", \"gridwidth\": 2, \"linecolor\": \"white\", \"showbackground\": true, \"ticks\": \"\", \"zerolinecolor\": \"white\"}}, \"shapedefaults\": {\"line\": {\"color\": \"#2a3f5f\"}}, \"ternary\": {\"aaxis\": {\"gridcolor\": \"white\", \"linecolor\": \"white\", \"ticks\": \"\"}, \"baxis\": {\"gridcolor\": \"white\", \"linecolor\": \"white\", \"ticks\": \"\"}, \"bgcolor\": \"#E5ECF6\", \"caxis\": {\"gridcolor\": \"white\", \"linecolor\": \"white\", \"ticks\": \"\"}}, \"title\": {\"x\": 0.05}, \"xaxis\": {\"automargin\": true, \"gridcolor\": \"white\", \"linecolor\": \"white\", \"ticks\": \"\", \"title\": {\"standoff\": 15}, \"zerolinecolor\": \"white\", \"zerolinewidth\": 2}, \"yaxis\": {\"automargin\": true, \"gridcolor\": \"white\", \"linecolor\": \"white\", \"ticks\": \"\", \"title\": {\"standoff\": 15}, \"zerolinecolor\": \"white\", \"zerolinewidth\": 2}}}, \"title\": {\"text\": \"Poisson distribution with mean 12\"}, \"width\": 800, \"xaxis\": {\"anchor\": \"y\", \"domain\": [0.0, 1.0], \"title\": {\"text\": \"Theta\"}}, \"yaxis\": {\"anchor\": \"x\", \"domain\": [0.0, 1.0], \"title\": {\"text\": \"P(theta)\"}}},\n",
       "                        {\"responsive\": true}\n",
       "                    ).then(function(){\n",
       "                            \n",
       "var gd = document.getElementById('4c8be166-8188-42e8-ab58-010d45a5bf7e');\n",
       "var x = new MutationObserver(function (mutations, observer) {{\n",
       "        var display = window.getComputedStyle(gd).display;\n",
       "        if (!display || display === 'none') {{\n",
       "            console.log([gd, 'removed!']);\n",
       "            Plotly.purge(gd);\n",
       "            observer.disconnect();\n",
       "        }}\n",
       "}});\n",
       "\n",
       "// Listen for the removal of the full notebook cells\n",
       "var notebookContainer = gd.closest('#notebook-container');\n",
       "if (notebookContainer) {{\n",
       "    x.observe(notebookContainer, {childList: true});\n",
       "}}\n",
       "\n",
       "// Listen for the clearing of the current output cell\n",
       "var outputEl = gd.closest('.output');\n",
       "if (outputEl) {{\n",
       "    x.observe(outputEl, {childList: true});\n",
       "}}\n",
       "\n",
       "                        })\n",
       "                };\n",
       "                });\n",
       "            </script>\n",
       "        </div>"
      ]
     },
     "metadata": {},
     "output_type": "display_data"
    }
   ],
   "source": [
    "def poisson_individual(theta, y_range_steps):\n",
    "    y_range_steps = 20\n",
    "    y =  np.linspace(0,y_range_steps,y_range_steps+1)\n",
    "    p_theta = (theta**y * np.exp(-theta)) / factorial(y)\n",
    "    fig = px.line(x=y, y=p_theta, color_discrete_sequence=[\"steelblue\"], \n",
    "                      height=600, width=800, title=\"Poisson distribution with mean %d\" %(theta))\n",
    "    fig.data[0].line['width'] = 4\n",
    "    fig.layout.xaxis.title.text = \"Theta\"\n",
    "    fig.layout.yaxis.title.text = \"P(theta)\"\n",
    "    fig.show()\n",
    "    \n",
    "poisson_individual(theta=12, y_range_steps=20)"
   ]
  },
  {
   "cell_type": "markdown",
   "metadata": {},
   "source": [
    "## The Gamma distribution is a conjugate prior to the Poisson distribution. A Gamma distribution is given by\n",
    "\n",
    "## $p(\\theta) = \\dfrac{b^a}{\\gamma(a)} \\cdot \\theta^{a - 1} e^{-b \\theta} $\n",
    "\n",
    "## here 'b' is the number of prior observations and 'a' is the sum of counts from the 'b' prior observations \n",
    "\n",
    "#### The mean of the gamma distribution is $\\dfrac{a}{b}$ and the variance is $\\dfrac{a}{b^2}$\n",
    "#### If the gamma distribution is used as a prior distribution for a Poisson model, the posterior becomes a gamma distribution given by\n",
    "#### $gamma(a + \\sum_{i=1}^n Y_i, b + n)$ , "
   ]
  },
  {
   "cell_type": "code",
   "execution_count": 158,
   "metadata": {},
   "outputs": [],
   "source": [
    "from __future__ import print_function\n",
    "from ipywidgets import interact, interactive, fixed, interact_manual\n",
    "import ipywidgets as widgets"
   ]
  },
  {
   "cell_type": "code",
   "execution_count": 199,
   "metadata": {},
   "outputs": [
    {
     "data": {
      "application/vnd.jupyter.widget-view+json": {
       "model_id": "26721bb5f7ef4b76a08ba9e1195b8f70",
       "version_major": 2,
       "version_minor": 0
      },
      "text/plain": [
       "interactive(children=(IntSlider(value=2, description='a', max=10, min=1), IntSlider(value=2, description='b', …"
      ]
     },
     "metadata": {},
     "output_type": "display_data"
    },
    {
     "data": {
      "application/vnd.plotly.v1+json": {
       "config": {
        "plotlyServerURL": "https://plot.ly"
       },
       "data": [
        {
         "hovertemplate": "x=%{x}<br>y=%{y}<extra></extra>",
         "legendgroup": "",
         "line": {
          "color": "steelblue",
          "dash": "solid",
          "width": 4
         },
         "mode": "lines",
         "name": "",
         "showlegend": false,
         "type": "scatter",
         "x": [
          0,
          0.1,
          0.2,
          0.30000000000000004,
          0.4,
          0.5,
          0.6000000000000001,
          0.7000000000000001,
          0.8,
          0.9,
          1,
          1.1,
          1.2000000000000002,
          1.3,
          1.4000000000000001,
          1.5,
          1.6,
          1.7000000000000002,
          1.8,
          1.9000000000000001,
          2,
          2.1,
          2.2,
          2.3000000000000003,
          2.4000000000000004,
          2.5,
          2.6,
          2.7,
          2.8000000000000003,
          2.9000000000000004,
          3,
          3.1,
          3.2,
          3.3000000000000003,
          3.4000000000000004,
          3.5,
          3.6,
          3.7,
          3.8000000000000003,
          3.9000000000000004,
          4,
          4.1000000000000005,
          4.2,
          4.3,
          4.4,
          4.5,
          4.6000000000000005,
          4.7,
          4.800000000000001,
          4.9,
          5,
          5.1000000000000005,
          5.2,
          5.300000000000001,
          5.4,
          5.5,
          5.6000000000000005,
          5.7,
          5.800000000000001,
          5.9,
          6,
          6.1000000000000005,
          6.2,
          6.300000000000001,
          6.4,
          6.5,
          6.6000000000000005,
          6.7,
          6.800000000000001,
          6.9,
          7,
          7.1000000000000005,
          7.2,
          7.300000000000001,
          7.4,
          7.5,
          7.6000000000000005,
          7.7,
          7.800000000000001,
          7.9,
          8,
          8.1,
          8.200000000000001,
          8.3,
          8.4,
          8.5,
          8.6,
          8.700000000000001,
          8.8,
          8.9,
          9,
          9.1,
          9.200000000000001,
          9.3,
          9.4,
          9.5,
          9.600000000000001,
          9.700000000000001,
          9.8,
          9.9
         ],
         "xaxis": "x",
         "y": [
          0,
          0.09048374180359596,
          0.1637461506155964,
          0.2222454662045154,
          0.26812801841425576,
          0.3032653298563167,
          0.3292869816564159,
          0.34760971265398666,
          0.35946317129377725,
          0.36591269376653923,
          0.36787944117144233,
          0.3661581920678875,
          0.3614330542946425,
          0.3542913309442164,
          0.34523574951824904,
          0.33469524022264474,
          0.3230344287914486,
          0.31056199088964886,
          0.2975379987988558,
          0.2841803765230066,
          0.2706705664732254,
          0.257158499331262,
          0.24376694839713453,
          0.23059534056244854,
          0.21772308789458997,
          0.205212496559747,
          0.1931113033572681,
          0.18145488439732435,
          0.17026817535061028,
          0.15956733816358093,
          0.14936120510359183,
          0.13965252742002918,
          0.1304390527307719,
          0.12171445242409198,
          0.11346911786510863,
          0.10569084197811475,
          0.09836540081025322,
          0.09147704794025574,
          0.08500893305342926,
          0.0789434546386371,
          0.07326255555493671,
          0.06794796914722108,
          0.06298142264600635,
          0.058344803752464015,
          0.054020295573501124,
          0.04999048442209038,
          0.046238444425314454,
          0.04274780237797034,
          0.039502785835296116,
          0.03648825704752926,
          0.03368973499542734,
          0.03109340748412973,
          0.028686134987956014,
          0.02645544770662413,
          0.0243895370901084,
          0.022477242911552366,
          0.020708036812304403,
          0.01907200310758625,
          0.017559817523179717,
          0.016162724430733376,
          0.014872513059998151,
          0.013681493088863388,
          0.012582469945033552,
          0.011568720095282106,
          0.010633966548313178,
          0.00977235475435422,
          0.008978429047816093,
          0.008247109747912323,
          0.007573671005344657,
          0.006953719460434722,
          0.006383173758881614,
          0.005858244955187918,
          0.00537541782031209,
          0.00493143305891506,
          0.004523270432358836,
          0.0041481327761087525,
          0.0038034308941486392,
          0.0034867693082283368,
          0.0031959328360423346,
          0.002928873969626797,
          0.002683701023220095,
          0.0024586670184388207,
          0.002252159273771565,
          0.0020626896649960005,
          0.001888885523102325,
          0.0017294811365904754,
          0.001583309825541181,
          0.0014492965555924094,
          0.0013264510608401933,
          0.0012138614456899015,
          0.001110688236780116,
          0.0010161588572600445,
          0.000929562496901258,
          0.0008502453527470115,
          0.0007776062162323429,
          0.0007110923839331556,
          0.0006501958703121963,
          0.0005944499020162537,
          0.0005434256744353341,
          0.0004967293523561353
         ],
         "yaxis": "y"
        }
       ],
       "layout": {
        "height": 600,
        "legend": {
         "tracegroupgap": 0
        },
        "template": {
         "data": {
          "bar": [
           {
            "error_x": {
             "color": "#2a3f5f"
            },
            "error_y": {
             "color": "#2a3f5f"
            },
            "marker": {
             "line": {
              "color": "#E5ECF6",
              "width": 0.5
             }
            },
            "type": "bar"
           }
          ],
          "barpolar": [
           {
            "marker": {
             "line": {
              "color": "#E5ECF6",
              "width": 0.5
             }
            },
            "type": "barpolar"
           }
          ],
          "carpet": [
           {
            "aaxis": {
             "endlinecolor": "#2a3f5f",
             "gridcolor": "white",
             "linecolor": "white",
             "minorgridcolor": "white",
             "startlinecolor": "#2a3f5f"
            },
            "baxis": {
             "endlinecolor": "#2a3f5f",
             "gridcolor": "white",
             "linecolor": "white",
             "minorgridcolor": "white",
             "startlinecolor": "#2a3f5f"
            },
            "type": "carpet"
           }
          ],
          "choropleth": [
           {
            "colorbar": {
             "outlinewidth": 0,
             "ticks": ""
            },
            "type": "choropleth"
           }
          ],
          "contour": [
           {
            "colorbar": {
             "outlinewidth": 0,
             "ticks": ""
            },
            "colorscale": [
             [
              0,
              "#0d0887"
             ],
             [
              0.1111111111111111,
              "#46039f"
             ],
             [
              0.2222222222222222,
              "#7201a8"
             ],
             [
              0.3333333333333333,
              "#9c179e"
             ],
             [
              0.4444444444444444,
              "#bd3786"
             ],
             [
              0.5555555555555556,
              "#d8576b"
             ],
             [
              0.6666666666666666,
              "#ed7953"
             ],
             [
              0.7777777777777778,
              "#fb9f3a"
             ],
             [
              0.8888888888888888,
              "#fdca26"
             ],
             [
              1,
              "#f0f921"
             ]
            ],
            "type": "contour"
           }
          ],
          "contourcarpet": [
           {
            "colorbar": {
             "outlinewidth": 0,
             "ticks": ""
            },
            "type": "contourcarpet"
           }
          ],
          "heatmap": [
           {
            "colorbar": {
             "outlinewidth": 0,
             "ticks": ""
            },
            "colorscale": [
             [
              0,
              "#0d0887"
             ],
             [
              0.1111111111111111,
              "#46039f"
             ],
             [
              0.2222222222222222,
              "#7201a8"
             ],
             [
              0.3333333333333333,
              "#9c179e"
             ],
             [
              0.4444444444444444,
              "#bd3786"
             ],
             [
              0.5555555555555556,
              "#d8576b"
             ],
             [
              0.6666666666666666,
              "#ed7953"
             ],
             [
              0.7777777777777778,
              "#fb9f3a"
             ],
             [
              0.8888888888888888,
              "#fdca26"
             ],
             [
              1,
              "#f0f921"
             ]
            ],
            "type": "heatmap"
           }
          ],
          "heatmapgl": [
           {
            "colorbar": {
             "outlinewidth": 0,
             "ticks": ""
            },
            "colorscale": [
             [
              0,
              "#0d0887"
             ],
             [
              0.1111111111111111,
              "#46039f"
             ],
             [
              0.2222222222222222,
              "#7201a8"
             ],
             [
              0.3333333333333333,
              "#9c179e"
             ],
             [
              0.4444444444444444,
              "#bd3786"
             ],
             [
              0.5555555555555556,
              "#d8576b"
             ],
             [
              0.6666666666666666,
              "#ed7953"
             ],
             [
              0.7777777777777778,
              "#fb9f3a"
             ],
             [
              0.8888888888888888,
              "#fdca26"
             ],
             [
              1,
              "#f0f921"
             ]
            ],
            "type": "heatmapgl"
           }
          ],
          "histogram": [
           {
            "marker": {
             "colorbar": {
              "outlinewidth": 0,
              "ticks": ""
             }
            },
            "type": "histogram"
           }
          ],
          "histogram2d": [
           {
            "colorbar": {
             "outlinewidth": 0,
             "ticks": ""
            },
            "colorscale": [
             [
              0,
              "#0d0887"
             ],
             [
              0.1111111111111111,
              "#46039f"
             ],
             [
              0.2222222222222222,
              "#7201a8"
             ],
             [
              0.3333333333333333,
              "#9c179e"
             ],
             [
              0.4444444444444444,
              "#bd3786"
             ],
             [
              0.5555555555555556,
              "#d8576b"
             ],
             [
              0.6666666666666666,
              "#ed7953"
             ],
             [
              0.7777777777777778,
              "#fb9f3a"
             ],
             [
              0.8888888888888888,
              "#fdca26"
             ],
             [
              1,
              "#f0f921"
             ]
            ],
            "type": "histogram2d"
           }
          ],
          "histogram2dcontour": [
           {
            "colorbar": {
             "outlinewidth": 0,
             "ticks": ""
            },
            "colorscale": [
             [
              0,
              "#0d0887"
             ],
             [
              0.1111111111111111,
              "#46039f"
             ],
             [
              0.2222222222222222,
              "#7201a8"
             ],
             [
              0.3333333333333333,
              "#9c179e"
             ],
             [
              0.4444444444444444,
              "#bd3786"
             ],
             [
              0.5555555555555556,
              "#d8576b"
             ],
             [
              0.6666666666666666,
              "#ed7953"
             ],
             [
              0.7777777777777778,
              "#fb9f3a"
             ],
             [
              0.8888888888888888,
              "#fdca26"
             ],
             [
              1,
              "#f0f921"
             ]
            ],
            "type": "histogram2dcontour"
           }
          ],
          "mesh3d": [
           {
            "colorbar": {
             "outlinewidth": 0,
             "ticks": ""
            },
            "type": "mesh3d"
           }
          ],
          "parcoords": [
           {
            "line": {
             "colorbar": {
              "outlinewidth": 0,
              "ticks": ""
             }
            },
            "type": "parcoords"
           }
          ],
          "pie": [
           {
            "automargin": true,
            "type": "pie"
           }
          ],
          "scatter": [
           {
            "marker": {
             "colorbar": {
              "outlinewidth": 0,
              "ticks": ""
             }
            },
            "type": "scatter"
           }
          ],
          "scatter3d": [
           {
            "line": {
             "colorbar": {
              "outlinewidth": 0,
              "ticks": ""
             }
            },
            "marker": {
             "colorbar": {
              "outlinewidth": 0,
              "ticks": ""
             }
            },
            "type": "scatter3d"
           }
          ],
          "scattercarpet": [
           {
            "marker": {
             "colorbar": {
              "outlinewidth": 0,
              "ticks": ""
             }
            },
            "type": "scattercarpet"
           }
          ],
          "scattergeo": [
           {
            "marker": {
             "colorbar": {
              "outlinewidth": 0,
              "ticks": ""
             }
            },
            "type": "scattergeo"
           }
          ],
          "scattergl": [
           {
            "marker": {
             "colorbar": {
              "outlinewidth": 0,
              "ticks": ""
             }
            },
            "type": "scattergl"
           }
          ],
          "scattermapbox": [
           {
            "marker": {
             "colorbar": {
              "outlinewidth": 0,
              "ticks": ""
             }
            },
            "type": "scattermapbox"
           }
          ],
          "scatterpolar": [
           {
            "marker": {
             "colorbar": {
              "outlinewidth": 0,
              "ticks": ""
             }
            },
            "type": "scatterpolar"
           }
          ],
          "scatterpolargl": [
           {
            "marker": {
             "colorbar": {
              "outlinewidth": 0,
              "ticks": ""
             }
            },
            "type": "scatterpolargl"
           }
          ],
          "scatterternary": [
           {
            "marker": {
             "colorbar": {
              "outlinewidth": 0,
              "ticks": ""
             }
            },
            "type": "scatterternary"
           }
          ],
          "surface": [
           {
            "colorbar": {
             "outlinewidth": 0,
             "ticks": ""
            },
            "colorscale": [
             [
              0,
              "#0d0887"
             ],
             [
              0.1111111111111111,
              "#46039f"
             ],
             [
              0.2222222222222222,
              "#7201a8"
             ],
             [
              0.3333333333333333,
              "#9c179e"
             ],
             [
              0.4444444444444444,
              "#bd3786"
             ],
             [
              0.5555555555555556,
              "#d8576b"
             ],
             [
              0.6666666666666666,
              "#ed7953"
             ],
             [
              0.7777777777777778,
              "#fb9f3a"
             ],
             [
              0.8888888888888888,
              "#fdca26"
             ],
             [
              1,
              "#f0f921"
             ]
            ],
            "type": "surface"
           }
          ],
          "table": [
           {
            "cells": {
             "fill": {
              "color": "#EBF0F8"
             },
             "line": {
              "color": "white"
             }
            },
            "header": {
             "fill": {
              "color": "#C8D4E3"
             },
             "line": {
              "color": "white"
             }
            },
            "type": "table"
           }
          ]
         },
         "layout": {
          "annotationdefaults": {
           "arrowcolor": "#2a3f5f",
           "arrowhead": 0,
           "arrowwidth": 1
          },
          "coloraxis": {
           "colorbar": {
            "outlinewidth": 0,
            "ticks": ""
           }
          },
          "colorscale": {
           "diverging": [
            [
             0,
             "#8e0152"
            ],
            [
             0.1,
             "#c51b7d"
            ],
            [
             0.2,
             "#de77ae"
            ],
            [
             0.3,
             "#f1b6da"
            ],
            [
             0.4,
             "#fde0ef"
            ],
            [
             0.5,
             "#f7f7f7"
            ],
            [
             0.6,
             "#e6f5d0"
            ],
            [
             0.7,
             "#b8e186"
            ],
            [
             0.8,
             "#7fbc41"
            ],
            [
             0.9,
             "#4d9221"
            ],
            [
             1,
             "#276419"
            ]
           ],
           "sequential": [
            [
             0,
             "#0d0887"
            ],
            [
             0.1111111111111111,
             "#46039f"
            ],
            [
             0.2222222222222222,
             "#7201a8"
            ],
            [
             0.3333333333333333,
             "#9c179e"
            ],
            [
             0.4444444444444444,
             "#bd3786"
            ],
            [
             0.5555555555555556,
             "#d8576b"
            ],
            [
             0.6666666666666666,
             "#ed7953"
            ],
            [
             0.7777777777777778,
             "#fb9f3a"
            ],
            [
             0.8888888888888888,
             "#fdca26"
            ],
            [
             1,
             "#f0f921"
            ]
           ],
           "sequentialminus": [
            [
             0,
             "#0d0887"
            ],
            [
             0.1111111111111111,
             "#46039f"
            ],
            [
             0.2222222222222222,
             "#7201a8"
            ],
            [
             0.3333333333333333,
             "#9c179e"
            ],
            [
             0.4444444444444444,
             "#bd3786"
            ],
            [
             0.5555555555555556,
             "#d8576b"
            ],
            [
             0.6666666666666666,
             "#ed7953"
            ],
            [
             0.7777777777777778,
             "#fb9f3a"
            ],
            [
             0.8888888888888888,
             "#fdca26"
            ],
            [
             1,
             "#f0f921"
            ]
           ]
          },
          "colorway": [
           "#636efa",
           "#EF553B",
           "#00cc96",
           "#ab63fa",
           "#FFA15A",
           "#19d3f3",
           "#FF6692",
           "#B6E880",
           "#FF97FF",
           "#FECB52"
          ],
          "font": {
           "color": "#2a3f5f"
          },
          "geo": {
           "bgcolor": "white",
           "lakecolor": "white",
           "landcolor": "#E5ECF6",
           "showlakes": true,
           "showland": true,
           "subunitcolor": "white"
          },
          "hoverlabel": {
           "align": "left"
          },
          "hovermode": "closest",
          "mapbox": {
           "style": "light"
          },
          "paper_bgcolor": "white",
          "plot_bgcolor": "#E5ECF6",
          "polar": {
           "angularaxis": {
            "gridcolor": "white",
            "linecolor": "white",
            "ticks": ""
           },
           "bgcolor": "#E5ECF6",
           "radialaxis": {
            "gridcolor": "white",
            "linecolor": "white",
            "ticks": ""
           }
          },
          "scene": {
           "xaxis": {
            "backgroundcolor": "#E5ECF6",
            "gridcolor": "white",
            "gridwidth": 2,
            "linecolor": "white",
            "showbackground": true,
            "ticks": "",
            "zerolinecolor": "white"
           },
           "yaxis": {
            "backgroundcolor": "#E5ECF6",
            "gridcolor": "white",
            "gridwidth": 2,
            "linecolor": "white",
            "showbackground": true,
            "ticks": "",
            "zerolinecolor": "white"
           },
           "zaxis": {
            "backgroundcolor": "#E5ECF6",
            "gridcolor": "white",
            "gridwidth": 2,
            "linecolor": "white",
            "showbackground": true,
            "ticks": "",
            "zerolinecolor": "white"
           }
          },
          "shapedefaults": {
           "line": {
            "color": "#2a3f5f"
           }
          },
          "ternary": {
           "aaxis": {
            "gridcolor": "white",
            "linecolor": "white",
            "ticks": ""
           },
           "baxis": {
            "gridcolor": "white",
            "linecolor": "white",
            "ticks": ""
           },
           "bgcolor": "#E5ECF6",
           "caxis": {
            "gridcolor": "white",
            "linecolor": "white",
            "ticks": ""
           }
          },
          "title": {
           "x": 0.05
          },
          "xaxis": {
           "automargin": true,
           "gridcolor": "white",
           "linecolor": "white",
           "ticks": "",
           "title": {
            "standoff": 15
           },
           "zerolinecolor": "white",
           "zerolinewidth": 2
          },
          "yaxis": {
           "automargin": true,
           "gridcolor": "white",
           "linecolor": "white",
           "ticks": "",
           "title": {
            "standoff": 15
           },
           "zerolinecolor": "white",
           "zerolinewidth": 2
          }
         }
        },
        "title": {
         "text": " Gamma distribution for a 2, b 1"
        },
        "width": 800,
        "xaxis": {
         "anchor": "y",
         "domain": [
          0,
          1
         ],
         "title": {
          "text": "Theta"
         }
        },
        "yaxis": {
         "anchor": "x",
         "domain": [
          0,
          1
         ],
         "title": {
          "text": "P(theta)"
         }
        }
       }
      },
      "text/html": [
       "<div>\n",
       "        \n",
       "        \n",
       "            <div id=\"82c516cd-8ce7-46b0-b938-49c3cfb4de88\" class=\"plotly-graph-div\" style=\"height:600px; width:800px;\"></div>\n",
       "            <script type=\"text/javascript\">\n",
       "                require([\"plotly\"], function(Plotly) {\n",
       "                    window.PLOTLYENV=window.PLOTLYENV || {};\n",
       "                    \n",
       "                if (document.getElementById(\"82c516cd-8ce7-46b0-b938-49c3cfb4de88\")) {\n",
       "                    Plotly.newPlot(\n",
       "                        '82c516cd-8ce7-46b0-b938-49c3cfb4de88',\n",
       "                        [{\"hovertemplate\": \"x=%{x}<br>y=%{y}<extra></extra>\", \"legendgroup\": \"\", \"line\": {\"color\": \"steelblue\", \"dash\": \"solid\", \"width\": 4}, \"mode\": \"lines\", \"name\": \"\", \"showlegend\": false, \"type\": \"scatter\", \"x\": [0.0, 0.1, 0.2, 0.30000000000000004, 0.4, 0.5, 0.6000000000000001, 0.7000000000000001, 0.8, 0.9, 1.0, 1.1, 1.2000000000000002, 1.3, 1.4000000000000001, 1.5, 1.6, 1.7000000000000002, 1.8, 1.9000000000000001, 2.0, 2.1, 2.2, 2.3000000000000003, 2.4000000000000004, 2.5, 2.6, 2.7, 2.8000000000000003, 2.9000000000000004, 3.0, 3.1, 3.2, 3.3000000000000003, 3.4000000000000004, 3.5, 3.6, 3.7, 3.8000000000000003, 3.9000000000000004, 4.0, 4.1000000000000005, 4.2, 4.3, 4.4, 4.5, 4.6000000000000005, 4.7, 4.800000000000001, 4.9, 5.0, 5.1000000000000005, 5.2, 5.300000000000001, 5.4, 5.5, 5.6000000000000005, 5.7, 5.800000000000001, 5.9, 6.0, 6.1000000000000005, 6.2, 6.300000000000001, 6.4, 6.5, 6.6000000000000005, 6.7, 6.800000000000001, 6.9, 7.0, 7.1000000000000005, 7.2, 7.300000000000001, 7.4, 7.5, 7.6000000000000005, 7.7, 7.800000000000001, 7.9, 8.0, 8.1, 8.200000000000001, 8.3, 8.4, 8.5, 8.6, 8.700000000000001, 8.8, 8.9, 9.0, 9.1, 9.200000000000001, 9.3, 9.4, 9.5, 9.600000000000001, 9.700000000000001, 9.8, 9.9], \"xaxis\": \"x\", \"y\": [0.0, 0.09048374180359596, 0.1637461506155964, 0.2222454662045154, 0.26812801841425576, 0.3032653298563167, 0.3292869816564159, 0.34760971265398666, 0.35946317129377725, 0.36591269376653923, 0.36787944117144233, 0.3661581920678875, 0.3614330542946425, 0.3542913309442164, 0.34523574951824904, 0.33469524022264474, 0.3230344287914486, 0.31056199088964886, 0.2975379987988558, 0.2841803765230066, 0.2706705664732254, 0.257158499331262, 0.24376694839713453, 0.23059534056244854, 0.21772308789458997, 0.205212496559747, 0.1931113033572681, 0.18145488439732435, 0.17026817535061028, 0.15956733816358093, 0.14936120510359183, 0.13965252742002918, 0.1304390527307719, 0.12171445242409198, 0.11346911786510863, 0.10569084197811475, 0.09836540081025322, 0.09147704794025574, 0.08500893305342926, 0.0789434546386371, 0.07326255555493671, 0.06794796914722108, 0.06298142264600635, 0.058344803752464015, 0.054020295573501124, 0.04999048442209038, 0.046238444425314454, 0.04274780237797034, 0.039502785835296116, 0.03648825704752926, 0.03368973499542734, 0.03109340748412973, 0.028686134987956014, 0.02645544770662413, 0.0243895370901084, 0.022477242911552366, 0.020708036812304403, 0.01907200310758625, 0.017559817523179717, 0.016162724430733376, 0.014872513059998151, 0.013681493088863388, 0.012582469945033552, 0.011568720095282106, 0.010633966548313178, 0.00977235475435422, 0.008978429047816093, 0.008247109747912323, 0.007573671005344657, 0.006953719460434722, 0.006383173758881614, 0.005858244955187918, 0.00537541782031209, 0.00493143305891506, 0.004523270432358836, 0.0041481327761087525, 0.0038034308941486392, 0.0034867693082283368, 0.0031959328360423346, 0.002928873969626797, 0.002683701023220095, 0.0024586670184388207, 0.002252159273771565, 0.0020626896649960005, 0.001888885523102325, 0.0017294811365904754, 0.001583309825541181, 0.0014492965555924094, 0.0013264510608401933, 0.0012138614456899015, 0.001110688236780116, 0.0010161588572600445, 0.000929562496901258, 0.0008502453527470115, 0.0007776062162323429, 0.0007110923839331556, 0.0006501958703121963, 0.0005944499020162537, 0.0005434256744353341, 0.0004967293523561353], \"yaxis\": \"y\"}],\n",
       "                        {\"height\": 600, \"legend\": {\"tracegroupgap\": 0}, \"template\": {\"data\": {\"bar\": [{\"error_x\": {\"color\": \"#2a3f5f\"}, \"error_y\": {\"color\": \"#2a3f5f\"}, \"marker\": {\"line\": {\"color\": \"#E5ECF6\", \"width\": 0.5}}, \"type\": \"bar\"}], \"barpolar\": [{\"marker\": {\"line\": {\"color\": \"#E5ECF6\", \"width\": 0.5}}, \"type\": \"barpolar\"}], \"carpet\": [{\"aaxis\": {\"endlinecolor\": \"#2a3f5f\", \"gridcolor\": \"white\", \"linecolor\": \"white\", \"minorgridcolor\": \"white\", \"startlinecolor\": \"#2a3f5f\"}, \"baxis\": {\"endlinecolor\": \"#2a3f5f\", \"gridcolor\": \"white\", \"linecolor\": \"white\", \"minorgridcolor\": \"white\", \"startlinecolor\": \"#2a3f5f\"}, \"type\": \"carpet\"}], \"choropleth\": [{\"colorbar\": {\"outlinewidth\": 0, \"ticks\": \"\"}, \"type\": \"choropleth\"}], \"contour\": [{\"colorbar\": {\"outlinewidth\": 0, \"ticks\": \"\"}, \"colorscale\": [[0.0, \"#0d0887\"], [0.1111111111111111, \"#46039f\"], [0.2222222222222222, \"#7201a8\"], [0.3333333333333333, \"#9c179e\"], [0.4444444444444444, \"#bd3786\"], [0.5555555555555556, \"#d8576b\"], [0.6666666666666666, \"#ed7953\"], [0.7777777777777778, \"#fb9f3a\"], [0.8888888888888888, \"#fdca26\"], [1.0, \"#f0f921\"]], \"type\": \"contour\"}], \"contourcarpet\": [{\"colorbar\": {\"outlinewidth\": 0, \"ticks\": \"\"}, \"type\": \"contourcarpet\"}], \"heatmap\": [{\"colorbar\": {\"outlinewidth\": 0, \"ticks\": \"\"}, \"colorscale\": [[0.0, \"#0d0887\"], [0.1111111111111111, \"#46039f\"], [0.2222222222222222, \"#7201a8\"], [0.3333333333333333, \"#9c179e\"], [0.4444444444444444, \"#bd3786\"], [0.5555555555555556, \"#d8576b\"], [0.6666666666666666, \"#ed7953\"], [0.7777777777777778, \"#fb9f3a\"], [0.8888888888888888, \"#fdca26\"], [1.0, \"#f0f921\"]], \"type\": \"heatmap\"}], \"heatmapgl\": [{\"colorbar\": {\"outlinewidth\": 0, \"ticks\": \"\"}, \"colorscale\": [[0.0, \"#0d0887\"], [0.1111111111111111, \"#46039f\"], [0.2222222222222222, \"#7201a8\"], [0.3333333333333333, \"#9c179e\"], [0.4444444444444444, \"#bd3786\"], [0.5555555555555556, \"#d8576b\"], [0.6666666666666666, \"#ed7953\"], [0.7777777777777778, \"#fb9f3a\"], [0.8888888888888888, \"#fdca26\"], [1.0, \"#f0f921\"]], \"type\": \"heatmapgl\"}], \"histogram\": [{\"marker\": {\"colorbar\": {\"outlinewidth\": 0, \"ticks\": \"\"}}, \"type\": \"histogram\"}], \"histogram2d\": [{\"colorbar\": {\"outlinewidth\": 0, \"ticks\": \"\"}, \"colorscale\": [[0.0, \"#0d0887\"], [0.1111111111111111, \"#46039f\"], [0.2222222222222222, \"#7201a8\"], [0.3333333333333333, \"#9c179e\"], [0.4444444444444444, \"#bd3786\"], [0.5555555555555556, \"#d8576b\"], [0.6666666666666666, \"#ed7953\"], [0.7777777777777778, \"#fb9f3a\"], [0.8888888888888888, \"#fdca26\"], [1.0, \"#f0f921\"]], \"type\": \"histogram2d\"}], \"histogram2dcontour\": [{\"colorbar\": {\"outlinewidth\": 0, \"ticks\": \"\"}, \"colorscale\": [[0.0, \"#0d0887\"], [0.1111111111111111, \"#46039f\"], [0.2222222222222222, \"#7201a8\"], [0.3333333333333333, \"#9c179e\"], [0.4444444444444444, \"#bd3786\"], [0.5555555555555556, \"#d8576b\"], [0.6666666666666666, \"#ed7953\"], [0.7777777777777778, \"#fb9f3a\"], [0.8888888888888888, \"#fdca26\"], [1.0, \"#f0f921\"]], \"type\": \"histogram2dcontour\"}], \"mesh3d\": [{\"colorbar\": {\"outlinewidth\": 0, \"ticks\": \"\"}, \"type\": \"mesh3d\"}], \"parcoords\": [{\"line\": {\"colorbar\": {\"outlinewidth\": 0, \"ticks\": \"\"}}, \"type\": \"parcoords\"}], \"pie\": [{\"automargin\": true, \"type\": \"pie\"}], \"scatter\": [{\"marker\": {\"colorbar\": {\"outlinewidth\": 0, \"ticks\": \"\"}}, \"type\": \"scatter\"}], \"scatter3d\": [{\"line\": {\"colorbar\": {\"outlinewidth\": 0, \"ticks\": \"\"}}, \"marker\": {\"colorbar\": {\"outlinewidth\": 0, \"ticks\": \"\"}}, \"type\": \"scatter3d\"}], \"scattercarpet\": [{\"marker\": {\"colorbar\": {\"outlinewidth\": 0, \"ticks\": \"\"}}, \"type\": \"scattercarpet\"}], \"scattergeo\": [{\"marker\": {\"colorbar\": {\"outlinewidth\": 0, \"ticks\": \"\"}}, \"type\": \"scattergeo\"}], \"scattergl\": [{\"marker\": {\"colorbar\": {\"outlinewidth\": 0, \"ticks\": \"\"}}, \"type\": \"scattergl\"}], \"scattermapbox\": [{\"marker\": {\"colorbar\": {\"outlinewidth\": 0, \"ticks\": \"\"}}, \"type\": \"scattermapbox\"}], \"scatterpolar\": [{\"marker\": {\"colorbar\": {\"outlinewidth\": 0, \"ticks\": \"\"}}, \"type\": \"scatterpolar\"}], \"scatterpolargl\": [{\"marker\": {\"colorbar\": {\"outlinewidth\": 0, \"ticks\": \"\"}}, \"type\": \"scatterpolargl\"}], \"scatterternary\": [{\"marker\": {\"colorbar\": {\"outlinewidth\": 0, \"ticks\": \"\"}}, \"type\": \"scatterternary\"}], \"surface\": [{\"colorbar\": {\"outlinewidth\": 0, \"ticks\": \"\"}, \"colorscale\": [[0.0, \"#0d0887\"], [0.1111111111111111, \"#46039f\"], [0.2222222222222222, \"#7201a8\"], [0.3333333333333333, \"#9c179e\"], [0.4444444444444444, \"#bd3786\"], [0.5555555555555556, \"#d8576b\"], [0.6666666666666666, \"#ed7953\"], [0.7777777777777778, \"#fb9f3a\"], [0.8888888888888888, \"#fdca26\"], [1.0, \"#f0f921\"]], \"type\": \"surface\"}], \"table\": [{\"cells\": {\"fill\": {\"color\": \"#EBF0F8\"}, \"line\": {\"color\": \"white\"}}, \"header\": {\"fill\": {\"color\": \"#C8D4E3\"}, \"line\": {\"color\": \"white\"}}, \"type\": \"table\"}]}, \"layout\": {\"annotationdefaults\": {\"arrowcolor\": \"#2a3f5f\", \"arrowhead\": 0, \"arrowwidth\": 1}, \"coloraxis\": {\"colorbar\": {\"outlinewidth\": 0, \"ticks\": \"\"}}, \"colorscale\": {\"diverging\": [[0, \"#8e0152\"], [0.1, \"#c51b7d\"], [0.2, \"#de77ae\"], [0.3, \"#f1b6da\"], [0.4, \"#fde0ef\"], [0.5, \"#f7f7f7\"], [0.6, \"#e6f5d0\"], [0.7, \"#b8e186\"], [0.8, \"#7fbc41\"], [0.9, \"#4d9221\"], [1, \"#276419\"]], \"sequential\": [[0.0, \"#0d0887\"], [0.1111111111111111, \"#46039f\"], [0.2222222222222222, \"#7201a8\"], [0.3333333333333333, \"#9c179e\"], [0.4444444444444444, \"#bd3786\"], [0.5555555555555556, \"#d8576b\"], [0.6666666666666666, \"#ed7953\"], [0.7777777777777778, \"#fb9f3a\"], [0.8888888888888888, \"#fdca26\"], [1.0, \"#f0f921\"]], \"sequentialminus\": [[0.0, \"#0d0887\"], [0.1111111111111111, \"#46039f\"], [0.2222222222222222, \"#7201a8\"], [0.3333333333333333, \"#9c179e\"], [0.4444444444444444, \"#bd3786\"], [0.5555555555555556, \"#d8576b\"], [0.6666666666666666, \"#ed7953\"], [0.7777777777777778, \"#fb9f3a\"], [0.8888888888888888, \"#fdca26\"], [1.0, \"#f0f921\"]]}, \"colorway\": [\"#636efa\", \"#EF553B\", \"#00cc96\", \"#ab63fa\", \"#FFA15A\", \"#19d3f3\", \"#FF6692\", \"#B6E880\", \"#FF97FF\", \"#FECB52\"], \"font\": {\"color\": \"#2a3f5f\"}, \"geo\": {\"bgcolor\": \"white\", \"lakecolor\": \"white\", \"landcolor\": \"#E5ECF6\", \"showlakes\": true, \"showland\": true, \"subunitcolor\": \"white\"}, \"hoverlabel\": {\"align\": \"left\"}, \"hovermode\": \"closest\", \"mapbox\": {\"style\": \"light\"}, \"paper_bgcolor\": \"white\", \"plot_bgcolor\": \"#E5ECF6\", \"polar\": {\"angularaxis\": {\"gridcolor\": \"white\", \"linecolor\": \"white\", \"ticks\": \"\"}, \"bgcolor\": \"#E5ECF6\", \"radialaxis\": {\"gridcolor\": \"white\", \"linecolor\": \"white\", \"ticks\": \"\"}}, \"scene\": {\"xaxis\": {\"backgroundcolor\": \"#E5ECF6\", \"gridcolor\": \"white\", \"gridwidth\": 2, \"linecolor\": \"white\", \"showbackground\": true, \"ticks\": \"\", \"zerolinecolor\": \"white\"}, \"yaxis\": {\"backgroundcolor\": \"#E5ECF6\", \"gridcolor\": \"white\", \"gridwidth\": 2, \"linecolor\": \"white\", \"showbackground\": true, \"ticks\": \"\", \"zerolinecolor\": \"white\"}, \"zaxis\": {\"backgroundcolor\": \"#E5ECF6\", \"gridcolor\": \"white\", \"gridwidth\": 2, \"linecolor\": \"white\", \"showbackground\": true, \"ticks\": \"\", \"zerolinecolor\": \"white\"}}, \"shapedefaults\": {\"line\": {\"color\": \"#2a3f5f\"}}, \"ternary\": {\"aaxis\": {\"gridcolor\": \"white\", \"linecolor\": \"white\", \"ticks\": \"\"}, \"baxis\": {\"gridcolor\": \"white\", \"linecolor\": \"white\", \"ticks\": \"\"}, \"bgcolor\": \"#E5ECF6\", \"caxis\": {\"gridcolor\": \"white\", \"linecolor\": \"white\", \"ticks\": \"\"}}, \"title\": {\"x\": 0.05}, \"xaxis\": {\"automargin\": true, \"gridcolor\": \"white\", \"linecolor\": \"white\", \"ticks\": \"\", \"title\": {\"standoff\": 15}, \"zerolinecolor\": \"white\", \"zerolinewidth\": 2}, \"yaxis\": {\"automargin\": true, \"gridcolor\": \"white\", \"linecolor\": \"white\", \"ticks\": \"\", \"title\": {\"standoff\": 15}, \"zerolinecolor\": \"white\", \"zerolinewidth\": 2}}}, \"title\": {\"text\": \" Gamma distribution for a 2, b 1\"}, \"width\": 800, \"xaxis\": {\"anchor\": \"y\", \"domain\": [0.0, 1.0], \"title\": {\"text\": \"Theta\"}}, \"yaxis\": {\"anchor\": \"x\", \"domain\": [0.0, 1.0], \"title\": {\"text\": \"P(theta)\"}}},\n",
       "                        {\"responsive\": true}\n",
       "                    ).then(function(){\n",
       "                            \n",
       "var gd = document.getElementById('82c516cd-8ce7-46b0-b938-49c3cfb4de88');\n",
       "var x = new MutationObserver(function (mutations, observer) {{\n",
       "        var display = window.getComputedStyle(gd).display;\n",
       "        if (!display || display === 'none') {{\n",
       "            console.log([gd, 'removed!']);\n",
       "            Plotly.purge(gd);\n",
       "            observer.disconnect();\n",
       "        }}\n",
       "}});\n",
       "\n",
       "// Listen for the removal of the full notebook cells\n",
       "var notebookContainer = gd.closest('#notebook-container');\n",
       "if (notebookContainer) {{\n",
       "    x.observe(notebookContainer, {childList: true});\n",
       "}}\n",
       "\n",
       "// Listen for the clearing of the current output cell\n",
       "var outputEl = gd.closest('.output');\n",
       "if (outputEl) {{\n",
       "    x.observe(outputEl, {childList: true});\n",
       "}}\n",
       "\n",
       "                        })\n",
       "                };\n",
       "                });\n",
       "            </script>\n",
       "        </div>"
      ]
     },
     "metadata": {},
     "output_type": "display_data"
    }
   ],
   "source": [
    "@interact(a=widgets.IntSlider(min=1, max=10, step=1, value=2),\n",
    "          b=widgets.IntSlider(min=1, max=10, step=1, value=2),\n",
    "          theta_max=widgets.IntSlider(min=1, max=10, step=1, value=10))\n",
    "def gamma_individual(a, b, theta_max):\n",
    "    theta = np.arange(0,theta_max,0.1)\n",
    "    \n",
    "    term = b**a /gamma(a)\n",
    "    p_theta = term * theta**(a - 1) * np.exp(-b * theta)\n",
    "    \n",
    "    fig = px.line(x=theta, y=p_theta, color_discrete_sequence=[\"steelblue\"], \n",
    "                  height=600, width=800, title=\" Gamma distribution for a %d, b %d\" %(a, b))\n",
    "    fig.data[0].line['width'] = 4\n",
    "    fig.layout.xaxis.title.text = \"Theta\"\n",
    "    fig.layout.yaxis.title.text = \"P(theta)\"\n",
    "    fig.show()\n",
    "\n",
    "\n",
    "gamma_individual(2,1,10)"
   ]
  },
  {
   "cell_type": "code",
   "execution_count": null,
   "metadata": {},
   "outputs": [],
   "source": []
  }
 ],
 "metadata": {
  "kernelspec": {
   "display_name": "Python 3",
   "language": "python",
   "name": "python3"
  },
  "language_info": {
   "codemirror_mode": {
    "name": "ipython",
    "version": 3
   },
   "file_extension": ".py",
   "mimetype": "text/x-python",
   "name": "python",
   "nbconvert_exporter": "python",
   "pygments_lexer": "ipython3",
   "version": "3.8.2"
  },
  "nteract": {
   "version": "nteract-on-jupyter@2.1.3"
  }
 },
 "nbformat": 4,
 "nbformat_minor": 4
}
